{
 "cells": [
  {
   "cell_type": "code",
   "execution_count": 1,
   "metadata": {},
   "outputs": [],
   "source": [
    "import gurobipy as gb\n",
    "import networkx as nx\n",
    "import matplotlib.pyplot as plt\n",
    "import os\n",
    "\n",
    "\n",
    "#\n",
    "# Drawing \n",
    "# functions\n",
    "#\n",
    "\n",
    "\n",
    "def DrawInitG(G, withedges=False):\n",
    "    \n",
    "    plt.figure(figsize=args.figsize)\n",
    "    \n",
    "    pos = {i:(G.nodes[i]['x'], G.nodes[i]['y']) for i in G.nodes()}\n",
    "    \n",
    "    nx.draw_networkx_nodes(G, \n",
    "                           pos=pos, \n",
    "                           node_shape='o', \n",
    "                           node_size=600,\n",
    "                           node_color='white',\n",
    "                           edgecolors='black',\n",
    "                           label=[G.nodes()])\n",
    "        \n",
    "    nx.draw_networkx_labels(G, pos=pos, font_color='k', font_size=8)\n",
    "    \n",
    "    if withedges:\n",
    "        nx.draw_networkx_edges(G,pos=pos, alpha=1.0)\n",
    "        labels = {(i,j):G.get_edge_data(i,j,'cost').get('cost') for i,j in G.edges()}\n",
    "        nx.draw_networkx_edge_labels(G, pos=pos, edge_labels=labels)\n",
    "    \n",
    "    plt.axis('off')\n",
    "    plt.show()\n",
    "    \n",
    "def DrawSol(G, x):\n",
    "    \n",
    "    plt.figure(figsize=args.figsize)\n",
    "    \n",
    "    pos = {i:(G.nodes[i]['x'], G.nodes[i]['y']) for i in G.nodes()}\n",
    "\n",
    "    \n",
    "        \n",
    "\n",
    "    nx.draw_networkx_nodes(G, \n",
    "                           pos=pos, \n",
    "                           node_shape='o', \n",
    "                           node_size=600,\n",
    "                           node_color='white',\n",
    "                           edgecolors='black',\n",
    "                           label=[G.nodes()])\n",
    "    \n",
    "    \n",
    "    nx.draw_networkx_labels(G, pos=pos, font_color='k', font_size=8)\n",
    "    \n",
    "    for u,v in G.edges():\n",
    "        if x[u,v].x > 0.01 and x[u,v].x < 0.9:\n",
    "            nx.draw_networkx_edges(G, pos=pos,\n",
    "                                   edgelist=[(u,v)],\n",
    "                                   edge_color='r')\n",
    "            \n",
    "            nx.draw_networkx_edge_labels(G, pos=pos,\n",
    "                                         edge_labels={(u,v):'{:.2f}'.format(x[u,v].x)})\n",
    "        \n",
    "        if x[u,v].x > 0.9:\n",
    "            nx.draw_networkx_edges(G, pos=pos,\n",
    "                                   edgelist=[(u,v)],\n",
    "                                   edge_color='k')\n",
    "        \n",
    "\n",
    "\n",
    "        \n",
    "        \n",
    "    \n",
    "    plt.axis('off')\n",
    "    plt.show()\n",
    "\n",
    "\n",
    "def DrawSubtour (G, x, subtour):\n",
    "\n",
    "    plt.figure(figsize=args.figsize)\n",
    "    \n",
    "    pos = {i:(G.nodes[i]['x'], G.nodes[i]['y']) for i in G.nodes()}\n",
    "\n",
    "\n",
    "    nx.draw_networkx_nodes(G, \n",
    "                           pos=pos, \n",
    "                           node_shape='o', \n",
    "                           node_size=600,\n",
    "                           node_color='white',\n",
    "                           edgecolors='black',\n",
    "                           label=[G.nodes()])\n",
    "    \n",
    "    \n",
    "    nx.draw_networkx_labels(G, pos=pos, font_color='k', font_size=8)\n",
    "    \n",
    "    \n",
    "    nx.draw_networkx_nodes(G, \n",
    "                           pos=pos, \n",
    "                           node_shape='o',\n",
    "                           nodelist=subtour,\n",
    "                           node_size=600,\n",
    "                           node_color='white',\n",
    "                           edgecolors='black',\n",
    "                           label=[G.nodes()])\n",
    "        \n",
    "    \n",
    "\n",
    "    nx.draw_networkx_labels(G, pos=pos, font_color='k', font_size=8)\n",
    "    \n",
    "    \n",
    "    subtouredges = [(u,v) for u in subtour for v in subtour if u != v and G.has_edge(u,v)]\n",
    "    \n",
    "    for u,v in subtouredges:\n",
    "        if x[u,v].x > 0.01 and x[u,v].x < 0.99:\n",
    "\n",
    "            nx.draw_networkx_edges(G, pos=pos,\\\n",
    "                                   edgelist=[(u,v)],\n",
    "                                   edge_color='r')\n",
    "\n",
    "            nx.draw_networkx_edge_labels(G, pos=pos, \n",
    "                                         edge_labels={(u,v):f'[{x[u,v].x:.2f}, {x[v,u].x:.2f}]'})\n",
    "\n",
    "            \n",
    "        if x[u,v].x > 0.9:\n",
    "            nx.draw_networkx_edges(G, pos=pos,\\\n",
    "                                   edgelist=[(u,v)],\\\n",
    "                                   edge_color='k')\n",
    "            \n",
    "    plt.axis('off')\n",
    "    plt.show()\n",
    "    \n",
    "class args:\n",
    "    filename = None\n",
    "    scale = 15\n",
    "    figsize = (10,10)"
   ]
  },
  {
   "cell_type": "markdown",
   "metadata": {},
   "source": [
    "## ATSP\n",
    "\n",
    ">**Given**\n",
    ">A directed graph $G=(N,A)\\;$ and a cost (length, distance) $c_{ij} > 0$ for each arc in $A$\n",
    ">\n",
    ">**Find**\n",
    "> The tour (a directed cycle that touch exactly once all $n$ nodes) of minimum cost (length, distance)  \n",
    "\n",
    "\n",
    "### Formulation\n",
    "\n",
    "Decision variables:\n",
    "$$\n",
    "x_{ij} = \\begin{cases}1 \\text{ if arc $(i, j)$ is in the tour} \\\\\n",
    "0 \\text{ otherwise}\n",
    "\\end{cases}\n",
    "$$\n",
    "\n",
    "Formulation:\n",
    "$$\n",
    "\\begin{alignat}{3}\n",
    "& \\min \\sum_{(i,j) \\in A} c_{ij} x_{ij} &\\\\\n",
    "\\text{s.t.} \\;\\;\\;\\;\\;&\\\\\n",
    "\\sum_{j \\in \\delta^+(i)} x_{ij} &= 1 \\;\\; \\forall i \\in N \\;\\; \\text{(FS)}\\\\\n",
    "\\sum_{j \\in \\delta^-(i)} x_{ji} &= 1 \\;\\; \\forall i \\in N \\;\\; \\text{(RS)}\\\\\n",
    "\\sum_{(i,j) \\in A(S)} x_{ij} &\\le |S| - 1 \\;\\; \\forall S \\subset N, |S| \\ge 2 \\;\\; \\text{(SEC)}\\\\\n",
    "x & \\in \\{0,1\\}^{|A|}\n",
    "\\end{alignat}\n",
    "$$"
   ]
  },
  {
   "cell_type": "code",
   "execution_count": 2,
   "metadata": {},
   "outputs": [
    {
     "ename": "FileNotFoundError",
     "evalue": "[Errno 2] No such file or directory: 'atspexample'",
     "output_type": "error",
     "traceback": [
      "\u001b[0;31m---------------------------------------------------------------------------\u001b[0m",
      "\u001b[0;31mFileNotFoundError\u001b[0m                         Traceback (most recent call last)",
      "\u001b[0;32m<ipython-input-2-50d5d2d003a9>\u001b[0m in \u001b[0;36m<module>\u001b[0;34m\u001b[0m\n\u001b[1;32m      9\u001b[0m \u001b[0mbasename\u001b[0m \u001b[0;34m=\u001b[0m \u001b[0mos\u001b[0m\u001b[0;34m.\u001b[0m\u001b[0mpath\u001b[0m\u001b[0;34m.\u001b[0m\u001b[0msplitext\u001b[0m\u001b[0;34m(\u001b[0m\u001b[0margs\u001b[0m\u001b[0;34m.\u001b[0m\u001b[0mfilename\u001b[0m\u001b[0;34m)\u001b[0m\u001b[0;34m[\u001b[0m\u001b[0;36m0\u001b[0m\u001b[0;34m]\u001b[0m\u001b[0;34m\u001b[0m\u001b[0;34m\u001b[0m\u001b[0m\n\u001b[1;32m     10\u001b[0m \u001b[0;34m\u001b[0m\u001b[0m\n\u001b[0;32m---> 11\u001b[0;31m \u001b[0mG\u001b[0m \u001b[0;34m=\u001b[0m \u001b[0mnx\u001b[0m\u001b[0;34m.\u001b[0m\u001b[0mread_graphml\u001b[0m \u001b[0;34m(\u001b[0m\u001b[0margs\u001b[0m\u001b[0;34m.\u001b[0m\u001b[0mfilename\u001b[0m\u001b[0;34m,\u001b[0m \u001b[0mnode_type\u001b[0m\u001b[0;34m=\u001b[0m\u001b[0mint\u001b[0m\u001b[0;34m)\u001b[0m\u001b[0;34m\u001b[0m\u001b[0;34m\u001b[0m\u001b[0m\n\u001b[0m\u001b[1;32m     12\u001b[0m \u001b[0;34m\u001b[0m\u001b[0m\n\u001b[1;32m     13\u001b[0m \u001b[0mprint\u001b[0m \u001b[0;34m(\u001b[0m\u001b[0;34m\"G has\"\u001b[0m\u001b[0;34m,\u001b[0m \u001b[0mG\u001b[0m\u001b[0;34m.\u001b[0m\u001b[0mnumber_of_nodes\u001b[0m\u001b[0;34m(\u001b[0m\u001b[0;34m)\u001b[0m\u001b[0;34m,\u001b[0m \u001b[0;34m\"nodes and\"\u001b[0m\u001b[0;34m,\u001b[0m \u001b[0mG\u001b[0m\u001b[0;34m.\u001b[0m\u001b[0mnumber_of_edges\u001b[0m\u001b[0;34m(\u001b[0m\u001b[0;34m)\u001b[0m\u001b[0;34m,\u001b[0m \u001b[0;34m\"edges\"\u001b[0m\u001b[0;34m)\u001b[0m\u001b[0;34m\u001b[0m\u001b[0;34m\u001b[0m\u001b[0m\n",
      "\u001b[0;32m<decorator-gen-808>\u001b[0m in \u001b[0;36mread_graphml\u001b[0;34m(path, node_type, edge_key_type, force_multigraph)\u001b[0m\n",
      "\u001b[0;32m~/.local/lib/python3.9/site-packages/networkx/utils/decorators.py\u001b[0m in \u001b[0;36m_open_file\u001b[0;34m(func_to_be_decorated, *args, **kwargs)\u001b[0m\n\u001b[1;32m    211\u001b[0m         \u001b[0;32mif\u001b[0m \u001b[0misinstance\u001b[0m\u001b[0;34m(\u001b[0m\u001b[0mpath\u001b[0m\u001b[0;34m,\u001b[0m \u001b[0mstr\u001b[0m\u001b[0;34m)\u001b[0m\u001b[0;34m:\u001b[0m\u001b[0;34m\u001b[0m\u001b[0;34m\u001b[0m\u001b[0m\n\u001b[1;32m    212\u001b[0m             \u001b[0mext\u001b[0m \u001b[0;34m=\u001b[0m \u001b[0msplitext\u001b[0m\u001b[0;34m(\u001b[0m\u001b[0mpath\u001b[0m\u001b[0;34m)\u001b[0m\u001b[0;34m[\u001b[0m\u001b[0;36m1\u001b[0m\u001b[0;34m]\u001b[0m\u001b[0;34m\u001b[0m\u001b[0;34m\u001b[0m\u001b[0m\n\u001b[0;32m--> 213\u001b[0;31m             \u001b[0mfobj\u001b[0m \u001b[0;34m=\u001b[0m \u001b[0m_dispatch_dict\u001b[0m\u001b[0;34m[\u001b[0m\u001b[0mext\u001b[0m\u001b[0;34m]\u001b[0m\u001b[0;34m(\u001b[0m\u001b[0mpath\u001b[0m\u001b[0;34m,\u001b[0m \u001b[0mmode\u001b[0m\u001b[0;34m=\u001b[0m\u001b[0mmode\u001b[0m\u001b[0;34m)\u001b[0m\u001b[0;34m\u001b[0m\u001b[0;34m\u001b[0m\u001b[0m\n\u001b[0m\u001b[1;32m    214\u001b[0m             \u001b[0mclose_fobj\u001b[0m \u001b[0;34m=\u001b[0m \u001b[0;32mTrue\u001b[0m\u001b[0;34m\u001b[0m\u001b[0;34m\u001b[0m\u001b[0m\n\u001b[1;32m    215\u001b[0m         \u001b[0;32melif\u001b[0m \u001b[0mhasattr\u001b[0m\u001b[0;34m(\u001b[0m\u001b[0mpath\u001b[0m\u001b[0;34m,\u001b[0m \u001b[0;34m\"read\"\u001b[0m\u001b[0;34m)\u001b[0m\u001b[0;34m:\u001b[0m\u001b[0;34m\u001b[0m\u001b[0;34m\u001b[0m\u001b[0m\n",
      "\u001b[0;31mFileNotFoundError\u001b[0m: [Errno 2] No such file or directory: 'atspexample'"
     ]
    }
   ],
   "source": [
    "# \n",
    "# Read the graph in the graphML format\n",
    "#\n",
    "\n",
    "\n",
    "args.filename = 'atspexample'\n",
    "args.figsize =  (20,30)\n",
    "\n",
    "basename = os.path.splitext(args.filename)[0]\n",
    "\n",
    "G = nx.read_graphml (args.filename, node_type=int)\n",
    "\n",
    "print (\"G has\", G.number_of_nodes(), \"nodes and\", G.number_of_edges(), \"edges\")\n",
    "\n",
    "print(G.is_directed())\n"
   ]
  },
  {
   "cell_type": "code",
   "execution_count": null,
   "metadata": {
    "scrolled": false
   },
   "outputs": [],
   "source": [
    "\n",
    "root = 1\n",
    "\n",
    "DrawInitG(G)\n",
    "\n"
   ]
  },
  {
   "cell_type": "code",
   "execution_count": null,
   "metadata": {},
   "outputs": [],
   "source": [
    "atsp = gb.Model()\n",
    "\n",
    "x = atsp.addVars(G.edges(), ub=1.0, obj=[G[i][j]['dist'] for i,j in G.edges()],\n",
    "                 vtype=gb.GRB.CONTINUOUS, name='x')\n",
    "\n",
    "atsp.write('atsp.lp')"
   ]
  },
  {
   "cell_type": "markdown",
   "metadata": {},
   "source": [
    "## FS constraints"
   ]
  },
  {
   "cell_type": "code",
   "execution_count": null,
   "metadata": {},
   "outputs": [],
   "source": [
    "atsp.addConstrs((x.sum(i,'*') == 1 for i in G.nodes()), name='FS')\n",
    "\n",
    "atsp.update()\n",
    "atsp.write('atsp.lp')"
   ]
  },
  {
   "cell_type": "markdown",
   "metadata": {},
   "source": [
    "## RS constraints"
   ]
  },
  {
   "cell_type": "code",
   "execution_count": null,
   "metadata": {},
   "outputs": [],
   "source": [
    "atsp.addConstrs((x.sum('*',i) == 1 for i in G.nodes()), name='RS')\n",
    "\n",
    "atsp.update()\n",
    "atsp.write('atsp.lp')"
   ]
  },
  {
   "cell_type": "code",
   "execution_count": null,
   "metadata": {
    "scrolled": false
   },
   "outputs": [],
   "source": [
    "atsp.optimize()\n",
    "\n",
    "DrawSol(G, x)\n",
    "\n"
   ]
  },
  {
   "cell_type": "markdown",
   "metadata": {},
   "source": [
    "### SEC with |S|=2\n",
    "\n",
    "$$ x_{ij} + x_{ji} \\le 1 \\;\\; \\forall (i,j) \\in A, i <j $$"
   ]
  },
  {
   "cell_type": "code",
   "execution_count": null,
   "metadata": {},
   "outputs": [],
   "source": [
    "atsp.addConstrs((x[i,j] + x[j,i] <= 1 for i,j in G.edges() if j > i), name='SEC2')\n",
    "\n",
    "atsp.update()\n",
    "atsp.write('atsp.lp')"
   ]
  },
  {
   "cell_type": "code",
   "execution_count": null,
   "metadata": {
    "scrolled": false
   },
   "outputs": [],
   "source": [
    "atsp.optimize()\n",
    "DrawSol(G, x)\n"
   ]
  },
  {
   "cell_type": "markdown",
   "metadata": {},
   "source": [
    "## Subtour Elimination Constraints: separation"
   ]
  },
  {
   "cell_type": "markdown",
   "metadata": {},
   "source": [
    "The presence of the (FS) and (RS) constraints allows to rewrite the SECs in the following form (connectivity constraints)\n",
    "\n",
    "$$ \\sum_{i \\in S, j \\in \\bar S} x_{ij} \\ge 1 \\;\\; \\forall S, 2 \\le |S| \\le |N|-1 $$"
   ]
  },
  {
   "cell_type": "code",
   "execution_count": null,
   "metadata": {},
   "outputs": [],
   "source": [
    "def subtourseparation (G, x):\n",
    "   \n",
    "    for i,j in G.edges():\n",
    "        G[i][j]['capacity'] = x[i,j].x\n",
    "        \n",
    "    for i in list(G.nodes())[1:]:\n",
    "        cut_val, cut = nx.minimum_cut(G,1,i)\n",
    "        \n",
    "        if cut_val < 0.99999:\n",
    "            print ('Found violated subtour inequality')\n",
    "            \n",
    "            if len(cut[0]) < len(cut[1]):\n",
    "                subtour = (list(cut[0]))\n",
    "            else:\n",
    "                subtour = (list(cut[1]))\n",
    "            print (subtour)\n",
    "            return subtour\n",
    "        \n",
    "    return None"
   ]
  },
  {
   "cell_type": "markdown",
   "metadata": {},
   "source": [
    "## A basic cutting plane algorithm"
   ]
  },
  {
   "cell_type": "code",
   "execution_count": null,
   "metadata": {
    "scrolled": false
   },
   "outputs": [],
   "source": [
    "cuttingplane = True\n",
    "\n",
    "count = 1\n",
    "found = False\n",
    "\n",
    "while cuttingplane == True:\n",
    "    \n",
    "    subtour = subtourseparation(G,x)\n",
    "    \n",
    "    if subtour :\n",
    "        name = \"Subtour_\" + str(count)\n",
    "        \n",
    "        subtouredges = [(u,v) for u in subtour for v in subtour if u != v and G.has_edge(u,v)]\n",
    "        \n",
    "        DrawSubtour(G, x, subtour)\n",
    "        \n",
    "        atsp.addConstr (gb.quicksum(x[i,j] for i,j in subtouredges) <= len(subtour) - 1, name)\n",
    "        atsp.write('atsp.lp')\n",
    "        atsp.optimize()\n",
    "        \n",
    "        DrawSol(G, x) \n",
    "        \n",
    "        count += 1\n",
    "        cuttingplane = True\n",
    "    else:\n",
    "        cuttingplane = False\n",
    "\n",
    "\n"
   ]
  },
  {
   "cell_type": "code",
   "execution_count": null,
   "metadata": {
    "scrolled": false
   },
   "outputs": [],
   "source": [
    "DrawSol(G,x)\n",
    "\n"
   ]
  },
  {
   "cell_type": "markdown",
   "metadata": {},
   "source": [
    "## ATSP: Branch-and-cut"
   ]
  },
  {
   "cell_type": "code",
   "execution_count": null,
   "metadata": {},
   "outputs": [],
   "source": [
    "atsp_sec = gb.Model()\n",
    "\n",
    "x = atsp_sec.addVars(G.edges(),\n",
    "                     obj=[G[i][j]['dist'] for i,j in G.edges()],\n",
    "                     vtype=gb.GRB.BINARY, name='x')\n",
    "\n",
    "atsp_sec.write('atsp_sec.lp')"
   ]
  },
  {
   "cell_type": "code",
   "execution_count": null,
   "metadata": {},
   "outputs": [],
   "source": [
    "atsp_sec.addConstrs((x.sum(i,'*') == 1 for i in G.nodes()), name='FS')\n",
    "atsp_sec.update()"
   ]
  },
  {
   "cell_type": "code",
   "execution_count": null,
   "metadata": {},
   "outputs": [],
   "source": [
    "atsp_sec.addConstrs((x.sum('*',i) == 1 for i in G.nodes()), name='RS')\n",
    "atsp_sec.update()"
   ]
  },
  {
   "cell_type": "code",
   "execution_count": null,
   "metadata": {},
   "outputs": [],
   "source": [
    "atsp_sec.addConstrs((x[i,j] + x[j,i] <= 1 for i,j in G.edges() if j > i), name='SUB2')\n",
    "\n",
    "atsp_sec.update()\n",
    "atsp_sec.write('atsp.lp')"
   ]
  },
  {
   "cell_type": "markdown",
   "metadata": {},
   "source": [
    "### Graph G and variables x are made available to Gurobi model\n",
    "**Note** underscore is the attribute name is mandatory"
   ]
  },
  {
   "cell_type": "code",
   "execution_count": null,
   "metadata": {},
   "outputs": [],
   "source": [
    "atsp_sec._graph = G\n",
    "atsp_sec._vars = x\n",
    "\n"
   ]
  },
  {
   "cell_type": "code",
   "execution_count": null,
   "metadata": {},
   "outputs": [],
   "source": [
    "def subtourseparation (G, x):\n",
    "   \n",
    "    for i,j in G.edges():\n",
    "        G[i][j]['capacity'] = x[i,j].x\n",
    "        \n",
    "    for i in list(G.nodes())[1:]:\n",
    "        cut_val, cut = nx.minimum_cut(G,1,i)\n",
    "        \n",
    "        if cut_val < 0.99999:\n",
    "            print ('Found violated subtour inequality')\n",
    "            \n",
    "            if len(cut[0]) < len(cut[1]):\n",
    "                subtour = (list(cut[0]))\n",
    "            else:\n",
    "                subtour = (list(cut[1]))\n",
    "            print (subtour)\n",
    "            return subtour\n",
    "        \n",
    "    return None"
   ]
  },
  {
   "cell_type": "markdown",
   "metadata": {},
   "source": [
    "The separation routine is transformed into a callback"
   ]
  },
  {
   "cell_type": "code",
   "execution_count": null,
   "metadata": {},
   "outputs": [],
   "source": [
    "def SEC_lazy_callback (model, where):\n",
    "\n",
    "        \n",
    "    if where == gb.GRB.Callback.MIPSOL:\n",
    "        \n",
    "        x = model._vars\n",
    "        xrel = model.cbGetSolution(x)\n",
    "        G = model._graph\n",
    "                \n",
    "        for i,j in G.edges():\n",
    "            G[i][j]['capacity'] = xrel[i,j]\n",
    "        \n",
    "        for i in list(G.nodes())[1:]:\n",
    "            cut_val, cut = nx.minimum_cut(G,1,i)\n",
    "        \n",
    "            if cut_val < 0.99999:\n",
    "                if len(cut[0]) < len(cut[1]):\n",
    "                    subtour = (list(cut[0]))\n",
    "                else:\n",
    "                    subtour = (list(cut[1]))\n",
    "        \n",
    "                \n",
    "                subtouredges = [(u,v) for u in subtour for v in subtour if u != v and G.has_edge(u,v)]\n",
    "                \n",
    "                #print (subtour, sum( xrel[i,j] for i,j in subtouredges))\n",
    "                \n",
    "                model.cbLazy(gb.quicksum(x[i,j] for i,j in subtouredges) <= len(subtour) - 1)\n",
    "                break\n",
    "                "
   ]
  },
  {
   "cell_type": "code",
   "execution_count": null,
   "metadata": {
    "scrolled": false
   },
   "outputs": [],
   "source": [
    "atsp_sec.reset()\n",
    "atsp_sec.Params.lazyConstraints = 1\n",
    "atsp_sec.optimize(SEC_lazy_callback)"
   ]
  },
  {
   "cell_type": "code",
   "execution_count": null,
   "metadata": {
    "scrolled": false
   },
   "outputs": [],
   "source": [
    "DrawSol(G,x)\n",
    "\n"
   ]
  },
  {
   "cell_type": "markdown",
   "metadata": {},
   "source": [
    "## ATSP: compact formulation"
   ]
  },
  {
   "cell_type": "markdown",
   "metadata": {},
   "source": [
    "Miller-Tucker-Zemlin formulation\n",
    "$$\n",
    "\\begin{alignat}{3}\n",
    "& \\min \\sum_{(i,j) \\in A} x_{ij} &\\\\\n",
    "\\text{s.t.} \\;\\;\\;\\;\\;&\\\\\n",
    "\\sum_{j \\in \\delta^+(i)} x_{ij} &= 1 \\;\\; \\forall i \\in N \\;\\; \\text{(FS)}\\\\\n",
    "\\sum_{j \\in \\delta^-(i)} x_{ji} &= 1 \\;\\; \\forall i \\in N \\;\\; \\text{(RS)}\\\\\n",
    "u_i - u_j + 1 & \\le (n-1)(1-x_{ij}) \\;\\; \\forall (i,j) \\in A, i\\not=1,j\\not=1 \\;\\; \\text{(MTZ)}\\\\\n",
    "x & \\in \\{0,1\\}^{|A|}\\\\\n",
    "u_1 &= 1\\\\\n",
    "2 &\\le u_i \\le n \\;\\; \\forall i \\in N, i \\not = \\{1\\}\n",
    "\\end{alignat}\n",
    "$$\n",
    "\n",
    "Miller-Tucker-Zemlin lifted formulation (Desrochers-Laporte)\n",
    "$$\n",
    "\\begin{alignat}{3}\n",
    "& \\min \\sum_{(i,j) \\in A} x_{ij} &\\\\\n",
    "\\text{s.t.} \\;\\;\\;\\;\\;&\\\\\n",
    "\\sum_{j \\in \\delta^+(i)} x_{ij} &= 1 \\;\\; \\forall i \\in N \\;\\; \\text{(FS)}\\\\\n",
    "\\sum_{j \\in \\delta^-(i)} x_{ji} &= 1 \\;\\; \\forall i \\in N \\;\\; \\text{(RS)}\\\\\n",
    "u_i - u_j + (n-1)x_{ij} + (n-3)x_{ji} &\\le n-2 \\;\\; \\forall (i,j) \\in A, i\\not=1,j\\not=1 \\;\\; \\text{(MTZ)}\\\\\n",
    "x & \\in \\{0,1\\}^{|A|}\\\\\n",
    "u_1 &= 1\\\\\n",
    "2 &\\le u_i \\le n \\;\\; \\forall i \\in N, i \\not = \\{1\\}\n",
    "\\end{alignat}\n",
    "$$\n"
   ]
  },
  {
   "cell_type": "code",
   "execution_count": null,
   "metadata": {},
   "outputs": [],
   "source": [
    "atsp_mtz = gb.Model()\n",
    "\n",
    "x = atsp_mtz.addVars(G.edges(),\n",
    "                     obj=[G[i][j]['dist'] for i,j in G.edges()],\n",
    "                     vtype=gb.GRB.BINARY, name='x')\n",
    "\n",
    "u = atsp_mtz.addVars(G.nodes(), \n",
    "                     obj=[0.0 for i in G.nodes()],\n",
    "                     lb=2.0, ub=G.number_of_nodes(), \n",
    "                     vtype=gb.GRB.CONTINUOUS,\n",
    "                     name='u')\n",
    "\n",
    "atsp_mtz.write('atsp_mtz.lp')"
   ]
  },
  {
   "cell_type": "code",
   "execution_count": null,
   "metadata": {},
   "outputs": [],
   "source": [
    "atsp_mtz.addConstrs((x.sum(i,'*') == 1 for i in G.nodes()), name='FS')\n",
    "\n",
    "atsp_mtz.update()\n"
   ]
  },
  {
   "cell_type": "code",
   "execution_count": null,
   "metadata": {},
   "outputs": [],
   "source": [
    "atsp_mtz.addConstrs((x.sum('*',i) == 1 for i in G.nodes()), name='RS')\n",
    "\n",
    "atsp_mtz.update()\n",
    "atsp_mtz.write('atsp_mtz.lp')"
   ]
  },
  {
   "cell_type": "markdown",
   "metadata": {},
   "source": [
    "## Lifted Miller-Tucker-Zemlin constraints"
   ]
  },
  {
   "cell_type": "markdown",
   "metadata": {},
   "source": [
    "### Fixing root node"
   ]
  },
  {
   "cell_type": "code",
   "execution_count": null,
   "metadata": {},
   "outputs": [],
   "source": [
    "u[root].lb = 1.0\n",
    "u[root].ub = 1.0"
   ]
  },
  {
   "cell_type": "code",
   "execution_count": null,
   "metadata": {},
   "outputs": [],
   "source": [
    "atsp_mtz.addConstrs((u[i] - u[j] + (G.number_of_nodes() - 1) * x[i,j] + \\\n",
    "                   (G.number_of_nodes() - 3) * x[j,i] <= (G.number_of_nodes() - 2)\\\n",
    "                   for i in G.nodes()\\\n",
    "                    for j in G.nodes()\\\n",
    "                   if (i != j) and (i != root) and (j !=root) \\\n",
    "                     and G.has_edge(i,j) and G.has_edge(j,i)), name='MTZ')\n",
    "\n",
    "atsp_mtz.update()\n",
    "atsp_mtz.write('atsp_mtz.lp')"
   ]
  },
  {
   "cell_type": "code",
   "execution_count": null,
   "metadata": {
    "scrolled": false
   },
   "outputs": [],
   "source": [
    "atsp_mtz.optimize()"
   ]
  },
  {
   "cell_type": "code",
   "execution_count": null,
   "metadata": {},
   "outputs": [],
   "source": [
    "for i in u:\n",
    "    print (i,u[i].x)"
   ]
  },
  {
   "cell_type": "markdown",
   "metadata": {},
   "source": [
    "## Mixing-up formulations"
   ]
  },
  {
   "cell_type": "code",
   "execution_count": null,
   "metadata": {},
   "outputs": [],
   "source": [
    "atsp_mtz = gb.Model()\n",
    "\n",
    "x = atsp_mtz.addVars(G.edges(),\\\n",
    "                 obj=[G[i][j]['dist']\\\n",
    "                      for i,j in G.edges()],\\\n",
    "             vtype=gb.GRB.BINARY, name='x')\n",
    "\n",
    "u = atsp_mtz.addVars(G.nodes(), obj=[0.0 for i in G.nodes()],\\\n",
    "                     lb=2.0, ub=G.number_of_nodes(), vtype=gb.GRB.CONTINUOUS,\\\n",
    "                    name='u')\n",
    "\n",
    "atsp_mtz.write('atsp_mtz.lp')"
   ]
  },
  {
   "cell_type": "code",
   "execution_count": null,
   "metadata": {},
   "outputs": [],
   "source": [
    "atsp_mtz.addConstrs((x.sum(i,'*') == 1 \\\n",
    "                 for i in G.nodes()), name='FS')\n",
    "\n",
    "atsp_mtz.update()\n",
    "atsp_mtz.write('atsp_mtz.lp')"
   ]
  },
  {
   "cell_type": "code",
   "execution_count": null,
   "metadata": {},
   "outputs": [],
   "source": [
    "atsp_mtz.addConstrs((x.sum('*',i) == 1 \\\n",
    "                 for i in G.nodes()), name='RS')\n",
    "\n",
    "atsp_mtz.update()\n",
    "atsp_mtz.write('atsp_mtz.lp')"
   ]
  },
  {
   "cell_type": "code",
   "execution_count": null,
   "metadata": {},
   "outputs": [],
   "source": [
    "atsp_mtz.addConstrs((x[i,j] + x[j,i] <= 1 \\\n",
    "                 for i,j in G.edges() if j > i), name='SEC2')\n",
    "\n",
    "atsp_mtz.update()\n",
    "atsp_mtz.write('atsp_mtz.lp')"
   ]
  },
  {
   "cell_type": "code",
   "execution_count": null,
   "metadata": {},
   "outputs": [],
   "source": [
    "u[root].lb = 1.0\n",
    "u[root].ub = 1.0"
   ]
  },
  {
   "cell_type": "code",
   "execution_count": null,
   "metadata": {},
   "outputs": [],
   "source": [
    "atsp_mtz.addConstrs((u[i] - u[j] + (G.number_of_nodes() - 1) * x[i,j] + \\\n",
    "                   (G.number_of_nodes() - 3) * x[j,i] <= (G.number_of_nodes() - 2)\\\n",
    "                   for i in G.nodes()\\\n",
    "                    for j in G.nodes()\\\n",
    "                   if (i != j) and (i != 1) and (j !=1 ) and G.has_edge(i,j) and G.has_edge(j,i)), name='MTZ')\n",
    "\n",
    "atsp_mtz.update()\n",
    "atsp_mtz.write('atsp_mtz.lp')"
   ]
  },
  {
   "cell_type": "code",
   "execution_count": null,
   "metadata": {},
   "outputs": [],
   "source": [
    "atsp_mtz._vars = x\n",
    "atsp_mtz._graph = G"
   ]
  },
  {
   "cell_type": "markdown",
   "metadata": {},
   "source": [
    "The lazy cut callback will be transformed into a cut callback"
   ]
  },
  {
   "cell_type": "code",
   "execution_count": null,
   "metadata": {},
   "outputs": [],
   "source": [
    "def SEC_cut_callback (model, where):\n",
    "\n",
    "    if where == gb.GRB.Callback.MIPNODE:\n",
    "        status = model.cbGet(gb.GRB.Callback.MIPNODE_STATUS)\n",
    "        count = model.cbGet(gb.GRB.Callback.MIPNODE_NODCNT)\n",
    "        if status == gb.GRB.OPTIMAL and count < 10:\n",
    "            x = model._vars\n",
    "            xrel = model.cbGetNodeRel(x) \n",
    "            G = model._graph\n",
    "\n",
    "            for i,j in G.edges():\n",
    "                G[i][j]['capacity'] = xrel[i,j]\n",
    "\n",
    "            for i in list(G.nodes())[1:]:\n",
    "                cut_val, cut = nx.minimum_cut(G,1,i)\n",
    "\n",
    "                if cut_val < 0.99999:\n",
    "                    if len(cut[0]) < len(cut[1]):\n",
    "                        subtour = (list(cut[0]))\n",
    "                    else:\n",
    "                        subtour = (list(cut[1]))\n",
    "\n",
    "                    subtouredges = [(u,v) for u in subtour \\\n",
    "                                for v in subtour if u != v and G.has_edge(u,v)]\n",
    "\n",
    "                    model.cbCut(gb.quicksum(x[i,j] for i,j in subtouredges) <= len(subtour) - 1)\n",
    "\n",
    "                    break\n",
    "\n"
   ]
  },
  {
   "cell_type": "code",
   "execution_count": null,
   "metadata": {
    "scrolled": false
   },
   "outputs": [],
   "source": [
    "atsp_mtz.reset()\n",
    "atsp_mtz.Params.PreCrush = 1\n",
    "atsp_sec.Params.lazyConstraints = 0\n",
    "atsp_mtz.optimize(SEC_cut_callback)\n"
   ]
  },
  {
   "cell_type": "code",
   "execution_count": null,
   "metadata": {},
   "outputs": [],
   "source": [
    "DrawSol(G,x)\n"
   ]
  },
  {
   "cell_type": "code",
   "execution_count": null,
   "metadata": {},
   "outputs": [],
   "source": []
  }
 ],
 "metadata": {
  "kernelspec": {
   "display_name": "Python 3",
   "language": "python",
   "name": "python3"
  },
  "language_info": {
   "codemirror_mode": {
    "name": "ipython",
    "version": 3
   },
   "file_extension": ".py",
   "mimetype": "text/x-python",
   "name": "python",
   "nbconvert_exporter": "python",
   "pygments_lexer": "ipython3",
   "version": "3.9.5"
  }
 },
 "nbformat": 4,
 "nbformat_minor": 2
}
