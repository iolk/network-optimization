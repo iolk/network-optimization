{
 "cells": [
  {
   "cell_type": "markdown",
   "metadata": {},
   "source": [
    "## Capacitated Vehicle Routing Problem\n",
    "\n",
    ">**Given** A fleet of identical vehicles, with limited capacity, located at a depot; $n$ customers that require service with known demand; cost of travel between any pair of customers, or between any customer and the depot.\n",
    "\n",
    ">**Find** A minimum-cost collection of vehicle routes, each starting and ending at the depot, such that each customer is visited by exactly one vehicle, and no vehicle visits a set of customers whose total demand exceeds the vehicle capacity.\n",
    "\n",
    "Let $G=(V,A)$ be a directed graph with node $1$ representing the depot and $V_C=V\\setminus{1}$ representing the customers.\n",
    "The (positive integer) demand of customer $i \\in V_C$ is denoted by $q_i$.\n",
    "For any set of customer $S \\subset V_C$ let $q(S)=\\sum_{i \\in S} q_i$.\n",
    "\n",
    "### Two-index formulation\n",
    "\n",
    "$$\n",
    "x_{ij} = \\begin{cases}1 \\text{ if arc $(i, j)$ is some vehicle travels from $i$ to $j$} \\\\\n",
    "0 \\text{ otherwise}\n",
    "\\end{cases}\n",
    "$$\n",
    "\n",
    "\n",
    "$$\n",
    "\\begin{align}\n",
    "\\min & \\sum_{(i,j) \\in A} c_{ij} x_{ij} \\\\\n",
    "\\text{subject}& \\text{ to} \\\\\n",
    "\\sum_{j \\in \\delta^+(i)} x_{ij} & = 1\\;\\; \\forall i \\in V_C\\\\\n",
    "\\sum_{j \\in \\delta^-(i)} x_{ji} & = 1\\;\\; \\forall i \\in V_C\\\\\n",
    "\\sum_{j \\in \\delta^+(S)} x_{ij} & \\ge \\lceil{q(S)/Q} \\rceil \\;\\ \\forall S \\subseteq V_C\\\\\n",
    " x_{ij} \\in \\{0,1\\} \\;\\; \\forall(i,j) \\in A \\\\\n",
    "\\end{align}\n",
    "$$\n",
    "\n",
    "The constraints $\\sum_{j \\in \\delta^+(S)} x_{ij}  \\ge \\lceil{q(S)/Q} \\rceil $ are called *rounded capacity inequalities*\n",
    "\n",
    "### Single commodity flow formulation\n",
    "\n",
    "Define a continuous variable $f_{ij}$ for each arc $(i,j) \\in A$ representing the load (flow) \n",
    "carried from $i$ to $j$. The rounded capacity inequalities can be replaced with:\n",
    "\n",
    "$$\n",
    "\\sum_{j \\in \\delta^-(i)} f_{ji} - \\sum_{j \\in \\delta^+(i)} f_{ij} = q_i \\;\\; \\forall i \\in V_C\\\\\n",
    "0 \\le f_{ij} \\le Q x_{ij}\n",
    "$$\n",
    "\n",
    "### Strengthening\n",
    "\n",
    "$$q_j x_{ij} \\le f_{ij} \\le (Q-q_i) x_{ij} \\;\\; \\forall (i,j) \\in A$$\n",
    "\n",
    "Thus, the final formulation reads:\n",
    "\n",
    "\n",
    "$$\n",
    "x_{ij} = \\begin{cases}1 \\text{ if arc $(i, j)$ is some vehicle travels from $i$ to $j$} \\\\\n",
    "0 \\text{ otherwise}\n",
    "\\end{cases}\n",
    "$$\n",
    "\n",
    "\n",
    "$$\n",
    "\\begin{align}\n",
    "\\min & \\sum_{(i,j) \\in A} c_{ij} x_{ij} \\\\\n",
    "\\text{subject}& \\text{ to} \\\\\n",
    "\\sum_{j \\in \\delta^+(i)} x_{ij} & = 1\\;\\; \\forall i \\in V_C\\\\\n",
    "\\sum_{j \\in \\delta^-(i)} x_{ji} & = 1\\;\\; \\forall i \\in V_C\\\\\n",
    "\\sum_{j \\in \\delta^-(i)} f_{ji} - \\sum_{j \\in \\delta^+(i)} f_{ij} & = q_i \\;\\;\\forall i \\in V_C\\\\\n",
    " q_j x_{ij} \\le f_{ij} & \\le (Q-q_i) x_{ij}  \\;\\; \\forall (i,j) \\in A\\\\\n",
    "\\\\\n",
    "x_{ij} & \\in \\{0,1\\} \\;\\; \\forall(i,j) \\in A \\\\\n",
    "\\end{align}\n",
    "$$\n"
   ]
  },
  {
   "cell_type": "code",
   "execution_count": 1,
   "metadata": {},
   "outputs": [],
   "source": [
    "#!/usr/bin/env python\n",
    "\n",
    "\n",
    "import networkx as nx\n",
    "import gurobipy as gb\n",
    "import argparse\n",
    "from argparse import ArgumentTypeError\n",
    "import os\n",
    "from itertools import combinations\n",
    "import matplotlib.pyplot as plt\n",
    "\n",
    "%matplotlib inline\n"
   ]
  },
  {
   "cell_type": "code",
   "execution_count": 2,
   "metadata": {},
   "outputs": [],
   "source": [
    "\n",
    "\n",
    "#\n",
    "# Drawing \n",
    "# functions\n",
    "#\n",
    "\n",
    "\n",
    "def DrawInitG(G, withedges=False):\n",
    "    \n",
    "    plt.figure(figsize=args.figsize)\n",
    "    \n",
    "    pos = {i:(G.nodes[i]['x'], G.nodes[i]['y']) for i in G.nodes()}\n",
    "    \n",
    "    nx.draw_networkx_nodes(G, \n",
    "                           pos=pos, \n",
    "                           node_shape='o', \n",
    "                           node_size=600,\n",
    "                           node_color='white',\n",
    "                           edgecolors='black',\n",
    "                           label=[G.nodes()])\n",
    "        \n",
    "    nx.draw_networkx_labels(G, pos=pos, font_color='k', font_size=8)\n",
    "    \n",
    "    if withedges:\n",
    "        nx.draw_networkx_edges(G,pos=pos, alpha=1.0)\n",
    "        labels = {(i,j):G.get_edge_data(i,j,'cost').get('cost') for i,j in G.edges()}\n",
    "        nx.draw_networkx_edge_labels(G, pos=pos, edge_labels=labels)\n",
    "    \n",
    "    plt.axis('off')\n",
    "    plt.show()\n",
    "    \n",
    "def DrawSol(G, x):\n",
    "    \n",
    "    plt.figure(figsize=args.figsize)\n",
    "    \n",
    "    pos = {i:(G.nodes[i]['x'], G.nodes[i]['y']) for i in G.nodes()}\n",
    "\n",
    "    \n",
    "        \n",
    "\n",
    "    nx.draw_networkx_nodes(G, \n",
    "                           pos=pos, \n",
    "                           node_shape='o', \n",
    "                           node_size=600,\n",
    "                           node_color='white',\n",
    "                           edgecolors='black',\n",
    "                           label=[G.nodes()])\n",
    "    \n",
    "    \n",
    "    nx.draw_networkx_labels(G, pos=pos, font_color='k', font_size=8)\n",
    "    \n",
    "    for u,v in G.edges():\n",
    "        if x[u,v].x > 0.01 and x[u,v].x < 0.9:\n",
    "            nx.draw_networkx_edges(G, pos=pos,\n",
    "                                   edgelist=[(u,v)],\n",
    "                                   edge_color='r')\n",
    "            \n",
    "            nx.draw_networkx_edge_labels(G, pos=pos,\n",
    "                                         edge_labels={(u,v):'{:.2f}'.format(x[u,v].x)})\n",
    "        \n",
    "        if x[u,v].x > 0.9:\n",
    "            nx.draw_networkx_edges(G, pos=pos,\n",
    "                                   edgelist=[(u,v)],\n",
    "                                   edge_color='k')\n",
    "        \n",
    "\n",
    "\n",
    "        \n",
    "        \n",
    "    \n",
    "    plt.axis('off')\n",
    "    plt.show()\n",
    "\n",
    "\n",
    "def DrawSubtour (G, x, subtour):\n",
    "\n",
    "    plt.figure(figsize=args.figsize)\n",
    "    \n",
    "    pos = {i:(G.nodes[i]['x'], G.nodes[i]['y']) for i in G.nodes()}\n",
    "\n",
    "\n",
    "    nx.draw_networkx_nodes(G, \n",
    "                           pos=pos, \n",
    "                           node_shape='o', \n",
    "                           node_size=600,\n",
    "                           node_color='white',\n",
    "                           edgecolors='black',\n",
    "                           label=[G.nodes()])\n",
    "    \n",
    "    \n",
    "    nx.draw_networkx_labels(G, pos=pos, font_color='k', font_size=8)\n",
    "    \n",
    "    \n",
    "    nx.draw_networkx_nodes(G, \n",
    "                           pos=pos, \n",
    "                           node_shape='o',\n",
    "                           nodelist=subtour,\n",
    "                           node_size=600,\n",
    "                           node_color='white',\n",
    "                           edgecolors='black',\n",
    "                           label=[G.nodes()])\n",
    "        \n",
    "    \n",
    "\n",
    "    nx.draw_networkx_labels(G, pos=pos, font_color='k', font_size=8)\n",
    "    \n",
    "    \n",
    "    subtouredges = [(u,v) for u in subtour for v in subtour if u != v and G.has_edge(u,v)]\n",
    "    \n",
    "    for u,v in subtouredges:\n",
    "        if x[u,v].x > 0.01 and x[u,v].x < 0.99:\n",
    "\n",
    "            nx.draw_networkx_edges(G, pos=pos,\\\n",
    "                                   edgelist=[(u,v)],\n",
    "                                   edge_color='r')\n",
    "\n",
    "            nx.draw_networkx_edge_labels(G, pos=pos, \n",
    "                                         edge_labels={(u,v):f'[{x[u,v].x:.2f}, {x[v,u].x:.2f}]'})\n",
    "\n",
    "            \n",
    "        if x[u,v].x > 0.9:\n",
    "            nx.draw_networkx_edges(G, pos=pos,\\\n",
    "                                   edgelist=[(u,v)],\\\n",
    "                                   edge_color='k')\n",
    "            \n",
    "    plt.axis('off')\n",
    "    plt.show()\n",
    "    \n",
    "class args:\n",
    "    filename = None\n",
    "    scale = 15\n",
    "    figsize = (10,10)"
   ]
  },
  {
   "cell_type": "code",
   "execution_count": 3,
   "metadata": {
    "scrolled": false
   },
   "outputs": [
    {
     "name": "stdout",
     "output_type": "stream",
     "text": [
      "G has 15 nodes and 210 edges\n"
     ]
    },
    {
     "data": {
      "image/png": "[encoded data removed]",
      "text/plain": [
       "<Figure size 720x720 with 1 Axes>"
      ]
     },
     "metadata": {},
     "output_type": "display_data"
    }
   ],
   "source": [
    "# \n",
    "# Read the graph in the graphML format\n",
    "#\n",
    "\n",
    "args.filename = 'cvrp.gml'\n",
    "\n",
    "basename = os.path.splitext(args.filename)[0]\n",
    "\n",
    "G = nx.read_graphml (args.filename, node_type=int)\n",
    "\n",
    "print (\"G has\", G.number_of_nodes(), \"nodes and\", G.number_of_edges(), \"edges\")\n",
    "\n",
    "depot = list(G.nodes())[0]\n",
    "\n",
    "DrawInitG(G)\n",
    "\n"
   ]
  },
  {
   "cell_type": "code",
   "execution_count": 4,
   "metadata": {},
   "outputs": [
    {
     "data": {
      "text/plain": [
       "NodeDataView({1: {'y': 36, 'x': 9, 'demand': 778}, 2: {'y': 29, 'x': 30, 'demand': 1378}, 3: {'y': 33, 'x': 22, 'demand': 458}, 4: {'y': 26, 'x': 1, 'demand': 1747}, 5: {'y': 2, 'x': 22, 'demand': 1483}, 6: {'y': 9, 'x': 18, 'demand': 180}, 7: {'y': 46, 'x': 23, 'demand': 1518}, 8: {'y': 10, 'x': 8, 'demand': 340}, 9: {'y': 13, 'x': 3, 'demand': 451}, 10: {'y': 36, 'x': 11, 'demand': 1249}, 11: {'y': 1, 'x': 19, 'demand': 129}, 12: {'y': 4, 'x': 20, 'demand': 939}, 13: {'y': 35, 'x': 23, 'demand': 768}, 14: {'y': 32, 'x': 8, 'demand': 1037}, 15: {'y': 4, 'x': 9, 'demand': 1529}})"
      ]
     },
     "execution_count": 4,
     "metadata": {},
     "output_type": "execute_result"
    }
   ],
   "source": [
    "G.nodes(data=True)"
   ]
  },
  {
   "cell_type": "code",
   "execution_count": 5,
   "metadata": {},
   "outputs": [
    {
     "name": "stdout",
     "output_type": "stream",
     "text": [
      "Academic license - for non-commercial use only - expires 2021-07-16\n",
      "Using license file /Users/fabrizio/Solvers/licenses/gurobi.lic\n"
     ]
    },
    {
     "data": {
      "text/plain": [
       "{1: 778,\n",
       " 2: 1378,\n",
       " 3: 458,\n",
       " 4: 1747,\n",
       " 5: 1483,\n",
       " 6: 180,\n",
       " 7: 1518,\n",
       " 8: 340,\n",
       " 9: 451,\n",
       " 10: 1249,\n",
       " 11: 129,\n",
       " 12: 939,\n",
       " 13: 768,\n",
       " 14: 1037,\n",
       " 15: 1529}"
      ]
     },
     "execution_count": 5,
     "metadata": {},
     "output_type": "execute_result"
    }
   ],
   "source": [
    "cvrp = gb.Model(\"CVRP formulation\")\n",
    "\n",
    "Q = 10000 #vehicle capacity \n",
    "\n",
    "dem = nx.get_node_attributes (G,'demand')\n",
    "\n",
    "dem"
   ]
  },
  {
   "cell_type": "code",
   "execution_count": 6,
   "metadata": {
    "scrolled": false
   },
   "outputs": [],
   "source": [
    "depot = 1\n",
    "\n",
    "dem[depot] = 0 ## Depot does not require service\n",
    "\n",
    "x = cvrp.addVars(G.edges(), \\\n",
    "                 obj=[G[i][j]['dist'] \\\n",
    "                      for i,j in G.edges()], \\\n",
    "                 vtype = gb.GRB.BINARY, name='x')"
   ]
  },
  {
   "cell_type": "code",
   "execution_count": 7,
   "metadata": {},
   "outputs": [],
   "source": [
    "#\n",
    "# Flow variables\n",
    "#\n",
    "\n",
    "\n",
    "f = cvrp.addVars (G.edges(), obj=0.0, lb=0, \\\n",
    "    ub=Q, vtype=gb.GRB.CONTINUOUS, name='f')"
   ]
  },
  {
   "cell_type": "code",
   "execution_count": 8,
   "metadata": {},
   "outputs": [
    {
     "data": {
      "text/plain": [
       "{1: 0,\n",
       " 2: 1378,\n",
       " 3: 458,\n",
       " 4: 1747,\n",
       " 5: 1483,\n",
       " 6: 180,\n",
       " 7: 1518,\n",
       " 8: 340,\n",
       " 9: 451,\n",
       " 10: 1249,\n",
       " 11: 129,\n",
       " 12: 939,\n",
       " 13: 768,\n",
       " 14: 1037,\n",
       " 15: 1529}"
      ]
     },
     "execution_count": 8,
     "metadata": {},
     "output_type": "execute_result"
    }
   ],
   "source": [
    "dem"
   ]
  },
  {
   "cell_type": "code",
   "execution_count": 9,
   "metadata": {},
   "outputs": [],
   "source": [
    "#\n",
    "# Assignment constraints\n",
    "#\n",
    "\n",
    "#\n",
    "# Forward star\n",
    "#\n",
    "\n",
    "cvrp.addConstrs((x.sum(i,'*') == 1 for i in G.nodes() if i != depot), name='FS')\n",
    "\n",
    "\n",
    "\n",
    "# Reverse star\n",
    "#\n",
    "\n",
    "cvrp.addConstrs((x.sum('*',i) == 1 for i in G.nodes() if i != depot), name='RS')\n",
    "\n",
    "\n",
    "cvrp.update()"
   ]
  },
  {
   "cell_type": "code",
   "execution_count": 10,
   "metadata": {},
   "outputs": [],
   "source": [
    "#\n",
    "# Flow constraints\n",
    "#\n",
    "\n",
    "cvrp.addConstrs((f.sum('*',i) - f.sum(i,'*') \\\n",
    "                 == dem[i] for i in G.nodes() if i != depot),\\\n",
    "               name='FLOW')\n",
    "\n",
    "cvrp.update()"
   ]
  },
  {
   "cell_type": "code",
   "execution_count": 11,
   "metadata": {},
   "outputs": [],
   "source": [
    "cvrp.addConstrs((f[i,j] <= (Q - dem[i]) * x[i,j] for i,j in G.edges()),name='VUB')\n",
    "\n",
    "cvrp.update()"
   ]
  },
  {
   "cell_type": "code",
   "execution_count": 12,
   "metadata": {},
   "outputs": [],
   "source": [
    "cvrp.addConstrs((f[i,j] >= dem[j] * x[i,j] for i,j in G.edges()),name='VLB')\n",
    "\n",
    "cvrp.update()"
   ]
  },
  {
   "cell_type": "code",
   "execution_count": 13,
   "metadata": {},
   "outputs": [],
   "source": [
    "cvrp.write('cvrp.lp')"
   ]
  },
  {
   "cell_type": "code",
   "execution_count": 14,
   "metadata": {
    "scrolled": false
   },
   "outputs": [
    {
     "name": "stdout",
     "output_type": "stream",
     "text": [
      "Gurobi Optimizer version 9.1.1 build v9.1.1rc0 (mac64)\n",
      "Thread count: 4 physical cores, 8 logical processors, using up to 8 threads\n",
      "Optimize a model with 462 rows, 420 columns and 1610 nonzeros\n",
      "Model fingerprint: 0x8263e607\n",
      "Variable types: 210 continuous, 210 integer (210 binary)\n",
      "Coefficient statistics:\n",
      "  Matrix range     [1e+00, 1e+04]\n",
      "  Objective range  [2e+02, 5e+03]\n",
      "  Bounds range     [1e+00, 1e+04]\n",
      "  RHS range        [1e+00, 2e+03]\n",
      "Presolve removed 28 rows and 14 columns\n",
      "Presolve time: 0.02s\n",
      "Presolved: 434 rows, 406 columns, 1568 nonzeros\n",
      "Variable types: 210 continuous, 196 integer (196 binary)\n",
      "Found heuristic solution: objective 60655.000000\n",
      "\n",
      "Root relaxation: objective 1.200511e+04, 412 iterations, 0.01 seconds\n",
      "\n",
      "    Nodes    |    Current Node    |     Objective Bounds      |     Work\n",
      " Expl Unexpl |  Obj  Depth IntInf | Incumbent    BestBd   Gap | It/Node Time\n",
      "\n",
      "     0     0 12005.1124    0   28 60655.0000 12005.1124  80.2%     -    0s\n",
      "H    0     0                    23499.000000 12005.1124  48.9%     -    0s\n",
      "H    0     0                    20870.000000 12005.1124  42.5%     -    0s\n",
      "H    0     0                    17832.000000 12005.1124  32.7%     -    0s\n",
      "H    0     0                    16000.000000 12065.5789  24.6%     -    0s\n",
      "     0     0 12591.1575    0   32 16000.0000 12591.1575  21.3%     -    0s\n",
      "H    0     0                    15237.000000 12591.1575  17.4%     -    0s\n",
      "H    0     0                    15203.000000 12591.1575  17.2%     -    0s\n",
      "     0     0 12645.7610    0   30 15203.0000 12645.7610  16.8%     -    0s\n",
      "     0     0 12662.3779    0   29 15203.0000 12662.3779  16.7%     -    0s\n",
      "     0     0 12662.3779    0   30 15203.0000 12662.3779  16.7%     -    0s\n",
      "H    0     0                    15136.000000 12662.3779  16.3%     -    0s\n",
      "     0     0 12731.8352    0   35 15136.0000 12731.8352  15.9%     -    0s\n",
      "     0     0 12901.6048    0   39 15136.0000 12901.6048  14.8%     -    0s\n",
      "H    0     0                    15058.000000 12901.6048  14.3%     -    0s\n",
      "     0     0 13046.2021    0   35 15058.0000 13046.2021  13.4%     -    0s\n",
      "H    0     0                    15055.000000 13046.2021  13.3%     -    0s\n",
      "     0     0 13061.6953    0   38 15055.0000 13061.6953  13.2%     -    0s\n",
      "     0     0 13107.0371    0   37 15055.0000 13107.0371  12.9%     -    0s\n",
      "     0     0 13108.3909    0   40 15055.0000 13108.3909  12.9%     -    0s\n",
      "     0     0 13108.3909    0   40 15055.0000 13108.3909  12.9%     -    0s\n",
      "     0     0 13185.6292    0   40 15055.0000 13185.6292  12.4%     -    0s\n",
      "H    0     0                    14865.000000 13185.6292  11.3%     -    0s\n",
      "     0     0 13188.7453    0   38 14865.0000 13188.7453  11.3%     -    0s\n",
      "     0     0 13190.0040    0   39 14865.0000 13190.0040  11.3%     -    0s\n",
      "     0     0 13190.0040    0   39 14865.0000 13190.0040  11.3%     -    0s\n",
      "     0     0 13218.4177    0   40 14865.0000 13218.4177  11.1%     -    0s\n",
      "     0     0 13223.5115    0   40 14865.0000 13223.5115  11.0%     -    0s\n",
      "     0     0 13223.7229    0   41 14865.0000 13223.7229  11.0%     -    0s\n",
      "     0     0 13242.2146    0   43 14865.0000 13242.2146  10.9%     -    0s\n",
      "     0     0 13242.2146    0   43 14865.0000 13242.2146  10.9%     -    0s\n",
      "     0     0 13247.8849    0   38 14865.0000 13247.8849  10.9%     -    0s\n",
      "     0     0 13257.9341    0   42 14865.0000 13257.9341  10.8%     -    0s\n",
      "     0     0 13259.0805    0   44 14865.0000 13259.0805  10.8%     -    0s\n",
      "     0     0 13332.2539    0   36 14865.0000 13332.2539  10.3%     -    0s\n",
      "     0     0 13392.8882    0   36 14865.0000 13392.8882  9.90%     -    0s\n",
      "     0     0 13407.6778    0   38 14865.0000 13407.6778  9.80%     -    0s\n",
      "     0     0 13407.7246    0   38 14865.0000 13407.7246  9.80%     -    0s\n",
      "     0     0 13578.0091    0   32 14865.0000 13578.0091  8.66%     -    0s\n",
      "     0     0 13602.2490    0   38 14865.0000 13602.2490  8.49%     -    0s\n",
      "     0     0 13612.1425    0   39 14865.0000 13612.1425  8.43%     -    0s\n",
      "     0     0 13639.8510    0   37 14865.0000 13639.8510  8.24%     -    0s\n",
      "     0     0 13640.3768    0   38 14865.0000 13640.3768  8.24%     -    0s\n",
      "     0     0 13643.0494    0   39 14865.0000 13643.0494  8.22%     -    0s\n",
      "     0     0 13643.0494    0   39 14865.0000 13643.0494  8.22%     -    1s\n",
      "     0     0 13643.0494    0   28 14865.0000 13643.0494  8.22%     -    1s\n",
      "     0     0 13643.0494    0   32 14865.0000 13643.0494  8.22%     -    1s\n",
      "     0     0 13643.0494    0   32 14865.0000 13643.0494  8.22%     -    1s\n",
      "     0     0 13643.0494    0   39 14865.0000 13643.0494  8.22%     -    1s\n",
      "     0     0 13643.0494    0   41 14865.0000 13643.0494  8.22%     -    1s\n",
      "     0     0 13643.0494    0   39 14865.0000 13643.0494  8.22%     -    1s\n",
      "     0     0 13643.0494    0   38 14865.0000 13643.0494  8.22%     -    1s\n",
      "     0     0 13643.9186    0   38 14865.0000 13643.9186  8.21%     -    1s\n",
      "     0     0 13649.7647    0   39 14865.0000 13649.7647  8.18%     -    1s\n",
      "     0     0 13660.6924    0   37 14865.0000 13660.6924  8.10%     -    1s\n",
      "     0     0 13661.1296    0   38 14865.0000 13661.1296  8.10%     -    1s\n",
      "     0     0 13668.4466    0   36 14865.0000 13668.4466  8.05%     -    1s\n",
      "     0     0 13668.6980    0   40 14865.0000 13668.6980  8.05%     -    1s\n",
      "     0     0 13698.8563    0   38 14865.0000 13698.8563  7.84%     -    1s\n",
      "     0     0 13709.0398    0   43 14865.0000 13709.0398  7.78%     -    1s\n",
      "     0     0 13710.5636    0   41 14865.0000 13710.5636  7.77%     -    1s\n",
      "     0     0 13710.8698    0   39 14865.0000 13710.8698  7.76%     -    1s\n",
      "     0     0 13877.2640    0   40 14865.0000 13877.2640  6.64%     -    1s\n",
      "     0     0 13887.2422    0   42 14865.0000 13887.2422  6.58%     -    1s\n",
      "     0     0 13887.3524    0   41 14865.0000 13887.3524  6.58%     -    1s\n",
      "     0     0 13892.8687    0   39 14865.0000 13892.8687  6.54%     -    1s\n",
      "     0     0 13894.8675    0   38 14865.0000 13894.8675  6.53%     -    1s\n",
      "     0     0 13894.9661    0   40 14865.0000 13894.9661  6.53%     -    1s\n",
      "     0     0 13906.2938    0   39 14865.0000 13906.2938  6.45%     -    1s\n",
      "     0     0 13959.7649    0   30 14865.0000 13959.7649  6.09%     -    1s\n",
      "     0     0 13959.7649    0   30 14865.0000 13959.7649  6.09%     -    1s\n",
      "     0     0 14071.7649    0   28 14865.0000 14071.7649  5.34%     -    1s\n",
      "     0     0 14071.7649    0   30 14865.0000 14071.7649  5.34%     -    1s\n",
      "     0     0 14071.7649    0   32 14865.0000 14071.7649  5.34%     -    1s\n",
      "     0     0 14071.7649    0   34 14865.0000 14071.7649  5.34%     -    1s\n",
      "     0     0 14071.7649    0   34 14865.0000 14071.7649  5.34%     -    1s\n",
      "     0     0 14071.7649    0   38 14865.0000 14071.7649  5.34%     -    1s\n",
      "     0     0 14071.7649    0   37 14865.0000 14071.7649  5.34%     -    1s\n",
      "     0     0 14071.7649    0   30 14865.0000 14071.7649  5.34%     -    1s\n",
      "     0     0 14071.7649    0   32 14865.0000 14071.7649  5.34%     -    1s\n",
      "     0     0 14071.7649    0   32 14865.0000 14071.7649  5.34%     -    1s\n",
      "     0     0 14071.7649    0   33 14865.0000 14071.7649  5.34%     -    1s\n",
      "     0     0 14233.0125    0   31 14865.0000 14233.0125  4.25%     -    2s\n",
      "     0     0 14247.9760    0   34 14865.0000 14247.9760  4.15%     -    2s\n",
      "     0     0 14248.8183    0   36 14865.0000 14248.8183  4.15%     -    2s\n",
      "     0     0 14258.8501    0   36 14865.0000 14258.8501  4.08%     -    2s\n",
      "     0     0 14258.8501    0   36 14865.0000 14258.8501  4.08%     -    2s\n",
      "     0     0 14267.6078    0   35 14865.0000 14267.6078  4.02%     -    2s\n",
      "     0     0 14268.7118    0   34 14865.0000 14268.7118  4.01%     -    2s\n",
      "     0     0 14268.7118    0   34 14865.0000 14268.7118  4.01%     -    2s\n",
      "     0     0 14321.5092    0   28 14865.0000 14321.5092  3.66%     -    2s\n",
      "     0     0 14321.5092    0   32 14865.0000 14321.5092  3.66%     -    2s\n",
      "     0     0 14321.5092    0   17 14865.0000 14321.5092  3.66%     -    2s\n",
      "     0     0 14321.5092    0   34 14865.0000 14321.5092  3.66%     -    2s\n",
      "     0     0 14321.5092    0   34 14865.0000 14321.5092  3.66%     -    2s\n",
      "     0     0 14321.5092    0   35 14865.0000 14321.5092  3.66%     -    2s\n",
      "     0     0 14321.5092    0   35 14865.0000 14321.5092  3.66%     -    2s\n",
      "     0     0 14321.5092    0   35 14865.0000 14321.5092  3.66%     -    2s\n"
     ]
    },
    {
     "name": "stdout",
     "output_type": "stream",
     "text": [
      "     0     0 14321.5092    0   35 14865.0000 14321.5092  3.66%     -    2s\n",
      "     0     2 14322.8235    0   35 14865.0000 14322.8235  3.65%     -    2s\n",
      "*   37     8               8    14864.000000 14462.4135  2.70%  13.8    2s\n",
      "\n",
      "Cutting planes:\n",
      "  Gomory: 3\n",
      "  MIR: 12\n",
      "  Flow cover: 8\n",
      "  Flow path: 2\n",
      "  Inf proof: 1\n",
      "  Zero half: 2\n",
      "  Network: 10\n",
      "\n",
      "Explored 65 nodes (3650 simplex iterations) in 2.63 seconds\n",
      "Thread count was 8 (of 8 available processors)\n",
      "\n",
      "Solution count 10: 14864 14865 15055 ... 20870\n",
      "\n",
      "Optimal solution found (tolerance 1.00e-04)\n",
      "Best objective 1.486400000000e+04, best bound 1.486400000000e+04, gap 0.0000%\n"
     ]
    }
   ],
   "source": [
    "cvrp.optimize()\n"
   ]
  },
  {
   "cell_type": "code",
   "execution_count": 15,
   "metadata": {},
   "outputs": [
    {
     "data": {
      "image/png": "[encoded data removed]",
      "text/plain": [
       "<Figure size 720x720 with 1 Axes>"
      ]
     },
     "metadata": {},
     "output_type": "display_data"
    }
   ],
   "source": [
    "DrawSol(G, x)"
   ]
  },
  {
   "cell_type": "code",
   "execution_count": 132,
   "metadata": {},
   "outputs": [
    {
     "name": "stdout",
     "output_type": "stream",
     "text": [
      "<gurobi.Var f[1,7] (value 3534.9999999999995)>\n",
      "<gurobi.Var f[1,14] (value 9671.0)>\n"
     ]
    }
   ],
   "source": [
    "for i,j in f:\n",
    "    if (i == 1) and (f[i,j].x > 0):\n",
    "        print (f[i,j])"
   ]
  },
  {
   "cell_type": "code",
   "execution_count": null,
   "metadata": {},
   "outputs": [],
   "source": []
  }
 ],
 "metadata": {
  "kernelspec": {
   "display_name": "Python 3",
   "language": "python",
   "name": "python3"
  },
  "language_info": {
   "codemirror_mode": {
    "name": "ipython",
    "version": 3
   },
   "file_extension": ".py",
   "mimetype": "text/x-python",
   "name": "python",
   "nbconvert_exporter": "python",
   "pygments_lexer": "ipython3",
   "version": "3.7.10"
  }
 },
 "nbformat": 4,
 "nbformat_minor": 1
}
