{
 "cells": [
  {
   "cell_type": "markdown",
   "metadata": {},
   "source": [
    "## Modules to be installed in conda\n",
    "\n",
    "1. ``gurobi`` after adding gurobi as a channel\n",
    "2. ``networkx`` through conda install\n",
    "3. ``matplotlib`` through conda install\n",
    "\n",
    "        conda config --add channel gurobi\n",
    "        conda install matplotlib networkx\n",
    "\n"
   ]
  },
  {
   "cell_type": "code",
   "execution_count": 1,
   "metadata": {},
   "outputs": [
    {
     "ename": "ModuleNotFoundError",
     "evalue": "No module named 'gurobipy'",
     "output_type": "error",
     "traceback": [
      "\u001b[0;31m---------------------------------------------------------------------------\u001b[0m",
      "\u001b[0;31mModuleNotFoundError\u001b[0m                       Traceback (most recent call last)",
      "\u001b[0;32m<ipython-input-1-4be01101deaa>\u001b[0m in \u001b[0;36m<module>\u001b[0;34m\u001b[0m\n\u001b[1;32m      1\u001b[0m \u001b[0;32mimport\u001b[0m \u001b[0mnetworkx\u001b[0m \u001b[0;32mas\u001b[0m \u001b[0mnx\u001b[0m\u001b[0;34m\u001b[0m\u001b[0;34m\u001b[0m\u001b[0m\n\u001b[0;32m----> 2\u001b[0;31m \u001b[0;32mimport\u001b[0m \u001b[0mgurobipy\u001b[0m \u001b[0;32mas\u001b[0m \u001b[0mgb\u001b[0m\u001b[0;34m\u001b[0m\u001b[0;34m\u001b[0m\u001b[0m\n\u001b[0m\u001b[1;32m      3\u001b[0m \u001b[0;32mimport\u001b[0m \u001b[0mmatplotlib\u001b[0m\u001b[0;34m.\u001b[0m\u001b[0mpyplot\u001b[0m \u001b[0;32mas\u001b[0m \u001b[0mplt\u001b[0m\u001b[0;34m\u001b[0m\u001b[0;34m\u001b[0m\u001b[0m\n",
      "\u001b[0;31mModuleNotFoundError\u001b[0m: No module named 'gurobipy'"
     ]
    }
   ],
   "source": [
    "import networkx as nx\n",
    "import gurobipy as gb\n",
    "import matplotlib.pyplot as plt"
   ]
  },
  {
   "cell_type": "code",
   "execution_count": 83,
   "metadata": {},
   "outputs": [
    {
     "data": {
      "text/html": [
       "<style>.container { width:95% !important; }</style>"
      ],
      "text/plain": [
       "<IPython.core.display.HTML object>"
      ]
     },
     "metadata": {},
     "output_type": "display_data"
    }
   ],
   "source": [
    "from IPython.core.display import display, HTML\n",
    "display(HTML(\"<style>.container { width:95% !important; }</style>\"))\n"
   ]
  },
  {
   "cell_type": "markdown",
   "metadata": {},
   "source": [
    "## Campus map graph"
   ]
  },
  {
   "cell_type": "code",
   "execution_count": 84,
   "metadata": {},
   "outputs": [],
   "source": [
    "buildings = ['Delta6',\n",
    "             'Hospital',\n",
    "             'Block11A',\n",
    "             'Block11E',\n",
    "             'Coppito2',\n",
    "             'Coppito1',\n",
    "             'Block0',\n",
    "             'StudentCenter',\n",
    "             'Lab',\n",
    "             'ComputerCenter']"
   ]
  },
  {
   "cell_type": "code",
   "execution_count": 85,
   "metadata": {},
   "outputs": [],
   "source": [
    "G = nx.Graph()"
   ]
  },
  {
   "cell_type": "code",
   "execution_count": 86,
   "metadata": {},
   "outputs": [],
   "source": [
    "G.add_nodes_from(buildings)"
   ]
  },
  {
   "cell_type": "code",
   "execution_count": 87,
   "metadata": {},
   "outputs": [
    {
     "data": {
      "text/plain": [
       "NodeView(('Delta6', 'Hospital', 'Block11A', 'Block11E', 'Coppito2', 'Coppito1', 'Block0', 'StudentCenter', 'Lab', 'ComputerCenter'))"
      ]
     },
     "execution_count": 87,
     "metadata": {},
     "output_type": "execute_result"
    }
   ],
   "source": [
    "G.nodes"
   ]
  },
  {
   "cell_type": "code",
   "execution_count": 88,
   "metadata": {},
   "outputs": [
    {
     "data": {
      "text/plain": [
       "EdgeView([])"
      ]
     },
     "execution_count": 88,
     "metadata": {},
     "output_type": "execute_result"
    }
   ],
   "source": [
    "G.edges"
   ]
  },
  {
   "cell_type": "code",
   "execution_count": 89,
   "metadata": {},
   "outputs": [],
   "source": [
    "G.add_edge('Delta6','Hospital')\n",
    "G.add_edge('Delta6','Block11A')"
   ]
  },
  {
   "cell_type": "code",
   "execution_count": 90,
   "metadata": {},
   "outputs": [
    {
     "data": {
      "text/plain": [
       "EdgeView([('Delta6', 'Hospital'), ('Delta6', 'Block11A')])"
      ]
     },
     "execution_count": 90,
     "metadata": {},
     "output_type": "execute_result"
    }
   ],
   "source": [
    "G.edges"
   ]
  },
  {
   "cell_type": "code",
   "execution_count": 91,
   "metadata": {},
   "outputs": [
    {
     "name": "stdout",
     "output_type": "stream",
     "text": [
      "15\n"
     ]
    }
   ],
   "source": [
    "G.add_edge('Block11A','Hospital')\n",
    "G.add_edge('Block11E','Hospital')\n",
    "G.add_edge('Block11E','Coppito2')\n",
    "G.add_edge('Coppito1','Coppito2')\n",
    "G.add_edge('StudentCenter','Coppito2')\n",
    "G.add_edge('Coppito1','StudentCenter')\n",
    "G.add_edge('StudentCenter','Lab')\n",
    "G.add_edge('StudentCenter','Block0')\n",
    "G.add_edge('Lab','ComputerCenter')\n",
    "G.add_edge('ComputerCenter','StudentCenter')\n",
    "G.add_edge('Coppito1','Block0')\n",
    "G.add_edge('Block0','Lab')\n",
    "G.add_edge('Lab','ComputerCenter')\n",
    "G.add_edge('ComputerCenter','Block0')\n",
    "\n",
    "print (G.number_of_edges())"
   ]
  },
  {
   "cell_type": "code",
   "execution_count": 92,
   "metadata": {},
   "outputs": [
    {
     "data": {
      "text/plain": [
       "EdgeView([('Delta6', 'Hospital'), ('Delta6', 'Block11A'), ('Hospital', 'Block11A'), ('Hospital', 'Block11E'), ('Block11E', 'Coppito2'), ('Coppito2', 'Coppito1'), ('Coppito2', 'StudentCenter'), ('Coppito1', 'StudentCenter'), ('Coppito1', 'Block0'), ('Block0', 'StudentCenter'), ('Block0', 'Lab'), ('Block0', 'ComputerCenter'), ('StudentCenter', 'Lab'), ('StudentCenter', 'ComputerCenter'), ('Lab', 'ComputerCenter')])"
      ]
     },
     "execution_count": 92,
     "metadata": {},
     "output_type": "execute_result"
    }
   ],
   "source": [
    "G.edges"
   ]
  },
  {
   "cell_type": "code",
   "execution_count": 93,
   "metadata": {},
   "outputs": [],
   "source": [
    "%matplotlib inline"
   ]
  },
  {
   "cell_type": "code",
   "execution_count": 94,
   "metadata": {},
   "outputs": [],
   "source": [
    "pos = nx.spring_layout(G, k=1, seed=10)"
   ]
  },
  {
   "cell_type": "code",
   "execution_count": 95,
   "metadata": {},
   "outputs": [
    {
     "data": {
      "text/plain": [
       "{'Delta6': array([-0.07509172, -1.        ]),\n",
       " 'Hospital': array([-0.28234298, -0.52647204]),\n",
       " 'Block11A': array([-0.35528857, -0.94072138]),\n",
       " 'Block11E': array([-0.58986166, -0.11435901]),\n",
       " 'Coppito2': array([-0.32836244,  0.34275659]),\n",
       " 'Coppito1': array([-0.08210325,  0.65035294]),\n",
       " 'Block0': array([0.27248336, 0.29336027]),\n",
       " 'StudentCenter': array([0.2187272 , 0.53530193]),\n",
       " 'Lab': array([0.58779835, 0.20640544]),\n",
       " 'ComputerCenter': array([0.63404172, 0.55337525])}"
      ]
     },
     "execution_count": 95,
     "metadata": {},
     "output_type": "execute_result"
    }
   ],
   "source": [
    "pos"
   ]
  },
  {
   "cell_type": "code",
   "execution_count": 114,
   "metadata": {},
   "outputs": [
    {
     "data": {
      "image/png": "[encoded data removed]",
      "text/plain": [
       "<Figure size 720x720 with 1 Axes>"
      ]
     },
     "metadata": {},
     "output_type": "display_data"
    }
   ],
   "source": [
    "fig, ax = plt.subplots(1, 1, figsize=(10,10))\n",
    "\n",
    "nx.draw(G,\n",
    "        pos,\n",
    "        ax,\n",
    "        node_color='#A0CBE2',\n",
    "        width=1,\n",
    "        node_size=1500,\n",
    "        with_labels=True,\n",
    "        font_size=9,\n",
    "        font_color='k')\n",
    "\n",
    "\n"
   ]
  },
  {
   "cell_type": "code",
   "execution_count": 103,
   "metadata": {},
   "outputs": [
    {
     "data": {
      "text/plain": [
       "<dict_keyiterator at 0x7fc3098a03b0>"
      ]
     },
     "execution_count": 103,
     "metadata": {},
     "output_type": "execute_result"
    }
   ],
   "source": [
    "G.neighbors('Delta6')"
   ]
  },
  {
   "cell_type": "code",
   "execution_count": 104,
   "metadata": {},
   "outputs": [
    {
     "data": {
      "text/plain": [
       "{'Delta6': ['Hospital', 'Block11A', 'Delta6'],\n",
       " 'Hospital': ['Delta6', 'Block11A', 'Block11E', 'Hospital'],\n",
       " 'Block11A': ['Delta6', 'Hospital', 'Block11A'],\n",
       " 'Block11E': ['Hospital', 'Coppito2', 'Block11E'],\n",
       " 'Coppito2': ['Block11E', 'Coppito1', 'StudentCenter', 'Coppito2'],\n",
       " 'Coppito1': ['Coppito2', 'StudentCenter', 'Block0', 'Coppito1'],\n",
       " 'Block0': ['StudentCenter', 'Coppito1', 'Lab', 'ComputerCenter', 'Block0'],\n",
       " 'StudentCenter': ['Coppito2',\n",
       "  'Coppito1',\n",
       "  'Lab',\n",
       "  'Block0',\n",
       "  'ComputerCenter',\n",
       "  'StudentCenter'],\n",
       " 'Lab': ['StudentCenter', 'ComputerCenter', 'Block0', 'Lab'],\n",
       " 'ComputerCenter': ['Lab', 'StudentCenter', 'Block0', 'ComputerCenter']}"
      ]
     },
     "execution_count": 104,
     "metadata": {},
     "output_type": "execute_result"
    }
   ],
   "source": [
    "subsets = dict()\n",
    "\n",
    "for i in G.nodes():\n",
    "    coverednodes = list(G.neighbors(i)) + [i]\n",
    "    subsets[i] = coverednodes\n",
    "\n",
    "subsets"
   ]
  },
  {
   "cell_type": "code",
   "execution_count": 99,
   "metadata": {},
   "outputs": [
    {
     "data": {
      "text/plain": [
       "{'Delta6': ['Hospital', 'Block11A', 'Delta6'],\n",
       " 'Hospital': ['Delta6', 'Block11A', 'Block11E', 'Hospital'],\n",
       " 'Block11A': ['Delta6', 'Hospital', 'Block11A'],\n",
       " 'Block11E': ['Hospital', 'Coppito2', 'Block11E'],\n",
       " 'Coppito2': ['Block11E', 'Coppito1', 'StudentCenter', 'Coppito2'],\n",
       " 'Coppito1': ['Coppito2', 'StudentCenter', 'Block0', 'Coppito1'],\n",
       " 'Block0': ['StudentCenter', 'Coppito1', 'Lab', 'ComputerCenter', 'Block0'],\n",
       " 'StudentCenter': ['Coppito2',\n",
       "  'Coppito1',\n",
       "  'Lab',\n",
       "  'Block0',\n",
       "  'ComputerCenter',\n",
       "  'StudentCenter'],\n",
       " 'Lab': ['StudentCenter', 'ComputerCenter', 'Block0', 'Lab'],\n",
       " 'ComputerCenter': ['Lab', 'StudentCenter', 'Block0', 'ComputerCenter']}"
      ]
     },
     "execution_count": 99,
     "metadata": {},
     "output_type": "execute_result"
    }
   ],
   "source": [
    "subsets = dict()\n",
    "\n",
    "subsets = {i : list(G.neighbors(i)) + [i] for i in G.nodes()}\n",
    "\n",
    "subsets"
   ]
  },
  {
   "cell_type": "markdown",
   "metadata": {},
   "source": [
    "\\begin{array}{c|ccccccccc}\n",
    "  & \\texttt{Delta6} & \\texttt{Hospital} & \\texttt{Block11A} & \\texttt{Block11E} & \\texttt{Coppito2} \n",
    "  & \\texttt{Coppito1} & \\texttt{Block0} & \\texttt{Lab} & \\texttt{ComputerCenter} & \\texttt{StudentCenter}\\\\\n",
    "  \\hline\n",
    "\\texttt{Delta6}   & 1 & 1 & 1 & 0 & 0 & 0 & 0 & 0 & 0 & 0 \\\\\n",
    "\\texttt{Hospital} & 1 & 1 & 1 & 1 & 0 & 0 & 0 & 0 & 0 & 0 \\\\\n",
    "\\texttt{Block11A} & 1 & 1 & 1 & 0 & 0 & 0 & 0 & 0 & 0 & 0 \\\\\n",
    "\\texttt{Block11E} & 0 & 1 & 1 & 1 & 0 & 0 & 0 & 0 & 0 & 0 \\\\ \n",
    "\\texttt{Coppito2} & 0 & 0 & 0 & 1 & 1 & 1 & 1 & 0 & 0 & 1\\\\\n",
    "\\texttt{Coppito1} & 0 & 0 & 0 & 0 & 1 & 1 & 1 & 0 & 0 & 1\\\\\n",
    "\\texttt{Block0}   & 0 & 0 & 0 & 0 & 1 & 1 & 1 & 1 & 1 & 1\\\\\n",
    "\\texttt{Lab}      & 0 & 0 & 0 & 0 & 0 & 0 & 1 & 1 & 1 & 1\\\\\n",
    "\\texttt{ComputerCenter} & 0 & 0 & 0 & 0 & 0 & 0 & 1 & 1 & 1 & 1\\\\\n",
    "\\texttt{StudentCenter} & 0 & 0 & 0 & 0 & 1 & 1 & 1 & 1 & 1 & 1\\\\\n",
    "\\end{array}"
   ]
  },
  {
   "cell_type": "markdown",
   "metadata": {},
   "source": [
    "## Decision variables\n",
    "\n",
    "\n",
    "\n",
    "$$x_i = \\begin{cases} 1 \\text{ if subset } i \\text { is selected (if the facility is opened on building $i$) }\\\\ 0 \\text{ otherwise.}  \\end{cases}$$"
   ]
  },
  {
   "cell_type": "code",
   "execution_count": 105,
   "metadata": {},
   "outputs": [
    {
     "name": "stdout",
     "output_type": "stream",
     "text": [
      "Academic license - for non-commercial use only - expires 2021-05-15\n",
      "Using license file /Users/fabrizio/Solvers/licenses/gurobi.lic\n"
     ]
    },
    {
     "data": {
      "text/plain": [
       "{'Delta6': <gurobi.Var *Awaiting Model Update*>,\n",
       " 'Hospital': <gurobi.Var *Awaiting Model Update*>,\n",
       " 'Block11A': <gurobi.Var *Awaiting Model Update*>,\n",
       " 'Block11E': <gurobi.Var *Awaiting Model Update*>,\n",
       " 'Coppito2': <gurobi.Var *Awaiting Model Update*>,\n",
       " 'Coppito1': <gurobi.Var *Awaiting Model Update*>,\n",
       " 'Block0': <gurobi.Var *Awaiting Model Update*>,\n",
       " 'StudentCenter': <gurobi.Var *Awaiting Model Update*>,\n",
       " 'Lab': <gurobi.Var *Awaiting Model Update*>,\n",
       " 'ComputerCenter': <gurobi.Var *Awaiting Model Update*>}"
      ]
     },
     "execution_count": 105,
     "metadata": {},
     "output_type": "execute_result"
    }
   ],
   "source": [
    "setcovering = gb.Model()\n",
    "\n",
    "x = setcovering.addVars(buildings, \n",
    "                        vtype = gb.GRB.BINARY, \n",
    "                        name = 'x')\n",
    "\n",
    "x"
   ]
  },
  {
   "cell_type": "markdown",
   "metadata": {},
   "source": [
    "## Objective function"
   ]
  },
  {
   "cell_type": "code",
   "execution_count": 106,
   "metadata": {},
   "outputs": [],
   "source": [
    "setcovering.setObjective(x.sum(), gb.GRB.MINIMIZE)\n",
    "\n",
    "setcovering.write('setcov.lp')"
   ]
  },
  {
   "cell_type": "markdown",
   "metadata": {},
   "source": [
    "## Constraints \n",
    "\n",
    "$$\n",
    "\\sum_{i \\in S(j)} x_i \\ge 1 \\;\\;\\; j \\in V\n",
    "$$"
   ]
  },
  {
   "cell_type": "code",
   "execution_count": 107,
   "metadata": {},
   "outputs": [
    {
     "data": {
      "text/plain": [
       "{'Delta6': <gurobi.Constr *Awaiting Model Update*>,\n",
       " 'Hospital': <gurobi.Constr *Awaiting Model Update*>,\n",
       " 'Block11A': <gurobi.Constr *Awaiting Model Update*>,\n",
       " 'Block11E': <gurobi.Constr *Awaiting Model Update*>,\n",
       " 'Coppito2': <gurobi.Constr *Awaiting Model Update*>,\n",
       " 'Coppito1': <gurobi.Constr *Awaiting Model Update*>,\n",
       " 'Block0': <gurobi.Constr *Awaiting Model Update*>,\n",
       " 'StudentCenter': <gurobi.Constr *Awaiting Model Update*>,\n",
       " 'Lab': <gurobi.Constr *Awaiting Model Update*>,\n",
       " 'ComputerCenter': <gurobi.Constr *Awaiting Model Update*>}"
      ]
     },
     "execution_count": 107,
     "metadata": {},
     "output_type": "execute_result"
    }
   ],
   "source": [
    "setcovering.addConstrs((x.sum(subsets[j]) >=1 for j in subsets),\\\n",
    "                       name='Cover')"
   ]
  },
  {
   "cell_type": "code",
   "execution_count": 108,
   "metadata": {},
   "outputs": [],
   "source": [
    "setcovering.update()\n",
    "setcovering.write('setcov.lp')"
   ]
  },
  {
   "cell_type": "code",
   "execution_count": 109,
   "metadata": {},
   "outputs": [
    {
     "name": "stdout",
     "output_type": "stream",
     "text": [
      "Gurobi Optimizer version 9.1.1 build v9.1.1rc0 (mac64)\n",
      "Thread count: 4 physical cores, 8 logical processors, using up to 8 threads\n",
      "Optimize a model with 10 rows, 10 columns and 40 nonzeros\n",
      "Model fingerprint: 0xb7ebd306\n",
      "Variable types: 0 continuous, 10 integer (10 binary)\n",
      "Coefficient statistics:\n",
      "  Matrix range     [1e+00, 1e+00]\n",
      "  Objective range  [1e+00, 1e+00]\n",
      "  Bounds range     [1e+00, 1e+00]\n",
      "  RHS range        [1e+00, 1e+00]\n",
      "Found heuristic solution: objective 3.0000000\n",
      "Presolve removed 10 rows and 10 columns\n",
      "Presolve time: 0.00s\n",
      "Presolve: All rows and columns removed\n",
      "\n",
      "Explored 0 nodes (0 simplex iterations) in 0.01 seconds\n",
      "Thread count was 1 (of 8 available processors)\n",
      "\n",
      "Solution count 2: 2 \n",
      "\n",
      "Optimal solution found (tolerance 1.00e-04)\n",
      "Best objective 2.000000000000e+00, best bound 2.000000000000e+00, gap 0.0000%\n"
     ]
    }
   ],
   "source": [
    "setcovering.optimize()"
   ]
  },
  {
   "cell_type": "code",
   "execution_count": 111,
   "metadata": {},
   "outputs": [
    {
     "name": "stdout",
     "output_type": "stream",
     "text": [
      "Number of activated facilities: 2\n",
      "Activated facilities:\n",
      "Hospital\n",
      "StudentCenter\n"
     ]
    }
   ],
   "source": [
    "\n",
    "print('Number of activated facilities: %g' % setcovering.objVal)\n",
    "print('Activated facilities:')\n",
    "\n",
    "activated = list()\n",
    "\n",
    "for name, var in x.items():\n",
    "    if var.x > 0.1:\n",
    "        activated.append(name)\n",
    "        print (name)"
   ]
  },
  {
   "cell_type": "code",
   "execution_count": 116,
   "metadata": {},
   "outputs": [
    {
     "data": {
      "text/plain": [
       "<matplotlib.collections.PathCollection at 0x7fc305f82d10>"
      ]
     },
     "execution_count": 116,
     "metadata": {},
     "output_type": "execute_result"
    },
    {
     "data": {
      "image/png": "[encoded data removed]",
      "text/plain": [
       "<Figure size 720x720 with 1 Axes>"
      ]
     },
     "metadata": {},
     "output_type": "display_data"
    }
   ],
   "source": [
    "fig, ax = plt.subplots(1, 1, figsize=(10,10))\n",
    "\n",
    "\n",
    "\n",
    "nx.draw(G, pos, node_color='#A0CBE2',width=1,node_size=1500,\n",
    "        with_labels=True, font_size=8)\n",
    "\n",
    "\n",
    "nx.draw_networkx_nodes(G, pos, nodelist=activated, node_size=1500, node_color ='r')"
   ]
  },
  {
   "cell_type": "code",
   "execution_count": null,
   "metadata": {},
   "outputs": [],
   "source": []
  }
 ],
 "metadata": {
  "kernelspec": {
   "display_name": "Python 3",
   "language": "python",
   "name": "python3"
  },
  "language_info": {
   "codemirror_mode": {
    "name": "ipython",
    "version": 3
   },
   "file_extension": ".py",
   "mimetype": "text/x-python",
   "name": "python",
   "nbconvert_exporter": "python",
   "pygments_lexer": "ipython3",
   "version": "3.8.5"
  }
 },
 "nbformat": 4,
 "nbformat_minor": 1
}
