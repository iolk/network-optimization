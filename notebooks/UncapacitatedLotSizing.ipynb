{
 "cells": [
  {
   "cell_type": "code",
   "execution_count": 64,
   "metadata": {},
   "outputs": [],
   "source": [
    "import gurobipy as gb\n",
    "import random"
   ]
  },
  {
   "cell_type": "code",
   "execution_count": 65,
   "metadata": {},
   "outputs": [],
   "source": [
    "T = list(range(1, 10))"
   ]
  },
  {
   "cell_type": "code",
   "execution_count": 66,
   "metadata": {},
   "outputs": [
    {
     "data": {
      "text/plain": [
       "[1, 2, 3, 4, 5, 6, 7, 8, 9]"
      ]
     },
     "execution_count": 66,
     "metadata": {},
     "output_type": "execute_result"
    }
   ],
   "source": [
    "T"
   ]
  },
  {
   "cell_type": "code",
   "execution_count": 85,
   "metadata": {},
   "outputs": [],
   "source": [
    "random.seed(10)\n",
    "\n",
    "# Demand\n",
    "d = {t:random.randint(30, 50) for t in T}\n",
    "\n",
    "# Storage cost\n",
    "h = {t:random.randint(1,5) for t in T}\n",
    "\n",
    "# Production cost\n",
    "p = {t:random.randint(12,25) for t in T}\n",
    "\n",
    "# Fixed cost\n",
    "f = {t:random.randint(30,100) for t in T}"
   ]
  },
  {
   "cell_type": "code",
   "execution_count": 86,
   "metadata": {},
   "outputs": [],
   "source": [
    "uls = gb.Model('Uncapacitated Lot Sizing')"
   ]
  },
  {
   "cell_type": "code",
   "execution_count": 87,
   "metadata": {},
   "outputs": [],
   "source": [
    "x = uls.addVars(T, vtype=gb.GRB.CONTINUOUS, name='x')"
   ]
  },
  {
   "cell_type": "code",
   "execution_count": 88,
   "metadata": {},
   "outputs": [],
   "source": [
    "s = uls.addVars([0] + T , vtype=gb.GRB.CONTINUOUS, name='s')"
   ]
  },
  {
   "cell_type": "code",
   "execution_count": 89,
   "metadata": {},
   "outputs": [],
   "source": [
    "y = uls.addVars(T, vtype=gb.GRB.BINARY, name='y')"
   ]
  },
  {
   "cell_type": "code",
   "execution_count": 90,
   "metadata": {},
   "outputs": [],
   "source": [
    "uls.update()"
   ]
  },
  {
   "cell_type": "code",
   "execution_count": 91,
   "metadata": {},
   "outputs": [
    {
     "data": {
      "text/plain": [
       "<gurobi.LinExpr: 12.0 x[1] + 18.0 x[2] + 25.0 x[3] + 14.0 x[4] + 21.0 x[5] + 17.0 x[6] + 18.0 x[7] + 18.0 x[8] + 16.0 x[9]>"
      ]
     },
     "execution_count": 91,
     "metadata": {},
     "output_type": "execute_result"
    }
   ],
   "source": [
    "x.prod(p)"
   ]
  },
  {
   "cell_type": "code",
   "execution_count": 93,
   "metadata": {},
   "outputs": [
    {
     "data": {
      "text/plain": [
       "<gurobi.LinExpr: 3.0 s[1] + 2.0 s[2] + s[3] + 5.0 s[4] + 4.0 s[5] + 3.0 s[6] + s[7] + 2.0 s[8] + 3.0 s[9]>"
      ]
     },
     "execution_count": 93,
     "metadata": {},
     "output_type": "execute_result"
    }
   ],
   "source": [
    "s.prod(h)"
   ]
  },
  {
   "cell_type": "code",
   "execution_count": 94,
   "metadata": {},
   "outputs": [
    {
     "data": {
      "text/plain": [
       "<gurobi.LinExpr: 63.0 y[1] + 88.0 y[2] + 52.0 y[3] + 68.0 y[4] + 76.0 y[5] + 47.0 y[6] + 88.0 y[7] + 60.0 y[8] + 86.0 y[9]>"
      ]
     },
     "execution_count": 94,
     "metadata": {},
     "output_type": "execute_result"
    }
   ],
   "source": [
    "y.prod(f)"
   ]
  },
  {
   "cell_type": "code",
   "execution_count": 96,
   "metadata": {},
   "outputs": [],
   "source": [
    "uls.setObjective(x.prod(p) + s.prod(h) + y.prod(f))"
   ]
  },
  {
   "cell_type": "code",
   "execution_count": 97,
   "metadata": {},
   "outputs": [
    {
     "data": {
      "text/plain": [
       "{1: <gurobi.Constr *Awaiting Model Update*>,\n",
       " 2: <gurobi.Constr *Awaiting Model Update*>,\n",
       " 3: <gurobi.Constr *Awaiting Model Update*>,\n",
       " 4: <gurobi.Constr *Awaiting Model Update*>,\n",
       " 5: <gurobi.Constr *Awaiting Model Update*>,\n",
       " 6: <gurobi.Constr *Awaiting Model Update*>,\n",
       " 7: <gurobi.Constr *Awaiting Model Update*>,\n",
       " 8: <gurobi.Constr *Awaiting Model Update*>,\n",
       " 9: <gurobi.Constr *Awaiting Model Update*>}"
      ]
     },
     "execution_count": 97,
     "metadata": {},
     "output_type": "execute_result"
    }
   ],
   "source": [
    "uls.addConstrs((s[t - 1] + x[t] - s[t] == d[t] for t in T))"
   ]
  },
  {
   "cell_type": "code",
   "execution_count": 98,
   "metadata": {},
   "outputs": [],
   "source": [
    "uls.update()"
   ]
  },
  {
   "cell_type": "code",
   "execution_count": 102,
   "metadata": {},
   "outputs": [
    {
     "data": {
      "text/plain": [
       "{1: <gurobi.Constr *Awaiting Model Update*>,\n",
       " 2: <gurobi.Constr *Awaiting Model Update*>,\n",
       " 3: <gurobi.Constr *Awaiting Model Update*>,\n",
       " 4: <gurobi.Constr *Awaiting Model Update*>,\n",
       " 5: <gurobi.Constr *Awaiting Model Update*>,\n",
       " 6: <gurobi.Constr *Awaiting Model Update*>,\n",
       " 7: <gurobi.Constr *Awaiting Model Update*>,\n",
       " 8: <gurobi.Constr *Awaiting Model Update*>,\n",
       " 9: <gurobi.Constr *Awaiting Model Update*>}"
      ]
     },
     "execution_count": 102,
     "metadata": {},
     "output_type": "execute_result"
    }
   ],
   "source": [
    "bigM = 10000\n",
    "uls.addConstrs(x[t] - bigM  * y[t] <= 0 for t in T)\n",
    "\n"
   ]
  },
  {
   "cell_type": "code",
   "execution_count": 103,
   "metadata": {},
   "outputs": [],
   "source": [
    "s[0].ub = 0"
   ]
  },
  {
   "cell_type": "code",
   "execution_count": 104,
   "metadata": {},
   "outputs": [],
   "source": [
    "uls.write('uls.lp')"
   ]
  },
  {
   "cell_type": "code",
   "execution_count": 105,
   "metadata": {},
   "outputs": [
    {
     "name": "stdout",
     "output_type": "stream",
     "text": [
      "Optimize a model with 18 rows, 28 columns and 45 nonzeros\n",
      "Variable types: 19 continuous, 9 integer (9 binary)\n",
      "Coefficient statistics:\n",
      "  Matrix range     [1e+00, 1e+04]\n",
      "  Objective range  [1e+00, 9e+01]\n",
      "  Bounds range     [1e+00, 1e+00]\n",
      "  RHS range        [3e+01, 5e+01]\n",
      "Presolve removed 3 rows and 5 columns\n",
      "Presolve time: 0.00s\n",
      "Presolved: 15 rows, 23 columns, 37 nonzeros\n",
      "Variable types: 15 continuous, 8 integer (8 binary)\n",
      "\n",
      "Root relaxation: objective 6.163753e+03, 15 iterations, 0.00 seconds\n",
      "\n",
      "    Nodes    |    Current Node    |     Objective Bounds      |     Work\n",
      " Expl Unexpl |  Obj  Depth IntInf | Incumbent    BestBd   Gap | It/Node Time\n",
      "\n",
      "     0     0 6163.75312    0    4          - 6163.75312      -     -    0s\n",
      "H    0     0                    6396.0000000 6163.75312  3.63%     -    0s\n",
      "     0     0 6364.07065    0    1 6396.00000 6364.07065  0.50%     -    0s\n",
      "H    0     0                    6380.0000000 6364.07065  0.25%     -    0s\n",
      "     0     0 6366.33112    0    1 6380.00000 6366.33112  0.21%     -    0s\n",
      "     0     0 infeasible    0      6380.00000 6380.00000  0.00%     -    0s\n",
      "\n",
      "Cutting planes:\n",
      "  Gomory: 3\n",
      "  Implied bound: 2\n",
      "  Flow cover: 1\n",
      "\n",
      "Explored 1 nodes (20 simplex iterations) in 0.02 seconds\n",
      "Thread count was 8 (of 8 available processors)\n",
      "\n",
      "Solution count 2: 6380 6396 \n",
      "\n",
      "Optimal solution found (tolerance 1.00e-04)\n",
      "Best objective 6.380000000000e+03, best bound 6.380000000000e+03, gap 0.0000%\n"
     ]
    }
   ],
   "source": [
    "uls.optimize()"
   ]
  },
  {
   "cell_type": "code",
   "execution_count": 106,
   "metadata": {},
   "outputs": [
    {
     "data": {
      "text/plain": [
       "{1: <gurobi.Var x[1] (value 122.0)>,\n",
       " 2: <gurobi.Var x[2] (value 0.0)>,\n",
       " 3: <gurobi.Var x[3] (value 0.0)>,\n",
       " 4: <gurobi.Var x[4] (value 93.0)>,\n",
       " 5: <gurobi.Var x[5] (value 0.0)>,\n",
       " 6: <gurobi.Var x[6] (value 66.0)>,\n",
       " 7: <gurobi.Var x[7] (value 0.0)>,\n",
       " 8: <gurobi.Var x[8] (value 44.0)>,\n",
       " 9: <gurobi.Var x[9] (value 45.0)>}"
      ]
     },
     "execution_count": 106,
     "metadata": {},
     "output_type": "execute_result"
    }
   ],
   "source": [
    "x"
   ]
  },
  {
   "cell_type": "code",
   "execution_count": 107,
   "metadata": {},
   "outputs": [
    {
     "data": {
      "text/plain": [
       "{1: <gurobi.Var y[1] (value 1.0)>,\n",
       " 2: <gurobi.Var y[2] (value -0.0)>,\n",
       " 3: <gurobi.Var y[3] (value -0.0)>,\n",
       " 4: <gurobi.Var y[4] (value 1.0)>,\n",
       " 5: <gurobi.Var y[5] (value -0.0)>,\n",
       " 6: <gurobi.Var y[6] (value 1.0)>,\n",
       " 7: <gurobi.Var y[7] (value 0.0)>,\n",
       " 8: <gurobi.Var y[8] (value 1.0)>,\n",
       " 9: <gurobi.Var y[9] (value 1.0)>}"
      ]
     },
     "execution_count": 107,
     "metadata": {},
     "output_type": "execute_result"
    }
   ],
   "source": [
    "y"
   ]
  },
  {
   "cell_type": "code",
   "execution_count": 108,
   "metadata": {},
   "outputs": [
    {
     "data": {
      "text/plain": [
       "{0: <gurobi.Var s[0] (value 0.0)>,\n",
       " 1: <gurobi.Var s[1] (value 74.0)>,\n",
       " 2: <gurobi.Var s[2] (value 43.0)>,\n",
       " 3: <gurobi.Var s[3] (value 0.0)>,\n",
       " 4: <gurobi.Var s[4] (value 48.0)>,\n",
       " 5: <gurobi.Var s[5] (value 0.0)>,\n",
       " 6: <gurobi.Var s[6] (value 36.0)>,\n",
       " 7: <gurobi.Var s[7] (value 0.0)>,\n",
       " 8: <gurobi.Var s[8] (value 0.0)>,\n",
       " 9: <gurobi.Var s[9] (value 0.0)>}"
      ]
     },
     "execution_count": 108,
     "metadata": {},
     "output_type": "execute_result"
    }
   ],
   "source": [
    "s"
   ]
  },
  {
   "cell_type": "code",
   "execution_count": null,
   "metadata": {},
   "outputs": [],
   "source": []
  }
 ],
 "metadata": {
  "kernelspec": {
   "display_name": "Python 3",
   "language": "python",
   "name": "python3"
  },
  "language_info": {
   "codemirror_mode": {
    "name": "ipython",
    "version": 3
   },
   "file_extension": ".py",
   "mimetype": "text/x-python",
   "name": "python",
   "nbconvert_exporter": "python",
   "pygments_lexer": "ipython3",
   "version": "3.7.6"
  }
 },
 "nbformat": 4,
 "nbformat_minor": 4
}
