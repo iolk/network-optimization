{
 "cells": [
  {
   "cell_type": "markdown",
   "metadata": {},
   "source": [
    "#  Minimum Spanning Tree Problem \n",
    "## Multicommodity flow formulation\n"
   ]
  },
  {
   "cell_type": "code",
   "execution_count": 1,
   "metadata": {},
   "outputs": [],
   "source": [
    "import networkx as nx\n",
    "import gurobipy as gb\n",
    "from itertools import combinations, chain\n",
    "import pygraphviz as pygv\n",
    "import os\n",
    "from IPython.display import SVG, display\n",
    "import matplotlib.pyplot as plt\n"
   ]
  },
  {
   "cell_type": "code",
   "execution_count": 4,
   "metadata": {},
   "outputs": [],
   "source": [
    "class args:\n",
    "    filename = None\n",
    "    scale = 40\n",
    "    figsize = (6,6)\n",
    "    \n",
    "def DrawInitG(G, withedges=False):\n",
    "    \n",
    "    plt.figure(figsize=args.figsize)\n",
    "    \n",
    "    pos = {i:(G.nodes[i]['x'], G.nodes[i]['y']) for i in G.nodes()}\n",
    "    \n",
    "    nx.draw_networkx_nodes(G, \n",
    "                           pos=pos, \n",
    "                           node_shape='o', \n",
    "                           node_size=600,\n",
    "                           node_color='red')\n",
    "    \n",
    "    nx.draw_networkx_labels(G, pos=pos, font_color='w', font_size=12)\n",
    "    \n",
    "    if withedges:\n",
    "        nx.draw_networkx_edges(G,pos=pos, alpha=1.0)\n",
    "        labels = {(i,j):G.get_edge_data(i,j,'cost').get('cost') for i,j in G.edges()}\n",
    "        nx.draw_networkx_edge_labels(G, pos=pos, edge_labels=labels)\n",
    "    \n",
    "    plt.axis('off')\n",
    "    plt.show()\n",
    "    \n",
    "def DrawSol(G, x):\n",
    "    \n",
    "    plt.figure(figsize=args.figsize)\n",
    "    \n",
    "    pos = {i:(G.nodes[i]['x'], G.nodes[i]['y']) for i in G.nodes()}\n",
    "\n",
    "    \n",
    "    nx.draw_networkx_nodes(G, \n",
    "                           pos=pos, \n",
    "                           node_shape='o', \n",
    "                           node_size=600,\n",
    "                           node_color='red',\n",
    "                           label=[G.nodes()])\n",
    "    \n",
    "    nx.draw_networkx_labels(G, pos=pos, font_color='w', font_size=12)\n",
    "    \n",
    "    for u,v in G.edges():\n",
    "        if x[u,v].x > 0.01 and x[u,v].x < 0.9:\n",
    "            nx.draw_networkx_edges(G, pos=pos,\n",
    "                                   edgelist=[(u,v)],\n",
    "                                   edge_color='r')\n",
    "            \n",
    "            nx.draw_networkx_edge_labels(G, pos=pos,\n",
    "                                         edge_labels={(u,v):'{:.2f}'.format(x[u,v].x)})\n",
    "        \n",
    "        if x[u,v].x > 0.9:\n",
    "            nx.draw_networkx_edges(G, pos=pos,\n",
    "                                   edgelist=[(u,v)],\n",
    "                                   edge_color='k')\n",
    "        \n",
    "\n",
    "    \n",
    "    #edges_in_sol = [(u,v)  for u,v in G.edges() if x[u,v].x > 0.1]\n",
    "\n",
    "    \n",
    "    plt.axis('off')\n",
    "    plt.show()"
   ]
  },
  {
   "cell_type": "code",
   "execution_count": 5,
   "metadata": {},
   "outputs": [
    {
     "name": "stdout",
     "output_type": "stream",
     "text": [
      "G has 10 nodes and 45 edges\n"
     ]
    }
   ],
   "source": [
    "args.filename = \"graph.gml\"\n",
    "args.figsize = 10,12\n",
    "\n",
    "basename = os.path.splitext(args.filename)[0]\n",
    "G = nx.read_graphml (args.filename, node_type=int)\n",
    "\n",
    "print (\"G has\", G.number_of_nodes(), \"nodes and\", G.number_of_edges(), \"edges\")"
   ]
  },
  {
   "cell_type": "code",
   "execution_count": 6,
   "metadata": {},
   "outputs": [],
   "source": [
    "G = nx.convert_node_labels_to_integers(G, first_label=0,label_attribute='old' )"
   ]
  },
  {
   "cell_type": "code",
   "execution_count": 7,
   "metadata": {},
   "outputs": [
    {
     "data": {
      "text/plain": [
       "NodeDataView({0: {'y': 33, 'x': 1, 'old': 1}, 1: {'y': 16, 'x': 26, 'old': 2}, 2: {'y': 25, 'x': 19, 'old': 3}, 3: {'y': 30, 'x': 27, 'old': 4}, 4: {'y': 17, 'x': 28, 'old': 5}, 5: {'y': 5, 'x': 23, 'old': 6}, 6: {'y': 28, 'x': 23, 'old': 7}, 7: {'y': 25, 'x': 24, 'old': 8}, 8: {'y': 39, 'x': 3, 'old': 9}, 9: {'y': 20, 'x': 11, 'old': 10}})"
      ]
     },
     "execution_count": 7,
     "metadata": {},
     "output_type": "execute_result"
    }
   ],
   "source": [
    "G.nodes(data=True)"
   ]
  },
  {
   "cell_type": "code",
   "execution_count": 8,
   "metadata": {},
   "outputs": [],
   "source": [
    "pos = {i:(G.nodes[i]['x'] * args.scale,G.nodes[i]['y'] * args.scale) for i in G.nodes()}"
   ]
  },
  {
   "cell_type": "code",
   "execution_count": 9,
   "metadata": {},
   "outputs": [
    {
     "data": {
      "image/png": "[encoded data removed]",
      "text/plain": [
       "<Figure size 720x864 with 1 Axes>"
      ]
     },
     "metadata": {},
     "output_type": "display_data"
    }
   ],
   "source": [
    "DrawInitG(G)"
   ]
  },
  {
   "cell_type": "markdown",
   "metadata": {},
   "source": [
    "## Decision variables\n",
    "\n",
    "$$\n",
    "x_e = \\begin{cases}\n",
    "1 \\text{ if edge $e$ is in the tree} \\\\\n",
    "0 \\text { otherwise}\n",
    "\\end{cases}\n",
    "$$\n",
    "\n",
    "Associate to each edge $e$ two directed arcs $(i,j)$ and $(j,i)$ and let \n",
    "\n",
    "\n",
    "$$\n",
    "y_{ij}= \\{\\text{capacity for the flow of each commodity $k$ in arc } (i,j)\\}\n",
    "$$\n",
    "\n",
    "$$\n",
    "f^k_{ij} = \\{\\text{flow of commodity $k$ carried by the arc } (i,j)\\}\n",
    "$$\n"
   ]
  },
  {
   "cell_type": "code",
   "execution_count": 10,
   "metadata": {},
   "outputs": [],
   "source": [
    "G.nodes()\n",
    "root = 0"
   ]
  },
  {
   "cell_type": "code",
   "execution_count": 11,
   "metadata": {},
   "outputs": [],
   "source": [
    "D = G.to_directed()"
   ]
  },
  {
   "cell_type": "code",
   "execution_count": 12,
   "metadata": {},
   "outputs": [
    {
     "name": "stdout",
     "output_type": "stream",
     "text": [
      "\n",
      "--------------------------------------------\n",
      "Warning: your license will expire in 11 days\n",
      "--------------------------------------------\n",
      "\n",
      "Academic license - for non-commercial use only - expires 2021-05-15\n",
      "Using license file /Users/fabrizio/Solvers/licenses/gurobi.lic\n"
     ]
    }
   ],
   "source": [
    "mstmulti = gb.Model()"
   ]
  },
  {
   "cell_type": "code",
   "execution_count": 13,
   "metadata": {},
   "outputs": [],
   "source": [
    "x = mstmulti.addVars(G.edges(), obj=[G[u][v]['cost'] for u,v in G.edges()],\\\n",
    "                    ub = 1.0,\\\n",
    "                    vtype=gb.GRB.BINARY,\\\n",
    "                    name='x')\n"
   ]
  },
  {
   "cell_type": "code",
   "execution_count": 14,
   "metadata": {},
   "outputs": [],
   "source": [
    "y = mstmulti.addVars(D.edges(), \\\n",
    "                         ub=1.0, vtype=gb.GRB.BINARY,\\\n",
    "                         name='y')"
   ]
  },
  {
   "cell_type": "code",
   "execution_count": 15,
   "metadata": {},
   "outputs": [
    {
     "data": {
      "text/plain": [
       "[1, 2, 3, 4, 5, 6, 7, 8, 9]"
      ]
     },
     "execution_count": 15,
     "metadata": {},
     "output_type": "execute_result"
    }
   ],
   "source": [
    "commodities = list(G.nodes())[1:]\n",
    "commodities"
   ]
  },
  {
   "cell_type": "code",
   "execution_count": 16,
   "metadata": {},
   "outputs": [],
   "source": [
    "f = mstmulti.addVars(D.edges(), \\\n",
    "                         commodities, \\\n",
    "                         ub=G.number_of_nodes(), \\\n",
    "                         vtype=gb.GRB.CONTINUOUS, \\\n",
    "                         name='f')"
   ]
  },
  {
   "cell_type": "code",
   "execution_count": 17,
   "metadata": {},
   "outputs": [],
   "source": [
    "mstmulti.write('multi.lp')"
   ]
  },
  {
   "cell_type": "markdown",
   "metadata": {},
   "source": [
    "\\begin{alignat}{3}\n",
    "\\min cx &&\\\\\n",
    "\\sum_{j \\in \\delta^+(0)} f^k_{0j} - \\sum_{j \\in \\delta^-(0)} f^k_{j0} = 1 &&\\;\\; \\forall k \\not = \\{0\\}\\\\\n",
    "\\sum_{j \\in \\delta^-(v)} f^k_{jv} - \\sum_{j \\in \\delta^+(v)} f^k_{vj} = 0 &&\\;\\; \\forall k \\not = \\{0\\}, \\forall v \\in V, v \\not = \\{0\\}, v \\not = k \\\\\n",
    "\\sum_{j \\in \\delta^-(k)} f^k_{jk} - \\sum_{j \\in \\delta^+(k)} f^k_{kj} = 1 && \\;\\; \\forall k \\not = \\{0\\} \\\\\n",
    "f^k_{ij} \\le y_{ij} && \\;\\; \\forall (i,j) \\text{ and } \\forall k \\not = \\{0\\}\\\\\n",
    "\\sum_{\\{i,j\\} \\in E} (y_{ij} + y_{ji}) = n-1\\\\\n",
    "y_{ij} + y_{ji} = x_e && \\\\\n",
    "f \\ge 0, \\; x_e \\in \\{0,1\\}\\; \n",
    "\\forall e \\in E, \\; \\\\y_{ij} \\in \\{0,1\\} \\; \\forall (i,j) \\in A\n",
    "\\end{alignat}"
   ]
  },
  {
   "cell_type": "code",
   "execution_count": 18,
   "metadata": {},
   "outputs": [],
   "source": [
    "# ROOT CONSTRAINTS: there is one constraint for each commodity\n",
    "\n",
    "for k in commodities:\n",
    "    name = \"Root_Com_\"+str(k)\n",
    "    mstmulti.addConstr(f.sum(root, '*', k) - \\\n",
    "                           f.sum('*',root,k) \\\n",
    "                           == 1, name)\n",
    "\n",
    "mstmulti.update()"
   ]
  },
  {
   "cell_type": "code",
   "execution_count": 19,
   "metadata": {},
   "outputs": [],
   "source": [
    "mstmulti.write('multi.lp')"
   ]
  },
  {
   "cell_type": "code",
   "execution_count": 20,
   "metadata": {},
   "outputs": [],
   "source": [
    "# BALANCE CONSTRAINTS: written for all nodes different from root\n",
    "\n",
    "for v in commodities:\n",
    "    for k in commodities:\n",
    "        if (v != k):\n",
    "            name = \"Balance_\"+str(v)+\"_Com_\"+str(k)\n",
    "            mstmulti.addConstr(f.sum('*',v,k) - f.sum(v,'*',k) == 0, name)\n",
    "            \n",
    "\n",
    "mstmulti.update()\n"
   ]
  },
  {
   "cell_type": "code",
   "execution_count": 21,
   "metadata": {},
   "outputs": [],
   "source": [
    "mstmulti.write('multi.lp')"
   ]
  },
  {
   "cell_type": "code",
   "execution_count": 22,
   "metadata": {},
   "outputs": [],
   "source": [
    "# TERMINAL CONSTRAINTS: there is one constraint for each commodity\n",
    "\n",
    "for k in commodities:\n",
    "    name = \"Term_Com_\"+str(k)\n",
    "    mstmulti.addConstr(f.sum('*',k,k) - f.sum(k,'*',k) == 1, name)\n",
    "\n",
    "mstmulti.update()\n"
   ]
  },
  {
   "cell_type": "code",
   "execution_count": 23,
   "metadata": {},
   "outputs": [],
   "source": [
    "mstmulti.write('multi.lp')"
   ]
  },
  {
   "cell_type": "code",
   "execution_count": 24,
   "metadata": {},
   "outputs": [],
   "source": [
    "# VARIABLE CAPACITY constraints\n",
    "\n",
    "for k in commodities:\n",
    "    for i,j in D.edges():\n",
    "        name = \"Cap_(%d,%d)\" % (i,j) + \"_Com_\" + str(k)\n",
    "        mstmulti.addConstr (f [i,j,k] - y[i,j] <= 0, name)\n",
    "\n",
    "mstmulti.update()\n"
   ]
  },
  {
   "cell_type": "code",
   "execution_count": 25,
   "metadata": {},
   "outputs": [],
   "source": [
    "mstmulti.write('multi.lp')"
   ]
  },
  {
   "cell_type": "code",
   "execution_count": 26,
   "metadata": {},
   "outputs": [],
   "source": [
    "# CARDINALITY constraint\n",
    "\n",
    "mstmulti.addConstr(y.sum() == G.number_of_nodes() - 1, \"Cardinality\")\n",
    "\n",
    "mstmulti.update()"
   ]
  },
  {
   "cell_type": "code",
   "execution_count": 27,
   "metadata": {},
   "outputs": [],
   "source": [
    "# EQUALITY constraints\n",
    "\n",
    "for i,j in G.edges():\n",
    " \n",
    "    name = \"Equality_x_(%d,%d)\"%(i,j)\n",
    "    mstmulti.addConstr(y[i,j] + y[j,i] -  x[i,j] == 0, name)\n",
    "    \n",
    "mstmulti.update()"
   ]
  },
  {
   "cell_type": "code",
   "execution_count": 28,
   "metadata": {},
   "outputs": [],
   "source": [
    "mstmulti.write('multi.lp')"
   ]
  },
  {
   "cell_type": "code",
   "execution_count": 29,
   "metadata": {},
   "outputs": [
    {
     "name": "stdout",
     "output_type": "stream",
     "text": [
      "Gurobi Optimizer version 9.1.1 build v9.1.1rc0 (mac64)\n",
      "Thread count: 4 physical cores, 8 logical processors, using up to 8 threads\n",
      "Optimize a model with 946 rows, 945 columns and 3465 nonzeros\n",
      "Model fingerprint: 0x23f536ed\n",
      "Variable types: 810 continuous, 135 integer (135 binary)\n",
      "Coefficient statistics:\n",
      "  Matrix range     [1e+00, 1e+00]\n",
      "  Objective range  [2e+02, 4e+03]\n",
      "  Bounds range     [1e+00, 1e+01]\n",
      "  RHS range        [1e+00, 9e+00]\n",
      "Found heuristic solution: objective 19712.000000\n",
      "Presolve removed 0 rows and 45 columns\n",
      "Presolve time: 0.00s\n",
      "Presolved: 946 rows, 900 columns, 3420 nonzeros\n",
      "Variable types: 810 continuous, 90 integer (90 binary)\n",
      "\n",
      "Root relaxation: objective 6.735000e+03, 282 iterations, 0.00 seconds\n",
      "\n",
      "    Nodes    |    Current Node    |     Objective Bounds      |     Work\n",
      " Expl Unexpl |  Obj  Depth IntInf | Incumbent    BestBd   Gap | It/Node Time\n",
      "\n",
      "*    0     0               0    6735.0000000 6735.00000  0.00%     -    0s\n",
      "\n",
      "Explored 0 nodes (282 simplex iterations) in 0.02 seconds\n",
      "Thread count was 8 (of 8 available processors)\n",
      "\n",
      "Solution count 2: 6735 19712 \n",
      "\n",
      "Optimal solution found (tolerance 1.00e-04)\n",
      "Best objective 6.735000000000e+03, best bound 6.735000000000e+03, gap 0.0000%\n"
     ]
    }
   ],
   "source": [
    "mstmulti.optimize()"
   ]
  },
  {
   "cell_type": "code",
   "execution_count": 30,
   "metadata": {},
   "outputs": [
    {
     "name": "stdout",
     "output_type": "stream",
     "text": [
      "Optimal solution: 6735.0\n"
     ]
    },
    {
     "data": {
      "image/png": "[encoded data removed]",
      "text/plain": [
       "<Figure size 720x864 with 1 Axes>"
      ]
     },
     "metadata": {},
     "output_type": "display_data"
    }
   ],
   "source": [
    "print (\"Optimal solution:\", mstmulti.objVal)\n",
    "DrawSol(G,x)\n"
   ]
  },
  {
   "cell_type": "code",
   "execution_count": null,
   "metadata": {},
   "outputs": [],
   "source": []
  }
 ],
 "metadata": {
  "anaconda-cloud": {},
  "kernelspec": {
   "display_name": "Python 3",
   "language": "python",
   "name": "python3"
  },
  "language_info": {
   "codemirror_mode": {
    "name": "ipython",
    "version": 3
   },
   "file_extension": ".py",
   "mimetype": "text/x-python",
   "name": "python",
   "nbconvert_exporter": "python",
   "pygments_lexer": "ipython3",
   "version": "3.7.10"
  }
 },
 "nbformat": 4,
 "nbformat_minor": 1
}
