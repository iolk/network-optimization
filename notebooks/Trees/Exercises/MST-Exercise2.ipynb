{
 "cells": [
  {
   "cell_type": "markdown",
   "metadata": {},
   "source": [
    "#  Minimum Spanning Tree Problem \n",
    "## Multicommodity flow formulation\n"
   ]
  },
  {
   "cell_type": "code",
   "execution_count": 1,
   "metadata": {},
   "outputs": [],
   "source": [
    "import networkx as nx\n",
    "import gurobipy as gb\n",
    "from itertools import combinations, chain\n",
    "import pygraphviz as pygv\n",
    "import os\n",
    "from IPython.display import SVG, display\n",
    "import matplotlib.pyplot as plt\n"
   ]
  },
  {
   "cell_type": "code",
   "execution_count": 2,
   "metadata": {},
   "outputs": [],
   "source": [
    "class args:\n",
    "    filename = None\n",
    "    scale = 40\n",
    "    figsize = (6,6)\n",
    "    \n",
    "def DrawInitG(G, withedges=False):\n",
    "    \n",
    "    plt.figure(figsize=args.figsize)\n",
    "    \n",
    "    pos = {i:(G.nodes[i]['x'], G.nodes[i]['y']) for i in G.nodes()}\n",
    "    \n",
    "    nx.draw_networkx_nodes(G, \n",
    "                           pos=pos, \n",
    "                           node_shape='o', \n",
    "                           node_size=600,\n",
    "                           node_color='red')\n",
    "    \n",
    "    nx.draw_networkx_labels(G, pos=pos, font_color='w', font_size=12)\n",
    "    \n",
    "    if withedges:\n",
    "        nx.draw_networkx_edges(G,pos=pos, alpha=1.0)\n",
    "        labels = {(i,j):G.get_edge_data(i,j,'cost').get('cost') for i,j in G.edges()}\n",
    "        nx.draw_networkx_edge_labels(G, pos=pos, edge_labels=labels)\n",
    "    \n",
    "    plt.axis('off')\n",
    "    plt.show()\n",
    "    \n",
    "def DrawSol(G, x):\n",
    "    \n",
    "    plt.figure(figsize=args.figsize)\n",
    "    \n",
    "    pos = {i:(G.nodes[i]['x'], G.nodes[i]['y']) for i in G.nodes()}\n",
    "\n",
    "    \n",
    "    nx.draw_networkx_nodes(G, \n",
    "                           pos=pos, \n",
    "                           node_shape='o', \n",
    "                           node_size=600,\n",
    "                           node_color='red',\n",
    "                           label=[G.nodes()])\n",
    "    \n",
    "    nx.draw_networkx_labels(G, pos=pos, font_color='w', font_size=12)\n",
    "    \n",
    "    for u,v in G.edges():\n",
    "        if x[u,v].x > 0.01 and x[u,v].x < 0.9:\n",
    "            nx.draw_networkx_edges(G, pos=pos,\n",
    "                                   edgelist=[(u,v)],\n",
    "                                   edge_color='r')\n",
    "            \n",
    "            nx.draw_networkx_edge_labels(G, pos=pos,\n",
    "                                         edge_labels={(u,v):'{:.2f}'.format(x[u,v].x)})\n",
    "        \n",
    "        if x[u,v].x > 0.9:\n",
    "            nx.draw_networkx_edges(G, pos=pos,\n",
    "                                   edgelist=[(u,v)],\n",
    "                                   edge_color='k')\n",
    "        \n",
    "\n",
    "    \n",
    "    #edges_in_sol = [(u,v)  for u,v in G.edges() if x[u,v].x > 0.1]\n",
    "\n",
    "    \n",
    "    plt.axis('off')\n",
    "    plt.show()"
   ]
  },
  {
   "cell_type": "code",
   "execution_count": 4,
   "metadata": {},
   "outputs": [
    {
     "name": "stdout",
     "output_type": "stream",
     "text": [
      "G has 15 nodes and 105 edges\n"
     ]
    }
   ],
   "source": [
    "args.filename = \"network2.gml\"\n",
    "args.figsize = 10,12\n",
    "\n",
    "basename = os.path.splitext(args.filename)[0]\n",
    "G = nx.read_graphml (args.filename, node_type=int)\n",
    "\n",
    "print (\"G has\", G.number_of_nodes(), \"nodes and\", G.number_of_edges(), \"edges\")"
   ]
  },
  {
   "cell_type": "code",
   "execution_count": 5,
   "metadata": {},
   "outputs": [],
   "source": [
    "G = nx.convert_node_labels_to_integers(G, first_label=0,label_attribute='old' )"
   ]
  },
  {
   "cell_type": "code",
   "execution_count": 9,
   "metadata": {},
   "outputs": [
    {
     "data": {
      "text/plain": [
       "EdgeDataView([(0, 1, {'cost': 3569}), (0, 2, {'cost': 3716}), (0, 3, {'cost': 3801}), (0, 4, {'cost': 4104}), (0, 5, {'cost': 1236}), (0, 6, {'cost': 4775}), (0, 7, {'cost': 824}), (0, 8, {'cost': 2531}), (0, 9, {'cost': 200}), (0, 10, {'cost': 2617}), (0, 11, {'cost': 3981}), (0, 12, {'cost': 2683}), (0, 13, {'cost': 1702}), (0, 14, {'cost': 2213}), (1, 2, {'cost': 806}), (1, 3, {'cost': 854}), (1, 4, {'cost': 1081}), (1, 5, {'cost': 2507}), (1, 6, {'cost': 1345}), (1, 7, {'cost': 3624}), (1, 8, {'cost': 1044}), (1, 9, {'cost': 3613}), (1, 10, {'cost': 1345}), (1, 11, {'cost': 1004}), (1, 12, {'cost': 1208}), (1, 13, {'cost': 2473}), (1, 14, {'cost': 1979}), (2, 3, {'cost': 1649}), (2, 4, {'cost': 1838}), (2, 5, {'cost': 2842}), (2, 6, {'cost': 1104}), (2, 7, {'cost': 3940}), (2, 8, {'cost': 1421}), (2, 9, {'cost': 3801}), (2, 10, {'cost': 1969}), (2, 11, {'cost': 282}), (2, 12, {'cost': 1044}), (2, 13, {'cost': 2308}), (2, 14, {'cost': 2555}), (3, 4, {'cost': 316}), (3, 5, {'cost': 2607}), (3, 6, {'cost': 1838}), (3, 7, {'cost': 3667}), (3, 8, {'cost': 1392}), (3, 9, {'cost': 3801}), (3, 10, {'cost': 1216}), (3, 11, {'cost': 1811}), (3, 12, {'cost': 1910}), (3, 13, {'cost': 3041}), (3, 14, {'cost': 1802}), (4, 5, {'cost': 2901}), (4, 6, {'cost': 1843}), (4, 7, {'cost': 3945}), (4, 8, {'cost': 1708}), (4, 9, {'cost': 4100}), (4, 10, {'cost': 1503}), (4, 11, {'cost': 1964}), (4, 12, {'cost': 2202}), (4, 13, {'cost': 3354}), (4, 14, {'cost': 2061}), (5, 6, {'cost': 3807}), (5, 7, {'cost': 1118}), (5, 8, {'cost': 1476}), (5, 9, {'cost': 1204}), (5, 10, {'cost': 1400}), (5, 11, {'cost': 3124}), (5, 12, {'cost': 1920}), (5, 13, {'cost': 1603}), (5, 14, {'cost': 984}), (6, 7, {'cost': 4924}), (6, 8, {'cost': 2332}), (6, 9, {'cost': 4846}), (6, 10, {'cost': 2687}), (6, 11, {'cost': 905}), (6, 12, {'cost': 2137}), (6, 13, {'cost': 3413}), (6, 14, {'cost': 3324}), (7, 8, {'cost': 2594}), (7, 9, {'cost': 632}), (7, 10, {'cost': 2451}), (7, 11, {'cost': 4220}), (7, 12, {'cost': 2973}), (7, 13, {'cost': 2284}), (7, 14, {'cost': 1902}), (8, 9, {'cost': 2570}), (8, 10, {'cost': 707}), (8, 11, {'cost': 1702}), (8, 12, {'cost': 806}), (8, 13, {'cost': 1664}), (8, 14, {'cost': 1170}), (9, 10, {'cost': 2601}), (9, 11, {'cost': 4070}), (9, 12, {'cost': 2778}), (9, 13, {'cost': 1860}), (9, 14, {'cost': 2158}), (10, 11, {'cost': 2236}), (10, 12, {'cost': 1513}), (10, 13, {'cost': 2193}), (10, 14, {'cost': 640}), (11, 12, {'cost': 1300}), (11, 13, {'cost': 2531}), (11, 14, {'cost': 2830}), (12, 13, {'cost': 1303}), (12, 14, {'cost': 1923}), (13, 14, {'cost': 2236})])"
      ]
     },
     "execution_count": 9,
     "metadata": {},
     "output_type": "execute_result"
    }
   ],
   "source": [
    "G.edges(data=True)"
   ]
  },
  {
   "cell_type": "code",
   "execution_count": 10,
   "metadata": {},
   "outputs": [],
   "source": [
    "pos = {i:(G.nodes[i]['x'] * args.scale,G.nodes[i]['y'] * args.scale) for i in G.nodes()}"
   ]
  },
  {
   "cell_type": "code",
   "execution_count": 11,
   "metadata": {},
   "outputs": [
    {
     "data": {
      "image/png": "[encoded data removed]",
      "text/plain": [
       "<Figure size 720x864 with 1 Axes>"
      ]
     },
     "metadata": {},
     "output_type": "display_data"
    }
   ],
   "source": [
    "DrawInitG(G)"
   ]
  },
  {
   "cell_type": "markdown",
   "metadata": {},
   "source": [
    "## Decision variables\n",
    "\n",
    "$$\n",
    "x_e = \\begin{cases}\n",
    "1 \\text{ if edge $e$ is in the tree} \\\\\n",
    "0 \\text { otherwise}\n",
    "\\end{cases}\n",
    "$$\n",
    "\n",
    "Associate to each edge $e$ two directed arcs $(i,j)$ and $(j,i)$ and let \n",
    "\n",
    "\n",
    "$$\n",
    "y_{ij}= \\{\\text{capacity for the flow of each commodity $k$ in arc } (i,j)\\}\n",
    "$$\n",
    "\n",
    "$$\n",
    "f^k_{ij} = \\{\\text{flow of commodity $k$ carried by the arc } (i,j)\\}\n",
    "$$\n",
    "\n",
    "\n",
    "$$\n",
    "z^h_{i} = \\begin{cases}\n",
    "1 \\text{ if hub of type $h$ is installed in node $i$} \\\\\n",
    "0 \\text { otherwise}\n",
    "\\end{cases}\n",
    "$$"
   ]
  },
  {
   "cell_type": "code",
   "execution_count": 149,
   "metadata": {},
   "outputs": [],
   "source": [
    "G.nodes()\n",
    "root = 0"
   ]
  },
  {
   "cell_type": "code",
   "execution_count": 150,
   "metadata": {},
   "outputs": [],
   "source": [
    "D = G.to_directed()"
   ]
  },
  {
   "cell_type": "code",
   "execution_count": 151,
   "metadata": {},
   "outputs": [],
   "source": [
    "mstmulti = gb.Model()"
   ]
  },
  {
   "cell_type": "code",
   "execution_count": 152,
   "metadata": {},
   "outputs": [],
   "source": [
    "x = mstmulti.addVars(G.edges(), obj=[G[u][v]['cost'] for u,v in G.edges()],\\\n",
    "                    ub = 1.0,\\\n",
    "                    vtype=gb.GRB.BINARY,\\\n",
    "                    name='x')\n"
   ]
  },
  {
   "cell_type": "code",
   "execution_count": 153,
   "metadata": {},
   "outputs": [],
   "source": [
    "y = mstmulti.addVars(D.edges(), \\\n",
    "                         ub=1.0, vtype=gb.GRB.BINARY,\\\n",
    "                         name='y')"
   ]
  },
  {
   "cell_type": "code",
   "execution_count": 154,
   "metadata": {},
   "outputs": [
    {
     "data": {
      "text/plain": [
       "[1, 2, 3, 4, 5, 6, 7, 8, 9, 10, 11, 12, 13, 14]"
      ]
     },
     "execution_count": 154,
     "metadata": {},
     "output_type": "execute_result"
    }
   ],
   "source": [
    "commodities = list(G.nodes())[1:]\n",
    "commodities"
   ]
  },
  {
   "cell_type": "code",
   "execution_count": 155,
   "metadata": {},
   "outputs": [],
   "source": [
    "f = mstmulti.addVars(D.edges(), \\\n",
    "                         commodities, \\\n",
    "                         ub=G.number_of_nodes(), \\\n",
    "                         vtype=gb.GRB.CONTINUOUS, \\\n",
    "                         name='f')"
   ]
  },
  {
   "cell_type": "code",
   "execution_count": 156,
   "metadata": {},
   "outputs": [],
   "source": [
    "hub_types = [1,2,3]\n",
    "hub_cost = {1:15, 2:20, 3:50}\n",
    "\n"
   ]
  },
  {
   "cell_type": "code",
   "execution_count": 157,
   "metadata": {},
   "outputs": [],
   "source": [
    "obj = [hub_cost[i] for j in G.nodes() for i in hub_types]"
   ]
  },
  {
   "cell_type": "code",
   "execution_count": 158,
   "metadata": {},
   "outputs": [],
   "source": [
    "z = mstmulti.addVars (G.nodes(), \n",
    "                      hub_types,\n",
    "                      obj=[hub_cost[i] for j in G.nodes() for i in hub_types],\n",
    "                      vtype=gb.GRB.BINARY,\n",
    "                      name='z')"
   ]
  },
  {
   "cell_type": "code",
   "execution_count": 159,
   "metadata": {},
   "outputs": [],
   "source": [
    "mstmulti.write('multi.lp')"
   ]
  },
  {
   "cell_type": "markdown",
   "metadata": {},
   "source": [
    "\\begin{alignat}{3}\n",
    "\\min cx + \\sum_{i \\in V} \\sum_{h \\in HT} c_h z_i^h&&\\\\\n",
    "\\sum_{j \\in \\delta^+(0)} f^k_{0j} - \\sum_{j \\in \\delta^-(0)} f^k_{j0} = 1 &&\\;\\; \\forall k \\not = \\{0\\}\\\\\n",
    "\\sum_{j \\in \\delta^-(v)} f^k_{jv} - \\sum_{j \\in \\delta^+(v)} f^k_{vj} = 0 &&\\;\\; \\forall k \\not = \\{0\\}, \\forall v \\in V, v \\not = \\{0\\}, v \\not = k \\\\\n",
    "\\sum_{j \\in \\delta^-(k)} f^k_{jk} - \\sum_{j \\in \\delta^+(k)} f^k_{kj} = 1 && \\;\\; \\forall k \\not = \\{0\\} \\\\\n",
    "f^k_{ij} \\le y_{ij} && \\;\\; \\forall (i,j) \\text{ and } \\forall k \\not = \\{0\\}\\\\\n",
    "\\sum_{\\{i,j\\} \\in E} (y_{ij} + y_{ji}) = n-1\\\\\n",
    "y_{ij} + y_{ji} = x_e && \\\\\n",
    "\\sum_{h \\in HT} z_i^h = 1 \\; \\forall i  \\in V\\\\\n",
    "\\sum_{e \\in \\delta(i)} x_e \\le 2z_i^1 + 4 z_i^2 + 8 z_i^3 \\;\\; \\forall i \\in V\\\\\n",
    "f \\ge 0, \\; x_e \\in \\{0,1\\}\\; \n",
    "\\forall e \\in E, \\\\ z_i^k \\in \\{0,1\\} \\; \\forall i \\in V, k \\in HT \\\\y_{ij} \\in \\{0,1\\} \\; \\forall (i,j) \\in A\n",
    "\\end{alignat}"
   ]
  },
  {
   "cell_type": "code",
   "execution_count": 160,
   "metadata": {},
   "outputs": [],
   "source": [
    "# ROOT CONSTRAINTS: there is one constraint for each commodity\n",
    "\n",
    "for k in commodities:\n",
    "    name = \"Root_Com_\"+str(k)\n",
    "    mstmulti.addConstr(f.sum(root, '*', k) - \\\n",
    "                           f.sum('*',root,k) \\\n",
    "                           == 1, name)\n",
    "\n",
    "mstmulti.update()"
   ]
  },
  {
   "cell_type": "code",
   "execution_count": 161,
   "metadata": {},
   "outputs": [],
   "source": [
    "mstmulti.write('multi.lp')"
   ]
  },
  {
   "cell_type": "code",
   "execution_count": 162,
   "metadata": {},
   "outputs": [],
   "source": [
    "# BALANCE CONSTRAINTS: written for all nodes different from root and for nodes different\n",
    "# from the terminal of each commodity\n",
    "\n",
    "for v in commodities:\n",
    "    for k in commodities:\n",
    "        if (v != k):\n",
    "            name = \"Balance_\"+str(v)+\"_Com_\"+str(k)\n",
    "            mstmulti.addConstr(f.sum('*',v,k) - f.sum(v,'*',k) == 0, name)\n",
    "            \n",
    "\n",
    "mstmulti.update()\n"
   ]
  },
  {
   "cell_type": "code",
   "execution_count": 163,
   "metadata": {},
   "outputs": [],
   "source": [
    "mstmulti.write('multi.lp')"
   ]
  },
  {
   "cell_type": "code",
   "execution_count": 164,
   "metadata": {},
   "outputs": [],
   "source": [
    "# TERMINAL CONSTRAINTS: there is one constraint for each commodity\n",
    "\n",
    "for k in commodities:\n",
    "    name = \"Term_Com_\"+str(k)\n",
    "    mstmulti.addConstr(f.sum('*',k,k) - f.sum(k,'*',k) == 1, name)\n",
    "\n",
    "mstmulti.update()\n"
   ]
  },
  {
   "cell_type": "code",
   "execution_count": 165,
   "metadata": {},
   "outputs": [],
   "source": [
    "mstmulti.write('multi.lp')"
   ]
  },
  {
   "cell_type": "code",
   "execution_count": 166,
   "metadata": {},
   "outputs": [],
   "source": [
    "# VARIABLE CAPACITY constraints\n",
    "\n",
    "for k in commodities:\n",
    "    for i,j in D.edges():\n",
    "        name = \"Cap_(%d,%d)\" % (i,j) + \"_Com_\" + str(k)\n",
    "        mstmulti.addConstr (f [i,j,k] - y[i,j] <= 0, name)\n",
    "\n",
    "mstmulti.update()\n"
   ]
  },
  {
   "cell_type": "code",
   "execution_count": 167,
   "metadata": {},
   "outputs": [],
   "source": [
    "mstmulti.write('multi.lp')"
   ]
  },
  {
   "cell_type": "code",
   "execution_count": 168,
   "metadata": {},
   "outputs": [],
   "source": [
    "# CARDINALITY constraint\n",
    "\n",
    "mstmulti.addConstr(y.sum() == G.number_of_nodes() - 1, \"Cardinality\")\n",
    "\n",
    "mstmulti.update()"
   ]
  },
  {
   "cell_type": "code",
   "execution_count": 169,
   "metadata": {},
   "outputs": [],
   "source": [
    "# EQUALITY constraints\n",
    "\n",
    "for i,j in G.edges():\n",
    " \n",
    "    name = \"Equality_x_(%d,%d)\"%(i,j)\n",
    "    mstmulti.addConstr(y[i,j] + y[j,i] -  x[i,j] == 0, name)\n",
    "    \n",
    "mstmulti.update()"
   ]
  },
  {
   "cell_type": "code",
   "execution_count": 170,
   "metadata": {},
   "outputs": [],
   "source": [
    "# In each node a hub must be installed \n",
    "\n",
    "for i in G.nodes():\n",
    "    name = \"Hub_%d\" % i \n",
    "    mstmulti.addConstr (z.sum(i) == 1, name)\n",
    "\n",
    "mstmulti.update()\n",
    "\n"
   ]
  },
  {
   "cell_type": "code",
   "execution_count": 171,
   "metadata": {},
   "outputs": [
    {
     "data": {
      "text/plain": [
       "<gurobi.LinExpr: x[0,14] + x[1,14] + x[2,14] + x[3,14] + x[4,14] + x[5,14] + x[6,14] + x[7,14] + x[8,14] + x[9,14] + x[10,14] + x[11,14] + x[12,14] + x[13,14] + 2.0 z[14,1] + 4.0 z[14,2] + 8.0 z[14,3]>"
      ]
     },
     "execution_count": 171,
     "metadata": {},
     "output_type": "execute_result"
    }
   ],
   "source": [
    "gb.quicksum([x[u,v] if (u,v) in x else x[v,u] for u,v in G.edges(i)]) +  2*z[i, 1] + 4 * z[i, 2] + 8 * z[i, 3]"
   ]
  },
  {
   "cell_type": "code",
   "execution_count": 172,
   "metadata": {},
   "outputs": [],
   "source": [
    "for i in G.nodes():\n",
    "    name = \"Variable_Degree%d\" % i\n",
    "    mstmulti.addConstr(gb.quicksum([x[u,v] if (u,v) \\\n",
    "                                    in x else x[v,u] for u,v in G.edges(i)]) -  2*z[i, 1] - 4 * z[i, 2] - 8 * z[i, 3], \\\n",
    "                  sense='<=', rhs=0, name=name)"
   ]
  },
  {
   "cell_type": "code",
   "execution_count": 173,
   "metadata": {},
   "outputs": [],
   "source": [
    "mstmulti.write('multi.lp')"
   ]
  },
  {
   "cell_type": "code",
   "execution_count": 174,
   "metadata": {},
   "outputs": [
    {
     "name": "stdout",
     "output_type": "stream",
     "text": [
      "Gurobi Optimizer version 9.1.1 build v9.1.1rc0 (mac64)\n",
      "Thread count: 4 physical cores, 8 logical processors, using up to 8 threads\n",
      "Optimize a model with 3286 rows, 3300 columns and 12585 nonzeros\n",
      "Model fingerprint: 0xe4db656e\n",
      "Variable types: 2940 continuous, 360 integer (360 binary)\n",
      "Coefficient statistics:\n",
      "  Matrix range     [1e+00, 8e+00]\n",
      "  Objective range  [2e+01, 5e+03]\n",
      "  Bounds range     [1e+00, 2e+01]\n",
      "  RHS range        [1e+00, 1e+01]\n",
      "Presolve removed 0 rows and 15 columns\n",
      "Presolve time: 0.01s\n",
      "Presolved: 3286 rows, 3285 columns, 12555 nonzeros\n",
      "Variable types: 2940 continuous, 345 integer (345 binary)\n",
      "Found heuristic solution: objective 29284.000000\n",
      "\n",
      "Root relaxation: objective 1.082700e+04, 1461 iterations, 0.06 seconds\n",
      "\n",
      "    Nodes    |    Current Node    |     Objective Bounds      |     Work\n",
      " Expl Unexpl |  Obj  Depth IntInf | Incumbent    BestBd   Gap | It/Node Time\n",
      "\n",
      "     0     0 10827.0000    0    2 29284.0000 10827.0000  63.0%     -    0s\n",
      "H    0     0                    10832.000000 10827.0000  0.05%     -    0s\n",
      "     0     0 10827.0000    0    2 10832.0000 10827.0000  0.05%     -    0s\n",
      "\n",
      "Cutting planes:\n",
      "  Gomory: 2\n",
      "  Cover: 2\n",
      "\n",
      "Explored 1 nodes (1471 simplex iterations) in 0.17 seconds\n",
      "Thread count was 8 (of 8 available processors)\n",
      "\n",
      "Solution count 2: 10832 29284 \n",
      "\n",
      "Optimal solution found (tolerance 1.00e-04)\n",
      "Best objective 1.083200000000e+04, best bound 1.083200000000e+04, gap 0.0000%\n"
     ]
    }
   ],
   "source": [
    "mstmulti.optimize()"
   ]
  },
  {
   "cell_type": "code",
   "execution_count": 175,
   "metadata": {},
   "outputs": [
    {
     "name": "stdout",
     "output_type": "stream",
     "text": [
      "Optimal solution: 10832.0\n"
     ]
    },
    {
     "data": {
      "image/png": "[encoded data removed]",
      "text/plain": [
       "<Figure size 720x864 with 1 Axes>"
      ]
     },
     "metadata": {},
     "output_type": "display_data"
    }
   ],
   "source": [
    "print (\"Optimal solution:\", mstmulti.objVal)\n",
    "DrawSol(G,x)\n"
   ]
  },
  {
   "cell_type": "code",
   "execution_count": 176,
   "metadata": {},
   "outputs": [
    {
     "data": {
      "text/plain": [
       "{(0, 1): <gurobi.Var z[0,1] (value 1.0)>,\n",
       " (0, 2): <gurobi.Var z[0,2] (value -0.0)>,\n",
       " (0, 3): <gurobi.Var z[0,3] (value -0.0)>,\n",
       " (1, 1): <gurobi.Var z[1,1] (value 0.0)>,\n",
       " (1, 2): <gurobi.Var z[1,2] (value 1.0)>,\n",
       " (1, 3): <gurobi.Var z[1,3] (value -0.0)>,\n",
       " (2, 1): <gurobi.Var z[2,1] (value 1.0)>,\n",
       " (2, 2): <gurobi.Var z[2,2] (value 0.0)>,\n",
       " (2, 3): <gurobi.Var z[2,3] (value -0.0)>,\n",
       " (3, 1): <gurobi.Var z[3,1] (value 1.0)>,\n",
       " (3, 2): <gurobi.Var z[3,2] (value -0.0)>,\n",
       " (3, 3): <gurobi.Var z[3,3] (value -0.0)>,\n",
       " (4, 1): <gurobi.Var z[4,1] (value 1.0)>,\n",
       " (4, 2): <gurobi.Var z[4,2] (value -0.0)>,\n",
       " (4, 3): <gurobi.Var z[4,3] (value -0.0)>,\n",
       " (5, 1): <gurobi.Var z[5,1] (value 1.0)>,\n",
       " (5, 2): <gurobi.Var z[5,2] (value -0.0)>,\n",
       " (5, 3): <gurobi.Var z[5,3] (value -0.0)>,\n",
       " (6, 1): <gurobi.Var z[6,1] (value 1.0)>,\n",
       " (6, 2): <gurobi.Var z[6,2] (value -0.0)>,\n",
       " (6, 3): <gurobi.Var z[6,3] (value -0.0)>,\n",
       " (7, 1): <gurobi.Var z[7,1] (value 1.0)>,\n",
       " (7, 2): <gurobi.Var z[7,2] (value -0.0)>,\n",
       " (7, 3): <gurobi.Var z[7,3] (value -0.0)>,\n",
       " (8, 1): <gurobi.Var z[8,1] (value 0.0)>,\n",
       " (8, 2): <gurobi.Var z[8,2] (value 1.0)>,\n",
       " (8, 3): <gurobi.Var z[8,3] (value -0.0)>,\n",
       " (9, 1): <gurobi.Var z[9,1] (value 1.0)>,\n",
       " (9, 2): <gurobi.Var z[9,2] (value -0.0)>,\n",
       " (9, 3): <gurobi.Var z[9,3] (value -0.0)>,\n",
       " (10, 1): <gurobi.Var z[10,1] (value 1.0)>,\n",
       " (10, 2): <gurobi.Var z[10,2] (value -0.0)>,\n",
       " (10, 3): <gurobi.Var z[10,3] (value -0.0)>,\n",
       " (11, 1): <gurobi.Var z[11,1] (value 1.0)>,\n",
       " (11, 2): <gurobi.Var z[11,2] (value 0.0)>,\n",
       " (11, 3): <gurobi.Var z[11,3] (value -0.0)>,\n",
       " (12, 1): <gurobi.Var z[12,1] (value 1.0)>,\n",
       " (12, 2): <gurobi.Var z[12,2] (value 0.0)>,\n",
       " (12, 3): <gurobi.Var z[12,3] (value -0.0)>,\n",
       " (13, 1): <gurobi.Var z[13,1] (value 1.0)>,\n",
       " (13, 2): <gurobi.Var z[13,2] (value -0.0)>,\n",
       " (13, 3): <gurobi.Var z[13,3] (value -0.0)>,\n",
       " (14, 1): <gurobi.Var z[14,1] (value 1.0)>,\n",
       " (14, 2): <gurobi.Var z[14,2] (value -0.0)>,\n",
       " (14, 3): <gurobi.Var z[14,3] (value -0.0)>}"
      ]
     },
     "execution_count": 176,
     "metadata": {},
     "output_type": "execute_result"
    }
   ],
   "source": [
    "z"
   ]
  },
  {
   "cell_type": "code",
   "execution_count": null,
   "metadata": {},
   "outputs": [],
   "source": []
  }
 ],
 "metadata": {
  "anaconda-cloud": {},
  "kernelspec": {
   "display_name": "Python 3",
   "language": "python",
   "name": "python3"
  },
  "language_info": {
   "codemirror_mode": {
    "name": "ipython",
    "version": 3
   },
   "file_extension": ".py",
   "mimetype": "text/x-python",
   "name": "python",
   "nbconvert_exporter": "python",
   "pygments_lexer": "ipython3",
   "version": "3.7.10"
  }
 },
 "nbformat": 4,
 "nbformat_minor": 1
}
