{
 "cells": [
  {
   "cell_type": "markdown",
   "id": "turkish-district",
   "metadata": {},
   "source": [
    "## A branch-and-bound example (see slides Part II)"
   ]
  },
  {
   "cell_type": "code",
   "execution_count": 1,
   "id": "broad-upset",
   "metadata": {},
   "outputs": [],
   "source": [
    "import gurobipy as gb"
   ]
  },
  {
   "cell_type": "code",
   "execution_count": 2,
   "id": "spectacular-arrest",
   "metadata": {},
   "outputs": [
    {
     "name": "stdout",
     "output_type": "stream",
     "text": [
      "Academic license - for non-commercial use only - expires 2021-05-15\n",
      "Using license file /Users/fabrizio/Solvers/licenses/gurobi.lic\n",
      "Read LP format model from file BBExample.lp\n",
      "Reading time = 0.00 seconds\n",
      ": 1 rows, 7 columns, 7 nonzeros\n"
     ]
    }
   ],
   "source": [
    "knap_lr = gb.read('BBExample.lp')"
   ]
  },
  {
   "cell_type": "markdown",
   "id": "impaired-distinction",
   "metadata": {},
   "source": [
    "$$ \n",
    "\\max 9 x_1 + 15 x_2 + 8 x_3 + 6 x_4 + 5 x_5 + 4 x_6 + x_7 \\\\\n",
    "\\text{s. t.}\\\\\n",
    "6 x_1 + 11 x_2 + 6 x_3 + 5 x_4 + 5 x_5 + 4 x_6 + x_7 \\le 19\\\\\n",
    "x \\in \\{0,1 \\}^7\n",
    "$$"
   ]
  },
  {
   "cell_type": "markdown",
   "id": "expired-strengthening",
   "metadata": {},
   "source": [
    "### Branch-and-bound initialization\n",
    "\n",
    "1. Subproblem list $L$ is initialized with the problem itself\n",
    "2. $z^H$ = 0\n",
    "\n",
    "\n",
    "### Start the loop\n",
    "\n",
    "1. Pick a subproblem from the list\n",
    "2. Solve the linear relaxation"
   ]
  },
  {
   "cell_type": "code",
   "execution_count": 3,
   "id": "designed-sandwich",
   "metadata": {},
   "outputs": [
    {
     "name": "stdout",
     "output_type": "stream",
     "text": [
      "Gurobi Optimizer version 9.1.1 build v9.1.1rc0 (mac64)\n",
      "Thread count: 4 physical cores, 8 logical processors, using up to 8 threads\n",
      "Optimize a model with 1 rows, 7 columns and 7 nonzeros\n",
      "Model fingerprint: 0x6ec019d8\n",
      "Coefficient statistics:\n",
      "  Matrix range     [1e+00, 1e+01]\n",
      "  Objective range  [1e+00, 2e+01]\n",
      "  Bounds range     [1e+00, 1e+00]\n",
      "  RHS range        [2e+01, 2e+01]\n",
      "Presolve removed 0 rows and 2 columns\n",
      "Presolve time: 0.01s\n",
      "Presolved: 1 rows, 5 columns, 5 nonzeros\n",
      "\n",
      "Iteration    Objective       Primal Inf.    Dual Inf.      Time\n",
      "       0    2.8500000e+01   2.166667e+00   0.000000e+00      0s\n",
      "       1    2.6666667e+01   0.000000e+00   0.000000e+00      0s\n",
      "\n",
      "Solved in 1 iterations and 0.02 seconds\n",
      "Optimal objective  2.666666667e+01\n"
     ]
    }
   ],
   "source": [
    "knap_lr.optimize()"
   ]
  },
  {
   "cell_type": "markdown",
   "id": "banned-honduras",
   "metadata": {},
   "source": [
    "$$z^0_{UB} = 26.6666$$"
   ]
  },
  {
   "cell_type": "code",
   "execution_count": 42,
   "id": "answering-emission",
   "metadata": {},
   "outputs": [
    {
     "name": "stdout",
     "output_type": "stream",
     "text": [
      "z(S0): 26.666666666666668\n",
      "{'x1': 1.0, 'x2': 1.0, 'x3': 0.3333333333333333, 'x4': 0.0, 'x5': 0.0, 'x6': 0.0, 'x7': 0.0}\n"
     ]
    }
   ],
   "source": [
    "solution_S0 = {x.VarName:x.x for x in knap_lr.getVars()}\n",
    "S0_bound = knap_lr.objVal\n",
    "\n",
    "\n",
    "print('z(S0):', S0_bound)\n",
    "print (solution_S0)"
   ]
  },
  {
   "cell_type": "markdown",
   "id": "gothic-education",
   "metadata": {},
   "source": [
    "### Branching on variable $x_3$"
   ]
  },
  {
   "cell_type": "markdown",
   "id": "adapted-tournament",
   "metadata": {},
   "source": [
    "$$ S_1 = S_0 \\cap \\{x_3 = 0\\} \\\\\n",
    "S_2 = S_0 \\cap \\{x_3 = 1\\}$$\n",
    "\n",
    "$$L = \\{S_1, S_2 \\} $$\n",
    "\n",
    "$$ z^1_{UB} \\le 26.6666$$\n",
    "\n",
    "$$ z^2_{UB} \\le 26.6666$$\n",
    "\n"
   ]
  },
  {
   "cell_type": "markdown",
   "id": "powerful-velvet",
   "metadata": {},
   "source": [
    "### Second iteration\n",
    "\n",
    "1. Select a problem from $L$, say $S_1$\n",
    "2. Explore node $S_1$\n",
    "3. Solve the linear relaxation of $S_1$"
   ]
  },
  {
   "cell_type": "markdown",
   "id": "requested-desktop",
   "metadata": {},
   "source": [
    "### Subproblem $S_1$"
   ]
  },
  {
   "cell_type": "code",
   "execution_count": 4,
   "id": "dress-apartment",
   "metadata": {},
   "outputs": [
    {
     "name": "stdout",
     "output_type": "stream",
     "text": [
      "Gurobi Optimizer version 9.1.1 build v9.1.1rc0 (mac64)\n",
      "Thread count: 4 physical cores, 8 logical processors, using up to 8 threads\n",
      "Optimize a model with 1 rows, 7 columns and 7 nonzeros\n",
      "Coefficient statistics:\n",
      "  Matrix range     [1e+00, 1e+01]\n",
      "  Objective range  [1e+00, 2e+01]\n",
      "  Bounds range     [1e+00, 1e+00]\n",
      "  RHS range        [2e+01, 2e+01]\n",
      "       0    2.6666667e+01   1.666667e-01   0.000000e+00      0s\n",
      "       1    2.6400000e+01   0.000000e+00   0.000000e+00      0s\n",
      "\n",
      "Solved in 1 iterations and 0.02 seconds\n",
      "Optimal objective  2.640000000e+01\n",
      "z(S1): 26.4\n",
      "{'x1': 1.0, 'x2': 1.0, 'x3': 0.0, 'x4': 0.4, 'x5': 0.0, 'x6': 0.0, 'x7': 0.0}\n"
     ]
    }
   ],
   "source": [
    "knap_lr.getVarByName('x3').lb = 0\n",
    "knap_lr.getVarByName('x3').ub = 0\n",
    "\n",
    "knap_lr.optimize()\n",
    "\n",
    "S1_bound = knap_lr.objVal\n",
    "\n",
    "\n",
    "solution_S1 = {x.VarName:x.x for x in knap_lr.getVars()}\n",
    "\n",
    "print('z(S1):', S1_bound)\n",
    "print(solution_S1)\n"
   ]
  },
  {
   "cell_type": "markdown",
   "id": "running-montana",
   "metadata": {},
   "source": [
    "#### Branching on variable $x_4$\n",
    "\n",
    "$$ S_3 = S_1 \\cap \\{x_4 = 0\\} \\\\\n",
    "S_4 = S_1 \\cap \\{x_4 = 1\\}$$\n",
    "\n",
    "$$L = \\{S_2, S_3, S_4 \\} $$\n",
    "\n",
    "$$ z^3_{UB} \\le 26.4$$\n",
    "\n",
    "$$ z^4_{UB} \\le 26.4$$\n",
    "\n",
    "\n"
   ]
  },
  {
   "cell_type": "markdown",
   "id": "conceptual-racing",
   "metadata": {},
   "source": [
    "### Subproblem $S_2$"
   ]
  },
  {
   "cell_type": "code",
   "execution_count": 5,
   "id": "enormous-graham",
   "metadata": {},
   "outputs": [
    {
     "name": "stdout",
     "output_type": "stream",
     "text": [
      "Gurobi Optimizer version 9.1.1 build v9.1.1rc0 (mac64)\n",
      "Thread count: 4 physical cores, 8 logical processors, using up to 8 threads\n",
      "Optimize a model with 1 rows, 7 columns and 7 nonzeros\n",
      "Coefficient statistics:\n",
      "  Matrix range     [1e+00, 1e+01]\n",
      "  Objective range  [1e+00, 2e+01]\n",
      "  Bounds range     [1e+00, 1e+00]\n",
      "  RHS range        [2e+01, 2e+01]\n",
      "       0    2.7200000e+01   4.000000e-01   0.000000e+00      0s\n",
      "       1    2.6545455e+01   0.000000e+00   0.000000e+00      0s\n",
      "\n",
      "Solved in 1 iterations and 0.02 seconds\n",
      "Optimal objective  2.654545455e+01\n",
      "z(S2): 26.545454545454547\n",
      "{'x1': 1.0, 'x2': 0.6363636363636364, 'x3': 1.0, 'x4': 0.0, 'x5': 0.0, 'x6': 0.0, 'x7': 0.0}\n"
     ]
    }
   ],
   "source": [
    "knap_lr.getVarByName('x3').lb = 1\n",
    "knap_lr.getVarByName('x3').ub = 1\n",
    "\n",
    "knap_lr.optimize()\n",
    "\n",
    "S2_bound = knap_lr.objVal\n",
    "\n",
    "\n",
    "solution_S2 = {x.VarName:x.x for x in knap_lr.getVars()}\n",
    "\n",
    "print('z(S2):', S2_bound)\n",
    "print(solution_S2)"
   ]
  },
  {
   "cell_type": "markdown",
   "id": "loose-taylor",
   "metadata": {},
   "source": [
    "#### Branching on variable $x_2$\n",
    "\n",
    "$$ S_5 = S_2 \\cap \\{x_2 = 0\\} \\\\\n",
    "S_6 = S_2 \\cap \\{x_2 = 1\\}$$\n",
    "\n",
    "$$L = \\{S_3, S_4, S_5, S_6 \\} $$\n",
    "\n",
    "$$ z^5_{UB} \\le 26.54$$\n",
    "\n",
    "$$ z^6_{UB} \\le 26.54$$\n",
    "\n",
    "\n",
    "\n"
   ]
  },
  {
   "cell_type": "markdown",
   "id": "induced-psychiatry",
   "metadata": {},
   "source": [
    "### Subproblem $S_5$"
   ]
  },
  {
   "cell_type": "code",
   "execution_count": 6,
   "id": "devoted-particular",
   "metadata": {},
   "outputs": [
    {
     "name": "stdout",
     "output_type": "stream",
     "text": [
      "Gurobi Optimizer version 9.1.1 build v9.1.1rc0 (mac64)\n",
      "Thread count: 4 physical cores, 8 logical processors, using up to 8 threads\n",
      "Optimize a model with 1 rows, 7 columns and 7 nonzeros\n",
      "Coefficient statistics:\n",
      "  Matrix range     [1e+00, 1e+01]\n",
      "  Objective range  [1e+00, 2e+01]\n",
      "  Bounds range     [1e+00, 1e+00]\n",
      "  RHS range        [2e+01, 2e+01]\n",
      "       0    2.6545455e+01   6.363636e-01   0.000000e+00      0s\n",
      "       2    2.5000000e+01   0.000000e+00   0.000000e+00      0s\n",
      "\n",
      "Solved in 2 iterations and 0.01 seconds\n",
      "Optimal objective  2.500000000e+01\n",
      "z(S5): 25.0\n",
      "{'x1': 1.0, 'x2': 0.0, 'x3': 1.0, 'x4': 1.0, 'x5': 0.0, 'x6': 0.25, 'x7': 1.0}\n"
     ]
    }
   ],
   "source": [
    "knap_lr.getVarByName('x3').lb = 1\n",
    "knap_lr.getVarByName('x3').ub = 1\n",
    "\n",
    "knap_lr.getVarByName('x2').lb = 0\n",
    "knap_lr.getVarByName('x2').ub = 0\n",
    "\n",
    "knap_lr.optimize()\n",
    "\n",
    "S5_bound = knap_lr.objVal\n",
    "\n",
    "\n",
    "solution_S5 = {x.VarName:x.x for x in knap_lr.getVars()}\n",
    "\n",
    "print('z(S5):', S5_bound)\n",
    "print(solution_S5)"
   ]
  },
  {
   "cell_type": "markdown",
   "id": "rental-validity",
   "metadata": {},
   "source": [
    "#### Branching on variable $x_6$\n",
    "\n",
    "$$ S_7 = S_5 \\cap \\{x_6 = 0\\} \\\\\n",
    "S_8 = S_5 \\cap \\{x_6 = 1\\}$$\n",
    "\n",
    "$$L = \\{S_3, S_4, S_6, S_7, S_8 \\} $$\n",
    "\n",
    "$$ z^7_{UB} \\le 25$$\n",
    "\n",
    "$$ z^8_{UB} \\le 25$$\n",
    "\n",
    "\n"
   ]
  },
  {
   "cell_type": "markdown",
   "id": "promotional-headset",
   "metadata": {},
   "source": [
    "### Subproblem $S_6$"
   ]
  },
  {
   "cell_type": "code",
   "execution_count": 7,
   "id": "changing-lancaster",
   "metadata": {},
   "outputs": [
    {
     "name": "stdout",
     "output_type": "stream",
     "text": [
      "Gurobi Optimizer version 9.1.1 build v9.1.1rc0 (mac64)\n",
      "Thread count: 4 physical cores, 8 logical processors, using up to 8 threads\n",
      "Optimize a model with 1 rows, 7 columns and 7 nonzeros\n",
      "Coefficient statistics:\n",
      "  Matrix range     [1e+00, 1e+01]\n",
      "  Objective range  [1e+00, 2e+01]\n",
      "  Bounds range     [1e+00, 1e+00]\n",
      "  RHS range        [2e+01, 2e+01]\n",
      "       0    2.9000000e+01   6.250000e-01   0.000000e+00      0s\n",
      "       1    2.6000000e+01   0.000000e+00   0.000000e+00      0s\n",
      "\n",
      "Solved in 1 iterations and 0.02 seconds\n",
      "Optimal objective  2.600000000e+01\n",
      "z(S6): 26.0\n",
      "{'x1': 0.3333333333333333, 'x2': 1.0, 'x3': 1.0, 'x4': 0.0, 'x5': 0.0, 'x6': 0.0, 'x7': 0.0}\n"
     ]
    }
   ],
   "source": [
    "knap_lr.getVarByName('x3').lb = 1\n",
    "knap_lr.getVarByName('x3').ub = 1\n",
    "\n",
    "knap_lr.getVarByName('x2').lb = 1\n",
    "knap_lr.getVarByName('x2').ub = 1\n",
    "\n",
    "knap_lr.optimize()\n",
    "\n",
    "S6_bound = knap_lr.objVal\n",
    "\n",
    "\n",
    "solution_S6 = {x.VarName:x.x for x in knap_lr.getVars()}\n",
    "\n",
    "print('z(S6):', S6_bound)\n",
    "print(solution_S6)"
   ]
  },
  {
   "cell_type": "markdown",
   "id": "refined-salmon",
   "metadata": {},
   "source": [
    "### Branching on variable $x_1$\n",
    "\n",
    "$$ S_9 = S_6 \\cap \\{x_1 = 0\\} \\\\\n",
    "S_{10} = S_6 \\cap \\{x_1 = 1\\}$$\n",
    "\n",
    "$$L = \\{S_3, S_4, S_7, S_8, S_9, S_{10} \\} $$\n",
    "\n",
    "$$ z^9_{UB} \\le 26$$\n",
    "\n",
    "$$ z^{10}_{UB} \\le 26$$"
   ]
  },
  {
   "cell_type": "markdown",
   "id": "given-jackson",
   "metadata": {},
   "source": [
    "### Subproblem $S_3$"
   ]
  },
  {
   "cell_type": "code",
   "execution_count": 8,
   "id": "falling-taylor",
   "metadata": {},
   "outputs": [
    {
     "name": "stdout",
     "output_type": "stream",
     "text": [
      "x1 0.0 1.0\n",
      "x2 1.0 1.0\n",
      "x3 1.0 1.0\n",
      "x4 0.0 1.0\n",
      "x5 0.0 1.0\n",
      "x6 0.0 1.0\n",
      "x7 0.0 1.0\n"
     ]
    }
   ],
   "source": [
    "for x in knap_lr.getVars():\n",
    "    print (x.VarName, x.lb, x.ub)"
   ]
  },
  {
   "cell_type": "code",
   "execution_count": 10,
   "id": "suffering-doubt",
   "metadata": {},
   "outputs": [
    {
     "name": "stdout",
     "output_type": "stream",
     "text": [
      "x1 0.0 1.0\n",
      "x2 0.0 1.0\n",
      "x3 0.0 0.0\n",
      "x4 0.0 0.0\n",
      "x5 0.0 1.0\n",
      "x6 0.0 1.0\n",
      "x7 0.0 1.0\n"
     ]
    }
   ],
   "source": [
    "knap_lr.getVarByName('x3').lb = 0\n",
    "knap_lr.getVarByName('x3').ub = 0\n",
    "\n",
    "knap_lr.getVarByName('x2').lb = 0\n",
    "knap_lr.getVarByName('x2').ub = 1\n",
    "\n",
    "knap_lr.getVarByName('x4').lb = 0\n",
    "knap_lr.getVarByName('x4').ub = 0\n",
    "\n",
    "knap_lr.update()\n",
    "\n",
    "for x in knap_lr.getVars():\n",
    "    print (x.VarName, x.lb, x.ub)"
   ]
  },
  {
   "cell_type": "code",
   "execution_count": 11,
   "id": "blessed-birthday",
   "metadata": {},
   "outputs": [
    {
     "name": "stdout",
     "output_type": "stream",
     "text": [
      "Gurobi Optimizer version 9.1.1 build v9.1.1rc0 (mac64)\n",
      "Thread count: 4 physical cores, 8 logical processors, using up to 8 threads\n",
      "Optimize a model with 1 rows, 7 columns and 7 nonzeros\n",
      "Coefficient statistics:\n",
      "  Matrix range     [1e+00, 1e+01]\n",
      "  Objective range  [1e+00, 2e+01]\n",
      "  Bounds range     [1e+00, 1e+00]\n",
      "  RHS range        [2e+01, 2e+01]\n",
      "       0    2.8500000e+01   1.083333e+00   0.000000e+00      0s\n",
      "       1    2.6000000e+01   0.000000e+00   0.000000e+00      0s\n",
      "\n",
      "Solved in 1 iterations and 0.01 seconds\n",
      "Optimal objective  2.600000000e+01\n",
      "z(S3): 26.0\n",
      "{'x1': 1.0, 'x2': 1.0, 'x3': 0.0, 'x4': 0.0, 'x5': 0.0, 'x6': 0.25, 'x7': 1.0}\n"
     ]
    }
   ],
   "source": [
    "knap_lr.optimize()\n",
    "\n",
    "S3_bound = knap_lr.objVal\n",
    "\n",
    "\n",
    "solution_S3 = {x.VarName:x.x for x in knap_lr.getVars()}\n",
    "\n",
    "print('z(S3):', S3_bound)\n",
    "print(solution_S3)"
   ]
  },
  {
   "cell_type": "markdown",
   "id": "loose-genetics",
   "metadata": {},
   "source": [
    "### Branching on variable $x_6$\n",
    "\n",
    "$$ S_{11} = S_3 \\cap \\{x_6 = 0\\} \\\\\n",
    "S_{12} = S_3 \\cap \\{x_6 = 0\\}$$\n",
    "\n",
    "$$L = \\{S_4, S_7, S_8, S_9, S_{10}, S_{11}, S_{12} \\} $$\n",
    "\n",
    "$$ z^{11}_{UB} \\le 26$$\n",
    "\n",
    "$$ z^{12}_{UB} \\le 26$$"
   ]
  },
  {
   "cell_type": "code",
   "execution_count": 12,
   "id": "vanilla-palestine",
   "metadata": {},
   "outputs": [
    {
     "name": "stdout",
     "output_type": "stream",
     "text": [
      "x1 0.0 1.0\n",
      "x2 0.0 1.0\n",
      "x3 0.0 0.0\n",
      "x4 0.0 0.0\n",
      "x5 0.0 1.0\n",
      "x6 0.0 1.0\n",
      "x7 0.0 1.0\n"
     ]
    }
   ],
   "source": [
    "for x in knap_lr.getVars():\n",
    "    print (x.VarName, x.lb, x.ub)"
   ]
  },
  {
   "cell_type": "markdown",
   "id": "naughty-momentum",
   "metadata": {},
   "source": [
    "### Subproblem $S_4$"
   ]
  },
  {
   "cell_type": "code",
   "execution_count": 13,
   "id": "external-secretariat",
   "metadata": {},
   "outputs": [
    {
     "name": "stdout",
     "output_type": "stream",
     "text": [
      "x1 0.0 1.0\n",
      "x2 0.0 1.0\n",
      "x3 0.0 0.0\n",
      "x4 1.0 1.0\n",
      "x5 0.0 1.0\n",
      "x6 0.0 1.0\n",
      "x7 0.0 1.0\n"
     ]
    }
   ],
   "source": [
    "knap_lr.getVarByName('x4').lb = 1\n",
    "knap_lr.getVarByName('x4').ub = 1\n",
    "\n",
    "knap_lr.update()\n",
    "\n",
    "for x in knap_lr.getVars():\n",
    "    print (x.VarName, x.lb, x.ub)"
   ]
  },
  {
   "cell_type": "code",
   "execution_count": 14,
   "id": "hired-fountain",
   "metadata": {},
   "outputs": [
    {
     "name": "stdout",
     "output_type": "stream",
     "text": [
      "Gurobi Optimizer version 9.1.1 build v9.1.1rc0 (mac64)\n",
      "Thread count: 4 physical cores, 8 logical processors, using up to 8 threads\n",
      "Optimize a model with 1 rows, 7 columns and 7 nonzeros\n",
      "Coefficient statistics:\n",
      "  Matrix range     [1e+00, 1e+01]\n",
      "  Objective range  [1e+00, 2e+01]\n",
      "  Bounds range     [1e+00, 1e+00]\n",
      "  RHS range        [2e+01, 2e+01]\n",
      "       0    2.7000000e+01   2.500000e-01   0.000000e+00      0s\n",
      "       1    2.5909091e+01   0.000000e+00   0.000000e+00      0s\n",
      "\n",
      "Solved in 1 iterations and 0.01 seconds\n",
      "Optimal objective  2.590909091e+01\n",
      "z(S4): 25.90909090909091\n",
      "{'x1': 1.0, 'x2': 0.7272727272727273, 'x3': 0.0, 'x4': 1.0, 'x5': 0.0, 'x6': 0.0, 'x7': 0.0}\n"
     ]
    }
   ],
   "source": [
    "knap_lr.optimize()\n",
    "\n",
    "S4_bound = knap_lr.objVal\n",
    "\n",
    "\n",
    "solution_S4 = {x.VarName:x.x for x in knap_lr.getVars()}\n",
    "\n",
    "print('z(S4):', S4_bound)\n",
    "print(solution_S4)"
   ]
  },
  {
   "cell_type": "markdown",
   "id": "weighted-colonial",
   "metadata": {},
   "source": [
    "### Branching on variable $x_2$\n",
    "\n",
    "$$ S_{13} = S_4 \\cap \\{x_2 = 0\\} \\\\\n",
    "S_{14} = S_4 \\cap \\{x_2 = 1\\}$$\n",
    "\n",
    "$$L = \\{S_7, S_8, S_9, S_{10}, S_{11}, S_{12}, S_{13}, S_{14} \\} $$\n",
    "\n",
    "$$ z^{13}_{UB} \\le 25.909$$\n",
    "\n",
    "$$ z^{14}_{UB} \\le 25.909$$"
   ]
  },
  {
   "cell_type": "markdown",
   "id": "satisfied-appraisal",
   "metadata": {},
   "source": [
    "### Subproblem $S_{11}$"
   ]
  },
  {
   "cell_type": "code",
   "execution_count": 15,
   "id": "sustained-missouri",
   "metadata": {},
   "outputs": [
    {
     "name": "stdout",
     "output_type": "stream",
     "text": [
      "x1 0.0 1.0\n",
      "x2 0.0 1.0\n",
      "x3 0.0 0.0\n",
      "x4 0.0 0.0\n",
      "x5 0.0 1.0\n",
      "x6 0.0 0.0\n",
      "x7 0.0 1.0\n"
     ]
    }
   ],
   "source": [
    "knap_lr.getVarByName('x4').lb = 0\n",
    "knap_lr.getVarByName('x4').ub = 0\n",
    "\n",
    "knap_lr.getVarByName('x6').lb = 0\n",
    "knap_lr.getVarByName('x6').ub = 0\n",
    "\n",
    "knap_lr.update()\n",
    "\n",
    "for x in knap_lr.getVars():\n",
    "    print (x.VarName, x.lb, x.ub)"
   ]
  },
  {
   "cell_type": "code",
   "execution_count": 16,
   "id": "endangered-campaign",
   "metadata": {},
   "outputs": [
    {
     "name": "stdout",
     "output_type": "stream",
     "text": [
      "Gurobi Optimizer version 9.1.1 build v9.1.1rc0 (mac64)\n",
      "Thread count: 4 physical cores, 8 logical processors, using up to 8 threads\n",
      "Optimize a model with 1 rows, 7 columns and 7 nonzeros\n",
      "Coefficient statistics:\n",
      "  Matrix range     [1e+00, 1e+01]\n",
      "  Objective range  [1e+00, 2e+01]\n",
      "  Bounds range     [1e+00, 1e+00]\n",
      "  RHS range        [2e+01, 2e+01]\n",
      "       0    2.6727273e+01   1.818182e-01   0.000000e+00      0s\n",
      "       2    2.6000000e+01   0.000000e+00   0.000000e+00      0s\n",
      "\n",
      "Solved in 2 iterations and 0.02 seconds\n",
      "Optimal objective  2.600000000e+01\n",
      "z(S11): 26.0\n",
      "{'x1': 1.0, 'x2': 1.0, 'x3': 0.0, 'x4': 0.0, 'x5': 0.2, 'x6': 0.0, 'x7': 1.0}\n"
     ]
    }
   ],
   "source": [
    "knap_lr.optimize()\n",
    "\n",
    "S11_bound = knap_lr.objVal\n",
    "\n",
    "\n",
    "solution_S11 = {x.VarName:x.x for x in knap_lr.getVars()}\n",
    "\n",
    "print('z(S11):', S11_bound)\n",
    "print(solution_S11)"
   ]
  },
  {
   "cell_type": "markdown",
   "id": "formed-train",
   "metadata": {},
   "source": [
    "### Branching on variable $x_5$\n",
    "\n",
    "$$ S_{15} = S_{11} \\cap \\{x_5 = 0\\} \\\\\n",
    "S_{16} = S_{11} \\cap \\{x_5 = 1\\}$$\n",
    "\n",
    "$$L = \\{S_7, S_8, S_9, S_{10},  S_{12}, S_{13}, S_{14}, S_{15}, S_{16} \\} $$\n",
    "\n",
    "$$ z^{15}_{UB} \\le 26$$\n",
    "\n",
    "$$ z^{16}_{UB} \\le 26$$"
   ]
  },
  {
   "cell_type": "markdown",
   "id": "prescribed-framework",
   "metadata": {},
   "source": [
    "### Subproblem $S_{15}$"
   ]
  },
  {
   "cell_type": "code",
   "execution_count": 17,
   "id": "appreciated-agenda",
   "metadata": {},
   "outputs": [
    {
     "name": "stdout",
     "output_type": "stream",
     "text": [
      "x1 0.0 1.0\n",
      "x2 0.0 1.0\n",
      "x3 0.0 0.0\n",
      "x4 0.0 0.0\n",
      "x5 0.0 0.0\n",
      "x6 0.0 0.0\n",
      "x7 0.0 1.0\n"
     ]
    }
   ],
   "source": [
    "knap_lr.getVarByName('x5').lb = 0\n",
    "knap_lr.getVarByName('x5').ub = 0\n",
    "\n",
    "\n",
    "knap_lr.update()\n",
    "\n",
    "for x in knap_lr.getVars():\n",
    "    print (x.VarName, x.lb, x.ub)"
   ]
  },
  {
   "cell_type": "code",
   "execution_count": 18,
   "id": "chemical-investigation",
   "metadata": {},
   "outputs": [
    {
     "name": "stdout",
     "output_type": "stream",
     "text": [
      "Gurobi Optimizer version 9.1.1 build v9.1.1rc0 (mac64)\n",
      "Thread count: 4 physical cores, 8 logical processors, using up to 8 threads\n",
      "Optimize a model with 1 rows, 7 columns and 7 nonzeros\n",
      "Coefficient statistics:\n",
      "  Matrix range     [1e+00, 1e+01]\n",
      "  Objective range  [1e+00, 2e+01]\n",
      "  Bounds range     [1e+00, 1e+00]\n",
      "  RHS range        [2e+01, 2e+01]\n",
      "       0    2.6000000e+01   1.000000e-01   0.000000e+00      0s\n",
      "       1    2.5000000e+01   0.000000e+00   0.000000e+00      0s\n",
      "\n",
      "Solved in 1 iterations and 0.01 seconds\n",
      "Optimal objective  2.500000000e+01\n",
      "z(S15): 25.0\n",
      "{'x1': 1.0, 'x2': 1.0, 'x3': 0.0, 'x4': 0.0, 'x5': 0.0, 'x6': 0.0, 'x7': 1.0}\n"
     ]
    }
   ],
   "source": [
    "knap_lr.optimize()\n",
    "\n",
    "S15_bound = knap_lr.objVal\n",
    "\n",
    "\n",
    "solution_S15 = {x.VarName:x.x for x in knap_lr.getVars()}\n",
    "\n",
    "print('z(S15):', S15_bound)\n",
    "print(solution_S15)"
   ]
  },
  {
   "cell_type": "markdown",
   "id": "powerful-appeal",
   "metadata": {},
   "source": [
    "After incumbent's update one can remove from the list \n",
    "subproblems $S_{13}, S_{14}, S_{7}, S_{8}$"
   ]
  },
  {
   "cell_type": "markdown",
   "id": "sustained-eugene",
   "metadata": {},
   "source": [
    "$$L = \\{S_9, S_{10},  S_{12}, S_{16} \\} $$"
   ]
  },
  {
   "cell_type": "markdown",
   "id": "imperial-ethics",
   "metadata": {},
   "source": [
    "### Subproblem $S_{16}$"
   ]
  },
  {
   "cell_type": "code",
   "execution_count": 19,
   "id": "crazy-keeping",
   "metadata": {},
   "outputs": [
    {
     "name": "stdout",
     "output_type": "stream",
     "text": [
      "x1 0.0 1.0\n",
      "x2 0.0 1.0\n",
      "x3 0.0 0.0\n",
      "x4 0.0 0.0\n",
      "x5 1.0 1.0\n",
      "x6 0.0 0.0\n",
      "x7 0.0 1.0\n"
     ]
    }
   ],
   "source": [
    "knap_lr.getVarByName('x5').lb = 1\n",
    "knap_lr.getVarByName('x5').ub = 1\n",
    "\n",
    "\n",
    "knap_lr.update()\n",
    "\n",
    "for x in knap_lr.getVars():\n",
    "    print (x.VarName, x.lb, x.ub)"
   ]
  },
  {
   "cell_type": "code",
   "execution_count": 20,
   "id": "therapeutic-membership",
   "metadata": {},
   "outputs": [
    {
     "name": "stdout",
     "output_type": "stream",
     "text": [
      "Gurobi Optimizer version 9.1.1 build v9.1.1rc0 (mac64)\n",
      "Thread count: 4 physical cores, 8 logical processors, using up to 8 threads\n",
      "Optimize a model with 1 rows, 7 columns and 7 nonzeros\n",
      "Coefficient statistics:\n",
      "  Matrix range     [1e+00, 1e+01]\n",
      "  Objective range  [1e+00, 2e+01]\n",
      "  Bounds range     [1e+00, 1e+00]\n",
      "  RHS range        [2e+01, 2e+01]\n",
      "       0    3.0000000e+01   2.500000e-01   0.000000e+00      0s\n",
      "       1    2.4909091e+01   0.000000e+00   0.000000e+00      0s\n",
      "\n",
      "Solved in 1 iterations and 0.04 seconds\n",
      "Optimal objective  2.490909091e+01\n"
     ]
    }
   ],
   "source": [
    "knap_lr.optimize()"
   ]
  },
  {
   "cell_type": "markdown",
   "id": "hungarian-inclusion",
   "metadata": {},
   "source": [
    "$$L = \\{S_9, S_{10},  S_{12} \\} $$"
   ]
  },
  {
   "cell_type": "markdown",
   "id": "dominican-borough",
   "metadata": {},
   "source": [
    "### Subproblem $S_{12}$\n"
   ]
  },
  {
   "cell_type": "code",
   "execution_count": 22,
   "id": "ethical-qualification",
   "metadata": {},
   "outputs": [
    {
     "name": "stdout",
     "output_type": "stream",
     "text": [
      "x1 0.0 1.0\n",
      "x2 0.0 1.0\n",
      "x3 0.0 0.0\n",
      "x4 0.0 0.0\n",
      "x5 1.0 1.0\n",
      "x6 0.0 0.0\n",
      "x7 0.0 1.0\n"
     ]
    }
   ],
   "source": [
    "for x in knap_lr.getVars():\n",
    "    print (x.VarName, x.lb, x.ub)"
   ]
  },
  {
   "cell_type": "code",
   "execution_count": 23,
   "id": "identified-threat",
   "metadata": {},
   "outputs": [
    {
     "name": "stdout",
     "output_type": "stream",
     "text": [
      "Gurobi Optimizer version 9.1.1 build v9.1.1rc0 (mac64)\n",
      "Thread count: 4 physical cores, 8 logical processors, using up to 8 threads\n",
      "Optimize a model with 1 rows, 7 columns and 7 nonzeros\n",
      "Coefficient statistics:\n",
      "  Matrix range     [1e+00, 1e+01]\n",
      "  Objective range  [1e+00, 2e+01]\n",
      "  Bounds range     [1e+00, 1e+00]\n",
      "  RHS range        [2e+01, 2e+01]\n",
      "       0    2.5272727e+01   0.000000e+00   0.000000e+00      0s\n",
      "\n",
      "Solved in 0 iterations and 0.01 seconds\n",
      "Optimal objective  2.527272727e+01\n"
     ]
    }
   ],
   "source": [
    "knap_lr.getVarByName('x5').lb = 0\n",
    "knap_lr.getVarByName('x5').ub = 1\n",
    "\n",
    "knap_lr.getVarByName('x6').lb = 1\n",
    "knap_lr.getVarByName('x6').ub = 1\n",
    "\n",
    "knap_lr.optimize()"
   ]
  },
  {
   "cell_type": "markdown",
   "id": "pursuant-breakfast",
   "metadata": {},
   "source": [
    "$$L = \\{S_9, S_{10}\\} $$"
   ]
  },
  {
   "cell_type": "markdown",
   "id": "peripheral-suspension",
   "metadata": {},
   "source": [
    "### Subproblem $S_{9}$"
   ]
  },
  {
   "cell_type": "code",
   "execution_count": 24,
   "id": "duplicate-duration",
   "metadata": {},
   "outputs": [
    {
     "name": "stdout",
     "output_type": "stream",
     "text": [
      "x1 0.0 1.0\n",
      "x2 0.0 1.0\n",
      "x3 0.0 0.0\n",
      "x4 0.0 0.0\n",
      "x5 0.0 1.0\n",
      "x6 1.0 1.0\n",
      "x7 0.0 1.0\n"
     ]
    }
   ],
   "source": [
    "for x in knap_lr.getVars():\n",
    "    print (x.VarName, x.lb, x.ub)"
   ]
  },
  {
   "cell_type": "code",
   "execution_count": 25,
   "id": "apparent-neighborhood",
   "metadata": {},
   "outputs": [
    {
     "name": "stdout",
     "output_type": "stream",
     "text": [
      "x1 0.0 0.0\n",
      "x2 1.0 1.0\n",
      "x3 1.0 1.0\n",
      "x4 0.0 1.0\n",
      "x5 0.0 1.0\n",
      "x6 0.0 1.0\n",
      "x7 0.0 1.0\n"
     ]
    }
   ],
   "source": [
    "knap_lr.getVarByName('x4').lb = 0\n",
    "knap_lr.getVarByName('x4').ub = 1\n",
    "\n",
    "knap_lr.getVarByName('x6').lb = 0\n",
    "knap_lr.getVarByName('x6').ub = 1\n",
    "\n",
    "knap_lr.getVarByName('x3').lb = 1\n",
    "knap_lr.getVarByName('x3').ub = 1\n",
    "\n",
    "knap_lr.getVarByName('x2').lb = 1\n",
    "knap_lr.getVarByName('x2').ub = 1\n",
    "\n",
    "knap_lr.getVarByName('x1').lb = 0\n",
    "knap_lr.getVarByName('x1').ub = 0\n",
    "\n",
    "knap_lr.update()\n",
    "\n",
    "for x in knap_lr.getVars():\n",
    "    print (x.VarName, x.lb, x.ub)\n",
    "\n"
   ]
  },
  {
   "cell_type": "code",
   "execution_count": 26,
   "id": "involved-criticism",
   "metadata": {},
   "outputs": [
    {
     "name": "stdout",
     "output_type": "stream",
     "text": [
      "Gurobi Optimizer version 9.1.1 build v9.1.1rc0 (mac64)\n",
      "Thread count: 4 physical cores, 8 logical processors, using up to 8 threads\n",
      "Optimize a model with 1 rows, 7 columns and 7 nonzeros\n",
      "Coefficient statistics:\n",
      "  Matrix range     [1e+00, 1e+01]\n",
      "  Objective range  [1e+00, 2e+01]\n",
      "  Bounds range     [1e+00, 1e+00]\n",
      "  RHS range        [2e+01, 2e+01]\n",
      "       0    2.5727273e+01   1.818182e-01   0.000000e+00      0s\n",
      "       1    2.5400000e+01   0.000000e+00   0.000000e+00      0s\n",
      "\n",
      "Solved in 1 iterations and 0.01 seconds\n",
      "Optimal objective  2.540000000e+01\n"
     ]
    }
   ],
   "source": [
    "knap_lr.optimize()"
   ]
  },
  {
   "cell_type": "markdown",
   "id": "wrong-fruit",
   "metadata": {},
   "source": [
    "$$L = \\{S_{10}\\} $$"
   ]
  },
  {
   "cell_type": "markdown",
   "id": "tight-wilderness",
   "metadata": {},
   "source": [
    "### Subproblem $S_{10}$"
   ]
  },
  {
   "cell_type": "code",
   "execution_count": 28,
   "id": "unsigned-algeria",
   "metadata": {},
   "outputs": [
    {
     "name": "stdout",
     "output_type": "stream",
     "text": [
      "x1 1.0 1.0\n",
      "x2 1.0 1.0\n",
      "x3 1.0 1.0\n",
      "x4 0.0 1.0\n",
      "x5 0.0 1.0\n",
      "x6 0.0 1.0\n",
      "x7 0.0 1.0\n"
     ]
    }
   ],
   "source": [
    "knap_lr.getVarByName('x1').lb = 1\n",
    "knap_lr.getVarByName('x1').ub = 1\n",
    "\n",
    "knap_lr.update()\n",
    "\n",
    "for x in knap_lr.getVars():\n",
    "    print (x.VarName, x.lb, x.ub)"
   ]
  },
  {
   "cell_type": "code",
   "execution_count": 29,
   "id": "spiritual-senior",
   "metadata": {},
   "outputs": [
    {
     "name": "stdout",
     "output_type": "stream",
     "text": [
      "Gurobi Optimizer version 9.1.1 build v9.1.1rc0 (mac64)\n",
      "Thread count: 4 physical cores, 8 logical processors, using up to 8 threads\n",
      "Optimize a model with 1 rows, 7 columns and 7 nonzeros\n",
      "Coefficient statistics:\n",
      "  Matrix range     [1e+00, 1e+01]\n",
      "  Objective range  [1e+00, 2e+01]\n",
      "  Bounds range     [1e+00, 1e+00]\n",
      "  RHS range        [2e+01, 2e+01]\n",
      "       0    2.7200000e+01   4.000000e-01   0.000000e+00      0s\n",
      "\n",
      "Solved in 0 iterations and 0.02 seconds\n",
      "Infeasible model\n"
     ]
    }
   ],
   "source": [
    "knap_lr.optimize()"
   ]
  },
  {
   "cell_type": "markdown",
   "id": "ecological-stewart",
   "metadata": {},
   "source": [
    "$$L = \\emptyset$$"
   ]
  },
  {
   "cell_type": "code",
   "execution_count": null,
   "id": "sharing-theme",
   "metadata": {},
   "outputs": [],
   "source": []
  }
 ],
 "metadata": {
  "kernelspec": {
   "display_name": "Python 3",
   "language": "python",
   "name": "python3"
  },
  "language_info": {
   "codemirror_mode": {
    "name": "ipython",
    "version": 3
   },
   "file_extension": ".py",
   "mimetype": "text/x-python",
   "name": "python",
   "nbconvert_exporter": "python",
   "pygments_lexer": "ipython3",
   "version": "3.7.10"
  }
 },
 "nbformat": 4,
 "nbformat_minor": 5
}
