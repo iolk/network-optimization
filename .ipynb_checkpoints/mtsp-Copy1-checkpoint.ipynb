{
 "cells": [
  {
   "cell_type": "markdown",
   "metadata": {},
   "source": [
    "## Totale N.\n",
    "### Esercizio 3 punto 1\n",
    "Alessandro Lodi<br>\n",
    "Matricola 274425"
   ]
  },
  {
   "cell_type": "markdown",
   "metadata": {},
   "source": [
    "### Notebook Init"
   ]
  },
  {
   "cell_type": "code",
   "execution_count": 1,
   "metadata": {},
   "outputs": [],
   "source": [
    "import networkx as nx\n",
    "import gurobipy as gb\n",
    "import matplotlib.pyplot as plt\n",
    "from itertools import combinations, chain\n",
    "import pygraphviz as pygv\n",
    "import os\n",
    "from IPython.display import SVG, display"
   ]
  },
  {
   "cell_type": "code",
   "execution_count": 2,
   "metadata": {},
   "outputs": [
    {
     "data": {
      "text/html": [
       "<style>.container { width:100% !important; }</style>"
      ],
      "text/plain": [
       "<IPython.core.display.HTML object>"
      ]
     },
     "metadata": {},
     "output_type": "display_data"
    }
   ],
   "source": [
    "from IPython.core.display import display, HTML\n",
    "display(HTML(\"<style>.container { width:100% !important; }</style>\"))"
   ]
  },
  {
   "cell_type": "code",
   "execution_count": 3,
   "metadata": {},
   "outputs": [],
   "source": [
    "class args:\n",
    "    filename = \"atsp28.gml\"\n",
    "    scale = 40\n",
    "    figsize = 5,5"
   ]
  },
  {
   "cell_type": "code",
   "execution_count": 4,
   "metadata": {},
   "outputs": [],
   "source": [
    "def powerset(iterable):\n",
    "    \"powerset([1,2,3]) --> () (1,) (2,) (3,) (1,2) (1,3) (2,3) (1,2,3)\"\n",
    "    s = list(iterable)\n",
    "    return chain.from_iterable(combinations(s, r) for r in range(len(s)+1))"
   ]
  },
  {
   "cell_type": "markdown",
   "metadata": {},
   "source": [
    "### Drawing functions"
   ]
  },
  {
   "cell_type": "code",
   "execution_count": 5,
   "metadata": {},
   "outputs": [],
   "source": [
    "def DrawInitG(G, withedges=False):\n",
    "    \n",
    "    plt.figure(figsize=args.figsize)\n",
    "    \n",
    "    pos = {i:(G.nodes[i]['x'], G.nodes[i]['y']) for i in G.nodes()}\n",
    "    \n",
    "    nx.draw_networkx_nodes(G, \n",
    "                           pos=pos, \n",
    "                           node_shape='o', \n",
    "                           node_size=600,\n",
    "                           node_color='red')\n",
    "    \n",
    "    nx.draw_networkx_labels(G, pos=pos, font_color='w', font_size=12)\n",
    "    \n",
    "    if withedges:\n",
    "        nx.draw_networkx_edges(G,pos=pos, alpha=1.0)\n",
    "        labels = {(i,j):G.get_edge_data(i,j,'cost').get('cost') for i,j in G.edges()}\n",
    "        nx.draw_networkx_edge_labels(G, pos=pos, edge_labels=labels)\n",
    "    \n",
    "    plt.axis('off')\n",
    "    plt.show()\n",
    "    \n",
    "def DrawSol(G, x):\n",
    "    \n",
    "    plt.figure(figsize=args.figsize)\n",
    "    \n",
    "    pos = {i:(G.nodes[i]['x'], G.nodes[i]['y']) for i in G.nodes()}\n",
    "\n",
    "    \n",
    "    nx.draw_networkx_nodes(G, \n",
    "                           pos=pos, \n",
    "                           node_shape='o', \n",
    "                           node_size=600,\n",
    "                           node_color='red',\n",
    "                           label=[G.nodes()])\n",
    "    \n",
    "    nx.draw_networkx_labels(G, pos=pos, font_color='w', font_size=12)\n",
    "    \n",
    "    for u,v in G.edges():\n",
    "        if x[u,v].x > 0.01 and x[u,v].x < 0.9:\n",
    "            nx.draw_networkx_edges(G, pos=pos,\n",
    "                                   edgelist=[(u,v)],\n",
    "                                   edge_color='r')\n",
    "            \n",
    "            nx.draw_networkx_edge_labels(G, pos=pos,\n",
    "                                         edge_labels={(u,v):'{:.2f}'.format(x[u,v].x)})\n",
    "        \n",
    "        if x[u,v].x > 0.9:\n",
    "            nx.draw_networkx_edges(G, pos=pos,\n",
    "                                   edgelist=[(u,v)],\n",
    "                                   edge_color='k')\n",
    "        \n",
    "    plt.axis('off')\n",
    "    plt.show()"
   ]
  },
  {
   "cell_type": "code",
   "execution_count": 6,
   "metadata": {},
   "outputs": [
    {
     "name": "stdout",
     "output_type": "stream",
     "text": [
      "G has 28 nodes and 756 edges\n"
     ]
    }
   ],
   "source": [
    "# Graph reading\n",
    "basename = os.path.splitext(args.filename)[0]\n",
    "G = nx.read_graphml (args.filename, node_type=int)\n",
    "print (\"G has\", G.number_of_nodes(), \"nodes and\", G.number_of_edges(), \"edges\")"
   ]
  },
  {
   "cell_type": "markdown",
   "metadata": {},
   "source": [
    "## mTSP\n",
    "\n",
    ">**Given**\n",
    ">A directed graph $G=(N,A)\\;$ and a cost $c_{ij} > 0$ for each arc in $A$\n",
    ">\n",
    ">**Find**\n",
    "> A set of routes for $m$ salesmen who all start from and turn back to a home city (depot, node 1) \n",
    " \n",
    "\n",
    "\n",
    "### Formulation\n",
    "\n",
    "Decision variables:\n",
    "$$\n",
    "x_{ij} = \\begin{cases}1 \\text{ if arc $(i, j)$ is in the tour} \\\\\n",
    "0 \\text{ otherwise}\n",
    "\\end{cases}\n",
    "$$\n",
    "\n",
    "Formulation:\n",
    "$$\n",
    "\\begin{alignat}{3}\n",
    "& \\min \\sum_{(i,j) \\in A} c_{ij} x_{ij} &\\\\\n",
    "\\text{s.t.} \\;\\;\\;\\;\\;&\\\\\n",
    "\\sum_{j = 2}^{j=n} x_{1j} &= m  \\;\\; \\text{(OUT-R)}\\\\\n",
    "\\sum_{i = 2}^{i=n} x_{i1} &= m \\;\\; \\text{(IN-R)}\\\\\n",
    "\\sum_{j \\in \\delta^+(i)} x_{ij} &= 1 \\;\\; \\forall i \\in N, i\\not=1 \\;\\; \\text{(FS)}\\\\\n",
    "\\sum_{j \\in \\delta^-(i)} x_{ji} &= 1 \\;\\; \\forall i \\in N, i\\not=1 \\;\\; \\text{(RS)}\\\\\n",
    "\\sum_{(i,j) \\in A(S)} x_{ij} &\\le |S| - 1 \\;\\; \\forall S \\subset N \\setminus \\{1\\}, |S| \\ge 2 \\;\\; \\text{(SEC)}\\\\\n",
    "\\text {or}\\\\\n",
    "\\sum_{(i,j) \\in \\delta^+(S)} x_{ij} &\\ge 1 \\;\\; \\forall S \\subset N, \\{1\\} \\in S\\\\\n",
    "x & \\in \\{0,1\\}^{|A|}\n",
    "\\end{alignat}\n",
    "$$"
   ]
  },
  {
   "cell_type": "markdown",
   "metadata": {},
   "source": [
    "## mTSP: Branch-and-cut"
   ]
  },
  {
   "cell_type": "code",
   "execution_count": 8,
   "metadata": {},
   "outputs": [
    {
     "name": "stdout",
     "output_type": "stream",
     "text": [
      "Academic license - for non-commercial use only - expires 2021-07-30\n",
      "Using license file /opt/gurobi/gurobi.lic\n"
     ]
    }
   ],
   "source": [
    "root = list(G.nodes())[0]\n",
    "\n",
    "m = 4\n",
    "\n",
    "mtsp = gb.Model()\n",
    "\n",
    "x = mtsp.addVars(G.edges(),\\\n",
    "                 obj=[G[i][j]['dist']\\\n",
    "                      for i,j in G.edges()],\\\n",
    "             vtype=gb.GRB.BINARY, name='x')\n",
    "\n",
    "mtsp.addConstr(x.sum(root,'*') == m, name = 'OUT-R')\n",
    "mtsp.addConstr(x.sum('*',root) == m, name = 'IN-R')\n",
    "\n",
    "mtsp.addConstrs((x.sum(i,'*') == 1 for i in G.nodes() if i != root), name='FS')\n",
    "mtsp.addConstrs((x.sum('*',i) == 1 for i in G.nodes() if i != root), name='RS')\n",
    "\n",
    "mtsp.addConstrs((x[i,j] + x[j,i] <= 1 \n",
    "                 for i,j in G.edges()\n",
    "                 if j > i and i != root and j != root ),\n",
    "                name='SUB2')\n",
    "\n",
    "\n",
    "mtsp.update()"
   ]
  },
  {
   "cell_type": "code",
   "execution_count": 9,
   "metadata": {},
   "outputs": [
    {
     "name": "stdout",
     "output_type": "stream",
     "text": [
      "Gurobi Optimizer version 9.1.2 build v9.1.2rc0 (linux64)\n",
      "Thread count: 2 physical cores, 4 logical processors, using up to 4 threads\n",
      "Optimize a model with 407 rows, 756 columns and 2214 nonzeros\n",
      "Model fingerprint: 0x64f57339\n",
      "Variable types: 0 continuous, 756 integer (756 binary)\n",
      "Coefficient statistics:\n",
      "  Matrix range     [1e+00, 1e+00]\n",
      "  Objective range  [1e+02, 4e+03]\n",
      "  Bounds range     [1e+00, 1e+00]\n",
      "  RHS range        [1e+00, 4e+00]\n",
      "Found heuristic solution: objective 54266.000000\n",
      "Presolve time: 0.01s\n",
      "Presolved: 407 rows, 756 columns, 2214 nonzeros\n",
      "Variable types: 0 continuous, 756 integer (756 binary)\n",
      "\n",
      "Root relaxation: objective 1.728500e+04, 73 iterations, 0.00 seconds\n",
      "\n",
      "    Nodes    |    Current Node    |     Objective Bounds      |     Work\n",
      " Expl Unexpl |  Obj  Depth IntInf | Incumbent    BestBd   Gap | It/Node Time\n",
      "\n",
      "*    0     0               0    17285.000000 17285.0000  0.00%     -    0s\n",
      "\n",
      "Explored 0 nodes (73 simplex iterations) in 0.03 seconds\n",
      "Thread count was 4 (of 4 available processors)\n",
      "\n",
      "Solution count 2: 17285 54266 \n",
      "\n",
      "Optimal solution found (tolerance 1.00e-04)\n",
      "Best objective 1.728500000000e+04, best bound 1.728500000000e+04, gap 0.0000%\n"
     ]
    }
   ],
   "source": [
    "mtsp.optimize()"
   ]
  },
  {
   "cell_type": "code",
   "execution_count": 10,
   "metadata": {},
   "outputs": [
    {
     "data": {
      "image/png": "[encoded data removed]",
      "text/plain": [
       "<Figure size 360x360 with 1 Axes>"
      ]
     },
     "metadata": {},
     "output_type": "display_data"
    }
   ],
   "source": [
    "DrawSol(G,x)"
   ]
  },
  {
   "cell_type": "markdown",
   "metadata": {},
   "source": [
    "## SEC separation callback (Lazy Constraints)"
   ]
  },
  {
   "cell_type": "code",
   "execution_count": 11,
   "metadata": {},
   "outputs": [],
   "source": [
    "mtsp._graph = G\n",
    "mtsp._vars = x"
   ]
  },
  {
   "cell_type": "code",
   "execution_count": 12,
   "metadata": {},
   "outputs": [],
   "source": [
    "# SEC costraints with |S|>2\n",
    "def SEC_lazy_callback (model, where):\n",
    "    if where == gb.GRB.Callback.MIPSOL:\n",
    "        \n",
    "        x = model._vars\n",
    "        xrel = model.cbGetSolution(x)\n",
    "        G = model._graph\n",
    "                        \n",
    "        for i,j in G.edges():\n",
    "            G[i][j]['capacity'] = xrel[i,j]\n",
    "        \n",
    "        for i in list(G.nodes())[2:]:\n",
    "                cut_val, cut = nx.minimum_cut(G,1,i)\n",
    "\n",
    "                if cut_val < 0.99999:\n",
    "\n",
    "                    cutarcs = [(u,v) for u in cut[0] for v in cut[1] if G.has_edge(u,v)]\n",
    "\n",
    "                    model.cbLazy(gb.quicksum(x[i,j] for i,j in cutarcs) >= 1)\n",
    "                    break"
   ]
  },
  {
   "cell_type": "code",
   "execution_count": 13,
   "metadata": {},
   "outputs": [
    {
     "name": "stdout",
     "output_type": "stream",
     "text": [
      "Discarded solution information\n",
      "Changed value of parameter lazyConstraints to 1\n",
      "   Prev: 0  Min: 0  Max: 1  Default: 0\n",
      "Gurobi Optimizer version 9.1.2 build v9.1.2rc0 (linux64)\n",
      "Thread count: 2 physical cores, 4 logical processors, using up to 4 threads\n",
      "Optimize a model with 407 rows, 756 columns and 2214 nonzeros\n",
      "Model fingerprint: 0x64f57339\n",
      "Variable types: 0 continuous, 756 integer (756 binary)\n",
      "Coefficient statistics:\n",
      "  Matrix range     [1e+00, 1e+00]\n",
      "  Objective range  [1e+02, 4e+03]\n",
      "  Bounds range     [1e+00, 1e+00]\n",
      "  RHS range        [1e+00, 4e+00]\n",
      "Found heuristic solution: objective 54266.000000\n",
      "Presolve time: 0.01s\n",
      "Presolved: 407 rows, 756 columns, 2214 nonzeros\n",
      "Variable types: 0 continuous, 756 integer (756 binary)\n",
      "\n",
      "Root relaxation: objective 1.728500e+04, 73 iterations, 0.00 seconds\n",
      "\n",
      "    Nodes    |    Current Node    |     Objective Bounds      |     Work\n",
      " Expl Unexpl |  Obj  Depth IntInf | Incumbent    BestBd   Gap | It/Node Time\n",
      "\n",
      "     0     0 18465.5000    0   22 54266.0000 18465.5000  66.0%     -    0s\n",
      "H    0     0                    39304.000000 18465.5000  53.0%     -    0s\n",
      "H    0     0                    20390.000000 18465.5000  9.44%     -    0s\n",
      "H    0     0                    20358.000000 18465.5000  9.30%     -    0s\n",
      "*    0     0               0    18507.000000 18507.0000  0.00%     -    0s\n",
      "\n",
      "Cutting planes:\n",
      "  Gomory: 1\n",
      "  Zero half: 3\n",
      "  Lazy constraints: 5\n",
      "\n",
      "Explored 1 nodes (107 simplex iterations) in 0.37 seconds\n",
      "Thread count was 4 (of 4 available processors)\n",
      "\n",
      "Solution count 5: 18507 20358 20390 ... 54266\n",
      "\n",
      "Optimal solution found (tolerance 1.00e-04)\n",
      "Best objective 1.850700000000e+04, best bound 1.850700000000e+04, gap 0.0000%\n",
      "\n",
      "User-callback calls 78, time in user-callback 0.31 sec\n"
     ]
    }
   ],
   "source": [
    "mtsp.reset()\n",
    "mtsp.Params.lazyConstraints = 1\n",
    "mtsp.optimize(SEC_lazy_callback)"
   ]
  },
  {
   "cell_type": "code",
   "execution_count": 14,
   "metadata": {},
   "outputs": [
    {
     "data": {
      "image/png": "[encoded data removed]",
      "text/plain": [
       "<Figure size 360x360 with 1 Axes>"
      ]
     },
     "metadata": {},
     "output_type": "display_data"
    }
   ],
   "source": [
    "DrawSol(G,x)"
   ]
  },
  {
   "cell_type": "markdown",
   "metadata": {},
   "source": [
    "## mTSP MTZ constraints"
   ]
  },
  {
   "cell_type": "markdown",
   "metadata": {},
   "source": [
    "### Formulation\n",
    "\n",
    "Decision variables:\n",
    "$$\n",
    "x_{ij} = \\begin{cases}1 \\text{ if arc $(i, j)$ is in the tour} \\\\\n",
    "0 \\text{ otherwise}\n",
    "\\end{cases}\n",
    "$$\n",
    "\n",
    "Formulation:\n",
    "$$\n",
    "\\begin{alignat}{3}\n",
    "& \\min \\sum_{(i,j) \\in A} x_{ij} &\\\\\n",
    "\\text{s.t.} \\;\\;\\;\\;\\;&\\\\\n",
    "\\sum_{j = 2}^{j=n} x_{1j} &= m  \\;\\; \\text{(OUT-R)}\\\\\n",
    "\\sum_{i = 2}^{i=n} x_{i1} &= m \\;\\; \\text{(IN-R)}\\\\\n",
    "\\sum_{j \\in \\delta^+(i)} x_{ij} &= 1 \\;\\; \\forall i \\in N, i\\not=1 \\;\\; \\text{(FS)}\\\\\n",
    "\\sum_{j \\in \\delta^-(i)} x_{ji} &= 1 \\;\\; \\forall i \\in N, i\\not=1 \\;\\; \\text{(RS)}\\\\\n",
    "u_i - u_j + p x_{ij} &\\le p-1 \\;\\; \\forall (i,j) \\in A, i,j \\not = 1\\\\\n",
    "x & \\in \\{0,1\\}^{|A|}\n",
    "\\end{alignat}\n",
    "$$"
   ]
  },
  {
   "cell_type": "code",
   "execution_count": 15,
   "metadata": {},
   "outputs": [],
   "source": [
    "m = 4\n",
    "p = 10\n",
    "\n",
    "mtsp_mtz = gb.Model()\n",
    "\n",
    "x = mtsp_mtz.addVars(G.edges(),\n",
    "                 obj=[G[i][j]['dist'] for i,j in G.edges()],\n",
    "                 vtype=gb.GRB.BINARY, name='x')\n",
    "\n",
    "u = mtsp_mtz.addVars(G.nodes(), obj=0.0, vtype=gb.GRB.CONTINUOUS, lb=1.0, ub=p, name='u')\n",
    "\n",
    "mtsp_mtz.addConstr(x.sum(root,'*') == m, name = 'OUT-R')\n",
    "mtsp_mtz.addConstr(x.sum('*',root) == m, name = 'IN-R')\n",
    "\n",
    "mtsp_mtz.addConstrs((x.sum(i,'*') == 1 for i in G.nodes() if i != root), name='FS')\n",
    "mtsp_mtz.addConstrs((x.sum('*',i) == 1 for i in G.nodes() if i != root), name='RS')\n",
    "\n",
    "mtsp_mtz.addConstrs((x[i,j] + x[j,i] <= 1 \n",
    "                     for i,j in G.edges()\n",
    "                     if j > i and i != root and j != root ),\n",
    "                    name='SUB2')\n",
    "\n",
    "u[root].lb = 0\n",
    "u[root].ub = 0\n",
    "\n",
    "mtsp_mtz.addConstrs((u[i] - u[j] + p * x[i,j] <= p - 1 \\\n",
    "                     for i in G.nodes() for j in G.nodes()\\\n",
    "                    if i != j and i != root and j != root and G.has_edge(i,j)), name='MTZ')\n",
    "\n",
    "mtsp_mtz.update()\n",
    "mtsp_mtz.write('mtsp_mtz.lp')"
   ]
  },
  {
   "cell_type": "code",
   "execution_count": 16,
   "metadata": {},
   "outputs": [
    {
     "name": "stdout",
     "output_type": "stream",
     "text": [
      "Gurobi Optimizer version 9.1.2 build v9.1.2rc0 (linux64)\n",
      "Thread count: 2 physical cores, 4 logical processors, using up to 4 threads\n",
      "Optimize a model with 1109 rows, 784 columns and 4320 nonzeros\n",
      "Model fingerprint: 0xb075d8d7\n",
      "Variable types: 28 continuous, 756 integer (756 binary)\n",
      "Coefficient statistics:\n",
      "  Matrix range     [1e+00, 1e+01]\n",
      "  Objective range  [1e+02, 4e+03]\n",
      "  Bounds range     [1e+00, 1e+01]\n",
      "  RHS range        [1e+00, 9e+00]\n",
      "Presolve removed 0 rows and 1 columns\n",
      "Presolve time: 0.01s\n",
      "Presolved: 1109 rows, 783 columns, 4320 nonzeros\n",
      "Variable types: 27 continuous, 756 integer (756 binary)\n",
      "\n",
      "Root relaxation: objective 1.729400e+04, 126 iterations, 0.00 seconds\n",
      "\n",
      "    Nodes    |    Current Node    |     Objective Bounds      |     Work\n",
      " Expl Unexpl |  Obj  Depth IntInf | Incumbent    BestBd   Gap | It/Node Time\n",
      "\n",
      "     0     0 17294.0000    0   36          - 17294.0000      -     -    0s\n",
      "H    0     0                    47389.000000 17294.0000  63.5%     -    0s\n",
      "H    0     0                    44408.000000 17294.0000  61.1%     -    0s\n",
      "H    0     0                    22056.000000 17294.0000  21.6%     -    0s\n",
      "     0     0 17325.0000    0   36 22056.0000 17325.0000  21.4%     -    0s\n",
      "     0     0 17385.7671    0   49 22056.0000 17385.7671  21.2%     -    0s\n",
      "H    0     0                    20331.000000 17385.7671  14.5%     -    0s\n",
      "     0     0 17407.6780    0   49 20331.0000 17407.6780  14.4%     -    0s\n",
      "     0     0 17407.6780    0   49 20331.0000 17407.6780  14.4%     -    0s\n",
      "     0     0 17407.7329    0   49 20331.0000 17407.7329  14.4%     -    0s\n",
      "H    0     0                    20200.000000 17407.7329  13.8%     -    0s\n",
      "     0     0 17407.7329    0   49 20200.0000 17407.7329  13.8%     -    0s\n",
      "     0     0 17407.7329    0   49 20200.0000 17407.7329  13.8%     -    0s\n",
      "     0     0 17407.7329    0   49 20200.0000 17407.7329  13.8%     -    0s\n",
      "H    0     2                    20113.000000 17556.6324  12.7%     -    0s\n",
      "     0     2 17556.6324    0   49 20113.0000 17556.6324  12.7%     -    0s\n",
      "H   29    33                    19734.000000 17650.7329  10.6%   7.5    0s\n",
      "H   99    85                    19535.000000 17650.7329  9.65%   7.6    0s\n",
      "H  140   120                    19440.000000 17660.3579  9.15%   7.3    0s\n",
      "H  166   144                    19303.000000 17660.3579  8.51%   7.7    0s\n",
      "*  453   257              23    18965.000000 17825.8367  6.01%   7.2    0s\n",
      "H  618   298                    18895.000000 17853.7246  5.51%   7.2    0s\n",
      "*  755   345              17    18886.000000 17884.2414  5.30%   7.2    0s\n",
      "H  765   227                    18549.000000 17884.2414  3.58%   7.2    0s\n",
      "\n",
      "Explored 2853 nodes (21282 simplex iterations) in 1.37 seconds\n",
      "Thread count was 4 (of 4 available processors)\n",
      "\n",
      "Solution count 10: 18549 18886 18895 ... 20200\n",
      "\n",
      "Optimal solution found (tolerance 1.00e-04)\n",
      "Best objective 1.854900000000e+04, best bound 1.854900000000e+04, gap 0.0000%\n"
     ]
    }
   ],
   "source": [
    "mtsp_mtz.optimize()"
   ]
  },
  {
   "cell_type": "code",
   "execution_count": 17,
   "metadata": {},
   "outputs": [
    {
     "data": {
      "image/png": "[encoded data removed]",
      "text/plain": [
       "<Figure size 360x360 with 1 Axes>"
      ]
     },
     "metadata": {},
     "output_type": "display_data"
    }
   ],
   "source": [
    "DrawSol(G, x)"
   ]
  },
  {
   "cell_type": "markdown",
   "metadata": {},
   "source": [
    "## Formulation strengthening through the Cut Callback"
   ]
  },
  {
   "cell_type": "code",
   "execution_count": 18,
   "metadata": {},
   "outputs": [],
   "source": [
    "mtsp_mtz._graph = G\n",
    "mtsp_mtz._vars = x"
   ]
  },
  {
   "cell_type": "code",
   "execution_count": 19,
   "metadata": {},
   "outputs": [],
   "source": [
    "# SEC costraints with |S|>2\n",
    "def SEC_cut_callback (model, where):\n",
    "    if where == gb.GRB.Callback.MIPNODE:\n",
    "        \n",
    "        status = model.cbGet(gb.GRB.Callback.MIPNODE_STATUS)\n",
    "        count = model.cbGet(gb.GRB.Callback.MIPNODE_NODCNT)\n",
    "        \n",
    "        if status == gb.GRB.OPTIMAL and count < 10:\n",
    "            x = model._vars\n",
    "            xrel = model.cbGetNodeRel(x) \n",
    "            G = model._graph\n",
    "                        \n",
    "            for i,j in G.edges():\n",
    "                G[i][j]['capacity'] = xrel[i,j]\n",
    "\n",
    "            for i in list(G.nodes())[1:]:\n",
    "                cut_val, cut = nx.minimum_cut(G,1,i)\n",
    "\n",
    "                if cut_val < 0.99999:\n",
    "\n",
    "                    cutarcs = [(u,v) for u in cut[0] for v in cut[1] if G.has_edge(u,v)]\n",
    "\n",
    "                    model.cbCut(gb.quicksum(x[i,j] for i,j in cutarcs) >= 1)\n",
    "                    break"
   ]
  },
  {
   "cell_type": "code",
   "execution_count": 20,
   "metadata": {},
   "outputs": [
    {
     "name": "stdout",
     "output_type": "stream",
     "text": [
      "Discarded solution information\n",
      "Changed value of parameter PreCrush to 1\n",
      "   Prev: 0  Min: 0  Max: 1  Default: 0\n",
      "Parameter lazyConstraints unchanged\n",
      "   Value: 0  Min: 0  Max: 1  Default: 0\n",
      "Gurobi Optimizer version 9.1.2 build v9.1.2rc0 (linux64)\n",
      "Thread count: 2 physical cores, 4 logical processors, using up to 4 threads\n",
      "Optimize a model with 1109 rows, 784 columns and 4320 nonzeros\n",
      "Model fingerprint: 0xb075d8d7\n",
      "Variable types: 28 continuous, 756 integer (756 binary)\n",
      "Coefficient statistics:\n",
      "  Matrix range     [1e+00, 1e+01]\n",
      "  Objective range  [1e+02, 4e+03]\n",
      "  Bounds range     [1e+00, 1e+01]\n",
      "  RHS range        [1e+00, 9e+00]\n",
      "Presolve removed 0 rows and 1 columns\n",
      "Presolve time: 0.01s\n",
      "Presolved: 1109 rows, 783 columns, 4320 nonzeros\n",
      "Variable types: 27 continuous, 756 integer (756 binary)\n",
      "\n",
      "Root relaxation: objective 1.729400e+04, 126 iterations, 0.00 seconds\n",
      "\n",
      "    Nodes    |    Current Node    |     Objective Bounds      |     Work\n",
      " Expl Unexpl |  Obj  Depth IntInf | Incumbent    BestBd   Gap | It/Node Time\n",
      "\n",
      "     0     0 17294.0000    0   36          - 17294.0000      -     -    0s\n",
      "H    0     0                    47389.000000 17294.0000  63.5%     -    0s\n",
      "H    0     0                    44408.000000 17294.0000  61.1%     -    0s\n",
      "H    0     0                    22056.000000 17294.0000  21.6%     -    0s\n",
      "     0     0 17506.7000    0   32 22056.0000 17506.7000  20.6%     -    0s\n",
      "     0     0 17746.7200    0   36 22056.0000 17746.7200  19.5%     -    0s\n",
      "     0     0 17797.0194    0   42 22056.0000 17797.0194  19.3%     -    0s\n",
      "H    0     0                    21228.000000 17797.0194  16.2%     -    0s\n",
      "     0     0 18258.8602    0   39 21228.0000 18258.8602  14.0%     -    0s\n",
      "     0     0 18262.8546    0   38 21228.0000 18262.8546  14.0%     -    0s\n",
      "     0     0 18297.3810    0   32 21228.0000 18297.3810  13.8%     -    0s\n",
      "     0     0 18432.4253    0   47 21228.0000 18432.4253  13.2%     -    0s\n",
      "     0     0 18432.4435    0   47 21228.0000 18432.4435  13.2%     -    0s\n",
      "     0     0 18432.7088    0   48 21228.0000 18432.7088  13.2%     -    0s\n",
      "     0     0 18432.7606    0   48 21228.0000 18432.7606  13.2%     -    0s\n",
      "H    0     0                    20583.000000 18432.7606  10.4%     -    0s\n",
      "     0     0 18432.7624    0   48 20583.0000 18432.7624  10.4%     -    0s\n",
      "     0     0 18432.7863    0   48 20583.0000 18432.7863  10.4%     -    0s\n",
      "     0     0 18432.7863    0   48 20583.0000 18432.7863  10.4%     -    0s\n",
      "     0     2 18479.0000    0   48 20583.0000 18479.0000  10.2%     -    0s\n",
      "H   64    62                    20438.000000 18517.0000  9.40%   7.3    0s\n",
      "H   65    68                    20118.000000 18517.0000  7.96%   7.3    0s\n",
      "H   68    68                    19417.000000 18517.0000  4.64%   7.1    0s\n",
      "*  131   104               6    18549.000000 18535.9862  0.07%   5.9    1s\n",
      "\n",
      "Cutting planes:\n",
      "  User: 9\n",
      "  Gomory: 2\n",
      "  Implied bound: 12\n",
      "  MIR: 14\n",
      "  RLT: 6\n",
      "  Relax-and-lift: 40\n",
      "\n",
      "Explored 184 nodes (1309 simplex iterations) in 1.01 seconds\n",
      "Thread count was 4 (of 4 available processors)\n",
      "\n",
      "Solution count 9: 18549 19417 20118 ... 47389\n",
      "\n",
      "Optimal solution found (tolerance 1.00e-04)\n",
      "Best objective 1.854900000000e+04, best bound 1.854900000000e+04, gap 0.0000%\n",
      "\n",
      "User-callback calls 790, time in user-callback 0.39 sec\n"
     ]
    }
   ],
   "source": [
    "mtsp_mtz.reset()\n",
    "mtsp_mtz.Params.PreCrush = 1\n",
    "mtsp_mtz.Params.lazyConstraints = 0\n",
    "mtsp_mtz.optimize(SEC_cut_callback)"
   ]
  },
  {
   "cell_type": "code",
   "execution_count": 21,
   "metadata": {},
   "outputs": [
    {
     "data": {
      "image/png": "[encoded data removed]",
      "text/plain": [
       "<Figure size 360x360 with 1 Axes>"
      ]
     },
     "metadata": {},
     "output_type": "display_data"
    }
   ],
   "source": [
    "DrawSol(G,x)"
   ]
  }
 ],
 "metadata": {
  "anaconda-cloud": {},
  "kernelspec": {
   "display_name": "Python 3",
   "language": "python",
   "name": "python3"
  },
  "language_info": {
   "codemirror_mode": {
    "name": "ipython",
    "version": 3
   },
   "file_extension": ".py",
   "mimetype": "text/x-python",
   "name": "python",
   "nbconvert_exporter": "python",
   "pygments_lexer": "ipython3",
   "version": "3.8.5"
  }
 },
 "nbformat": 4,
 "nbformat_minor": 1
}
