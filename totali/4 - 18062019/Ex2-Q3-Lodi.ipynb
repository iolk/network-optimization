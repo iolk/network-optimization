{
 "cells": [
  {
   "cell_type": "markdown",
   "metadata": {},
   "source": [
    "## Totale 19/6/2017\n",
    "### Esercizio 2 Punto 2\n",
    "\n",
    "Alessandro Lodi<br>\n",
    "Matricola 274425"
   ]
  },
  {
   "cell_type": "markdown",
   "metadata": {},
   "source": [
    "### Notebook Init"
   ]
  },
  {
   "cell_type": "code",
   "execution_count": 1,
   "metadata": {},
   "outputs": [],
   "source": [
    "import networkx as nx\n",
    "import gurobipy as gb\n",
    "import matplotlib.pyplot as plt\n",
    "from itertools import combinations, chain\n",
    "import pygraphviz as pygv\n",
    "import os\n",
    "from IPython.display import SVG, display"
   ]
  },
  {
   "cell_type": "code",
   "execution_count": 2,
   "metadata": {},
   "outputs": [
    {
     "data": {
      "text/html": [
       "<style>.container { width:100% !important; }</style>"
      ],
      "text/plain": [
       "<IPython.core.display.HTML object>"
      ]
     },
     "metadata": {},
     "output_type": "display_data"
    }
   ],
   "source": [
    "from IPython.core.display import display, HTML\n",
    "display(HTML(\"<style>.container { width:100% !important; }</style>\"))"
   ]
  },
  {
   "cell_type": "code",
   "execution_count": 3,
   "metadata": {},
   "outputs": [],
   "source": [
    "class args:\n",
    "    filename = \"atsp18062019.gml\"\n",
    "    scale = 40\n",
    "    figsize = 10,10"
   ]
  },
  {
   "cell_type": "code",
   "execution_count": 4,
   "metadata": {},
   "outputs": [],
   "source": [
    "def powerset(iterable):\n",
    "    \"powerset([1,2,3]) --> () (1,) (2,) (3,) (1,2) (1,3) (2,3) (1,2,3)\"\n",
    "    s = list(iterable)\n",
    "    return chain.from_iterable(combinations(s, r) for r in range(len(s)+1))"
   ]
  },
  {
   "cell_type": "markdown",
   "metadata": {},
   "source": [
    "### Drawing functions"
   ]
  },
  {
   "cell_type": "code",
   "execution_count": 5,
   "metadata": {},
   "outputs": [],
   "source": [
    "def DrawInitG(G, withedges=False):\n",
    "    \n",
    "    plt.figure(figsize=args.figsize)\n",
    "    \n",
    "    pos = {i:(G.nodes[i]['x'], G.nodes[i]['y']) for i in G.nodes()}\n",
    "    \n",
    "    nx.draw_networkx_nodes(G, \n",
    "                           pos=pos, \n",
    "                           node_shape='o', \n",
    "                           node_size=600,\n",
    "                           node_color='red')\n",
    "    \n",
    "    nx.draw_networkx_labels(G, pos=pos, font_color='w', font_size=12)\n",
    "    \n",
    "    if withedges:\n",
    "        nx.draw_networkx_edges(G,pos=pos, alpha=1.0)\n",
    "        labels = {(i,j):G.get_edge_data(i,j,'cost').get('cost') for i,j in G.edges()}\n",
    "        nx.draw_networkx_edge_labels(G, pos=pos, edge_labels=labels)\n",
    "    \n",
    "    plt.axis('off')\n",
    "    plt.show()\n",
    "    \n",
    "def DrawSol(G, x):\n",
    "    \n",
    "    plt.figure(figsize=args.figsize)\n",
    "    \n",
    "    pos = {i:(G.nodes[i]['x'], G.nodes[i]['y']) for i in G.nodes()}\n",
    "\n",
    "    \n",
    "    nx.draw_networkx_nodes(G, \n",
    "                           pos=pos, \n",
    "                           node_shape='o', \n",
    "                           node_size=600,\n",
    "                           node_color='red',\n",
    "                           label=[G.nodes()])\n",
    "    \n",
    "    nx.draw_networkx_labels(G, pos=pos, font_color='w', font_size=12)\n",
    "    \n",
    "    for u,v in G.edges():\n",
    "        if x[u,v].x > 0.01 and x[u,v].x < 0.9:\n",
    "            nx.draw_networkx_edges(G, pos=pos,\n",
    "                                   edgelist=[(u,v)],\n",
    "                                   edge_color='r')\n",
    "            \n",
    "            nx.draw_networkx_edge_labels(G, pos=pos,\n",
    "                                         edge_labels={(u,v):'{:.2f}'.format(x[u,v].x)})\n",
    "        \n",
    "        if x[u,v].x > 0.9:\n",
    "            nx.draw_networkx_edges(G, pos=pos,\n",
    "                                   edgelist=[(u,v)],\n",
    "                                   edge_color='k')\n",
    "        \n",
    "    plt.axis('off')\n",
    "    plt.show()"
   ]
  },
  {
   "cell_type": "code",
   "execution_count": 6,
   "metadata": {},
   "outputs": [
    {
     "name": "stdout",
     "output_type": "stream",
     "text": [
      "G has 28 nodes and 756 edges\n"
     ]
    }
   ],
   "source": [
    "# Graph reading\n",
    "basename = os.path.splitext(args.filename)[0]\n",
    "G = nx.read_graphml (args.filename, node_type=int)\n",
    "print (\"G has\", G.number_of_nodes(), \"nodes and\", G.number_of_edges(), \"edges\")"
   ]
  },
  {
   "cell_type": "markdown",
   "metadata": {},
   "source": [
    "## mTSP\n",
    "\n",
    ">**Given**\n",
    ">A directed graph $G=(N,A)\\;$ and a cost $c_{ij} > 0$ for each arc in $A$\n",
    ">\n",
    ">**Find**\n",
    "> A set of routes for $m$ salesmen who all start from and turn back to a home city (depot, node 1) \n",
    " \n",
    "\n",
    "### mTSP MTZ  Formulation\n",
    "\n",
    "Decision variables:\n",
    "$$\n",
    "x_{ij} = \\begin{cases}1 \\text{ if arc $(i, j)$ is in the tour} \\\\\n",
    "0 \\text{ otherwise}\n",
    "\\end{cases}\n",
    "$$\n",
    "​\n",
    "Formulation:\n",
    "$$\n",
    "\\begin{alignat}{3}\n",
    "& \\min \\sum_{(i,j) \\in A} x_{ij} &\\\\\n",
    "\\text{s.t.} \\;\\;\\;\\;\\;&\\\\\n",
    "\\sum_{j = 2}^{j=n} x_{1j} &= m  \\;\\; \\text{(OUT-R)}\\\\\n",
    "\\sum_{i = 2}^{i=n} x_{i1} &= m \\;\\; \\text{(IN-R)}\\\\\n",
    "\\sum_{j \\in \\delta^+(i)} x_{ij} &= 1 \\;\\; \\forall i \\in N, i\\not=1 \\;\\; \\text{(FS)}\\\\\n",
    "\\sum_{j \\in \\delta^-(i)} x_{ji} &= 1 \\;\\; \\forall i \\in N, i\\not=1 \\;\\; \\text{(RS)}\\\\\n",
    "u_i - u_j + p x_{ij} &\\le p-1 \\;\\; \\forall (i,j) \\in A, i,j \\not = 1\\\\\n",
    "x & \\in \\{0,1\\}^{|A|}\n",
    "\\end{alignat}\n",
    "$$"
   ]
  },
  {
   "cell_type": "code",
   "execution_count": 7,
   "metadata": {},
   "outputs": [
    {
     "name": "stdout",
     "output_type": "stream",
     "text": [
      "Academic license - for non-commercial use only - expires 2021-08-02\n",
      "Using license file /opt/gurobi/gurobi.lic\n"
     ]
    }
   ],
   "source": [
    "root = 1\n",
    "\n",
    "# Number of vehicles\n",
    "m = 3\n",
    "\n",
    "# The max number of nodes in the path\n",
    "p = 10\n",
    "\n",
    "mtsp_mtz = gb.Model()\n",
    "\n",
    "x = mtsp_mtz.addVars(G.edges(),\n",
    "                 obj=[G[i][j]['dist'] for i,j in G.edges()],\n",
    "                 vtype=gb.GRB.BINARY, name='x')\n",
    "\n",
    "u = mtsp_mtz.addVars(G.nodes(), obj=0.0, vtype=gb.GRB.CONTINUOUS, lb=1.0, ub=p, name='u')\n",
    "\n",
    "mtsp_mtz.addConstr(x.sum(root,'*') == m, name = 'OUT-R')\n",
    "mtsp_mtz.addConstr(x.sum('*',root) == m, name = 'IN-R')\n",
    "\n",
    "mtsp_mtz.addConstrs((x.sum(i,'*') == 1 for i in G.nodes() if i != root), name='FS')\n",
    "mtsp_mtz.addConstrs((x.sum('*',i) == 1 for i in G.nodes() if i != root), name='RS')\n",
    "\n",
    "mtsp_mtz.addConstrs((x[i,j] + x[j,i] <= 1 \n",
    "                     for i,j in G.edges()\n",
    "                     if j > i and i != root and j != root ),\n",
    "                    name='SUB2')\n",
    "\n",
    "u[root].lb = 0\n",
    "u[root].ub = 0\n",
    "\n",
    "mtsp_mtz.addConstrs((u[i] - u[j] + p * x[i,j] <= p - 1 \\\n",
    "                     for i in G.nodes() for j in G.nodes()\\\n",
    "                    if i != j and i != root and j != root and G.has_edge(i,j)), name='MTZ')\n",
    "\n",
    "mtsp_mtz.update()\n",
    "mtsp_mtz.write('mtsp_mtz.lp')"
   ]
  },
  {
   "cell_type": "code",
   "execution_count": 8,
   "metadata": {},
   "outputs": [],
   "source": [
    "x[root, 2].lb = 1.0\n",
    "x[root, 15].lb = 1.0\n",
    "x[root, 20].lb = 1.0"
   ]
  },
  {
   "cell_type": "markdown",
   "metadata": {},
   "source": [
    "## Strengthening through the Cut Callback"
   ]
  },
  {
   "cell_type": "code",
   "execution_count": 9,
   "metadata": {},
   "outputs": [],
   "source": [
    "mtsp_mtz._graph = G\n",
    "mtsp_mtz._vars = x"
   ]
  },
  {
   "cell_type": "code",
   "execution_count": 10,
   "metadata": {},
   "outputs": [],
   "source": [
    "# SEC costraints with |S|>2\n",
    "def SEC_cut_callback (model, where):\n",
    "    if where == gb.GRB.Callback.MIPNODE:\n",
    "        \n",
    "        status = model.cbGet(gb.GRB.Callback.MIPNODE_STATUS)\n",
    "        count = model.cbGet(gb.GRB.Callback.MIPNODE_NODCNT)\n",
    "        \n",
    "        if status == gb.GRB.OPTIMAL and count < 10:\n",
    "            x = model._vars\n",
    "            xrel = model.cbGetNodeRel(x) \n",
    "            G = model._graph\n",
    "                        \n",
    "            for i,j in G.edges():\n",
    "                G[i][j]['capacity'] = xrel[i,j]\n",
    "\n",
    "            for i in list(G.nodes())[1:]:\n",
    "                cut_val, cut = nx.minimum_cut(G,1,i)\n",
    "\n",
    "                if cut_val < 0.99999:\n",
    "\n",
    "                    cutarcs = [(u,v) for u in cut[0] for v in cut[1] if G.has_edge(u,v)]\n",
    "\n",
    "                    model.cbCut(gb.quicksum(x[i,j] for i,j in cutarcs) >= 1)\n",
    "                    break"
   ]
  },
  {
   "cell_type": "code",
   "execution_count": 11,
   "metadata": {},
   "outputs": [
    {
     "name": "stdout",
     "output_type": "stream",
     "text": [
      "Discarded solution information\n",
      "Changed value of parameter PreCrush to 1\n",
      "   Prev: 0  Min: 0  Max: 1  Default: 0\n",
      "Parameter lazyConstraints unchanged\n",
      "   Value: 0  Min: 0  Max: 1  Default: 0\n",
      "Gurobi Optimizer version 9.1.2 build v9.1.2rc0 (linux64)\n",
      "Thread count: 6 physical cores, 12 logical processors, using up to 12 threads\n",
      "Optimize a model with 1109 rows, 784 columns and 4320 nonzeros\n",
      "Model fingerprint: 0xca679d4d\n",
      "Variable types: 28 continuous, 756 integer (756 binary)\n",
      "Coefficient statistics:\n",
      "  Matrix range     [1e+00, 1e+01]\n",
      "  Objective range  [1e+02, 4e+03]\n",
      "  Bounds range     [1e+00, 1e+01]\n",
      "  RHS range        [1e+00, 9e+00]\n",
      "Presolve removed 205 rows and 109 columns\n",
      "Presolve time: 0.01s\n",
      "Presolved: 904 rows, 675 columns, 3606 nonzeros\n",
      "Variable types: 24 continuous, 651 integer (651 binary)\n",
      "Found heuristic solution: objective 50980.000000\n",
      "\n",
      "Root relaxation: objective 1.698750e+04, 108 iterations, 0.00 seconds\n",
      "\n",
      "    Nodes    |    Current Node    |     Objective Bounds      |     Work\n",
      " Expl Unexpl |  Obj  Depth IntInf | Incumbent    BestBd   Gap | It/Node Time\n",
      "\n",
      "     0     0 16987.5000    0   26 50980.0000 16987.5000  66.7%     -    0s\n",
      "H    0     0                    43151.000000 16987.5000  60.6%     -    0s\n",
      "H    0     0                    42510.000000 16987.5000  60.0%     -    0s\n",
      "     0     0 17482.5857    0   15 42510.0000 17482.5857  58.9%     -    0s\n",
      "H    0     0                    20176.000000 17482.5857  13.3%     -    0s\n",
      "     0     0 17722.0218    0   44 20176.0000 17722.0218  12.2%     -    0s\n",
      "     0     0 17722.9500    0   19 20176.0000 17722.9500  12.2%     -    0s\n",
      "     0     0 17764.0000    0   41 20176.0000 17764.0000  12.0%     -    0s\n",
      "H    0     0                    19994.000000 17764.0000  11.2%     -    0s\n",
      "     0     0 17897.2188    0   54 19994.0000 17897.2188  10.5%     -    0s\n",
      "     0     0 17903.7500    0   41 19994.0000 17903.7500  10.5%     -    0s\n",
      "     0     0 17903.7500    0   41 19994.0000 17903.7500  10.5%     -    0s\n",
      "     0     0 17904.6606    0   54 19994.0000 17904.6606  10.4%     -    0s\n",
      "H    0     0                    18232.000000 17904.6606  1.80%     -    0s\n",
      "     0     0 17905.0221    0   54 18232.0000 17905.0221  1.79%     -    0s\n",
      "     0     0 17905.5590    0   54 18232.0000 17905.5590  1.79%     -    0s\n",
      "     0     0 17905.5590    0   25 18232.0000 17905.5590  1.79%     -    0s\n",
      "     0     0 17905.5590    0   12 18232.0000 17905.5590  1.79%     -    0s\n",
      "     0     0 17905.5590    0   52 18232.0000 17905.5590  1.79%     -    0s\n",
      "     0     0 17907.2300    0   52 18232.0000 17907.2300  1.78%     -    0s\n",
      "     0     0 17907.5630    0   52 18232.0000 17907.5630  1.78%     -    0s\n",
      "     0     0 17908.7614    0   51 18232.0000 17908.7614  1.77%     -    0s\n",
      "     0     0 17909.1286    0   53 18232.0000 17909.1286  1.77%     -    0s\n",
      "     0     0 17924.0301    0   47 18232.0000 17924.0301  1.69%     -    0s\n",
      "     0     0 17926.2267    0   47 18232.0000 17926.2267  1.68%     -    0s\n",
      "     0     0 17927.0000    0   47 18232.0000 17927.0000  1.67%     -    0s\n",
      "     0     0 17927.0000    0   47 18232.0000 17927.0000  1.67%     -    0s\n",
      "     0     2 18036.6667    0   47 18232.0000 18036.6667  1.07%     -    0s\n",
      "\n",
      "Cutting planes:\n",
      "  User: 5\n",
      "  Gomory: 3\n",
      "  Cover: 1\n",
      "  Implied bound: 3\n",
      "  MIR: 11\n",
      "  Zero half: 2\n",
      "  RLT: 1\n",
      "  Relax-and-lift: 13\n",
      "\n",
      "Explored 16 nodes (690 simplex iterations) in 0.93 seconds\n",
      "Thread count was 12 (of 12 available processors)\n",
      "\n",
      "Solution count 6: 18232 19994 20176 ... 50980\n",
      "\n",
      "Optimal solution found (tolerance 1.00e-04)\n",
      "Best objective 1.823200000000e+04, best bound 1.823200000000e+04, gap 0.0000%\n",
      "\n",
      "User-callback calls 340, time in user-callback 0.72 sec\n"
     ]
    }
   ],
   "source": [
    "mtsp_mtz.reset()\n",
    "mtsp_mtz.Params.PreCrush = 1\n",
    "mtsp_mtz.Params.lazyConstraints = 0\n",
    "mtsp_mtz.optimize(SEC_cut_callback)"
   ]
  },
  {
   "cell_type": "code",
   "execution_count": 12,
   "metadata": {},
   "outputs": [
    {
     "data": {
      "image/png": "[encoded data removed]",
      "text/plain": [
       "<Figure size 720x720 with 1 Axes>"
      ]
     },
     "metadata": {},
     "output_type": "display_data"
    }
   ],
   "source": [
    "DrawSol(G,x)"
   ]
  },
  {
   "cell_type": "code",
   "execution_count": 13,
   "metadata": {},
   "outputs": [
    {
     "name": "stdout",
     "output_type": "stream",
     "text": [
      "The cost increase is 2587.0\n"
     ]
    }
   ],
   "source": [
    "q1_sol = 15645.0\n",
    "print(\"The cost increase is\", mtsp_mtz.objVal - q1_sol)"
   ]
  },
  {
   "cell_type": "code",
   "execution_count": null,
   "metadata": {},
   "outputs": [],
   "source": []
  }
 ],
 "metadata": {
  "anaconda-cloud": {},
  "kernelspec": {
   "display_name": "Python 3",
   "language": "python",
   "name": "python3"
  },
  "language_info": {
   "codemirror_mode": {
    "name": "ipython",
    "version": 3
   },
   "file_extension": ".py",
   "mimetype": "text/x-python",
   "name": "python",
   "nbconvert_exporter": "python",
   "pygments_lexer": "ipython3",
   "version": "3.8.5"
  }
 },
 "nbformat": 4,
 "nbformat_minor": 1
}
