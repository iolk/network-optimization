{
 "cells": [
  {
   "cell_type": "markdown",
   "metadata": {},
   "source": [
    "## Totale 4/06/2019\n",
    "### Esercizio 1 Punto 1\n",
    "Alessandro Lodi<br>\n",
    "Matricola 274425"
   ]
  },
  {
   "cell_type": "markdown",
   "metadata": {},
   "source": [
    "### Notebook Init"
   ]
  },
  {
   "cell_type": "code",
   "execution_count": 1,
   "metadata": {},
   "outputs": [],
   "source": [
    "import networkx as nx\n",
    "import gurobipy as gb\n",
    "import matplotlib.pyplot as plt\n",
    "from itertools import combinations, chain\n",
    "import pygraphviz as pygv\n",
    "import os\n",
    "from IPython.display import SVG, display"
   ]
  },
  {
   "cell_type": "code",
   "execution_count": 2,
   "metadata": {},
   "outputs": [
    {
     "data": {
      "text/html": [
       "<style>.container { width:100% !important; }</style>"
      ],
      "text/plain": [
       "<IPython.core.display.HTML object>"
      ]
     },
     "metadata": {},
     "output_type": "display_data"
    }
   ],
   "source": [
    "from IPython.core.display import display, HTML\n",
    "display(HTML(\"<style>.container { width:100% !important; }</style>\"))"
   ]
  },
  {
   "cell_type": "code",
   "execution_count": 3,
   "metadata": {},
   "outputs": [],
   "source": [
    "class args:\n",
    "    filename = \"graph04062019R1.gml\"\n",
    "    scale = 40\n",
    "    figsize = 10,10"
   ]
  },
  {
   "cell_type": "code",
   "execution_count": 4,
   "metadata": {},
   "outputs": [],
   "source": [
    "def powerset(iterable):\n",
    "    \"powerset([1,2,3]) --> () (1,) (2,) (3,) (1,2) (1,3) (2,3) (1,2,3)\"\n",
    "    s = list(iterable)\n",
    "    return chain.from_iterable(combinations(s, r) for r in range(len(s)+1))"
   ]
  },
  {
   "cell_type": "markdown",
   "metadata": {},
   "source": [
    "### Drawing functions"
   ]
  },
  {
   "cell_type": "code",
   "execution_count": 5,
   "metadata": {},
   "outputs": [],
   "source": [
    "def DrawInitG(G, withedges=False):\n",
    "    \n",
    "    plt.figure(figsize=args.figsize)\n",
    "    \n",
    "    pos = {i:(G.nodes[i]['x'], G.nodes[i]['y']) for i in G.nodes()}\n",
    "    \n",
    "    nx.draw_networkx_nodes(G, \n",
    "                           pos=pos, \n",
    "                           node_shape='o', \n",
    "                           node_size=600,\n",
    "                           node_color='red')\n",
    "    \n",
    "    nx.draw_networkx_labels(G, pos=pos, font_color='w', font_size=12)\n",
    "    \n",
    "    if withedges:\n",
    "        nx.draw_networkx_edges(G,pos=pos, alpha=1.0)\n",
    "        labels = {(i,j):G.get_edge_data(i,j,'cost').get('cost') for i,j in G.edges()}\n",
    "        nx.draw_networkx_edge_labels(G, pos=pos, edge_labels=labels)\n",
    "    \n",
    "    plt.axis('off')\n",
    "    plt.show()\n",
    "    \n",
    "def DrawSol(G, x):\n",
    "    \n",
    "    plt.figure(figsize=args.figsize)\n",
    "    \n",
    "    pos = {i:(G.nodes[i]['x'], G.nodes[i]['y']) for i in G.nodes()}\n",
    "\n",
    "    \n",
    "    nx.draw_networkx_nodes(G, \n",
    "                           pos=pos, \n",
    "                           node_shape='o', \n",
    "                           node_size=600,\n",
    "                           node_color='red',\n",
    "                           label=[G.nodes()])\n",
    "    \n",
    "    nx.draw_networkx_labels(G, pos=pos, font_color='w', font_size=12)\n",
    "    \n",
    "    for u,v in G.edges():\n",
    "        if x[u,v].x > 0.01 and x[u,v].x < 0.9:\n",
    "            nx.draw_networkx_edges(G, pos=pos,\n",
    "                                   edgelist=[(u,v)],\n",
    "                                   edge_color='r')\n",
    "            \n",
    "            nx.draw_networkx_edge_labels(G, pos=pos,\n",
    "                                         edge_labels={(u,v):'{:.2f}'.format(x[u,v].x)})\n",
    "        \n",
    "        if x[u,v].x > 0.9:\n",
    "            nx.draw_networkx_edges(G, pos=pos,\n",
    "                                   edgelist=[(u,v)],\n",
    "                                   edge_color='k')\n",
    "        \n",
    "    plt.axis('off')\n",
    "    plt.show()"
   ]
  },
  {
   "cell_type": "code",
   "execution_count": 6,
   "metadata": {},
   "outputs": [
    {
     "name": "stdout",
     "output_type": "stream",
     "text": [
      "G has 30 nodes and 435 edges\n"
     ]
    }
   ],
   "source": [
    "# Graph reading\n",
    "basename = os.path.splitext(args.filename)[0]\n",
    "G = nx.read_graphml (args.filename, node_type=int)\n",
    "print (\"G has\", G.number_of_nodes(), \"nodes and\", G.number_of_edges(), \"edges\")"
   ]
  },
  {
   "cell_type": "markdown",
   "metadata": {},
   "source": [
    "## Prize Collecting Steiner Tree (PCST)\n",
    "\n",
    "### Problem definition\n",
    "\n",
    ">**Given**\n",
    "> * A symmetric graph $G=(V,E)$ and a cost $c_e > 0$ for each edge in $E$;\n",
    "> * A root node $\\{0\\}$;\n",
    "> * A revenue $p_j > 0$ for each node $j \\in V \\setminus \\{0\\}$;\n",
    "\n",
    ">\n",
    ">**Find**\n",
    ">A subtree $T$ rooted in $\\{0\\}$ that **maximizes** the sum of the revenues of \n",
    ">the nodes in $T$ **minus** the sum of the costs of the edges in $T$\n",
    "\n",
    "\n",
    "### Formulation with *positional* variables (MTZ formulation)\n",
    "\n",
    "#### Variables\n",
    "$$\n",
    "x_{ij} = \\begin{cases}1 \\text{ if arc $(i, j)$ is in the arborescence} \\\\\n",
    "0 \\text{ otherwise}\n",
    "\\end{cases}\n",
    "$$\n",
    "\n",
    "$$\n",
    "y_j = \\begin{cases} 1 \\text{ if node j is in the arborescence}\\\\\n",
    "0 \\text{ otherwise}\n",
    "\\end{cases}\n",
    "$$\n",
    "\n",
    "$$ \n",
    "u_j = \\{\\text{number of arcs in the dipath (if any) induced by $x$ from \\{0\\} to $j$}\\}\n",
    "$$\n",
    "\n",
    "#### MTZ formulation\n",
    "\n",
    "$$\n",
    "\\begin{align}\n",
    "\\min & \\sum_{(i,j) \\in A} c_{ij} x_{ij} - \\sum_{j \\in V \\setminus \\{0\\}} p_j y_j \\\\\n",
    "\\text{subject}& \\text{ to} \\\\\n",
    "y_0 & = 1 \\\\\n",
    "\\sum_{i \\in \\delta^-(j)} x_{ij} & = y_j \\;\\; \\forall j \\in V\\\\\n",
    "(n+1)x_{ij} + u_i - u_j &\\le n \\;\\; \\forall (i,j) \\in A \\\\\n",
    "x_{jk} &\\le y_j \\;\\; \\forall k \\in \\delta^+(j), \\;\\; \\forall j \\in V \\setminus\\{0\\}\\\\\n",
    "0 \\le u_j & \\le n \\;\\; \\forall j \\in V \\\\ \n",
    "x_{ij} & \\in \\{0,1\\} \\;\\; \\forall(i,j) \\in A \\\\\n",
    "y_j & \\in \\{0,1\\} \\;\\; \\forall j \\in V\n",
    "\\end{align}\n",
    "$$\n"
   ]
  },
  {
   "cell_type": "code",
   "execution_count": 7,
   "metadata": {},
   "outputs": [
    {
     "data": {
      "text/plain": [
       "NodeDataView({1: {'y': 65, 'x': 10, 'revenue': 310}, 2: {'y': 19, 'x': 9, 'revenue': 843}, 3: {'y': 8, 'x': 35, 'revenue': 1578}, 4: {'y': 17, 'x': 1, 'revenue': 813}, 5: {'y': 35, 'x': 21, 'revenue': 1452}, 6: {'y': 57, 'x': 15, 'revenue': 1031}, 7: {'y': 5, 'x': 26, 'revenue': 487}, 8: {'y': 20, 'x': 30, 'revenue': 491}, 9: {'y': 50, 'x': 29, 'revenue': 559}, 10: {'y': 19, 'x': 34, 'revenue': 622}, 11: {'y': 34, 'x': 5, 'revenue': 917}, 12: {'y': 1, 'x': 34, 'revenue': 1175}, 13: {'y': 12, 'x': 23, 'revenue': 1064}, 14: {'y': 22, 'x': 11, 'revenue': 930}, 15: {'y': 37, 'x': 11, 'revenue': 1354}, 16: {'y': 12, 'x': 19, 'revenue': 1259}, 17: {'y': 12, 'x': 3, 'revenue': 511}, 18: {'y': 32, 'x': 28, 'revenue': 1169}, 19: {'y': 45, 'x': 1, 'revenue': 679}, 20: {'y': 37, 'x': 14, 'revenue': 432}, 21: {'y': 55, 'x': 1, 'revenue': 1089}, 22: {'y': 36, 'x': 27, 'revenue': 386}, 23: {'y': 34, 'x': 23, 'revenue': 1099}, 24: {'y': 42, 'x': 13, 'revenue': 1326}, 25: {'y': 24, 'x': 11, 'revenue': 568}, 26: {'y': 19, 'x': 15, 'revenue': 507}, 27: {'y': 8, 'x': 29, 'revenue': 552}, 28: {'y': 16, 'x': 8, 'revenue': 673}, 29: {'y': 63, 'x': 9, 'revenue': 1229}, 30: {'y': 56, 'x': 28, 'revenue': 1598}})"
      ]
     },
     "execution_count": 7,
     "metadata": {},
     "output_type": "execute_result"
    }
   ],
   "source": [
    "D = G.to_directed()\n",
    "G.nodes(data=True)"
   ]
  },
  {
   "cell_type": "code",
   "execution_count": 8,
   "metadata": {},
   "outputs": [
    {
     "name": "stdout",
     "output_type": "stream",
     "text": [
      "Academic license - for non-commercial use only - expires 2021-08-02\n",
      "Using license file /opt/gurobi/gurobi.lic\n"
     ]
    }
   ],
   "source": [
    "root = 1\n",
    "pcst = gb.Model()\n",
    "\n",
    "# Objective function\n",
    "pcst.ModelSense = gb.GRB.MAXIMIZE\n",
    "\n",
    "\n",
    "# Decision Variables\n",
    "x = pcst.addVars(D.edges(), vtype=gb.GRB.BINARY, \n",
    "                 obj = [- D[i][j]['cost'] for i,j in D.edges()], \n",
    "                 name = 'x')\n",
    "\n",
    "y = pcst.addVars (G.nodes(), vtype = gb.GRB.BINARY, \n",
    "                  obj = [G.nodes[i]['revenue'] for i in G.nodes()],\n",
    "                 name = 'y')\n",
    "\n",
    "u = pcst.addVars (G.nodes(), vtype = gb.GRB.CONTINUOUS, \n",
    "                  lb = 0.0, ub = G.number_of_nodes(),\n",
    "                 name = 'u')\n",
    "\n",
    "\n",
    "# Root is in the solution\n",
    "pcst.addConstr(y[root] == 1, name = 'Fix_root')\n",
    "\n",
    "\n",
    "# Each node has exactly one incoming arc\n",
    "pcst.addConstrs((x.sum('*',j) == y[j] for j in G.nodes() if j != root), name='Node_in_deg')\n",
    "\n",
    "\n",
    "# Precedence constraints (MTZ constraints)\n",
    "pcst.addConstrs(((G.number_of_nodes() +  1) * x[i,j] + u[i] - u[j] <= G.number_of_nodes() for i,j in D.edges()),\n",
    "                name = 'MTZ')\n",
    "\n",
    "\n",
    "# Connectivity constraints\n",
    "pcst.addConstrs((x[j,k] <= y[j] for j in G.nodes() \n",
    "                 if j != root for k in D.neighbors(j)), name = 'Connect')\n",
    "\n",
    "\n",
    "pcst.update()\n",
    "pcst.write('pcst.lp')"
   ]
  },
  {
   "cell_type": "code",
   "execution_count": 9,
   "metadata": {},
   "outputs": [],
   "source": [
    "# All nodes are in the solution\n",
    "n_customer = len(G.nodes())\n",
    "pcst.addConstr((y.sum('*') == n_customer), name='All_customers')\n",
    "\n",
    "pcst.update()"
   ]
  },
  {
   "cell_type": "markdown",
   "metadata": {},
   "source": [
    "## Net 1"
   ]
  },
  {
   "cell_type": "code",
   "execution_count": 10,
   "metadata": {},
   "outputs": [],
   "source": [
    "# Net 1 constraints\n",
    "pcst.addConstrs((x.sum(j,'*')+x.sum('*',j) <= 3 for j in G.nodes() if j != root), name='node_max_deg')\n",
    "\n",
    "pcst.update()"
   ]
  },
  {
   "cell_type": "code",
   "execution_count": 11,
   "metadata": {
    "scrolled": true
   },
   "outputs": [
    {
     "name": "stdout",
     "output_type": "stream",
     "text": [
      "Gurobi Optimizer version 9.1.2 build v9.1.2rc0 (linux64)\n",
      "Thread count: 6 physical cores, 12 logical processors, using up to 12 threads\n",
      "Optimize a model with 1771 rows, 930 columns and 6875 nonzeros\n",
      "Model fingerprint: 0x0a0243f3\n",
      "Variable types: 30 continuous, 900 integer (900 binary)\n",
      "Coefficient statistics:\n",
      "  Matrix range     [1e+00, 3e+01]\n",
      "  Objective range  [1e+02, 7e+03]\n",
      "  Bounds range     [1e+00, 3e+01]\n",
      "  RHS range        [1e+00, 3e+01]\n",
      "Presolve removed 872 rows and 60 columns\n",
      "Presolve time: 0.00s\n",
      "Presolved: 899 rows, 870 columns, 4147 nonzeros\n",
      "Variable types: 29 continuous, 841 integer (841 binary)\n",
      "Found heuristic solution: objective -75121.00000\n",
      "\n",
      "Root relaxation: objective 1.375974e+04, 68 iterations, 0.00 seconds\n",
      "\n",
      "    Nodes    |    Current Node    |     Objective Bounds      |     Work\n",
      " Expl Unexpl |  Obj  Depth IntInf | Incumbent    BestBd   Gap | It/Node Time\n",
      "\n",
      "     0     0 13759.7419    0   22 -75121.000 13759.7419   118%     -    0s\n",
      "H    0     0                    9945.0000000 13759.7419  38.4%     -    0s\n",
      "     0     0 11208.1290    0   18 9945.00000 11208.1290  12.7%     -    0s\n",
      "H    0     0                    10424.000000 11208.1290  7.52%     -    0s\n",
      "     0     0 11123.0000    0   18 10424.0000 11123.0000  6.71%     -    0s\n",
      "     0     0 11123.0000    0   18 10424.0000 11123.0000  6.71%     -    0s\n",
      "     0     0 11123.0000    0   18 10424.0000 11123.0000  6.71%     -    0s\n",
      "     0     0 11123.0000    0   22 10424.0000 11123.0000  6.71%     -    0s\n",
      "     0     0 11123.0000    0   16 10424.0000 11123.0000  6.71%     -    0s\n",
      "     0     0 11123.0000    0   18 10424.0000 11123.0000  6.71%     -    0s\n",
      "     0     0 11123.0000    0   18 10424.0000 11123.0000  6.71%     -    0s\n",
      "     0     0 11119.4526    0   16 10424.0000 11119.4526  6.67%     -    0s\n",
      "     0     0 11053.0000    0   18 10424.0000 11053.0000  6.03%     -    0s\n",
      "     0     0 11050.9904    0   23 10424.0000 11050.9904  6.01%     -    0s\n",
      "     0     0 11050.9904    0   23 10424.0000 11050.9904  6.01%     -    0s\n",
      "H    0     0                    10474.000000 11050.9904  5.51%     -    0s\n",
      "     0     0 11027.0000    0   25 10474.0000 11027.0000  5.28%     -    0s\n",
      "     0     0 11025.2000    0   23 10474.0000 11025.2000  5.26%     -    0s\n",
      "     0     0 11025.2000    0   23 10474.0000 11025.2000  5.26%     -    0s\n",
      "     0     0 11011.7519    0   20 10474.0000 11011.7519  5.13%     -    0s\n",
      "     0     0 11009.4211    0   20 10474.0000 11009.4211  5.11%     -    0s\n",
      "     0     0 11009.4211    0   20 10474.0000 11009.4211  5.11%     -    0s\n",
      "     0     0 11000.0000    0   20 10474.0000 11000.0000  5.02%     -    0s\n",
      "     0     0 10986.1553    0   22 10474.0000 10986.1553  4.89%     -    0s\n",
      "     0     0 10923.5000    0   18 10474.0000 10923.5000  4.29%     -    0s\n",
      "     0     0 10921.1000    0   21 10474.0000 10921.1000  4.27%     -    0s\n",
      "     0     0 10921.0826    0   21 10474.0000 10921.0826  4.27%     -    0s\n",
      "     0     0 10921.0826    0   21 10474.0000 10921.0826  4.27%     -    0s\n",
      "     0     0 10921.0826    0   21 10474.0000 10921.0826  4.27%     -    0s\n",
      "     0     0 10921.0826    0   21 10474.0000 10921.0826  4.27%     -    0s\n",
      "     0     0 10904.8826    0   21 10474.0000 10904.8826  4.11%     -    0s\n",
      "     0     0 10904.8826    0   22 10474.0000 10904.8826  4.11%     -    0s\n",
      "     0     0 10904.8826    0   21 10474.0000 10904.8826  4.11%     -    0s\n",
      "     0     0 10904.8826    0   21 10474.0000 10904.8826  4.11%     -    0s\n",
      "     0     0 10904.8826    0   21 10474.0000 10904.8826  4.11%     -    0s\n",
      "     0     0 10904.8826    0   21 10474.0000 10904.8826  4.11%     -    0s\n",
      "     0     0 10904.8826    0   22 10474.0000 10904.8826  4.11%     -    0s\n",
      "     0     0 10904.8826    0   22 10474.0000 10904.8826  4.11%     -    0s\n",
      "     0     0 10904.8826    0   23 10474.0000 10904.8826  4.11%     -    0s\n",
      "     0     0 10904.8826    0   23 10474.0000 10904.8826  4.11%     -    0s\n",
      "     0     2 10779.5000    0   23 10474.0000 10779.5000  2.92%     -    0s\n",
      "*   90     9               9    10496.000000 10566.7437  0.67%   4.3    0s\n",
      "\n",
      "Cutting planes:\n",
      "  Learned: 14\n",
      "  Gomory: 2\n",
      "  Implied bound: 5\n",
      "  MIR: 14\n",
      "  GUB cover: 1\n",
      "  RLT: 1\n",
      "  Relax-and-lift: 2\n",
      "\n",
      "Explored 100 nodes (896 simplex iterations) in 0.17 seconds\n",
      "Thread count was 12 (of 12 available processors)\n",
      "\n",
      "Solution count 5: 10496 10474 10424 ... -75121\n",
      "\n",
      "Optimal solution found (tolerance 1.00e-04)\n",
      "Best objective 1.049600000000e+04, best bound 1.049600000000e+04, gap 0.0000%\n"
     ]
    }
   ],
   "source": [
    "pcst.optimize()"
   ]
  },
  {
   "cell_type": "code",
   "execution_count": 12,
   "metadata": {},
   "outputs": [
    {
     "name": "stdout",
     "output_type": "stream",
     "text": [
      "Net 1:  10496.0\n"
     ]
    },
    {
     "data": {
      "image/png": "[encoded data removed]",
      "text/plain": [
       "<Figure size 720x720 with 1 Axes>"
      ]
     },
     "metadata": {},
     "output_type": "display_data"
    }
   ],
   "source": [
    "print(\"Net 1: \", pcst.objVal)\n",
    "DrawSol(D,x)"
   ]
  },
  {
   "cell_type": "markdown",
   "metadata": {},
   "source": [
    "## Net 2"
   ]
  },
  {
   "cell_type": "code",
   "execution_count": null,
   "metadata": {},
   "outputs": [],
   "source": [
    "constrs_to_remove = [const for const in pcst.getConstrs() if const.ConstrName.startswith('node_max_deg') ]\n",
    "pcst.remove(constrs_to_remove)\n",
    "\n",
    "# Net 2 constraints\n",
    "pcst.addConstr(x.sum(rootx.sum(root,'*') <= 4, name='root_max_deg')\n",
    "\n",
    "pcst.update()"
   ]
  },
  {
   "cell_type": "code",
   "execution_count": null,
   "metadata": {
    "scrolled": true
   },
   "outputs": [],
   "source": [
    "pcst.optimize()"
   ]
  },
  {
   "cell_type": "code",
   "execution_count": null,
   "metadata": {
    "scrolled": true
   },
   "outputs": [],
   "source": [
    "print(\"Net 2: \", pcst.objVal)\n",
    "DrawSol(D,x)"
   ]
  }
 ],
 "metadata": {
  "anaconda-cloud": {},
  "kernelspec": {
   "display_name": "Python 3",
   "language": "python",
   "name": "python3"
  },
  "language_info": {
   "codemirror_mode": {
    "name": "ipython",
    "version": 3
   },
   "file_extension": ".py",
   "mimetype": "text/x-python",
   "name": "python",
   "nbconvert_exporter": "python",
   "pygments_lexer": "ipython3",
   "version": "3.8.5"
  }
 },
 "nbformat": 4,
 "nbformat_minor": 1
}
