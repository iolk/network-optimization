{
 "cells": [
  {
   "cell_type": "markdown",
   "metadata": {},
   "source": [
    "## Totale 4/06/2019\n",
    "### Esercizio 2\n",
    "Alessandro Lodi<br>\n",
    "Matricola 274425"
   ]
  },
  {
   "cell_type": "markdown",
   "metadata": {},
   "source": [
    "### Notebook Init"
   ]
  },
  {
   "cell_type": "code",
   "execution_count": 1,
   "metadata": {},
   "outputs": [],
   "source": [
    "import networkx as nx\n",
    "import gurobipy as gb\n",
    "import matplotlib.pyplot as plt\n",
    "from itertools import combinations, chain\n",
    "import pygraphviz as pygv\n",
    "import os\n",
    "from IPython.display import SVG, display"
   ]
  },
  {
   "cell_type": "code",
   "execution_count": 2,
   "metadata": {},
   "outputs": [
    {
     "data": {
      "text/html": [
       "<style>.container { width:100% !important; }</style>"
      ],
      "text/plain": [
       "<IPython.core.display.HTML object>"
      ]
     },
     "metadata": {},
     "output_type": "display_data"
    }
   ],
   "source": [
    "from IPython.core.display import display, HTML\n",
    "display(HTML(\"<style>.container { width:100% !important; }</style>\"))"
   ]
  },
  {
   "cell_type": "code",
   "execution_count": 7,
   "metadata": {},
   "outputs": [],
   "source": [
    "class args:\n",
    "    filename = \"atsp04062019R1.gml\"\n",
    "    scale = 40\n",
    "    figsize = 5,5"
   ]
  },
  {
   "cell_type": "code",
   "execution_count": 8,
   "metadata": {},
   "outputs": [],
   "source": [
    "def powerset(iterable):\n",
    "    \"powerset([1,2,3]) --> () (1,) (2,) (3,) (1,2) (1,3) (2,3) (1,2,3)\"\n",
    "    s = list(iterable)\n",
    "    return chain.from_iterable(combinations(s, r) for r in range(len(s)+1))"
   ]
  },
  {
   "cell_type": "markdown",
   "metadata": {},
   "source": [
    "### Drawing functions"
   ]
  },
  {
   "cell_type": "code",
   "execution_count": 12,
   "metadata": {},
   "outputs": [],
   "source": [
    "def DrawInitG(G, withedges=False):\n",
    "    \n",
    "    plt.figure(figsize=args.figsize)\n",
    "    \n",
    "    pos = {i:(G.nodes[i]['x'], G.nodes[i]['y']) for i in G.nodes()}\n",
    "    \n",
    "    nx.draw_networkx_nodes(G, \n",
    "                           pos=pos, \n",
    "                           node_shape='o', \n",
    "                           node_size=600,\n",
    "                           node_color='red')\n",
    "    \n",
    "    nx.draw_networkx_labels(G, pos=pos, font_color='w', font_size=12)\n",
    "    \n",
    "    if withedges:\n",
    "        nx.draw_networkx_edges(G,pos=pos, alpha=1.0)\n",
    "        labels = {(i,j):G.get_edge_data(i,j,'cost').get('cost') for i,j in G.edges()}\n",
    "        nx.draw_networkx_edge_labels(G, pos=pos, edge_labels=labels)\n",
    "    \n",
    "    plt.axis('off')\n",
    "    plt.show()\n",
    "    \n",
    "def DrawSol(G, x):\n",
    "    \n",
    "    plt.figure(figsize=args.figsize)\n",
    "    \n",
    "    pos = {i:(G.nodes[i]['x'], G.nodes[i]['y']) for i in G.nodes()}\n",
    "\n",
    "    \n",
    "    nx.draw_networkx_nodes(G, \n",
    "                           pos=pos, \n",
    "                           node_shape='o', \n",
    "                           node_size=600,\n",
    "                           node_color='red',\n",
    "                           label=[G.nodes()])\n",
    "    \n",
    "    nx.draw_networkx_labels(G, pos=pos, font_color='w', font_size=12)\n",
    "    \n",
    "    for u,v in G.edges():\n",
    "        if x[u,v].x > 0.01 and x[u,v].x < 0.9:\n",
    "            nx.draw_networkx_edges(G, pos=pos,\n",
    "                                   edgelist=[(u,v)],\n",
    "                                   edge_color='r')\n",
    "            \n",
    "            nx.draw_networkx_edge_labels(G, pos=pos,\n",
    "                                         edge_labels={(u,v):'{:.2f}'.format(x[u,v].x)})\n",
    "        \n",
    "        if x[u,v].x > 0.9:\n",
    "            nx.draw_networkx_edges(G, pos=pos,\n",
    "                                   edgelist=[(u,v)],\n",
    "                                   edge_color='k')\n",
    "        \n",
    "    plt.axis('off')\n",
    "    plt.show()\n",
    "    \n",
    "    \n",
    "def DrawSubtour (G, x, subtour):\n",
    "\n",
    "    plt.figure(figsize=args.figsize)\n",
    "    \n",
    "    pos = {i:(G.nodes[i]['x'], G.nodes[i]['y']) for i in G.nodes()}\n",
    "\n",
    "\n",
    "    nx.draw_networkx_nodes(G, \n",
    "                           pos=pos, \n",
    "                           node_shape='o', \n",
    "                           node_size=600,\n",
    "                           node_color='white',\n",
    "                           edgecolors='black',\n",
    "                           label=[G.nodes()])\n",
    "    \n",
    "    \n",
    "    nx.draw_networkx_labels(G, pos=pos, font_color='k', font_size=8)\n",
    "    \n",
    "    \n",
    "    nx.draw_networkx_nodes(G, \n",
    "                           pos=pos, \n",
    "                           node_shape='o',\n",
    "                           nodelist=subtour,\n",
    "                           node_size=600,\n",
    "                           node_color='white',\n",
    "                           edgecolors='black',\n",
    "                           label=[G.nodes()])\n",
    "        \n",
    "    \n",
    "\n",
    "    nx.draw_networkx_labels(G, pos=pos, font_color='k', font_size=8)\n",
    "    \n",
    "    \n",
    "    subtouredges = [(u,v) for u in subtour for v in subtour if u != v and G.has_edge(u,v)]\n",
    "    \n",
    "    for u,v in subtouredges:\n",
    "        if x[u,v].x > 0.01 and x[u,v].x < 0.99:\n",
    "\n",
    "            nx.draw_networkx_edges(G, pos=pos,\n",
    "                                   edgelist=[(u,v)],\n",
    "                                   edge_color='r')\n",
    "\n",
    "            nx.draw_networkx_edge_labels(G, pos=pos, \n",
    "                                         edge_labels={(u,v):f'[{x[u,v].x:.2f}, {x[v,u].x:.2f}]'})\n",
    "\n",
    "            \n",
    "        if x[u,v].x > 0.9:\n",
    "            nx.draw_networkx_edges(G, pos=pos,\n",
    "                                   edgelist=[(u,v)],\n",
    "                                   edge_color='k')\n",
    "            \n",
    "    plt.axis('off')\n",
    "    plt.show()"
   ]
  },
  {
   "cell_type": "code",
   "execution_count": 14,
   "metadata": {},
   "outputs": [
    {
     "name": "stdout",
     "output_type": "stream",
     "text": [
      "G has 30 nodes and 870 edges\n"
     ]
    }
   ],
   "source": [
    "# Graph reading\n",
    "basename = os.path.splitext(args.filename)[0]\n",
    "G = nx.read_graphml (args.filename, node_type=int)\n",
    "print (\"G has\", G.number_of_nodes(), \"nodes and\", G.number_of_edges(), \"edges\")"
   ]
  },
  {
   "cell_type": "code",
   "execution_count": 17,
   "metadata": {},
   "outputs": [
    {
     "data": {
      "text/plain": [
       "OutEdgeDataView([(1, 2, {'dist': 2327}), (1, 3, {'dist': 2925}), (1, 4, {'dist': 4182}), (1, 5, {'dist': 1935}), (1, 6, {'dist': 3126}), (1, 7, {'dist': 1238}), (1, 8, {'dist': 3900}), (1, 9, {'dist': 912}), (1, 10, {'dist': 2238}), (1, 11, {'dist': 442}), (1, 12, {'dist': 4268}), (1, 13, {'dist': 3025}), (1, 14, {'dist': 1839}), (1, 15, {'dist': 1209}), (1, 16, {'dist': 3017}), (1, 17, {'dist': 1179}), (1, 18, {'dist': 3894}), (1, 19, {'dist': 3536}), (1, 20, {'dist': 2587}), (1, 21, {'dist': 1765}), (1, 22, {'dist': 1491}), (1, 23, {'dist': 3748}), (1, 24, {'dist': 2807}), (1, 25, {'dist': 886}), (1, 26, {'dist': 2316}), (1, 27, {'dist': 1363}), (1, 28, {'dist': 1870}), (1, 29, {'dist': 3086}), (1, 30, {'dist': 2407}), (2, 1, {'dist': 2191}), (2, 3, {'dist': 4257}), (2, 4, {'dist': 2707}), (2, 5, {'dist': 2827}), (2, 6, {'dist': 1343}), (2, 7, {'dist': 2283}), (2, 8, {'dist': 2344}), (2, 9, {'dist': 1568}), (2, 10, {'dist': 167}), (2, 11, {'dist': 2528}), (2, 12, {'dist': 3041}), (2, 13, {'dist': 1669}), (2, 14, {'dist': 852}), (2, 15, {'dist': 2179}), (2, 16, {'dist': 3051}), (2, 17, {'dist': 2457}), (2, 18, {'dist': 3102}), (2, 19, {'dist': 1840}), (2, 20, {'dist': 2682}), (2, 21, {'dist': 2373}), (2, 22, {'dist': 835}), (2, 23, {'dist': 1613}), (2, 24, {'dist': 679}), (2, 25, {'dist': 2388}), (2, 26, {'dist': 891}), (2, 27, {'dist': 1339}), (2, 28, {'dist': 948}), (2, 29, {'dist': 2731}), (2, 30, {'dist': 673}), (3, 1, {'dist': 2998}), (3, 2, {'dist': 4197}), (3, 4, {'dist': 6735}), (3, 5, {'dist': 4889}), (3, 6, {'dist': 5368}), (3, 7, {'dist': 4200}), (3, 8, {'dist': 6462}), (3, 9, {'dist': 3048}), (3, 10, {'dist': 4081}), (3, 11, {'dist': 2721}), (3, 12, {'dist': 3940}), (3, 13, {'dist': 5594}), (3, 14, {'dist': 3501}), (3, 15, {'dist': 4036}), (3, 16, {'dist': 5849}), (3, 17, {'dist': 1978}), (3, 18, {'dist': 6709}), (3, 19, {'dist': 5978}), (3, 20, {'dist': 5456}), (3, 21, {'dist': 4653}), (3, 22, {'dist': 3724}), (3, 23, {'dist': 5553}), (3, 24, {'dist': 4850}), (3, 25, {'dist': 2198}), (3, 26, {'dist': 3574}), (3, 27, {'dist': 2936}), (3, 28, {'dist': 4410}), (3, 29, {'dist': 5975}), (3, 30, {'dist': 3850}), (4, 1, {'dist': 4257}), (4, 2, {'dist': 2692}), (4, 3, {'dist': 6489}), (4, 5, {'dist': 3290}), (4, 6, {'dist': 1484}), (4, 7, {'dist': 3650}), (4, 8, {'dist': 437}), (4, 9, {'dist': 3841}), (4, 10, {'dist': 2760}), (4, 11, {'dist': 4576}), (4, 12, {'dist': 5399}), (4, 13, {'dist': 1309}), (4, 14, {'dist': 3350}), (4, 15, {'dist': 3437}), (4, 16, {'dist': 2345}), (4, 17, {'dist': 4926}), (4, 18, {'dist': 1748}), (4, 19, {'dist': 932}), (4, 20, {'dist': 2363}), (4, 21, {'dist': 2982}), (4, 22, {'dist': 3216}), (4, 23, {'dist': 2111}), (4, 24, {'dist': 2035}), (4, 25, {'dist': 4590}), (4, 26, {'dist': 3440}), (4, 27, {'dist': 3794}), (4, 28, {'dist': 2357}), (4, 29, {'dist': 2320}), (4, 30, {'dist': 3290}), (5, 1, {'dist': 1999}), (5, 2, {'dist': 2806}), (5, 3, {'dist': 4950}), (5, 4, {'dist': 3265}), (5, 6, {'dist': 2707}), (5, 7, {'dist': 841}), (5, 8, {'dist': 2904}), (5, 9, {'dist': 2411}), (5, 10, {'dist': 2789}), (5, 11, {'dist': 2226}), (5, 12, {'dist': 5546}), (5, 13, {'dist': 2283}), (5, 14, {'dist': 2260}), (5, 15, {'dist': 982}), (5, 16, {'dist': 1256}), (5, 17, {'dist': 3159}), (5, 18, {'dist': 2341}), (5, 19, {'dist': 2946}), (5, 20, {'dist': 1006}), (5, 21, {'dist': 578}), (5, 22, {'dist': 2292}), (5, 23, {'dist': 3545}), (5, 24, {'dist': 2815}), (5, 25, {'dist': 2825}), (5, 26, {'dist': 3367}), (5, 27, {'dist': 2682}), (5, 28, {'dist': 1891}), (5, 29, {'dist': 1433}), (5, 30, {'dist': 3335}), (6, 1, {'dist': 3145}), (6, 2, {'dist': 1364}), (6, 3, {'dist': 5427}), (6, 4, {'dist': 1521}), (6, 5, {'dist': 2902}), (6, 7, {'dist': 2799}), (6, 8, {'dist': 1220}), (6, 9, {'dist': 2632}), (6, 10, {'dist': 1458}), (6, 11, {'dist': 3397}), (6, 12, {'dist': 4089}), (6, 13, {'dist': 670}), (6, 14, {'dist': 2016}), (6, 15, {'dist': 2624}), (6, 16, {'dist': 2379}), (6, 17, {'dist': 3336}), (6, 18, {'dist': 2477}), (6, 19, {'dist': 670}), (6, 20, {'dist': 2160}), (6, 21, {'dist': 2316}), (6, 22, {'dist': 1958}), (6, 23, {'dist': 1246}), (6, 24, {'dist': 760}), (6, 25, {'dist': 3407}), (6, 26, {'dist': 2090}), (6, 27, {'dist': 2455}), (6, 28, {'dist': 1172}), (6, 29, {'dist': 2309}), (6, 30, {'dist': 1990}), (7, 1, {'dist': 1366}), (7, 2, {'dist': 2492}), (7, 3, {'dist': 4210}), (7, 4, {'dist': 3615}), (7, 5, {'dist': 778}), (7, 6, {'dist': 2823}), (7, 8, {'dist': 3310}), (7, 9, {'dist': 1745}), (7, 10, {'dist': 2624}), (7, 11, {'dist': 1627}), (7, 12, {'dist': 5176}), (7, 13, {'dist': 2528}), (7, 14, {'dist': 2384}), (7, 15, {'dist': 459}), (7, 16, {'dist': 1854}), (7, 17, {'dist': 2522}), (7, 18, {'dist': 2868}), (7, 19, {'dist': 3247}), (7, 20, {'dist': 1582}), (7, 21, {'dist': 677}), (7, 22, {'dist': 1933}), (7, 23, {'dist': 3821}), (7, 24, {'dist': 2767}), (7, 25, {'dist': 2111}), (7, 26, {'dist': 2991}), (7, 27, {'dist': 2227}), (7, 28, {'dist': 1799}), (7, 29, {'dist': 1989}), (7, 30, {'dist': 3016}), (8, 1, {'dist': 3850}), (8, 2, {'dist': 2462}), (8, 3, {'dist': 6418}), (8, 4, {'dist': 382}), (8, 5, {'dist': 2975}), (8, 6, {'dist': 1208}), (8, 7, {'dist': 3261}), (8, 9, {'dist': 3451}), (8, 10, {'dist': 2539}), (8, 11, {'dist': 4238}), (8, 12, {'dist': 5168}), (8, 13, {'dist': 953}), (8, 14, {'dist': 3032}), (8, 15, {'dist': 3034}), (8, 16, {'dist': 2245}), (8, 17, {'dist': 4617}), (8, 18, {'dist': 1669}), (8, 19, {'dist': 690}), (8, 20, {'dist': 2106}), (8, 21, {'dist': 2639}), (8, 22, {'dist': 2862}), (8, 23, {'dist': 1992}), (8, 24, {'dist': 1711}), (8, 25, {'dist': 4357}), (8, 26, {'dist': 3254}), (8, 27, {'dist': 3510}), (8, 28, {'dist': 2031}), (8, 29, {'dist': 1982}), (8, 30, {'dist': 3019}), (9, 1, {'dist': 881}), (9, 2, {'dist': 1482}), (9, 3, {'dist': 2988}), (9, 4, {'dist': 3822}), (9, 5, {'dist': 2401}), (9, 6, {'dist': 2630}), (9, 7, {'dist': 1753}), (9, 8, {'dist': 3410}), (9, 10, {'dist': 1519}), (9, 11, {'dist': 1059}), (9, 12, {'dist': 3521}), (9, 13, {'dist': 2550}), (9, 14, {'dist': 976}), (9, 15, {'dist': 1478}), (9, 16, {'dist': 3154}), (9, 17, {'dist': 1181}), (9, 18, {'dist': 3821}), (9, 19, {'dist': 3139}), (9, 20, {'dist': 2702}), (9, 21, {'dist': 1985}), (9, 22, {'dist': 831}), (9, 23, {'dist': 3171}), (9, 24, {'dist': 2113}), (9, 25, {'dist': 987}), (9, 26, {'dist': 1464}), (9, 27, {'dist': 485}), (9, 28, {'dist': 1460}), (9, 29, {'dist': 3237}), (9, 30, {'dist': 1676}), (10, 1, {'dist': 2246}), (10, 2, {'dist': 249}), (10, 3, {'dist': 4101}), (10, 4, {'dist': 2779}), (10, 5, {'dist': 2925}), (10, 6, {'dist': 1444}), (10, 7, {'dist': 2567}), (10, 8, {'dist': 2495}), (10, 9, {'dist': 1547}), (10, 11, {'dist': 2444}), (10, 12, {'dist': 2999}), (10, 13, {'dist': 1797}), (10, 14, {'dist': 727}), (10, 15, {'dist': 2314}), (10, 16, {'dist': 3064}), (10, 17, {'dist': 2473}), (10, 18, {'dist': 3438}), (10, 19, {'dist': 2015}), (10, 20, {'dist': 2710}), (10, 21, {'dist': 2384}), (10, 22, {'dist': 841}), (10, 23, {'dist': 1754}), (10, 24, {'dist': 840}), (10, 25, {'dist': 2365}), (10, 26, {'dist': 757}), (10, 27, {'dist': 1329}), (10, 28, {'dist': 1068}), (10, 29, {'dist': 2984}), (10, 30, {'dist': 682}), (11, 1, {'dist': 425}), (11, 2, {'dist': 2535}), (11, 3, {'dist': 2745}), (11, 4, {'dist': 4622}), (11, 5, {'dist': 2294}), (11, 6, {'dist': 3366}), (11, 7, {'dist': 1635}), (11, 8, {'dist': 4232}), (11, 9, {'dist': 1058}), (11, 10, {'dist': 2487}), (11, 12, {'dist': 4253}), (11, 13, {'dist': 3310}), (11, 14, {'dist': 1966}), (11, 15, {'dist': 1554}), (11, 16, {'dist': 3359}), (11, 17, {'dist': 1015}), (11, 18, {'dist': 4222}), (11, 19, {'dist': 3925}), (11, 20, {'dist': 2863}), (11, 21, {'dist': 2102}), (11, 22, {'dist': 1754}), (11, 23, {'dist': 4120}), (11, 24, {'dist': 3035}), (11, 25, {'dist': 739}), (11, 26, {'dist': 2405}), (11, 27, {'dist': 1434}), (11, 28, {'dist': 2299}), (11, 29, {'dist': 3382}), (11, 30, {'dist': 2722}), (12, 1, {'dist': 4262}), (12, 2, {'dist': 3130}), (12, 3, {'dist': 3827}), (12, 4, {'dist': 5303}), (12, 5, {'dist': 5655}), (12, 6, {'dist': 4044}), (12, 7, {'dist': 5145}), (12, 8, {'dist': 5062}), (12, 9, {'dist': 3789}), (12, 10, {'dist': 3025}), (12, 11, {'dist': 4183}), (12, 13, {'dist': 4664}), (12, 14, {'dist': 2864}), (12, 15, {'dist': 4820}), (12, 16, {'dist': 6004}), (12, 17, {'dist': 3478}), (12, 18, {'dist': 6288}), (12, 19, {'dist': 4421}), (12, 20, {'dist': 5639}), (12, 21, {'dist': 5212}), (12, 22, {'dist': 3426}), (12, 23, {'dist': 3368}), (12, 24, {'dist': 3460}), (12, 25, {'dist': 3590}), (12, 26, {'dist': 2297}), (12, 27, {'dist': 3100}), (12, 28, {'dist': 4009}), (12, 29, {'dist': 5934}), (12, 30, {'dist': 2362}), (13, 1, {'dist': 3042}), (13, 2, {'dist': 1732}), (13, 3, {'dist': 5540}), (13, 4, {'dist': 1001}), (13, 5, {'dist': 2267}), (13, 6, {'dist': 752}), (13, 7, {'dist': 2419}), (13, 8, {'dist': 938}), (13, 9, {'dist': 2668}), (13, 10, {'dist': 1813}), (13, 11, {'dist': 3396}), (13, 12, {'dist': 4616}), (13, 14, {'dist': 2238}), (13, 15, {'dist': 2264}), (13, 16, {'dist': 1772}), (13, 17, {'dist': 3705}), (13, 18, {'dist': 1754}), (13, 19, {'dist': 745}), (13, 20, {'dist': 1650}), (13, 21, {'dist': 2001}), (13, 22, {'dist': 2025}), (13, 23, {'dist': 1984}), (13, 24, {'dist': 1175}), (13, 25, {'dist': 3509}), (13, 26, {'dist': 2422}), (13, 27, {'dist': 2739}), (13, 28, {'dist': 1124}), (13, 29, {'dist': 1691}), (13, 30, {'dist': 2309}), (14, 1, {'dist': 1843}), (14, 2, {'dist': 824}), (14, 3, {'dist': 3515}), (14, 4, {'dist': 3365}), (14, 5, {'dist': 2848}), (14, 6, {'dist': 1981}), (14, 7, {'dist': 2402}), (14, 8, {'dist': 3042}), (14, 9, {'dist': 913}), (14, 10, {'dist': 646}), (14, 11, {'dist': 1977}), (14, 12, {'dist': 2800}), (14, 13, {'dist': 2345}), (14, 15, {'dist': 2065}), (14, 16, {'dist': 3310}), (14, 17, {'dist': 1707}), (14, 18, {'dist': 3862}), (14, 19, {'dist': 2475}), (14, 20, {'dist': 2912}), (14, 21, {'dist': 2441}), (14, 22, {'dist': 600}), (14, 23, {'dist': 2260}), (14, 24, {'dist': 1550}), (14, 25, {'dist': 1640}), (14, 26, {'dist': 597}), (14, 27, {'dist': 647}), (14, 28, {'dist': 1276}), (14, 29, {'dist': 3328}), (14, 30, {'dist': 777}), (15, 1, {'dist': 1145}), (15, 2, {'dist': 2297}), (15, 3, {'dist': 4142}), (15, 4, {'dist': 3392}), (15, 5, {'dist': 951}), (15, 6, {'dist': 2628}), (15, 7, {'dist': 324}), (15, 8, {'dist': 3086}), (15, 9, {'dist': 1591}), (15, 10, {'dist': 2184}), (15, 11, {'dist': 1548}), (15, 12, {'dist': 4851}), (15, 13, {'dist': 2312}), (15, 14, {'dist': 2089}), (15, 16, {'dist': 1932}), (15, 17, {'dist': 2273}), (15, 18, {'dist': 2881}), (15, 19, {'dist': 2941}), (15, 20, {'dist': 1504}), (15, 21, {'dist': 728}), (15, 22, {'dist': 1605}), (15, 23, {'dist': 3583}), (15, 24, {'dist': 2441}), (15, 25, {'dist': 2019}), (15, 26, {'dist': 2565}), (15, 27, {'dist': 1889}), (15, 28, {'dist': 1445}), (15, 29, {'dist': 2052}), (15, 30, {'dist': 2661}), (16, 1, {'dist': 2926}), (16, 2, {'dist': 3057}), (16, 3, {'dist': 5838}), (16, 4, {'dist': 2337}), (16, 5, {'dist': 1291}), (16, 6, {'dist': 2516}), (16, 7, {'dist': 1894}), (16, 8, {'dist': 2100}), (16, 9, {'dist': 3108}), (16, 10, {'dist': 3020}), (16, 11, {'dist': 3255}), (16, 12, {'dist': 5960}), (16, 13, {'dist': 1758}), (16, 14, {'dist': 3318}), (16, 15, {'dist': 1904}), (16, 17, {'dist': 4130}), (16, 18, {'dist': 1165}), (16, 19, {'dist': 2501}), (16, 20, {'dist': 467}), (16, 21, {'dist': 1296}), (16, 22, {'dist': 2705}), (16, 23, {'dist': 3645}), (16, 24, {'dist': 2799}), (16, 25, {'dist': 3771}), (16, 26, {'dist': 3661}), (16, 27, {'dist': 3427}), (16, 28, {'dist': 2149}), (16, 29, {'dist': 305}), (16, 30, {'dist': 3724}), (17, 1, {'dist': 1172}), (17, 2, {'dist': 2467}), (17, 3, {'dist': 1983}), (17, 4, {'dist': 4978}), (17, 5, {'dist': 3139}), (17, 6, {'dist': 3575}), (17, 7, {'dist': 2408}), (17, 8, {'dist': 4510}), (17, 9, {'dist': 1136}), (17, 10, {'dist': 2388}), (17, 11, {'dist': 1080}), (17, 12, {'dist': 3445}), (17, 13, {'dist': 3725}), (17, 14, {'dist': 1820}), (17, 15, {'dist': 2347}), (17, 16, {'dist': 4029}), (17, 18, {'dist': 4857}), (17, 19, {'dist': 4064}), (17, 20, {'dist': 3652}), (17, 21, {'dist': 2945}), (17, 22, {'dist': 1843}), (17, 23, {'dist': 3992}), (17, 24, {'dist': 3081}), (17, 25, {'dist': 432}), (17, 26, {'dist': 2066}), (17, 27, {'dist': 1208}), (17, 28, {'dist': 2507}), (17, 29, {'dist': 4234}), (17, 30, {'dist': 2298}), (18, 1, {'dist': 3850}), (18, 2, {'dist': 3390}), (18, 3, {'dist': 6759}), (18, 4, {'dist': 1779}), (18, 5, {'dist': 2291}), (18, 6, {'dist': 2364}), (18, 7, {'dist': 2829}), (18, 8, {'dist': 1682}), (18, 9, {'dist': 3859}), (18, 10, {'dist': 3456}), (18, 11, {'dist': 4277}), (18, 12, {'dist': 6288}), (18, 13, {'dist': 1821}), (18, 14, {'dist': 3785}), (18, 15, {'dist': 2845}), (18, 16, {'dist': 1154}), (18, 17, {'dist': 4971}), (18, 19, {'dist': 2151}), (18, 20, {'dist': 1386}), (18, 21, {'dist': 2324}), (18, 22, {'dist': 3451}), (18, 23, {'dist': 3542}), (18, 24, {'dist': 2942}), (18, 25, {'dist': 4629}), (18, 26, {'dist': 4090}), (18, 27, {'dist': 4126}), (18, 28, {'dist': 2598}), (18, 29, {'dist': 996}), (18, 30, {'dist': 4026}), (19, 1, {'dist': 3587}), (19, 2, {'dist': 1807}), (19, 3, {'dist': 5930}), (19, 4, {'dist': 971}), (19, 5, {'dist': 3025}), (19, 6, {'dist': 581}), (19, 7, {'dist': 3195}), (19, 8, {'dist': 726}), (19, 9, {'dist': 3047}), (19, 10, {'dist': 1997}), (19, 11, {'dist': 3900}), (19, 12, {'dist': 4436}), (19, 13, {'dist': 739}), (19, 14, {'dist': 2556}), (19, 15, {'dist': 3006}), (19, 16, {'dist': 2459}), (19, 17, {'dist': 4166}), (19, 18, {'dist': 2200}), (19, 20, {'dist': 2337}), (19, 21, {'dist': 2640}), (19, 22, {'dist': 2334}), (19, 23, {'dist': 1462}), (19, 24, {'dist': 1234}), (19, 25, {'dist': 3949}), (19, 26, {'dist': 2668}), (19, 27, {'dist': 3022}), (19, 28, {'dist': 1703}), (19, 29, {'dist': 2331}), (19, 30, {'dist': 2452}), (20, 1, {'dist': 2557}), (20, 2, {'dist': 2664}), (20, 3, {'dist': 5425}), (20, 4, {'dist': 2323}), (20, 5, {'dist': 952}), (20, 6, {'dist': 2160}), (20, 7, {'dist': 1618}), (20, 8, {'dist': 2127}), (20, 9, {'dist': 2691}), (20, 10, {'dist': 2763}), (20, 11, {'dist': 2899}), (20, 12, {'dist': 5524}), (20, 13, {'dist': 1571}), (20, 14, {'dist': 2913}), (20, 15, {'dist': 1537}), (20, 16, {'dist': 528}), (20, 17, {'dist': 3695}), (20, 18, {'dist': 1456}), (20, 19, {'dist': 2305}), (20, 21, {'dist': 949}), (20, 22, {'dist': 2286}), (20, 23, {'dist': 3427}), (20, 24, {'dist': 2464}), (20, 25, {'dist': 3383}), (20, 26, {'dist': 3347}), (20, 27, {'dist': 2914}), (20, 28, {'dist': 1682}), (20, 29, {'dist': 658}), (20, 30, {'dist': 3214}), (21, 1, {'dist': 1782}), (21, 2, {'dist': 2387}), (21, 3, {'dist': 4720}), (21, 4, {'dist': 2968}), (21, 5, {'dist': 596}), (21, 6, {'dist': 2350}), (21, 7, {'dist': 738}), (21, 8, {'dist': 2700}), (21, 9, {'dist': 1967}), (21, 10, {'dist': 2437}), (21, 11, {'dist': 2055}), (21, 12, {'dist': 5224}), (21, 13, {'dist': 2017}), (21, 14, {'dist': 2380}), (21, 15, {'dist': 682}), (21, 16, {'dist': 1355}), (21, 17, {'dist': 2966}), (21, 18, {'dist': 2271}), (21, 19, {'dist': 2661}), (21, 20, {'dist': 869}), (21, 22, {'dist': 1792}), (21, 23, {'dist': 3553}), (21, 24, {'dist': 2399}), (21, 25, {'dist': 2513}), (21, 26, {'dist': 2877}), (21, 27, {'dist': 2346}), (21, 28, {'dist': 1529}), (21, 29, {'dist': 1392}), (21, 30, {'dist': 2913}), (22, 1, {'dist': 1381}), (22, 2, {'dist': 885}), (22, 3, {'dist': 3713}), (22, 4, {'dist': 3133}), (22, 5, {'dist': 2243}), (22, 6, {'dist': 1827}), (22, 7, {'dist': 1860}), (22, 8, {'dist': 2801}), (22, 9, {'dist': 819}), (22, 10, {'dist': 878}), (22, 11, {'dist': 1731}), (22, 12, {'dist': 3388}), (22, 13, {'dist': 2022}), (22, 14, {'dist': 619}), (22, 15, {'dist': 1479}), (22, 16, {'dist': 2712}), (22, 17, {'dist': 1899}), (22, 18, {'dist': 3452}), (22, 19, {'dist': 2415}), (22, 20, {'dist': 2284}), (22, 21, {'dist': 1812}), (22, 23, {'dist': 2398}), (22, 24, {'dist': 1402}), (22, 25, {'dist': 1576}), (22, 26, {'dist': 1104}), (22, 27, {'dist': 793}), (22, 28, {'dist': 894}), (22, 29, {'dist': 2742}), (22, 30, {'dist': 1295}), (23, 1, {'dist': 3862}), (23, 2, {'dist': 1632}), (23, 3, {'dist': 5668}), (23, 4, {'dist': 2224}), (23, 5, {'dist': 3946}), (23, 6, {'dist': 1285}), (23, 7, {'dist': 3845}), (23, 8, {'dist': 1978}), (23, 9, {'dist': 3107}), (23, 10, {'dist': 1725}), (23, 11, {'dist': 4104}), (23, 12, {'dist': 3322}), (23, 13, {'dist': 1862}), (23, 14, {'dist': 2225}), (23, 15, {'dist': 3573}), (23, 16, {'dist': 3692}), (23, 17, {'dist': 3984}), (23, 18, {'dist': 3529}), (23, 19, {'dist': 1364}), (23, 20, {'dist': 3353}), (23, 21, {'dist': 3470}), (23, 22, {'dist': 2521}), (23, 24, {'dist': 1129}), (23, 25, {'dist': 3904}), (23, 26, {'dist': 2076}), (23, 27, {'dist': 2917}), (23, 28, {'dist': 2227}), (23, 29, {'dist': 3544}), (23, 30, {'dist': 1806}), (24, 1, {'dist': 2795}), (24, 2, {'dist': 806}), (24, 3, {'dist': 4849}), (24, 4, {'dist': 2035}), (24, 5, {'dist': 2799}), (24, 6, {'dist': 719}), (24, 7, {'dist': 2765}), (24, 8, {'dist': 1849}), (24, 9, {'dist': 2210}), (24, 10, {'dist': 861}), (24, 11, {'dist': 3054}), (24, 12, {'dist': 3498}), (24, 13, {'dist': 1242}), (24, 14, {'dist': 1404}), (24, 15, {'dist': 2502}), (24, 16, {'dist': 2715}), (24, 17, {'dist': 3195}), (24, 18, {'dist': 2877}), (24, 19, {'dist': 1135}), (24, 20, {'dist': 2477}), (24, 21, {'dist': 2474}), (24, 22, {'dist': 1490}), (24, 23, {'dist': 1232}), (24, 25, {'dist': 2987}), (24, 26, {'dist': 1520}), (24, 27, {'dist': 1944}), (24, 28, {'dist': 1138}), (24, 29, {'dist': 2645}), (24, 30, {'dist': 1347}), (25, 1, {'dist': 858}), (25, 2, {'dist': 2303}), (25, 3, {'dist': 2247}), (25, 4, {'dist': 4692}), (25, 5, {'dist': 2788}), (25, 6, {'dist': 3380}), (25, 7, {'dist': 2231}), (25, 8, {'dist': 4396}), (25, 9, {'dist': 889}), (25, 10, {'dist': 2337}), (25, 11, {'dist': 715}), (25, 12, {'dist': 3648}), (25, 13, {'dist': 3462}), (25, 14, {'dist': 1685}), (25, 15, {'dist': 2009}), (25, 16, {'dist': 3804}), (25, 17, {'dist': 448}), (25, 18, {'dist': 4659}), (25, 19, {'dist': 3925}), (25, 20, {'dist': 3435}), (25, 21, {'dist': 2646}), (25, 22, {'dist': 1604}), (25, 23, {'dist': 3922}), (25, 24, {'dist': 3009}), (25, 26, {'dist': 2031}), (25, 27, {'dist': 1036}), (25, 28, {'dist': 2405}), (25, 29, {'dist': 3860}), (25, 30, {'dist': 2348}), (26, 1, {'dist': 2342}), (26, 2, {'dist': 825}), (26, 3, {'dist': 3661}), (26, 4, {'dist': 3450}), (26, 5, {'dist': 3336}), (26, 6, {'dist': 2139}), (26, 7, {'dist': 2975}), (26, 8, {'dist': 3251}), (26, 9, {'dist': 1511}), (26, 10, {'dist': 798}), (26, 11, {'dist': 2407}), (26, 12, {'dist': 2312}), (26, 13, {'dist': 2500}), (26, 14, {'dist': 579}), (26, 15, {'dist': 2666}), (26, 16, {'dist': 3699}), (26, 17, {'dist': 2033}), (26, 18, {'dist': 4225}), (26, 19, {'dist': 2603}), (26, 20, {'dist': 3262}), (26, 21, {'dist': 2943}), (26, 22, {'dist': 1167}), (26, 23, {'dist': 2091}), (26, 24, {'dist': 1445}), (26, 25, {'dist': 2122}), (26, 27, {'dist': 1106}), (26, 28, {'dist': 1628}), (26, 29, {'dist': 3639}), (26, 30, {'dist': 300}), (27, 1, {'dist': 1380}), (27, 2, {'dist': 1398}), (27, 3, {'dist': 2912}), (27, 4, {'dist': 3831}), (27, 5, {'dist': 2724}), (27, 6, {'dist': 2460}), (27, 7, {'dist': 2182}), (27, 8, {'dist': 3471}), (27, 9, {'dist': 466}), (27, 10, {'dist': 1250}), (27, 11, {'dist': 1542}), (27, 12, {'dist': 2982}), (27, 13, {'dist': 2734}), (27, 14, {'dist': 677}), (27, 15, {'dist': 1883}), (27, 16, {'dist': 3362}), (27, 17, {'dist': 1177}), (27, 18, {'dist': 4128}), (27, 19, {'dist': 3051}), (27, 20, {'dist': 2950}), (27, 21, {'dist': 2322}), (27, 22, {'dist': 787}), (27, 23, {'dist': 2916}), (27, 24, {'dist': 2042}), (27, 25, {'dist': 1106}), (27, 26, {'dist': 1007}), (27, 28, {'dist': 1657}), (27, 29, {'dist': 3512}), (27, 30, {'dist': 1341}), (28, 1, {'dist': 1933}), (28, 2, {'dist': 1003}), (28, 3, {'dist': 4481}), (28, 4, {'dist': 2346}), (28, 5, {'dist': 1932}), (28, 6, {'dist': 1194}), (28, 7, {'dist': 1733}), (28, 8, {'dist': 2040}), (28, 9, {'dist': 1552}), (28, 10, {'dist': 1001}), (28, 11, {'dist': 2207}), (28, 12, {'dist': 3988}), (28, 13, {'dist': 1265}), (28, 14, {'dist': 1332}), (28, 15, {'dist': 1405}), (28, 16, {'dist': 2055}), (28, 17, {'dist': 2525}), (28, 18, {'dist': 2642}), (28, 19, {'dist': 1770}), (28, 20, {'dist': 1768}), (28, 21, {'dist': 1427}), (28, 22, {'dist': 867}), (28, 23, {'dist': 2174}), (28, 24, {'dist': 1056}), (28, 25, {'dist': 2374}), (28, 26, {'dist': 1701}), (28, 27, {'dist': 1565}), (28, 29, {'dist': 2089}), (28, 30, {'dist': 1601}), (29, 1, {'dist': 3182}), (29, 2, {'dist': 2978}), (29, 3, {'dist': 6069}), (29, 4, {'dist': 2228}), (29, 5, {'dist': 1482}), (29, 6, {'dist': 2254}), (29, 7, {'dist': 2059}), (29, 8, {'dist': 2028}), (29, 9, {'dist': 3249}), (29, 10, {'dist': 3021}), (29, 11, {'dist': 3380}), (29, 12, {'dist': 5886}), (29, 13, {'dist': 1738}), (29, 14, {'dist': 3287}), (29, 15, {'dist': 1996}), (29, 16, {'dist': 358}), (29, 17, {'dist': 4204}), (29, 18, {'dist': 861}), (29, 19, {'dist': 2265}), (29, 20, {'dist': 621}), (29, 21, {'dist': 1437}), (29, 22, {'dist': 2811}), (29, 23, {'dist': 3460}), (29, 24, {'dist': 2636}), (29, 25, {'dist': 3834}), (29, 26, {'dist': 3688}), (29, 27, {'dist': 3405}), (29, 28, {'dist': 2062}), (29, 30, {'dist': 3693}), (30, 1, {'dist': 2511}), (30, 2, {'dist': 747}), (30, 3, {'dist': 3853}), (30, 4, {'dist': 3294}), (30, 5, {'dist': 3312}), (30, 6, {'dist': 1849}), (30, 7, {'dist': 3036}), (30, 8, {'dist': 2980}), (30, 9, {'dist': 1603}), (30, 10, {'dist': 694}), (30, 11, {'dist': 2689}), (30, 12, {'dist': 2344}), (30, 13, {'dist': 2256}), (30, 14, {'dist': 730}), (30, 15, {'dist': 2692}), (30, 16, {'dist': 3621}), (30, 17, {'dist': 2363}), (30, 18, {'dist': 4055}), (30, 19, {'dist': 2313}), (30, 20, {'dist': 3323}), (30, 21, {'dist': 2942}), (30, 22, {'dist': 1288}), (30, 23, {'dist': 1796}), (30, 24, {'dist': 1322}), (30, 25, {'dist': 2352}), (30, 26, {'dist': 388}), (30, 27, {'dist': 1305}), (30, 28, {'dist': 1641}), (30, 29, {'dist': 3555})])"
      ]
     },
     "execution_count": 17,
     "metadata": {},
     "output_type": "execute_result"
    }
   ],
   "source": [
    "G.edges(data=True)"
   ]
  },
  {
   "cell_type": "markdown",
   "metadata": {},
   "source": [
    "## ATSP\n",
    "\n",
    ">**Given**\n",
    ">A directed graph $G=(N,A)\\;$ and a cost (length, distance) $c_{ij} > 0$ for each arc in $A$\n",
    ">\n",
    ">**Find**\n",
    "> The tour (a directed cycle that touch exactly once all $n$ nodes) of minimum cost (length, distance)  \n",
    "\n",
    "\n",
    "### Miller-Tucker-Zemlin lifted formulation (Desrochers-Laporte)\n",
    "$$\n",
    "\\begin{alignat}{3}\n",
    "& \\min \\sum_{(i,j) \\in A} x_{ij} &\\\\\n",
    "\\text{s.t.} \\;\\;\\;\\;\\;&\\\\\n",
    "\\sum_{j \\in \\delta^+(i)} x_{ij} &= 1 \\;\\; \\forall i \\in N \\;\\; \\text{(FS)}\\\\\n",
    "\\sum_{j \\in \\delta^-(i)} x_{ji} &= 1 \\;\\; \\forall i \\in N \\;\\; \\text{(RS)}\\\\\n",
    "u_i - u_j + (n-1)x_{ij} + (n-3)x_{ji} &\\le n-2 \\;\\; \\forall (i,j) \\in A, i\\not=1,j\\not=1 \\;\\; \\text{(MTZ)}\\\\\n",
    "x & \\in \\{0,1\\}^{|A|}\\\\\n",
    "u_1 &= 1\\\\\n",
    "2 &\\le u_i \\le n \\;\\; \\forall i \\in N, i \\not = \\{1\\}\n",
    "\\end{alignat}\n",
    "$$\n",
    "#### SEC with |S|=2\n",
    "\n",
    "$$ x_{ij} + x_{ji} \\le 1 \\;\\; \\forall (i,j) \\in A, i <j $$"
   ]
  },
  {
   "cell_type": "markdown",
   "metadata": {},
   "source": [
    "## Mixed Formulation"
   ]
  },
  {
   "cell_type": "code",
   "execution_count": 19,
   "metadata": {},
   "outputs": [],
   "source": [
    "root=1\n",
    "\n",
    "atsp_mtz = gb.Model()\n",
    "\n",
    "x = atsp_mtz.addVars(G.edges(),\n",
    "                     obj=[G[i][j]['dist'] for i,j in G.edges()],\n",
    "                     vtype=gb.GRB.BINARY, name='x')\n",
    "\n",
    "u = atsp_mtz.addVars(G.nodes(), \n",
    "                     obj=[0.0 for i in G.nodes()],\n",
    "                     lb=2.0, ub=G.number_of_nodes(), \n",
    "                     vtype=gb.GRB.CONTINUOUS, name='u')\n",
    "\n",
    "atsp_mtz.addConstrs((x.sum(i,'*') == 1 for i in G.nodes()), name='FS')\n",
    "atsp_mtz.addConstrs((x.sum('*',i) == 1 for i in G.nodes()), name='RS')\n",
    "atsp_mtz.addConstrs((x[i,j] + x[j,i] <= 1 for i,j in G.edges() if j > i), name='SEC2')\n",
    "\n",
    "u[root].lb = 1.0\n",
    "u[root].ub = 1.0\n",
    "\n",
    "atsp_mtz.addConstrs((u[i] - u[j] + (G.number_of_nodes() - 1) * x[i,j] + (G.number_of_nodes() - 3) * x[j,i] <= (G.number_of_nodes() - 2)\n",
    "                   for i in G.nodes() for j in G.nodes()\n",
    "                   if (i != j) and (i != 1) and (j !=1 ) and G.has_edge(i,j) and G.has_edge(j,i)), name='MTZ')\n",
    "atsp_mtz.update()\n",
    "atsp_mtz.write('atsp_mtz.lp')\n",
    "\n",
    "atsp_mtz._vars = x\n",
    "atsp_mtz._graph = G"
   ]
  },
  {
   "cell_type": "markdown",
   "metadata": {},
   "source": [
    "The lazy cut callback will be transformed into a cut callback"
   ]
  },
  {
   "cell_type": "code",
   "execution_count": 20,
   "metadata": {},
   "outputs": [],
   "source": [
    "def SEC_cut_callback (model, where):\n",
    "    if where == gb.GRB.Callback.MIPNODE:\n",
    "        \n",
    "        status = model.cbGet(gb.GRB.Callback.MIPNODE_STATUS)\n",
    "        count = model.cbGet(gb.GRB.Callback.MIPNODE_NODCNT)\n",
    "        \n",
    "        if status == gb.GRB.OPTIMAL and count < 10:\n",
    "            x = model._vars\n",
    "            xrel = model.cbGetNodeRel(x) \n",
    "            G = model._graph\n",
    "\n",
    "            for i,j in G.edges():\n",
    "                G[i][j]['capacity'] = xrel[i,j]\n",
    "\n",
    "            for i in list(G.nodes())[1:]:\n",
    "                cut_val, cut = nx.minimum_cut(G,1,i)\n",
    "\n",
    "                if cut_val < 0.99999:\n",
    "                    if len(cut[0]) < len(cut[1]):\n",
    "                        subtour = (list(cut[0]))\n",
    "                    else:\n",
    "                        subtour = (list(cut[1]))\n",
    "\n",
    "                    subtouredges = [(u,v) for u in subtour for v in subtour if u != v and G.has_edge(u,v)]\n",
    "\n",
    "                    model.cbCut(gb.quicksum(x[i,j] for i,j in subtouredges) <= len(subtour) - 1)\n",
    "\n",
    "                    break"
   ]
  },
  {
   "cell_type": "code",
   "execution_count": 22,
   "metadata": {},
   "outputs": [
    {
     "name": "stdout",
     "output_type": "stream",
     "text": [
      "Discarded solution information\n",
      "Parameter PreCrush unchanged\n",
      "   Value: 1  Min: 0  Max: 1  Default: 0\n",
      "Parameter lazyConstraints unchanged\n",
      "   Value: 0  Min: 0  Max: 1  Default: 0\n",
      "Gurobi Optimizer version 9.1.2 build v9.1.2rc0 (linux64)\n",
      "Thread count: 2 physical cores, 4 logical processors, using up to 4 threads\n",
      "Optimize a model with 1307 rows, 900 columns and 5858 nonzeros\n",
      "Model fingerprint: 0xac14950e\n",
      "Variable types: 30 continuous, 870 integer (870 binary)\n",
      "Coefficient statistics:\n",
      "  Matrix range     [1e+00, 3e+01]\n",
      "  Objective range  [2e+02, 7e+03]\n",
      "  Bounds range     [1e+00, 3e+01]\n",
      "  RHS range        [1e+00, 3e+01]\n",
      "Presolve removed 0 rows and 1 columns\n",
      "Presolve time: 0.02s\n",
      "Presolved: 1307 rows, 899 columns, 5858 nonzeros\n",
      "Variable types: 29 continuous, 870 integer (870 binary)\n",
      "Found heuristic solution: objective 80645.000000\n",
      "\n",
      "Root relaxation: objective 2.692205e+04, 139 iterations, 0.00 seconds\n",
      "\n",
      "    Nodes    |    Current Node    |     Objective Bounds      |     Work\n",
      " Expl Unexpl |  Obj  Depth IntInf | Incumbent    BestBd   Gap | It/Node Time\n",
      "\n",
      "     0     0 26922.0529    0   39 80645.0000 26922.0529  66.6%     -    0s\n",
      "H    0     0                    33601.000000 26922.0529  19.9%     -    0s\n",
      "     0     0 27053.5415    0   46 33601.0000 27053.5415  19.5%     -    0s\n",
      "H    0     0                    33196.000000 27053.5415  18.5%     -    0s\n",
      "     0     0 27184.2987    0   62 33196.0000 27184.2987  18.1%     -    0s\n",
      "H    0     0                    31874.000000 27184.2987  14.7%     -    0s\n",
      "     0     0 27238.0000    0   20 31874.0000 27238.0000  14.5%     -    0s\n",
      "     0     0 27301.2727    0   57 31874.0000 27301.2727  14.3%     -    0s\n",
      "H    0     0                    31814.000000 27301.2727  14.2%     -    0s\n",
      "     0     0 27305.5556    0   61 31814.0000 27305.5556  14.2%     -    0s\n",
      "     0     0 27348.0000    0   15 31814.0000 27348.0000  14.0%     -    0s\n",
      "     0     0 27630.6667    0   61 31814.0000 27630.6667  13.1%     -    0s\n",
      "     0     0 27705.7000    0   54 31814.0000 27705.7000  12.9%     -    0s\n",
      "     0     0 27714.5278    0   26 31814.0000 27714.5278  12.9%     -    0s\n",
      "     0     0 27716.5000    0   18 31814.0000 27716.5000  12.9%     -    0s\n",
      "*    0     0               0    27720.000000 27720.0000  0.00%     -    0s\n",
      "\n",
      "Cutting planes:\n",
      "  User: 7\n",
      "  Gomory: 2\n",
      "  Implied bound: 2\n",
      "  MIR: 3\n",
      "  Zero half: 2\n",
      "  Relax-and-lift: 4\n",
      "\n",
      "Explored 1 nodes (411 simplex iterations) in 0.47 seconds\n",
      "Thread count was 4 (of 4 available processors)\n",
      "\n",
      "Solution count 6: 27720 31814 31874 ... 80645\n",
      "\n",
      "Optimal solution found (tolerance 1.00e-04)\n",
      "Best objective 2.772000000000e+04, best bound 2.772000000000e+04, gap 0.0000%\n",
      "\n",
      "User-callback calls 276, time in user-callback 0.15 sec\n"
     ]
    }
   ],
   "source": [
    "atsp_mtz.reset()\n",
    "atsp_mtz.Params.PreCrush = 1\n",
    "atsp_mtz.Params.lazyConstraints = 0\n",
    "atsp_mtz.optimize(SEC_cut_callback)"
   ]
  },
  {
   "cell_type": "code",
   "execution_count": 23,
   "metadata": {},
   "outputs": [
    {
     "data": {
      "image/png": "[encoded data removed]",
      "text/plain": [
       "<Figure size 360x360 with 1 Axes>"
      ]
     },
     "metadata": {},
     "output_type": "display_data"
    }
   ],
   "source": [
    "DrawSol(G,x)"
   ]
  },
  {
   "cell_type": "code",
   "execution_count": null,
   "metadata": {},
   "outputs": [],
   "source": []
  }
 ],
 "metadata": {
  "anaconda-cloud": {},
  "kernelspec": {
   "display_name": "Python 3",
   "language": "python",
   "name": "python3"
  },
  "language_info": {
   "codemirror_mode": {
    "name": "ipython",
    "version": 3
   },
   "file_extension": ".py",
   "mimetype": "text/x-python",
   "name": "python",
   "nbconvert_exporter": "python",
   "pygments_lexer": "ipython3",
   "version": "3.9.5"
  }
 },
 "nbformat": 4,
 "nbformat_minor": 1
}
