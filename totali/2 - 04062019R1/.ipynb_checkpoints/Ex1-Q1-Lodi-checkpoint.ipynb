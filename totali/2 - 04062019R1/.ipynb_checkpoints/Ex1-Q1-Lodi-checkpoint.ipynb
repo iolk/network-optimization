{
 "cells": [
  {
   "cell_type": "markdown",
   "metadata": {},
   "source": [
    "## Totale 4/06/2019\n",
    "### Esercizio 1 Punto 1\n",
    "Alessandro Lodi<br>\n",
    "Matricola 274425"
   ]
  },
  {
   "cell_type": "markdown",
   "metadata": {},
   "source": [
    "### Notebook Init"
   ]
  },
  {
   "cell_type": "code",
   "execution_count": 73,
   "metadata": {},
   "outputs": [],
   "source": [
    "import networkx as nx\n",
    "import gurobipy as gb\n",
    "import matplotlib.pyplot as plt\n",
    "from itertools import combinations, chain\n",
    "import pygraphviz as pygv\n",
    "import os\n",
    "from IPython.display import SVG, display"
   ]
  },
  {
   "cell_type": "code",
   "execution_count": 74,
   "metadata": {},
   "outputs": [
    {
     "data": {
      "text/html": [
       "<style>.container { width:100% !important; }</style>"
      ],
      "text/plain": [
       "<IPython.core.display.HTML object>"
      ]
     },
     "metadata": {},
     "output_type": "display_data"
    }
   ],
   "source": [
    "from IPython.core.display import display, HTML\n",
    "display(HTML(\"<style>.container { width:100% !important; }</style>\"))"
   ]
  },
  {
   "cell_type": "code",
   "execution_count": 116,
   "metadata": {},
   "outputs": [],
   "source": [
    "class args:\n",
    "    filename = \"graph04062019R1.gml\"\n",
    "    scale = 40\n",
    "    figsize = 10,10"
   ]
  },
  {
   "cell_type": "code",
   "execution_count": 117,
   "metadata": {},
   "outputs": [],
   "source": [
    "def powerset(iterable):\n",
    "    \"powerset([1,2,3]) --> () (1,) (2,) (3,) (1,2) (1,3) (2,3) (1,2,3)\"\n",
    "    s = list(iterable)\n",
    "    return chain.from_iterable(combinations(s, r) for r in range(len(s)+1))"
   ]
  },
  {
   "cell_type": "markdown",
   "metadata": {},
   "source": [
    "### Drawing functions"
   ]
  },
  {
   "cell_type": "code",
   "execution_count": 118,
   "metadata": {},
   "outputs": [],
   "source": [
    "def DrawInitG(G, withedges=False):\n",
    "    \n",
    "    plt.figure(figsize=args.figsize)\n",
    "    \n",
    "    pos = {i:(G.nodes[i]['x'], G.nodes[i]['y']) for i in G.nodes()}\n",
    "    \n",
    "    nx.draw_networkx_nodes(G, \n",
    "                           pos=pos, \n",
    "                           node_shape='o', \n",
    "                           node_size=600,\n",
    "                           node_color='red')\n",
    "    \n",
    "    nx.draw_networkx_labels(G, pos=pos, font_color='w', font_size=12)\n",
    "    \n",
    "    if withedges:\n",
    "        nx.draw_networkx_edges(G,pos=pos, alpha=1.0)\n",
    "        labels = {(i,j):G.get_edge_data(i,j,'cost').get('cost') for i,j in G.edges()}\n",
    "        nx.draw_networkx_edge_labels(G, pos=pos, edge_labels=labels)\n",
    "    \n",
    "    plt.axis('off')\n",
    "    plt.show()\n",
    "    \n",
    "def DrawSol(G, x):\n",
    "    \n",
    "    plt.figure(figsize=args.figsize)\n",
    "    \n",
    "    pos = {i:(G.nodes[i]['x'], G.nodes[i]['y']) for i in G.nodes()}\n",
    "\n",
    "    \n",
    "    nx.draw_networkx_nodes(G, \n",
    "                           pos=pos, \n",
    "                           node_shape='o', \n",
    "                           node_size=600,\n",
    "                           node_color='red',\n",
    "                           label=[G.nodes()])\n",
    "    \n",
    "    nx.draw_networkx_labels(G, pos=pos, font_color='w', font_size=12)\n",
    "    \n",
    "    for u,v in G.edges():\n",
    "        if x[u,v].x > 0.01 and x[u,v].x < 0.9:\n",
    "            nx.draw_networkx_edges(G, pos=pos,\n",
    "                                   edgelist=[(u,v)],\n",
    "                                   edge_color='r')\n",
    "            \n",
    "            nx.draw_networkx_edge_labels(G, pos=pos,\n",
    "                                         edge_labels={(u,v):'{:.2f}'.format(x[u,v].x)})\n",
    "        \n",
    "        if x[u,v].x > 0.9:\n",
    "            nx.draw_networkx_edges(G, pos=pos,\n",
    "                                   edgelist=[(u,v)],\n",
    "                                   edge_color='k')\n",
    "        \n",
    "    plt.axis('off')\n",
    "    plt.show()"
   ]
  },
  {
   "cell_type": "code",
   "execution_count": 119,
   "metadata": {},
   "outputs": [
    {
     "name": "stdout",
     "output_type": "stream",
     "text": [
      "G has 30 nodes and 435 edges\n"
     ]
    }
   ],
   "source": [
    "# Graph reading\n",
    "basename = os.path.splitext(args.filename)[0]\n",
    "G = nx.read_graphml (args.filename, node_type=int)\n",
    "print (\"G has\", G.number_of_nodes(), \"nodes and\", G.number_of_edges(), \"edges\")"
   ]
  },
  {
   "cell_type": "markdown",
   "metadata": {},
   "source": [
    "## Prize Collecting Steiner Tree (PCST)\n",
    "\n",
    "### Problem definition\n",
    "\n",
    ">**Given**\n",
    "> * A symmetric graph $G=(V,E)$ and a cost $c_e > 0$ for each edge in $E$;\n",
    "> * A root node $\\{0\\}$;\n",
    "> * A revenue $p_j > 0$ for each node $j \\in V \\setminus \\{0\\}$;\n",
    "\n",
    ">\n",
    ">**Find**\n",
    ">A subtree $T$ rooted in $\\{0\\}$ that **maximizes** the sum of the revenues of \n",
    ">the nodes in $T$ **minus** the sum of the costs of the edges in $T$\n",
    "\n",
    "\n",
    "### Formulation with *positional* variables (MTZ formulation)\n",
    "\n",
    "#### Variables\n",
    "$$\n",
    "x_{ij} = \\begin{cases}1 \\text{ if arc $(i, j)$ is in the arborescence} \\\\\n",
    "0 \\text{ otherwise}\n",
    "\\end{cases}\n",
    "$$\n",
    "\n",
    "$$\n",
    "y_j = \\begin{cases} 1 \\text{ if node j is in the arborescence}\\\\\n",
    "0 \\text{ otherwise}\n",
    "\\end{cases}\n",
    "$$\n",
    "\n",
    "$$ \n",
    "u_j = \\{\\text{number of arcs in the dipath (if any) induced by $x$ from \\{0\\} to $j$}\\}\n",
    "$$\n",
    "\n",
    "#### MTZ formulation\n",
    "\n",
    "$$\n",
    "\\begin{align}\n",
    "\\min & \\sum_{(i,j) \\in A} c_{ij} x_{ij} - \\sum_{j \\in V \\setminus \\{0\\}} p_j y_j \\\\\n",
    "\\text{subject}& \\text{ to} \\\\\n",
    "y_0 & = 1 \\\\\n",
    "\\sum_{i \\in \\delta^-(j)} x_{ij} & = y_j \\;\\; \\forall j \\in V\\\\\n",
    "(n+1)x_{ij} + u_i - u_j &\\le n \\;\\; \\forall (i,j) \\in A \\\\\n",
    "x_{jk} &\\le y_j \\;\\; \\forall k \\in \\delta^+(j), \\;\\; \\forall j \\in V \\setminus\\{0\\}\\\\\n",
    "0 \\le u_j & \\le n \\;\\; \\forall j \\in V \\\\ \n",
    "x_{ij} & \\in \\{0,1\\} \\;\\; \\forall(i,j) \\in A \\\\\n",
    "y_j & \\in \\{0,1\\} \\;\\; \\forall j \\in V\n",
    "\\end{align}\n",
    "$$\n"
   ]
  },
  {
   "cell_type": "code",
   "execution_count": 120,
   "metadata": {},
   "outputs": [
    {
     "data": {
      "text/plain": [
       "NodeDataView({1: {'y': 65, 'x': 10, 'revenue': 310}, 2: {'y': 19, 'x': 9, 'revenue': 843}, 3: {'y': 8, 'x': 35, 'revenue': 1578}, 4: {'y': 17, 'x': 1, 'revenue': 813}, 5: {'y': 35, 'x': 21, 'revenue': 1452}, 6: {'y': 57, 'x': 15, 'revenue': 1031}, 7: {'y': 5, 'x': 26, 'revenue': 487}, 8: {'y': 20, 'x': 30, 'revenue': 491}, 9: {'y': 50, 'x': 29, 'revenue': 559}, 10: {'y': 19, 'x': 34, 'revenue': 622}, 11: {'y': 34, 'x': 5, 'revenue': 917}, 12: {'y': 1, 'x': 34, 'revenue': 1175}, 13: {'y': 12, 'x': 23, 'revenue': 1064}, 14: {'y': 22, 'x': 11, 'revenue': 930}, 15: {'y': 37, 'x': 11, 'revenue': 1354}, 16: {'y': 12, 'x': 19, 'revenue': 1259}, 17: {'y': 12, 'x': 3, 'revenue': 511}, 18: {'y': 32, 'x': 28, 'revenue': 1169}, 19: {'y': 45, 'x': 1, 'revenue': 679}, 20: {'y': 37, 'x': 14, 'revenue': 432}, 21: {'y': 55, 'x': 1, 'revenue': 1089}, 22: {'y': 36, 'x': 27, 'revenue': 386}, 23: {'y': 34, 'x': 23, 'revenue': 1099}, 24: {'y': 42, 'x': 13, 'revenue': 1326}, 25: {'y': 24, 'x': 11, 'revenue': 568}, 26: {'y': 19, 'x': 15, 'revenue': 507}, 27: {'y': 8, 'x': 29, 'revenue': 552}, 28: {'y': 16, 'x': 8, 'revenue': 673}, 29: {'y': 63, 'x': 9, 'revenue': 1229}, 30: {'y': 56, 'x': 28, 'revenue': 1598}})"
      ]
     },
     "execution_count": 120,
     "metadata": {},
     "output_type": "execute_result"
    }
   ],
   "source": [
    "D = G.to_directed()\n",
    "G.nodes(data=True)"
   ]
  },
  {
   "cell_type": "code",
   "execution_count": 121,
   "metadata": {},
   "outputs": [],
   "source": [
    "root = 1\n",
    "pcst = gb.Model()\n",
    "\n",
    "# Objective function\n",
    "pcst.ModelSense = gb.GRB.MAXIMIZE\n",
    "\n",
    "\n",
    "# Decision Variables\n",
    "x = pcst.addVars(D.edges(), vtype=gb.GRB.BINARY, \n",
    "                 obj = [- D[i][j]['cost'] for i,j in D.edges()], \n",
    "                 name = 'x')\n",
    "\n",
    "y = pcst.addVars (G.nodes(), vtype = gb.GRB.BINARY, \n",
    "                  obj = [G.nodes[i]['revenue'] for i in G.nodes()],\n",
    "                 name = 'y')\n",
    "\n",
    "u = pcst.addVars (G.nodes(), vtype = gb.GRB.CONTINUOUS, \n",
    "                  lb = 0.0, ub = G.number_of_nodes(),\n",
    "                 name = 'u')\n",
    "\n",
    "\n",
    "# Root is in the solution\n",
    "pcst.addConstr(y[root] == 1, name = 'Fix_root')\n",
    "\n",
    "\n",
    "# Each node has exactly one incoming arc\n",
    "pcst.addConstrs((x.sum('*',j) == y[j] for j in G.nodes() if j != root), name='Node_in_deg')\n",
    "\n",
    "\n",
    "# Precedence constraints (MTZ constraints)\n",
    "pcst.addConstrs(((G.number_of_nodes() +  1) * x[i,j] + u[i] - u[j] <= G.number_of_nodes() for i,j in D.edges()),\n",
    "                name = 'MTZ')\n",
    "\n",
    "\n",
    "# Connectivity constraints\n",
    "pcst.addConstrs((x[j,k] <= y[j] for j in G.nodes() \n",
    "                 if j != root for k in D.neighbors(j)), name = 'Connect')\n",
    "\n",
    "\n",
    "pcst.update()\n",
    "pcst.write('pcst.lp')"
   ]
  },
  {
   "cell_type": "code",
   "execution_count": 122,
   "metadata": {},
   "outputs": [],
   "source": [
    "# All nodes are in the solution\n",
    "n_customer = len(G.nodes())\n",
    "pcst.addConstr((y.sum('*') == n_customer), name='All_customers')\n",
    "\n",
    "pcst.update()"
   ]
  },
  {
   "cell_type": "markdown",
   "metadata": {},
   "source": [
    "## Net 1"
   ]
  },
  {
   "cell_type": "code",
   "execution_count": 123,
   "metadata": {},
   "outputs": [],
   "source": [
    "# Net 1 constraints\n",
    "pcst.addConstrs((x.sum(j,'*') <= 3 for j in G.nodes() if j != root), name='Max_deg_out')\n",
    "pcst.addConstr(x.sum(root,'*') <= 1, name='Root_deg_out')\n",
    "\n",
    "pcst.update()"
   ]
  },
  {
   "cell_type": "code",
   "execution_count": 124,
   "metadata": {
    "scrolled": true
   },
   "outputs": [
    {
     "name": "stdout",
     "output_type": "stream",
     "text": [
      "Gurobi Optimizer version 9.1.2 build v9.1.2rc0 (linux64)\n",
      "Thread count: 6 physical cores, 12 logical processors, using up to 12 threads\n",
      "Optimize a model with 1772 rows, 930 columns and 6063 nonzeros\n",
      "Model fingerprint: 0x2da07042\n",
      "Variable types: 30 continuous, 900 integer (900 binary)\n",
      "Coefficient statistics:\n",
      "  Matrix range     [1e+00, 3e+01]\n",
      "  Objective range  [1e+02, 7e+03]\n",
      "  Bounds range     [1e+00, 3e+01]\n",
      "  RHS range        [1e+00, 3e+01]\n",
      "Presolve removed 872 rows and 60 columns\n",
      "Presolve time: 0.00s\n",
      "Presolved: 900 rows, 870 columns, 4176 nonzeros\n",
      "Variable types: 29 continuous, 841 integer (841 binary)\n",
      "\n",
      "Root relaxation: objective 1.314561e+04, 74 iterations, 0.00 seconds\n",
      "\n",
      "    Nodes    |    Current Node    |     Objective Bounds      |     Work\n",
      " Expl Unexpl |  Obj  Depth IntInf | Incumbent    BestBd   Gap | It/Node Time\n",
      "\n",
      "     0     0 13145.6129    0   22          - 13145.6129      -     -    0s\n",
      "H    0     0                    -2851.000000 13145.6129   561%     -    0s\n",
      "H    0     0                    -472.0000000 13145.6129  2885%     -    0s\n",
      "     0     0 10676.5484    0   24 -472.00000 10676.5484  2362%     -    0s\n",
      "H    0     0                    5936.0000000 10676.5484  79.9%     -    0s\n",
      "     0     0 10554.0000    0   24 5936.00000 10554.0000  77.8%     -    0s\n",
      "     0     0 10554.0000    0   24 5936.00000 10554.0000  77.8%     -    0s\n",
      "     0     0 10554.0000    0   24 5936.00000 10554.0000  77.8%     -    0s\n",
      "H    0     0                    6903.0000000 10554.0000  52.9%     -    0s\n",
      "     0     0 10554.0000    0   24 6903.00000 10554.0000  52.9%     -    0s\n",
      "     0     0 10549.1058    0   28 6903.00000 10549.1058  52.8%     -    0s\n",
      "H    0     0                    7234.0000000 10549.1058  45.8%     -    0s\n",
      "     0     0 10549.1058    0   24 7234.00000 10549.1058  45.8%     -    0s\n",
      "     0     0 10478.8361    0   28 7234.00000 10478.8361  44.9%     -    0s\n",
      "     0     0 10476.5000    0   28 7234.00000 10476.5000  44.8%     -    0s\n",
      "H    0     0                    7325.0000000 10476.5000  43.0%     -    0s\n",
      "     0     0 10441.5000    0   26 7325.00000 10441.5000  42.5%     -    0s\n",
      "     0     0 10441.5000    0   26 7325.00000 10441.5000  42.5%     -    0s\n",
      "H    0     0                    7545.0000000 10441.5000  38.4%     -    0s\n",
      "     0     0 10441.5000    0   26 7545.00000 10441.5000  38.4%     -    0s\n",
      "     0     0 10441.5000    0   26 7545.00000 10441.5000  38.4%     -    0s\n",
      "H    0     0                    8697.0000000 10441.5000  20.1%     -    0s\n",
      "     0     0 10437.9677    0   20 8697.00000 10437.9677  20.0%     -    0s\n",
      "     0     0 10368.3839    0   27 8697.00000 10368.3839  19.2%     -    0s\n",
      "     0     0 10358.5160    0   30 8697.00000 10358.5160  19.1%     -    0s\n",
      "     0     0 10326.5857    0   31 8697.00000 10326.5857  18.7%     -    0s\n",
      "     0     0 10198.5000    0   22 8697.00000 10198.5000  17.3%     -    0s\n",
      "     0     0 10198.5000    0   22 8697.00000 10198.5000  17.3%     -    0s\n",
      "     0     0 10198.5000    0   21 8697.00000 10198.5000  17.3%     -    0s\n",
      "     0     0 10198.5000    0   24 8697.00000 10198.5000  17.3%     -    0s\n",
      "     0     0 10169.5000    0   26 8697.00000 10169.5000  16.9%     -    0s\n",
      "     0     0 10169.5000    0   26 8697.00000 10169.5000  16.9%     -    0s\n",
      "     0     0 10088.5000    0   26 8697.00000 10088.5000  16.0%     -    0s\n",
      "     0     0 10087.5000    0   22 8697.00000 10087.5000  16.0%     -    0s\n",
      "     0     0 10087.5000    0   22 8697.00000 10087.5000  16.0%     -    0s\n",
      "     0     0 10085.0000    0   14 8697.00000 10085.0000  16.0%     -    0s\n",
      "     0     0 10085.0000    0   14 8697.00000 10085.0000  16.0%     -    0s\n",
      "     0     0 10085.0000    0   14 8697.00000 10085.0000  16.0%     -    0s\n",
      "     0     0 10085.0000    0   14 8697.00000 10085.0000  16.0%     -    0s\n",
      "     0     0 10085.0000    0   14 8697.00000 10085.0000  16.0%     -    0s\n",
      "     0     0 10085.0000    0   14 8697.00000 10085.0000  16.0%     -    0s\n",
      "     0     2 10063.0000    0   14 8697.00000 10063.0000  15.7%     -    0s\n",
      "H   31    44                    9185.0000000 10016.1971  9.05%   3.8    0s\n",
      "* 1616   337              19    9266.0000000 9635.00000  3.98%   4.2    0s\n",
      "* 2158   249              18    9295.0000000 9544.52680  2.68%   4.3    0s\n",
      "\n",
      "Cutting planes:\n",
      "  Learned: 23\n",
      "  Gomory: 8\n",
      "  Cover: 1\n",
      "  Implied bound: 13\n",
      "  MIR: 36\n",
      "  StrongCG: 1\n",
      "  Inf proof: 15\n",
      "  RLT: 6\n",
      "  Relax-and-lift: 7\n",
      "\n",
      "Explored 3023 nodes (14170 simplex iterations) in 0.43 seconds\n",
      "Thread count was 12 (of 12 available processors)\n",
      "\n",
      "Solution count 10: 9295 9266 9185 ... -472\n",
      "\n",
      "Optimal solution found (tolerance 1.00e-04)\n",
      "Best objective 9.295000000000e+03, best bound 9.295000000000e+03, gap 0.0000%\n"
     ]
    }
   ],
   "source": [
    "pcst.optimize()"
   ]
  },
  {
   "cell_type": "code",
   "execution_count": 125,
   "metadata": {},
   "outputs": [
    {
     "name": "stdout",
     "output_type": "stream",
     "text": [
      "Net 1:  9295.0\n"
     ]
    },
    {
     "data": {
      "image/png": "[encoded data removed]",
      "text/plain": [
       "<Figure size 720x720 with 1 Axes>"
      ]
     },
     "metadata": {},
     "output_type": "display_data"
    }
   ],
   "source": [
    "print(\"Net 1: \", pcst.objVal)\n",
    "DrawSol(D,x)"
   ]
  },
  {
   "cell_type": "markdown",
   "metadata": {},
   "source": [
    "## Net 2"
   ]
  },
  {
   "cell_type": "code",
   "execution_count": 127,
   "metadata": {},
   "outputs": [],
   "source": [
    "constrs_to_remove = [const for const in pcst.getConstrs() if const.ConstrName.startswith('Max_deg_out') ]\n",
    "pcst.remove(constrs_to_remove)\n",
    "pcst.remove(pcst.getConstrByName('Root_deg_out'))\n",
    "\n",
    "# Net 2 constraints\n",
    "pcst.addConstrs((x.sum(j,'*') <= 1 for j in G.nodes() if j != root), name='Max_deg_out')\n",
    "pcst.addConstr(x.sum(root,'*') <= 4, name='Root_deg_out')\n",
    "\n",
    "pcst.update()"
   ]
  },
  {
   "cell_type": "code",
   "execution_count": 128,
   "metadata": {
    "scrolled": true
   },
   "outputs": [
    {
     "name": "stdout",
     "output_type": "stream",
     "text": [
      "Gurobi Optimizer version 9.1.2 build v9.1.2rc0 (linux64)\n",
      "Thread count: 6 physical cores, 12 logical processors, using up to 12 threads\n",
      "Optimize a model with 1772 rows, 930 columns and 6063 nonzeros\n",
      "Model fingerprint: 0x625ea33d\n",
      "Variable types: 30 continuous, 900 integer (900 binary)\n",
      "Coefficient statistics:\n",
      "  Matrix range     [1e+00, 3e+01]\n",
      "  Objective range  [1e+02, 7e+03]\n",
      "  Bounds range     [1e+00, 3e+01]\n",
      "  RHS range        [1e+00, 3e+01]\n",
      "\n",
      "MIP start from previous solve did not produce a new incumbent solution\n",
      "MIP start from previous solve violates constraint Max_deg_out[2] by 2.000000000\n",
      "\n",
      "Presolve removed 872 rows and 60 columns\n",
      "Presolve time: 0.00s\n",
      "Presolved: 900 rows, 870 columns, 4176 nonzeros\n",
      "Variable types: 29 continuous, 841 integer (841 binary)\n",
      "\n",
      "Root relaxation: objective 1.294490e+04, 89 iterations, 0.00 seconds\n",
      "\n",
      "    Nodes    |    Current Node    |     Objective Bounds      |     Work\n",
      " Expl Unexpl |  Obj  Depth IntInf | Incumbent    BestBd   Gap | It/Node Time\n",
      "\n",
      "     0     0 12944.9032    0   27          - 12944.9032      -     -    0s\n",
      "H    0     0                    7045.0000000 12944.9032  83.7%     -    0s\n",
      "     0     0 9881.00000    0   22 7045.00000 9881.00000  40.3%     -    0s\n",
      "H    0     0                    7625.0000000 9881.00000  29.6%     -    0s\n",
      "     0     0 9881.00000    0   22 7625.00000 9881.00000  29.6%     -    0s\n",
      "H    0     0                    7688.0000000 9881.00000  28.5%     -    0s\n",
      "     0     0 9881.00000    0   22 7688.00000 9881.00000  28.5%     -    0s\n",
      "     0     0 9881.00000    0   33 7688.00000 9881.00000  28.5%     -    0s\n",
      "     0     0 9881.00000    0   22 7688.00000 9881.00000  28.5%     -    0s\n",
      "H    0     0                    7998.0000000 9881.00000  23.5%     -    0s\n",
      "     0     0 9881.00000    0   22 7998.00000 9881.00000  23.5%     -    0s\n",
      "H    0     0                    8191.0000000 9881.00000  20.6%     -    0s\n",
      "H    0     0                    8433.0000000 9881.00000  17.2%     -    0s\n",
      "     0     0 9879.39564    0   27 8433.00000 9879.39564  17.2%     -    0s\n",
      "     0     0 9879.39564    0   31 8433.00000 9879.39564  17.2%     -    0s\n",
      "     0     0 9879.39564    0   22 8433.00000 9879.39564  17.2%     -    0s\n",
      "     0     0 9879.34705    0   27 8433.00000 9879.34705  17.2%     -    0s\n",
      "     0     0 9879.34705    0   27 8433.00000 9879.34705  17.2%     -    0s\n",
      "H    0     0                    9160.0000000 9879.34705  7.85%     -    0s\n",
      "H    0     0                    9278.0000000 9879.34705  6.48%     -    0s\n",
      "     0     0 9879.34705    0   27 9278.00000 9879.34705  6.48%     -    0s\n",
      "     0     0 9879.34705    0   30 9278.00000 9879.34705  6.48%     -    0s\n",
      "     0     0 9879.34705    0   27 9278.00000 9879.34705  6.48%     -    0s\n",
      "     0     0 9879.34705    0   27 9278.00000 9879.34705  6.48%     -    0s\n",
      "H    0     0                    9482.0000000 9879.34705  4.19%     -    0s\n",
      "     0     0 9879.34705    0   27 9482.00000 9879.34705  4.19%     -    0s\n",
      "     0     0 9879.34705    0   27 9482.00000 9879.34705  4.19%     -    0s\n",
      "H    0     0                    9492.0000000 9879.34705  4.08%     -    0s\n",
      "     0     0 9787.00000    0   32 9492.00000 9787.00000  3.11%     -    0s\n",
      "     0     0 9787.00000    0   32 9492.00000 9787.00000  3.11%     -    0s\n",
      "H    0     0                    9508.0000000 9787.00000  2.93%     -    0s\n",
      "     0     0 9748.00000    0   16 9508.00000 9748.00000  2.52%     -    0s\n",
      "     0     0 9747.67442    0   48 9508.00000 9747.67442  2.52%     -    0s\n",
      "H    0     0                    9517.0000000 9747.67442  2.42%     -    0s\n",
      "H    0     0                    9630.0000000 9747.67442  1.22%     -    0s\n",
      "     0     0 9728.49017    0   43 9630.00000 9728.49017  1.02%     -    0s\n",
      "     0     0 9728.49017    0   32 9630.00000 9728.49017  1.02%     -    0s\n",
      "H    0     0                    9670.0000000 9728.49017  0.60%     -    0s\n",
      "     0     0 9728.49017    0   20 9670.00000 9728.49017  0.60%     -    0s\n",
      "     0     0 9728.49017    0   20 9670.00000 9728.49017  0.60%     -    0s\n",
      "     0     0 9728.49017    0   20 9670.00000 9728.49017  0.60%     -    0s\n",
      "     0     0 9728.49017    0   10 9670.00000 9728.49017  0.60%     -    0s\n",
      "     0     0 9670.00000    0    8 9670.00000 9670.00000  0.00%     -    0s\n",
      "\n",
      "Cutting planes:\n",
      "  Learned: 3\n",
      "  Gomory: 1\n",
      "  Implied bound: 5\n",
      "  Clique: 2\n",
      "  MIR: 5\n",
      "\n",
      "Explored 1 nodes (1045 simplex iterations) in 0.26 seconds\n",
      "Thread count was 12 (of 12 available processors)\n",
      "\n",
      "Solution count 10: 9670 9630 9517 ... 8191\n",
      "\n",
      "Optimal solution found (tolerance 1.00e-04)\n",
      "Best objective 9.670000000000e+03, best bound 9.670000000000e+03, gap 0.0000%\n"
     ]
    }
   ],
   "source": [
    "pcst.optimize()"
   ]
  },
  {
   "cell_type": "code",
   "execution_count": 129,
   "metadata": {
    "scrolled": true
   },
   "outputs": [
    {
     "name": "stdout",
     "output_type": "stream",
     "text": [
      "Net 2:  9670.0\n"
     ]
    },
    {
     "data": {
      "image/png": "[encoded data removed]",
      "text/plain": [
       "<Figure size 720x720 with 1 Axes>"
      ]
     },
     "metadata": {},
     "output_type": "display_data"
    }
   ],
   "source": [
    "print(\"Net 2: \", pcst.objVal)\n",
    "DrawSol(D,x)"
   ]
  }
 ],
 "metadata": {
  "anaconda-cloud": {},
  "kernelspec": {
   "display_name": "Python 3",
   "language": "python",
   "name": "python3"
  },
  "language_info": {
   "codemirror_mode": {
    "name": "ipython",
    "version": 3
   },
   "file_extension": ".py",
   "mimetype": "text/x-python",
   "name": "python",
   "nbconvert_exporter": "python",
   "pygments_lexer": "ipython3",
   "version": "3.8.5"
  }
 },
 "nbformat": 4,
 "nbformat_minor": 1
}
