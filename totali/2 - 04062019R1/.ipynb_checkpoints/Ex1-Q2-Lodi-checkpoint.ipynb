{
 "cells": [
  {
   "cell_type": "markdown",
   "metadata": {},
   "source": [
    "## Totale 4/06/2019\n",
    "### Esercizio 1 Punto 2\n",
    "Alessandro Lodi<br>\n",
    "Matricola 274425"
   ]
  },
  {
   "cell_type": "markdown",
   "metadata": {},
   "source": [
    "### Notebook Init"
   ]
  },
  {
   "cell_type": "code",
   "execution_count": 7,
   "metadata": {},
   "outputs": [],
   "source": [
    "import networkx as nx\n",
    "import gurobipy as gb\n",
    "import matplotlib.pyplot as plt\n",
    "from itertools import combinations, chain\n",
    "import pygraphviz as pygv\n",
    "import os\n",
    "from IPython.display import SVG, display"
   ]
  },
  {
   "cell_type": "code",
   "execution_count": 8,
   "metadata": {},
   "outputs": [
    {
     "data": {
      "text/html": [
       "<style>.container { width:100% !important; }</style>"
      ],
      "text/plain": [
       "<IPython.core.display.HTML object>"
      ]
     },
     "metadata": {},
     "output_type": "display_data"
    }
   ],
   "source": [
    "from IPython.core.display import display, HTML\n",
    "display(HTML(\"<style>.container { width:100% !important; }</style>\"))"
   ]
  },
  {
   "cell_type": "code",
   "execution_count": 9,
   "metadata": {},
   "outputs": [],
   "source": [
    "class args:\n",
    "    filename = \"graph04062019R1.gml\"\n",
    "    scale = 40\n",
    "    figsize = 10,10"
   ]
  },
  {
   "cell_type": "code",
   "execution_count": 10,
   "metadata": {},
   "outputs": [],
   "source": [
    "def powerset(iterable):\n",
    "    \"powerset([1,2,3]) --> () (1,) (2,) (3,) (1,2) (1,3) (2,3) (1,2,3)\"\n",
    "    s = list(iterable)\n",
    "    return chain.from_iterable(combinations(s, r) for r in range(len(s)+1))"
   ]
  },
  {
   "cell_type": "markdown",
   "metadata": {},
   "source": [
    "### Drawing functions"
   ]
  },
  {
   "cell_type": "code",
   "execution_count": 11,
   "metadata": {},
   "outputs": [],
   "source": [
    "def DrawInitG(G, withedges=False):\n",
    "    \n",
    "    plt.figure(figsize=args.figsize)\n",
    "    \n",
    "    pos = {i:(G.nodes[i]['x'], G.nodes[i]['y']) for i in G.nodes()}\n",
    "    \n",
    "    nx.draw_networkx_nodes(G, \n",
    "                           pos=pos, \n",
    "                           node_shape='o', \n",
    "                           node_size=600,\n",
    "                           node_color='red')\n",
    "    \n",
    "    nx.draw_networkx_labels(G, pos=pos, font_color='w', font_size=12)\n",
    "    \n",
    "    if withedges:\n",
    "        nx.draw_networkx_edges(G,pos=pos, alpha=1.0)\n",
    "        labels = {(i,j):G.get_edge_data(i,j,'cost').get('cost') for i,j in G.edges()}\n",
    "        nx.draw_networkx_edge_labels(G, pos=pos, edge_labels=labels)\n",
    "    \n",
    "    plt.axis('off')\n",
    "    plt.show()\n",
    "    \n",
    "def DrawSol(G, x):\n",
    "    \n",
    "    plt.figure(figsize=args.figsize)\n",
    "    \n",
    "    pos = {i:(G.nodes[i]['x'], G.nodes[i]['y']) for i in G.nodes()}\n",
    "\n",
    "    \n",
    "    nx.draw_networkx_nodes(G, \n",
    "                           pos=pos, \n",
    "                           node_shape='o', \n",
    "                           node_size=600,\n",
    "                           node_color='red',\n",
    "                           label=[G.nodes()])\n",
    "    \n",
    "    nx.draw_networkx_labels(G, pos=pos, font_color='w', font_size=12)\n",
    "    \n",
    "    for u,v in G.edges():\n",
    "        if x[u,v].x > 0.01 and x[u,v].x < 0.9:\n",
    "            nx.draw_networkx_edges(G, pos=pos,\n",
    "                                   edgelist=[(u,v)],\n",
    "                                   edge_color='r')\n",
    "            \n",
    "            nx.draw_networkx_edge_labels(G, pos=pos,\n",
    "                                         edge_labels={(u,v):'{:.2f}'.format(x[u,v].x)})\n",
    "        \n",
    "        if x[u,v].x > 0.9:\n",
    "            nx.draw_networkx_edges(G, pos=pos,\n",
    "                                   edgelist=[(u,v)],\n",
    "                                   edge_color='k')\n",
    "        \n",
    "    plt.axis('off')\n",
    "    plt.show()"
   ]
  },
  {
   "cell_type": "code",
   "execution_count": 12,
   "metadata": {},
   "outputs": [
    {
     "name": "stdout",
     "output_type": "stream",
     "text": [
      "G has 30 nodes and 435 edges\n"
     ]
    }
   ],
   "source": [
    "# Graph reading\n",
    "basename = os.path.splitext(args.filename)[0]\n",
    "G = nx.read_graphml (args.filename, node_type=int)\n",
    "print (\"G has\", G.number_of_nodes(), \"nodes and\", G.number_of_edges(), \"edges\")"
   ]
  },
  {
   "cell_type": "markdown",
   "metadata": {},
   "source": [
    "## Prize Collecting Steiner Tree (PCST) with limited number of hops  \n",
    "\n",
    "### Problem definition\n",
    "\n",
    ">**Given**\n",
    ">A symmetric graph $G=(V,E)$ and a cost $c_e > 0$ for each edge in $E$.\n",
    ">A root node $\\{0\\}$.\n",
    ">A revenue $p_j > 0$ for each node $j \\in V \\setminus \\{0\\}$.\n",
    ">\n",
    ">**Find**\n",
    ">A subtree 𝑇 rooted in {0} that maximizes the sum of the revenues of the nodes in 𝑇 minus the sum of the cost of the edges in 𝑇 such that the distance between {0} and any node in 𝑇 does not exceed H.\n",
    "\n",
    "### Directed formulation\n",
    "\n",
    "Consider the bidirected graph $B=(V,A)$ that is obtained from $G$ by replacing each edge $e = \\{i, j\\}$ in $E$ with two directed arcs $(i, j)$ and\n",
    "$(j, i)$ (with corresponding weights $c_{ij} = c_{ji} = c_e )$ and a cost $c_e > 0$ for each edge in $E$\n",
    "\n",
    "\n",
    "\n",
    "> **PCST-H** is equivalent to find an optimal arborescence in B rooted in $\\{0\\}$\n",
    "\n",
    "\n",
    "#### Variables\n",
    "$$\n",
    "x_{ij} = \\begin{cases}1 \\text{ if arc $(i, j)$ is in the arborescence} \\\\\n",
    "0 \\text{ otherwise}\n",
    "\\end{cases}\n",
    "$$\n",
    "\n",
    "$$\n",
    "y_j = \\begin{cases} 1 \\text{ if node j is in the arborescence}\\\\\n",
    "0 \\text{ otherwise}\n",
    "\\end{cases}\n",
    "$$\n",
    "\n",
    "$$ \n",
    "u_j = \\{\\text{number of arcs in the dipath (if any) induced by $x$ from \\{0\\} to $j$}\\}\n",
    "$$\n",
    "\n",
    "#### MTZ formulation\n",
    "\n",
    "$$\n",
    "\\begin{align}\n",
    "\\min & \\sum_{(i,j) \\in A} c_{ij} x_{ij} - \\sum_{j \\in V \\{0\\}} p_j y_j \\\\\n",
    "\\text{subject}& \\text{ to} \\\\\n",
    "y_0 & = 1 \\\\\n",
    "\\sum_{i \\in \\delta^-(j)} x_{ij} & = y_j \\;\\; \\forall j \\in V \\setminus \\{0\\}\\\\\n",
    "(h+1)x_{ij} + u_i - u_j &\\le h \\;\\; \\forall (i,j) \\in A \\\\\n",
    "y_i \\le u_i &\\le h y_i \\;\\; \\forall i \\in V\\setminus \\{0\\}\\\\ \n",
    "x_{jk} &\\le y_j \\;\\; \\forall k \\in \\delta^+(j), \\;\\; \\forall j \\in V \\setminus\\{0\\}\\\\\n",
    "0 \\le u_j & \\le n \\;\\; \\forall j \\in V \\\\ \n",
    "x_{ij} & \\in \\{0,1\\} \\;\\; \\forall(i,j) \\in A \\\\\n",
    "y_j & \\in \\{0,1\\} \\;\\; \\forall j \\in V\n",
    "\\end{align}\n",
    "$$\n"
   ]
  },
  {
   "cell_type": "code",
   "execution_count": 14,
   "metadata": {},
   "outputs": [
    {
     "data": {
      "text/plain": [
       "NodeDataView({1: {'y': 65, 'x': 10, 'revenue': 310}, 2: {'y': 19, 'x': 9, 'revenue': 843}, 3: {'y': 8, 'x': 35, 'revenue': 1578}, 4: {'y': 17, 'x': 1, 'revenue': 813}, 5: {'y': 35, 'x': 21, 'revenue': 1452}, 6: {'y': 57, 'x': 15, 'revenue': 1031}, 7: {'y': 5, 'x': 26, 'revenue': 487}, 8: {'y': 20, 'x': 30, 'revenue': 491}, 9: {'y': 50, 'x': 29, 'revenue': 559}, 10: {'y': 19, 'x': 34, 'revenue': 622}, 11: {'y': 34, 'x': 5, 'revenue': 917}, 12: {'y': 1, 'x': 34, 'revenue': 1175}, 13: {'y': 12, 'x': 23, 'revenue': 1064}, 14: {'y': 22, 'x': 11, 'revenue': 930}, 15: {'y': 37, 'x': 11, 'revenue': 1354}, 16: {'y': 12, 'x': 19, 'revenue': 1259}, 17: {'y': 12, 'x': 3, 'revenue': 511}, 18: {'y': 32, 'x': 28, 'revenue': 1169}, 19: {'y': 45, 'x': 1, 'revenue': 679}, 20: {'y': 37, 'x': 14, 'revenue': 432}, 21: {'y': 55, 'x': 1, 'revenue': 1089}, 22: {'y': 36, 'x': 27, 'revenue': 386}, 23: {'y': 34, 'x': 23, 'revenue': 1099}, 24: {'y': 42, 'x': 13, 'revenue': 1326}, 25: {'y': 24, 'x': 11, 'revenue': 568}, 26: {'y': 19, 'x': 15, 'revenue': 507}, 27: {'y': 8, 'x': 29, 'revenue': 552}, 28: {'y': 16, 'x': 8, 'revenue': 673}, 29: {'y': 63, 'x': 9, 'revenue': 1229}, 30: {'y': 56, 'x': 28, 'revenue': 1598}})"
      ]
     },
     "execution_count": 14,
     "metadata": {},
     "output_type": "execute_result"
    }
   ],
   "source": [
    "D = G.to_directed()\n",
    "G.nodes(data=True)"
   ]
  },
  {
   "cell_type": "code",
   "execution_count": 15,
   "metadata": {},
   "outputs": [
    {
     "name": "stdout",
     "output_type": "stream",
     "text": [
      "Academic license - for non-commercial use only - expires 2021-07-30\n",
      "Using license file /opt/gurobi/gurobi.lic\n"
     ]
    }
   ],
   "source": [
    "root = 1\n",
    "pcst = gb.Model()\n",
    "\n",
    "# H represents the maximum number of hops\n",
    "H = 4\n",
    "\n",
    "# Objective function\n",
    "pcst.ModelSense = gb.GRB.MAXIMIZE\n",
    "\n",
    "\n",
    "# Decision Variables\n",
    "x = pcst.addVars(D.edges(), vtype=gb.GRB.BINARY, \n",
    "                 obj = [- D[i][j]['cost'] for i,j in D.edges()], \n",
    "                 name = 'x')\n",
    "\n",
    "y = pcst.addVars (G.nodes(), vtype = gb.GRB.BINARY, \n",
    "                  obj = [G.nodes[i]['revenue'] for i in G.nodes()],\n",
    "                 name = 'y')\n",
    "\n",
    "u = pcst.addVars (G.nodes(), vtype = gb.GRB.CONTINUOUS, \n",
    "                  lb = 0.0, ub = G.number_of_nodes(),\n",
    "                 name = 'u')\n",
    "\n",
    "\n",
    "# Root is in the solution\n",
    "pcst.addConstr(y[root] == 1, name = 'Fix_root')\n",
    "\n",
    "\n",
    "# Each node has exactly one incoming arc\n",
    "pcst.addConstrs((x.sum('*',j) == y[j] for j in G.nodes() if j != root), name='Node_in_deg')\n",
    "\n",
    "\n",
    "# Precedence constraints (MTZ constraints)\n",
    "pcst.addConstrs(((G.number_of_nodes() +  1) * x[i,j] + u[i] - u[j] <= G.number_of_nodes() for i,j in D.edges()),\n",
    "                name = 'MTZ')\n",
    "\n",
    "\n",
    "# Connectivity constraints\n",
    "pcst.addConstrs((x[j,k] <= y[j] for j in G.nodes()\n",
    "                 if j != root for k in D.neighbors(j)), name = 'Connect')\n",
    "\n",
    "# Hop Constraints\n",
    "pcst.addConstrs ((u[i] >= y[i] for i in G.nodes()\n",
    "                  if i != root), name='VLB')\n",
    "\n",
    "pcst.addConstrs ((u[i] <= H * y[i] for i in G.nodes()\n",
    "                  if i != root), name='VUB')\n",
    "\n",
    "pcst.update()\n",
    "pcst.write('pcst.lp')"
   ]
  },
  {
   "cell_type": "code",
   "execution_count": 16,
   "metadata": {},
   "outputs": [
    {
     "name": "stdout",
     "output_type": "stream",
     "text": [
      "Gurobi Optimizer version 9.1.2 build v9.1.2rc0 (linux64)\n",
      "Thread count: 2 physical cores, 4 logical processors, using up to 4 threads\n",
      "Optimize a model with 1799 rows, 930 columns and 5279 nonzeros\n",
      "Model fingerprint: 0x83369fd5\n",
      "Variable types: 30 continuous, 900 integer (900 binary)\n",
      "Coefficient statistics:\n",
      "  Matrix range     [1e+00, 3e+01]\n",
      "  Objective range  [1e+02, 7e+03]\n",
      "  Bounds range     [1e+00, 3e+01]\n",
      "  RHS range        [1e+00, 3e+01]\n",
      "Found heuristic solution: objective 310.0000000\n",
      "Presolve removed 59 rows and 31 columns\n",
      "Presolve time: 0.02s\n",
      "Presolved: 1740 rows, 899 columns, 5104 nonzeros\n",
      "Variable types: 29 continuous, 870 integer (870 binary)\n",
      "\n",
      "Root relaxation: objective 1.373380e+04, 88 iterations, 0.00 seconds\n",
      "\n",
      "    Nodes    |    Current Node    |     Objective Bounds      |     Work\n",
      " Expl Unexpl |  Obj  Depth IntInf | Incumbent    BestBd   Gap | It/Node Time\n",
      "\n",
      "     0     0 13733.8000    0   24  310.00000 13733.8000  4330%     -    0s\n",
      "H    0     0                    1424.0000000 13733.8000   864%     -    0s\n",
      "     0     0 12187.2000    0   22 1424.00000 12187.2000   756%     -    0s\n",
      "H    0     0                    2428.0000000 12187.2000   402%     -    0s\n",
      "     0     0 12136.5000    0   24 2428.00000 12136.5000   400%     -    0s\n",
      "     0     0 12129.0000    0   24 2428.00000 12129.0000   400%     -    0s\n",
      "     0     0 12050.0000    0   19 2428.00000 12050.0000   396%     -    0s\n",
      "H    0     0                    4769.0000000 12050.0000   153%     -    0s\n",
      "H    0     0                    6999.0000000 12050.0000  72.2%     -    0s\n",
      "     0     0 12046.3684    0   19 6999.00000 12046.3684  72.1%     -    0s\n",
      "     0     0 12017.3158    0   21 6999.00000 12017.3158  71.7%     -    0s\n",
      "     0     0 11823.7333    0   25 6999.00000 11823.7333  68.9%     -    0s\n",
      "H    0     0                    8996.0000000 11823.7333  31.4%     -    0s\n",
      "     0     0 11811.8718    0   21 8996.00000 11811.8718  31.3%     -    0s\n",
      "     0     0 11790.6667    0   23 8996.00000 11790.6667  31.1%     -    0s\n",
      "     0     0 11790.6667    0   24 8996.00000 11790.6667  31.1%     -    0s\n",
      "     0     0 11790.6667    0   26 8996.00000 11790.6667  31.1%     -    0s\n",
      "     0     0 11790.6667    0   24 8996.00000 11790.6667  31.1%     -    0s\n",
      "     0     0 11790.6667    0   28 8996.00000 11790.6667  31.1%     -    0s\n",
      "     0     0 11790.6667    0   26 8996.00000 11790.6667  31.1%     -    0s\n",
      "     0     0 11732.2500    0   28 8996.00000 11732.2500  30.4%     -    0s\n",
      "     0     0 11732.2500    0   28 8996.00000 11732.2500  30.4%     -    0s\n",
      "     0     0 11721.6000    0   25 8996.00000 11721.6000  30.3%     -    0s\n",
      "     0     0 11721.6000    0   25 8996.00000 11721.6000  30.3%     -    0s\n",
      "     0     0 11702.5000    0   28 8996.00000 11702.5000  30.1%     -    0s\n",
      "     0     0 11702.5000    0   28 8996.00000 11702.5000  30.1%     -    0s\n",
      "     0     0 11695.6522    0   32 8996.00000 11695.6522  30.0%     -    0s\n",
      "     0     0 11693.5000    0   32 8996.00000 11693.5000  30.0%     -    0s\n",
      "     0     0 11693.5000    0   32 8996.00000 11693.5000  30.0%     -    0s\n",
      "     0     0 11689.7143    0   32 8996.00000 11689.7143  29.9%     -    0s\n",
      "     0     0 11689.6471    0   32 8996.00000 11689.6471  29.9%     -    0s\n",
      "     0     0 11689.6000    0   32 8996.00000 11689.6000  29.9%     -    0s\n",
      "     0     0 11689.6000    0   32 8996.00000 11689.6000  29.9%     -    0s\n",
      "     0     2 11619.6000    0   32 8996.00000 11619.6000  29.2%     -    0s\n",
      "H   29    34                    9087.0000000 11584.8000  27.5%   4.2    0s\n",
      "H  203   167                    9202.0000000 11552.2500  25.5%   3.6    0s\n",
      "H  717   490                    9263.0000000 11432.2500  23.4%   3.9    1s\n",
      "H 4891  1743                    9373.0000000 10522.0000  12.3%   7.5    2s\n",
      "H 5290  1664                    9646.0000000 10482.0000  8.67%   7.6    2s\n",
      "H 5354  1656                    9649.0000000 10480.3036  8.62%   7.7    2s\n",
      "\n",
      "Cutting planes:\n",
      "  Learned: 15\n",
      "  Gomory: 3\n",
      "  Cover: 13\n",
      "  Implied bound: 6\n",
      "  Projected implied bound: 19\n",
      "  Clique: 4\n",
      "  MIR: 17\n",
      "  StrongCG: 1\n",
      "  Flow cover: 43\n",
      "  Inf proof: 4\n",
      "  Zero half: 21\n",
      "  Mod-K: 2\n",
      "  RLT: 3\n",
      "  Relax-and-lift: 15\n",
      "\n",
      "Explored 9783 nodes (83540 simplex iterations) in 3.63 seconds\n",
      "Thread count was 4 (of 4 available processors)\n",
      "\n",
      "Solution count 10: 9649 9646 9373 ... 2428\n",
      "\n",
      "Optimal solution found (tolerance 1.00e-04)\n",
      "Best objective 9.649000000000e+03, best bound 9.649000000000e+03, gap 0.0000%\n"
     ]
    }
   ],
   "source": [
    "pcst.optimize()"
   ]
  },
  {
   "cell_type": "code",
   "execution_count": 17,
   "metadata": {},
   "outputs": [
    {
     "data": {
      "image/png": "[encoded data removed]",
      "text/plain": [
       "<Figure size 720x720 with 1 Axes>"
      ]
     },
     "metadata": {},
     "output_type": "display_data"
    }
   ],
   "source": [
    "DrawSol(D,x)"
   ]
  },
  {
   "cell_type": "markdown",
   "metadata": {},
   "source": [
    "## Budget on the total cost\n",
    "\n",
    "$$ \\sum_{(i,j) \\in A} c_{ij} \\cdot x_{ij} \\le b $$"
   ]
  },
  {
   "cell_type": "code",
   "execution_count": 12,
   "metadata": {},
   "outputs": [],
   "source": [
    "budget = 4000\n",
    "costs ={(i,j): D[i][j]['cost'] for (i,j) in D.edges()}\n",
    "pcst.addConstr(x.prod(costs) <= budget, 'Budget')\n",
    "\n",
    "pcst.update() \n",
    "pcst.write('pcst_budget.lp')"
   ]
  },
  {
   "cell_type": "code",
   "execution_count": 13,
   "metadata": {},
   "outputs": [
    {
     "name": "stdout",
     "output_type": "stream",
     "text": [
      "Gurobi Optimizer version 9.1.2 build v9.1.2rc0 (linux64)\n",
      "Thread count: 6 physical cores, 12 logical processors, using up to 12 threads\n",
      "Optimize a model with 1800 rows, 930 columns and 6149 nonzeros\n",
      "Model fingerprint: 0xb360390c\n",
      "Variable types: 30 continuous, 900 integer (900 binary)\n",
      "Coefficient statistics:\n",
      "  Matrix range     [1e+00, 5e+03]\n",
      "  Objective range  [1e+02, 5e+03]\n",
      "  Bounds range     [1e+00, 3e+01]\n",
      "  RHS range        [1e+00, 4e+03]\n",
      "\n",
      "MIP start from previous solve did not produce a new incumbent solution\n",
      "MIP start from previous solve violates constraint Budget by 1012.000000000\n",
      "\n",
      "Found heuristic solution: objective 822.0000000\n",
      "Presolve removed 552 rows and 172 columns\n",
      "Presolve time: 0.04s\n",
      "Presolved: 1248 rows, 758 columns, 7190 nonzeros\n",
      "Variable types: 29 continuous, 729 integer (729 binary)\n",
      "\n",
      "Root relaxation: objective 5.180727e+03, 85 iterations, 0.00 seconds\n",
      "\n",
      "    Nodes    |    Current Node    |     Objective Bounds      |     Work\n",
      " Expl Unexpl |  Obj  Depth IntInf | Incumbent    BestBd   Gap | It/Node Time\n",
      "\n",
      "     0     0 5180.72707    0   17  822.00000 5180.72707   530%     -    0s\n",
      "H    0     0                    1743.0000000 5180.72707   197%     -    0s\n",
      "H    0     0                    1848.0000000 5180.72707   180%     -    0s\n",
      "H    0     0                    2736.0000000 5174.06320  89.1%     -    0s\n",
      "     0     0 4173.89108    0   17 2736.00000 4173.89108  52.6%     -    0s\n",
      "     0     0 4164.34416    0   22 2736.00000 4164.34416  52.2%     -    0s\n",
      "     0     0 4164.34416    0   22 2736.00000 4164.34416  52.2%     -    0s\n",
      "     0     0 4044.28633    0   17 2736.00000 4044.28633  47.8%     -    0s\n",
      "     0     0 3373.13793    0   12 2736.00000 3373.13793  23.3%     -    0s\n",
      "H    0     0                    2790.0000000 3368.20970  20.7%     -    0s\n",
      "     0     0 3211.40587    0   19 2790.00000 3211.40587  15.1%     -    0s\n",
      "     0     0 2928.07788    0   14 2790.00000 2928.07788  4.95%     -    0s\n",
      "\n",
      "Cutting planes:\n",
      "  Gomory: 1\n",
      "  Cover: 2\n",
      "  Implied bound: 4\n",
      "  Clique: 3\n",
      "  MIR: 12\n",
      "  Flow cover: 2\n",
      "  GUB cover: 1\n",
      "  Mod-K: 1\n",
      "  Relax-and-lift: 5\n",
      "\n",
      "Explored 1 nodes (319 simplex iterations) in 0.20 seconds\n",
      "Thread count was 12 (of 12 available processors)\n",
      "\n",
      "Solution count 5: 2790 2736 1848 ... 822\n",
      "\n",
      "Optimal solution found (tolerance 1.00e-04)\n",
      "Best objective 2.790000000000e+03, best bound 2.790000000000e+03, gap 0.0000%\n"
     ]
    }
   ],
   "source": [
    "pcst.optimize()"
   ]
  },
  {
   "cell_type": "code",
   "execution_count": 14,
   "metadata": {},
   "outputs": [
    {
     "data": {
      "image/png": "[encoded data removed]",
      "text/plain": [
       "<Figure size 360x360 with 1 Axes>"
      ]
     },
     "metadata": {},
     "output_type": "display_data"
    }
   ],
   "source": [
    "DrawSol(D,x)"
   ]
  },
  {
   "cell_type": "code",
   "execution_count": null,
   "metadata": {},
   "outputs": [],
   "source": []
  }
 ],
 "metadata": {
  "anaconda-cloud": {},
  "kernelspec": {
   "display_name": "Python 3",
   "language": "python",
   "name": "python3"
  },
  "language_info": {
   "codemirror_mode": {
    "name": "ipython",
    "version": 3
   },
   "file_extension": ".py",
   "mimetype": "text/x-python",
   "name": "python",
   "nbconvert_exporter": "python",
   "pygments_lexer": "ipython3",
   "version": "3.9.5"
  }
 },
 "nbformat": 4,
 "nbformat_minor": 1
}
