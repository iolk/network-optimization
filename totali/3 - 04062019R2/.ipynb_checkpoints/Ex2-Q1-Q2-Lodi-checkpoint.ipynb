{
 "cells": [
  {
   "cell_type": "markdown",
   "metadata": {},
   "source": [
    "## Totale N.\n",
    "### Esercizio 3 punto 1\n",
    "Alessandro Lodi<br>\n",
    "Matricola 274425"
   ]
  },
  {
   "cell_type": "markdown",
   "metadata": {},
   "source": [
    "### Notebook Init"
   ]
  },
  {
   "cell_type": "code",
   "execution_count": 1,
   "metadata": {},
   "outputs": [],
   "source": [
    "import networkx as nx\n",
    "import gurobipy as gb\n",
    "import matplotlib.pyplot as plt\n",
    "from itertools import combinations, chain\n",
    "import pygraphviz as pygv\n",
    "import os\n",
    "from IPython.display import SVG, display"
   ]
  },
  {
   "cell_type": "code",
   "execution_count": 2,
   "metadata": {},
   "outputs": [
    {
     "data": {
      "text/html": [
       "<style>.container { width:100% !important; }</style>"
      ],
      "text/plain": [
       "<IPython.core.display.HTML object>"
      ]
     },
     "metadata": {},
     "output_type": "display_data"
    }
   ],
   "source": [
    "from IPython.core.display import display, HTML\n",
    "display(HTML(\"<style>.container { width:100% !important; }</style>\"))"
   ]
  },
  {
   "cell_type": "code",
   "execution_count": 3,
   "metadata": {},
   "outputs": [],
   "source": [
    "class args:\n",
    "    filename = \"atsp04062019R2.gml\"\n",
    "    scale = 40\n",
    "    figsize = 10,10"
   ]
  },
  {
   "cell_type": "code",
   "execution_count": 4,
   "metadata": {},
   "outputs": [],
   "source": [
    "def powerset(iterable):\n",
    "    \"powerset([1,2,3]) --> () (1,) (2,) (3,) (1,2) (1,3) (2,3) (1,2,3)\"\n",
    "    s = list(iterable)\n",
    "    return chain.from_iterable(combinations(s, r) for r in range(len(s)+1))"
   ]
  },
  {
   "cell_type": "markdown",
   "metadata": {},
   "source": [
    "### Drawing functions"
   ]
  },
  {
   "cell_type": "code",
   "execution_count": 5,
   "metadata": {},
   "outputs": [],
   "source": [
    "def DrawInitG(G, withedges=False):\n",
    "    \n",
    "    plt.figure(figsize=args.figsize)\n",
    "    \n",
    "    pos = {i:(G.nodes[i]['x'], G.nodes[i]['y']) for i in G.nodes()}\n",
    "    \n",
    "    nx.draw_networkx_nodes(G, \n",
    "                           pos=pos, \n",
    "                           node_shape='o', \n",
    "                           node_size=600,\n",
    "                           node_color='red')\n",
    "    \n",
    "    nx.draw_networkx_labels(G, pos=pos, font_color='w', font_size=12)\n",
    "    \n",
    "    if withedges:\n",
    "        nx.draw_networkx_edges(G,pos=pos, alpha=1.0)\n",
    "        labels = {(i,j):G.get_edge_data(i,j,'cost').get('cost') for i,j in G.edges()}\n",
    "        nx.draw_networkx_edge_labels(G, pos=pos, edge_labels=labels)\n",
    "    \n",
    "    plt.axis('off')\n",
    "    plt.show()\n",
    "    \n",
    "def DrawSol(G, x):\n",
    "    \n",
    "    plt.figure(figsize=args.figsize)\n",
    "    \n",
    "    pos = {i:(G.nodes[i]['x'], G.nodes[i]['y']) for i in G.nodes()}\n",
    "\n",
    "    \n",
    "    nx.draw_networkx_nodes(G, \n",
    "                           pos=pos, \n",
    "                           node_shape='o', \n",
    "                           node_size=600,\n",
    "                           node_color='red',\n",
    "                           label=[G.nodes()])\n",
    "    \n",
    "    nx.draw_networkx_labels(G, pos=pos, font_color='w', font_size=12)\n",
    "    \n",
    "    for u,v in G.edges():\n",
    "        if x[u,v].x > 0.01 and x[u,v].x < 0.9:\n",
    "            nx.draw_networkx_edges(G, pos=pos,\n",
    "                                   edgelist=[(u,v)],\n",
    "                                   edge_color='r')\n",
    "            \n",
    "            nx.draw_networkx_edge_labels(G, pos=pos,\n",
    "                                         edge_labels={(u,v):'{:.2f}'.format(x[u,v].x)})\n",
    "        \n",
    "        if x[u,v].x > 0.9:\n",
    "            nx.draw_networkx_edges(G, pos=pos,\n",
    "                                   edgelist=[(u,v)],\n",
    "                                   edge_color='k')\n",
    "        \n",
    "    plt.axis('off')\n",
    "    plt.show()"
   ]
  },
  {
   "cell_type": "code",
   "execution_count": 6,
   "metadata": {},
   "outputs": [
    {
     "name": "stdout",
     "output_type": "stream",
     "text": [
      "G has 27 nodes and 702 edges\n"
     ]
    }
   ],
   "source": [
    "# Graph reading\n",
    "basename = os.path.splitext(args.filename)[0]\n",
    "G = nx.read_graphml (args.filename, node_type=int)\n",
    "print (\"G has\", G.number_of_nodes(), \"nodes and\", G.number_of_edges(), \"edges\")"
   ]
  },
  {
   "cell_type": "code",
   "execution_count": 7,
   "metadata": {},
   "outputs": [
    {
     "data": {
      "text/plain": [
       "NodeDataView({1: {'y': 18, 'x': 16}, 2: {'y': 26, 'x': 7}, 3: {'y': 25, 'x': 23}, 4: {'y': 4, 'x': 6}, 10: {'y': 3, 'x': 21}, 6: {'y': 5, 'x': 20}, 7: {'y': 29, 'x': 12}, 8: {'y': 7, 'x': 9}, 9: {'y': 36, 'x': 4}, 5: {'y': 6, 'x': 29}, 11: {'y': 28, 'x': 8}, 12: {'y': 23, 'x': 20}, 13: {'y': 6, 'x': 3}, 14: {'y': 37, 'x': 7}, 15: {'y': 14, 'x': 11}, 16: {'y': 14, 'x': 12}, 17: {'y': 35, 'x': 4}, 18: {'y': 29, 'x': 2}, 19: {'y': 32, 'x': 13}, 22: {'y': 23, 'x': 23}, 21: {'y': 33, 'x': 25}, 20: {'y': 20, 'x': 9}, 23: {'y': 17, 'x': 7}, 24: {'y': 7, 'x': 5}, 25: {'y': 16, 'x': 28}, 26: {'y': 26, 'x': 20}, 27: {'y': 33, 'x': 29}})"
      ]
     },
     "execution_count": 7,
     "metadata": {},
     "output_type": "execute_result"
    }
   ],
   "source": [
    "G.nodes(data=True)"
   ]
  },
  {
   "cell_type": "markdown",
   "metadata": {},
   "source": [
    "## Capacitated Vehicle Routing Problem\n",
    "\n",
    ">**Given** A fleet of identical vehicles, with limited capacity, located at a depot; $n$ customers that require service with known demand; cost of travel between any pair of customers, or between any customer and the depot.\n",
    "\n",
    ">**Find** A minimum-cost collection of vehicle routes, each starting and ending at the depot, such that each customer is visited by exactly one vehicle, and no vehicle visits a set of customers whose total demand exceeds the vehicle capacity.\n",
    "\n",
    "Let $G=(V,A)$ be a directed graph with node $1$ representing the depot and $V_C=V\\setminus{1}$ representing the customers.\n",
    "The (positive integer) demand of customer $i \\in V_C$ is denoted by $q_i$.\n",
    "For any set of customer $S \\subset V_C$ let $q(S)=\\sum_{i \\in S} q_i$.\n",
    "\n",
    "### Two-index formulation\n",
    "\n",
    "$$\n",
    "x_{ij} = \\begin{cases}1 \\text{ if arc $(i, j)$ is some vehicle travels from $i$ to $j$} \\\\\n",
    "0 \\text{ otherwise}\n",
    "\\end{cases}\n",
    "$$\n",
    "\n",
    "\n",
    "$$\n",
    "\\begin{align}\n",
    "\\min & \\sum_{(i,j) \\in A} c_{ij} x_{ij} \\\\\n",
    "\\text{subject}& \\text{ to} \\\\\n",
    "\\sum_{j \\in \\delta^+(i)} x_{ij} & = 1\\;\\; \\forall i \\in V_C\\\\\n",
    "\\sum_{j \\in \\delta^-(i)} x_{ji} & = 1\\;\\; \\forall i \\in V_C\\\\\n",
    "\\sum_{j \\in \\delta^+(S)} x_{ij} & \\ge \\lceil{q(S)/Q} \\rceil \\;\\ \\forall S \\subseteq V_C\\\\\n",
    " x_{ij} \\in \\{0,1\\} \\;\\; \\forall(i,j) \\in A \\\\\n",
    "\\end{align}\n",
    "$$\n",
    "\n",
    "The constraints $\\sum_{j \\in \\delta^+(S)} x_{ij}  \\ge \\lceil{q(S)/Q} \\rceil $ are called *rounded capacity inequalities*\n",
    "\n",
    "### Single commodity flow formulation\n",
    "\n",
    "Define a continuous variable $f_{ij}$ for each arc $(i,j) \\in A$ representing the load (flow) \n",
    "carried from $i$ to $j$. The rounded capacity inequalities can be replaced with:\n",
    "\n",
    "$$\n",
    "\\sum_{j \\in \\delta^-(i)} f_{ji} - \\sum_{j \\in \\delta^+(i)} f_{ij} = q_i \\;\\; \\forall i \\in V_C\\\\\n",
    "0 \\le f_{ij} \\le Q x_{ij}\n",
    "$$\n",
    "\n",
    "### Strengthening\n",
    "\n",
    "$$q_j x_{ij} \\le f_{ij} \\le (Q-q_i) x_{ij} \\;\\; \\forall (i,j) \\in A$$\n",
    "\n",
    "Thus, the final formulation reads:\n",
    "\n",
    "\n",
    "$$\n",
    "x_{ij} = \\begin{cases}1 \\text{ if arc $(i, j)$ is some vehicle travels from $i$ to $j$} \\\\\n",
    "0 \\text{ otherwise}\n",
    "\\end{cases}\n",
    "$$\n",
    "\n",
    "\n",
    "$$\n",
    "\\begin{align}\n",
    "\\min & \\sum_{(i,j) \\in A} c_{ij} x_{ij} \\\\\n",
    "\\text{subject}& \\text{ to} \\\\\n",
    "\\sum_{j \\in \\delta^+(i)} x_{ij} & = 1\\;\\; \\forall i \\in V_C\\\\\n",
    "\\sum_{j \\in \\delta^-(i)} x_{ji} & = 1\\;\\; \\forall i \\in V_C\\\\\n",
    "\\sum_{j \\in \\delta^-(i)} f_{ji} - \\sum_{j \\in \\delta^+(i)} f_{ij} & = q_i \\;\\;\\forall i \\in V_C\\\\\n",
    " q_j x_{ij} \\le f_{ij} & \\le (Q-q_i) x_{ij}  \\;\\; \\forall (i,j) \\in A\\\\\n",
    "\\\\\n",
    "x_{ij} & \\in \\{0,1\\} \\;\\; \\forall(i,j) \\in A \\\\\n",
    "\\end{align}\n",
    "$$\n"
   ]
  },
  {
   "cell_type": "code",
   "execution_count": 8,
   "metadata": {},
   "outputs": [
    {
     "name": "stdout",
     "output_type": "stream",
     "text": [
      "Academic license - for non-commercial use only - expires 2021-07-30\n",
      "Using license file /opt/gurobi/gurobi.lic\n"
     ]
    }
   ],
   "source": [
    "cvrp = gb.Model()\n",
    "\n",
    "depot = 1\n",
    "\n",
    "# Vehicle capacity \n",
    "Q = 8 \n",
    "\n",
    "# Node demand\n",
    "dem = [1 for node in G.nodes()]\n",
    "\n",
    "# Depot does not require service\n",
    "dem[1] = 0\n",
    "dem[10] = 0\n",
    "dem[20] = 0\n",
    "\n",
    "\n",
    "x = cvrp.addVars(G.edges(), \n",
    "                 obj=[G[i][j]['dist'] for i,j in G.edges()],\n",
    "                 vtype = gb.GRB.BINARY, name='x')\n",
    "\n",
    "f = cvrp.addVars (G.edges(), obj=0.0, lb=0,\n",
    "                  ub=Q, vtype=gb.GRB.CONTINUOUS, name='f')\n",
    "\n",
    "\n",
    "# Forward/Reverse star\n",
    "cvrp.addConstrs((x.sum(i,'*') == 1 for i in G.nodes() if i != depot), name='FS')\n",
    "cvrp.addConstrs((x.sum('*',i) == 1 for i in G.nodes() if i != depot), name='RS')\n",
    "\n",
    "\n",
    "# Flow constraints\n",
    "cvrp.addConstrs((f.sum('*',i) - f.sum(i,'*') == dem[i] for i in G.nodes() if i != depot),\n",
    "                name='FLOW')\n",
    "\n",
    "\n",
    "cvrp.addConstrs((f[i,j] <= (Q - dem[i]) * x[i,j] for i,j in G.edges()),name='VUB')\n",
    "cvrp.addConstrs((f[i,j] >= dem[j] * x[i,j] for i,j in G.edges()),name='VLB')\n",
    "\n",
    "\n",
    "cvrp.update()\n",
    "cvrp.write('cvrp.lp')"
   ]
  },
  {
   "cell_type": "code",
   "execution_count": 9,
   "metadata": {},
   "outputs": [
    {
     "name": "stdout",
     "output_type": "stream",
     "text": [
      "Gurobi Optimizer version 9.1.2 build v9.1.2rc0 (linux64)\n",
      "Thread count: 2 physical cores, 4 logical processors, using up to 4 threads\n",
      "Optimize a model with 462 rows, 420 columns and 1610 nonzeros\n",
      "Model fingerprint: 0x8263e607\n",
      "Variable types: 210 continuous, 210 integer (210 binary)\n",
      "Coefficient statistics:\n",
      "  Matrix range     [1e+00, 1e+04]\n",
      "  Objective range  [2e+02, 5e+03]\n",
      "  Bounds range     [1e+00, 1e+04]\n",
      "  RHS range        [1e+00, 2e+03]\n",
      "Presolve removed 28 rows and 14 columns\n",
      "Presolve time: 0.01s\n",
      "Presolved: 434 rows, 406 columns, 1568 nonzeros\n",
      "Variable types: 210 continuous, 196 integer (196 binary)\n",
      "Found heuristic solution: objective 60655.000000\n",
      "\n",
      "Root relaxation: objective 1.200511e+04, 412 iterations, 0.01 seconds\n",
      "\n",
      "    Nodes    |    Current Node    |     Objective Bounds      |     Work\n",
      " Expl Unexpl |  Obj  Depth IntInf | Incumbent    BestBd   Gap | It/Node Time\n",
      "\n",
      "     0     0 12005.1124    0   28 60655.0000 12005.1124  80.2%     -    0s\n",
      "H    0     0                    23499.000000 12005.1124  48.9%     -    0s\n",
      "H    0     0                    20870.000000 12005.1124  42.5%     -    0s\n",
      "     0     0 12589.1036    0   32 20870.0000 12589.1036  39.7%     -    0s\n",
      "     0     0 12637.5085    0   30 20870.0000 12637.5085  39.4%     -    0s\n",
      "     0     0 12651.9236    0   32 20870.0000 12651.9236  39.4%     -    0s\n",
      "     0     0 12662.2982    0   29 20870.0000 12662.2982  39.3%     -    0s\n",
      "     0     0 12662.3704    0   30 20870.0000 12662.3704  39.3%     -    0s\n",
      "     0     0 12709.9928    0   36 20870.0000 12709.9928  39.1%     -    0s\n",
      "H    0     0                    18290.000000 12709.9928  30.5%     -    0s\n",
      "     0     0 12879.3377    0   39 18290.0000 12879.3377  29.6%     -    0s\n",
      "     0     0 13103.5800    0   37 18290.0000 13103.5800  28.4%     -    0s\n",
      "H    0     0                    15485.000000 13103.5800  15.4%     -    0s\n",
      "H    0     0                    15262.000000 13103.5800  14.1%     -    0s\n",
      "     0     0 13104.2752    0   39 15262.0000 13104.2752  14.1%     -    0s\n",
      "     0     0 13185.2646    0   40 15262.0000 13185.2646  13.6%     -    0s\n",
      "H    0     0                    15096.000000 13185.2646  12.7%     -    0s\n",
      "     0     0 13196.7961    0   40 15096.0000 13196.7961  12.6%     -    0s\n",
      "H    0     0                    15010.000000 13196.7961  12.1%     -    0s\n",
      "H    0     0                    14899.000000 13196.7961  11.4%     -    0s\n",
      "     0     0 13198.9773    0   40 14899.0000 13198.9773  11.4%     -    0s\n",
      "     0     0 13199.1303    0   41 14899.0000 13199.1303  11.4%     -    0s\n",
      "     0     0 13227.0512    0   39 14899.0000 13227.0512  11.2%     -    0s\n",
      "     0     0 13228.1524    0   40 14899.0000 13228.1524  11.2%     -    0s\n",
      "     0     0 13228.7480    0   43 14899.0000 13228.7480  11.2%     -    0s\n",
      "     0     0 13247.6754    0   43 14899.0000 13247.6754  11.1%     -    0s\n",
      "     0     0 13266.9081    0   32 14899.0000 13266.9081  11.0%     -    0s\n",
      "     0     0 13267.0828    0   33 14899.0000 13267.0828  11.0%     -    0s\n",
      "     0     0 13268.0408    0   35 14899.0000 13268.0408  10.9%     -    0s\n",
      "     0     0 13268.0408    0   35 14899.0000 13268.0408  10.9%     -    0s\n",
      "H    0     0                    14865.000000 13268.0408  10.7%     -    0s\n",
      "     0     0 13268.0408    0   28 14865.0000 13268.0408  10.7%     -    0s\n",
      "     0     0 13268.0408    0   32 14865.0000 13268.0408  10.7%     -    0s\n",
      "     0     0 13268.0408    0   35 14865.0000 13268.0408  10.7%     -    0s\n",
      "     0     0 13268.0408    0   34 14865.0000 13268.0408  10.7%     -    0s\n",
      "     0     0 13268.0408    0   15 14865.0000 13268.0408  10.7%     -    0s\n",
      "     0     0 13268.0408    0   33 14865.0000 13268.0408  10.7%     -    0s\n",
      "     0     0 13268.0408    0   35 14865.0000 13268.0408  10.7%     -    0s\n",
      "     0     0 13269.5438    0   38 14865.0000 13269.5438  10.7%     -    0s\n",
      "     0     0 13270.2795    0   40 14865.0000 13270.2795  10.7%     -    0s\n",
      "     0     0 13272.1579    0   40 14865.0000 13272.1579  10.7%     -    0s\n",
      "     0     0 13272.1579    0   40 14865.0000 13272.1579  10.7%     -    0s\n",
      "     0     2 13302.6292    0   40 14865.0000 13302.6292  10.5%     -    0s\n",
      "* 1184    61              12    14864.000000 14458.0436  2.73%  13.7    1s\n",
      "\n",
      "Cutting planes:\n",
      "  Gomory: 5\n",
      "  MIR: 17\n",
      "  Flow cover: 7\n",
      "  Flow path: 1\n",
      "  Inf proof: 3\n",
      "  Zero half: 1\n",
      "  Network: 8\n",
      "\n",
      "Explored 1261 nodes (18899 simplex iterations) in 1.27 seconds\n",
      "Thread count was 4 (of 4 available processors)\n",
      "\n",
      "Solution count 10: 14864 14865 14899 ... 23499\n",
      "\n",
      "Optimal solution found (tolerance 1.00e-04)\n",
      "Best objective 1.486400000000e+04, best bound 1.486400000000e+04, gap 0.0000%\n"
     ]
    }
   ],
   "source": [
    "cvrp.optimize()"
   ]
  },
  {
   "cell_type": "code",
   "execution_count": 10,
   "metadata": {},
   "outputs": [
    {
     "data": {
      "image/png": "[encoded data removed]",
      "text/plain": [
       "<Figure size 360x360 with 1 Axes>"
      ]
     },
     "metadata": {},
     "output_type": "display_data"
    }
   ],
   "source": [
    "DrawSol(G, x)"
   ]
  },
  {
   "cell_type": "code",
   "execution_count": null,
   "metadata": {},
   "outputs": [],
   "source": []
  }
 ],
 "metadata": {
  "anaconda-cloud": {},
  "kernelspec": {
   "display_name": "Python 3",
   "language": "python",
   "name": "python3"
  },
  "language_info": {
   "codemirror_mode": {
    "name": "ipython",
    "version": 3
   },
   "file_extension": ".py",
   "mimetype": "text/x-python",
   "name": "python",
   "nbconvert_exporter": "python",
   "pygments_lexer": "ipython3",
   "version": "3.8.5"
  }
 },
 "nbformat": 4,
 "nbformat_minor": 1
}
