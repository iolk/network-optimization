{
 "cells": [
  {
   "cell_type": "markdown",
   "metadata": {},
   "source": [
    "## Totale N.\n",
    "### Esercizio 3 punto 1\n",
    "Alessandro Lodi<br>\n",
    "Matricola 274425"
   ]
  },
  {
   "cell_type": "markdown",
   "metadata": {},
   "source": [
    "### Notebook Init"
   ]
  },
  {
   "cell_type": "code",
   "execution_count": 1,
   "metadata": {},
   "outputs": [],
   "source": [
    "import networkx as nx\n",
    "import gurobipy as gb\n",
    "import matplotlib.pyplot as plt\n",
    "from itertools import combinations, chain\n",
    "import pygraphviz as pygv\n",
    "import os\n",
    "from IPython.display import SVG, display"
   ]
  },
  {
   "cell_type": "code",
   "execution_count": 2,
   "metadata": {},
   "outputs": [
    {
     "data": {
      "text/html": [
       "<style>.container { width:100% !important; }</style>"
      ],
      "text/plain": [
       "<IPython.core.display.HTML object>"
      ]
     },
     "metadata": {},
     "output_type": "display_data"
    }
   ],
   "source": [
    "from IPython.core.display import display, HTML\n",
    "display(HTML(\"<style>.container { width:100% !important; }</style>\"))"
   ]
  },
  {
   "cell_type": "code",
   "execution_count": 3,
   "metadata": {},
   "outputs": [],
   "source": [
    "class args:\n",
    "    filename = \"atsp04062019R2.gml\"\n",
    "    scale = 40\n",
    "    figsize = 10,10"
   ]
  },
  {
   "cell_type": "code",
   "execution_count": 4,
   "metadata": {},
   "outputs": [],
   "source": [
    "def powerset(iterable):\n",
    "    \"powerset([1,2,3]) --> () (1,) (2,) (3,) (1,2) (1,3) (2,3) (1,2,3)\"\n",
    "    s = list(iterable)\n",
    "    return chain.from_iterable(combinations(s, r) for r in range(len(s)+1))"
   ]
  },
  {
   "cell_type": "markdown",
   "metadata": {},
   "source": [
    "### Drawing functions"
   ]
  },
  {
   "cell_type": "code",
   "execution_count": 5,
   "metadata": {},
   "outputs": [],
   "source": [
    "def DrawInitG(G, withedges=False):\n",
    "    \n",
    "    plt.figure(figsize=args.figsize)\n",
    "    \n",
    "    pos = {i:(G.nodes[i]['x'], G.nodes[i]['y']) for i in G.nodes()}\n",
    "    \n",
    "    nx.draw_networkx_nodes(G, \n",
    "                           pos=pos, \n",
    "                           node_shape='o', \n",
    "                           node_size=600,\n",
    "                           node_color='red')\n",
    "    \n",
    "    nx.draw_networkx_labels(G, pos=pos, font_color='w', font_size=12)\n",
    "    \n",
    "    if withedges:\n",
    "        nx.draw_networkx_edges(G,pos=pos, alpha=1.0)\n",
    "        labels = {(i,j):G.get_edge_data(i,j,'cost').get('cost') for i,j in G.edges()}\n",
    "        nx.draw_networkx_edge_labels(G, pos=pos, edge_labels=labels)\n",
    "    \n",
    "    plt.axis('off')\n",
    "    plt.show()\n",
    "    \n",
    "def DrawSol(G, x):\n",
    "    \n",
    "    plt.figure(figsize=args.figsize)\n",
    "    \n",
    "    pos = {i:(G.nodes[i]['x'], G.nodes[i]['y']) for i in G.nodes()}\n",
    "\n",
    "    \n",
    "    nx.draw_networkx_nodes(G, \n",
    "                           pos=pos, \n",
    "                           node_shape='o', \n",
    "                           node_size=600,\n",
    "                           node_color='red',\n",
    "                           label=[G.nodes()])\n",
    "    \n",
    "    nx.draw_networkx_labels(G, pos=pos, font_color='w', font_size=12)\n",
    "    \n",
    "    for u,v in G.edges():\n",
    "        if x[u,v].x > 0.01 and x[u,v].x < 0.9:\n",
    "            nx.draw_networkx_edges(G, pos=pos,\n",
    "                                   edgelist=[(u,v)],\n",
    "                                   edge_color='r')\n",
    "            \n",
    "            nx.draw_networkx_edge_labels(G, pos=pos,\n",
    "                                         edge_labels={(u,v):'{:.2f}'.format(x[u,v].x)})\n",
    "        \n",
    "        if x[u,v].x > 0.9:\n",
    "            nx.draw_networkx_edges(G, pos=pos,\n",
    "                                   edgelist=[(u,v)],\n",
    "                                   edge_color='k')\n",
    "        \n",
    "    plt.axis('off')\n",
    "    plt.show()"
   ]
  },
  {
   "cell_type": "code",
   "execution_count": 6,
   "metadata": {},
   "outputs": [
    {
     "name": "stdout",
     "output_type": "stream",
     "text": [
      "G has 27 nodes and 702 edges\n"
     ]
    }
   ],
   "source": [
    "# Graph reading\n",
    "basename = os.path.splitext(args.filename)[0]\n",
    "G = nx.read_graphml (args.filename, node_type=int)\n",
    "print (\"G has\", G.number_of_nodes(), \"nodes and\", G.number_of_edges(), \"edges\")"
   ]
  },
  {
   "cell_type": "code",
   "execution_count": 7,
   "metadata": {},
   "outputs": [
    {
     "data": {
      "text/plain": [
       "NodeDataView({1: {'y': 18, 'x': 16}, 2: {'y': 26, 'x': 7}, 3: {'y': 25, 'x': 23}, 4: {'y': 4, 'x': 6}, 10: {'y': 3, 'x': 21}, 6: {'y': 5, 'x': 20}, 7: {'y': 29, 'x': 12}, 8: {'y': 7, 'x': 9}, 9: {'y': 36, 'x': 4}, 5: {'y': 6, 'x': 29}, 11: {'y': 28, 'x': 8}, 12: {'y': 23, 'x': 20}, 13: {'y': 6, 'x': 3}, 14: {'y': 37, 'x': 7}, 15: {'y': 14, 'x': 11}, 16: {'y': 14, 'x': 12}, 17: {'y': 35, 'x': 4}, 18: {'y': 29, 'x': 2}, 19: {'y': 32, 'x': 13}, 22: {'y': 23, 'x': 23}, 21: {'y': 33, 'x': 25}, 20: {'y': 20, 'x': 9}, 23: {'y': 17, 'x': 7}, 24: {'y': 7, 'x': 5}, 25: {'y': 16, 'x': 28}, 26: {'y': 26, 'x': 20}, 27: {'y': 33, 'x': 29}})"
      ]
     },
     "execution_count": 7,
     "metadata": {},
     "output_type": "execute_result"
    }
   ],
   "source": [
    "G.nodes(data=True)"
   ]
  },
  {
   "cell_type": "markdown",
   "metadata": {},
   "source": [
    "## Capacitated Vehicle Routing Problem\n",
    "\n",
    ">**Given** A fleet of identical vehicles, with limited capacity, located at a depot; $n$ customers that require service with known demand; cost of travel between any pair of customers, or between any customer and the depot.\n",
    "\n",
    ">**Find** A minimum-cost collection of vehicle routes, each starting and ending at the depot, such that each customer is visited by exactly one vehicle, and no vehicle visits a set of customers whose total demand exceeds the vehicle capacity.\n",
    "\n",
    "Let $G=(V,A)$ be a directed graph with node $1$ representing the depot and $V_C=V\\setminus{1}$ representing the customers.\n",
    "The (positive integer) demand of customer $i \\in V_C$ is denoted by $q_i$.\n",
    "For any set of customer $S \\subset V_C$ let $q(S)=\\sum_{i \\in S} q_i$.\n",
    "\n",
    "### Single commodity flow formulation\n",
    "\n",
    "\n",
    "$$\n",
    "x_{ij} = \\begin{cases}1 \\text{ if arc $(i, j)$ is some vehicle travels from $i$ to $j$} \\\\\n",
    "0 \\text{ otherwise}\n",
    "\\end{cases}\n",
    "$$\n",
    "\n",
    "\n",
    "$$\n",
    "\\begin{align}\n",
    "\\min & \\sum_{(i,j) \\in A} c_{ij} x_{ij} \\\\\n",
    "\\text{subject}& \\text{ to} \\\\\n",
    "\\sum_{j \\in \\delta^+(i)} x_{ij} & = 1\\;\\; \\forall i \\in V_C\\\\\n",
    "\\sum_{j \\in \\delta^-(i)} x_{ji} & = 1\\;\\; \\forall i \\in V_C\\\\\n",
    "\\sum_{j \\in \\delta^-(i)} f_{ji} - \\sum_{j \\in \\delta^+(i)} f_{ij} & = q_i \\;\\;\\forall i \\in V_C\\\\\n",
    " q_j x_{ij} \\le f_{ij} & \\le (Q-q_i) x_{ij}  \\;\\; \\forall (i,j) \\in A\\\\\n",
    "\\\\\n",
    "x_{ij} & \\in \\{0,1\\} \\;\\; \\forall(i,j) \\in A \\\\\n",
    "\\end{align}\n",
    "$$\n"
   ]
  },
  {
   "cell_type": "code",
   "execution_count": 8,
   "metadata": {},
   "outputs": [
    {
     "name": "stdout",
     "output_type": "stream",
     "text": [
      "Academic license - for non-commercial use only - expires 2021-08-02\n",
      "Using license file /opt/gurobi/gurobi.lic\n"
     ]
    }
   ],
   "source": [
    "cvrp = gb.Model()\n",
    "\n",
    "# Vehicle capacity \n",
    "Q = 8 \n",
    "\n",
    "depots = [1,10,20]\n",
    "\n",
    "# Node demand\n",
    "dem = {i:1 for i in G.nodes()}\n",
    "\n",
    "# Depots does not require service\n",
    "for depot in depots:\n",
    "    dem[depot] = 0\n",
    "\n",
    "\n",
    "x = cvrp.addVars(G.edges(), \n",
    "                 obj=[G[i][j]['dist'] for i,j in G.edges()],\n",
    "                 vtype = gb.GRB.BINARY, name='x')\n",
    "\n",
    "f = cvrp.addVars (G.edges(), obj=0.0, lb=0,\n",
    "                  ub=Q, vtype=gb.GRB.CONTINUOUS, name='f')\n",
    "\n",
    "\n",
    "# Forward/Reverse star\n",
    "cvrp.addConstrs((x.sum(i,'*') == 1 for i in G.nodes() if i != 1), name='FS')\n",
    "cvrp.addConstrs((x.sum('*',i) == 1 for i in G.nodes() if i != 1), name='RS')\n",
    "\n",
    "\n",
    "# Flow constraints\n",
    "cvrp.addConstrs((f.sum('*',i) - f.sum(i,'*') == dem[i] for i in G.nodes() if i != 1), name='FLOW')\n",
    "\n",
    "\n",
    "cvrp.addConstrs((f[i,j] <= (Q - dem[i]) * x[i,j] for i,j in G.edges()),name='VUB')\n",
    "cvrp.addConstrs((f[i,j] >= dem[j] * x[i,j] for i,j in G.edges()),name='VLB')\n",
    "\n",
    "\n",
    "cvrp.update()\n",
    "cvrp.write('cvrp.lp')"
   ]
  },
  {
   "cell_type": "code",
   "execution_count": 9,
   "metadata": {},
   "outputs": [],
   "source": [
    "num_of_goods = len(G.nodes())-3\n",
    "goods_price = num_of_goods*120\n",
    "               \n",
    "cvrp.addConstr(x.sum(1,'*') == 3, name='Root_max_deg')\n",
    "\n",
    "cvrp.update()"
   ]
  },
  {
   "cell_type": "code",
   "execution_count": 10,
   "metadata": {
    "scrolled": true
   },
   "outputs": [
    {
     "name": "stdout",
     "output_type": "stream",
     "text": [
      "Gurobi Optimizer version 9.1.2 build v9.1.2rc0 (linux64)\n",
      "Thread count: 6 physical cores, 12 logical processors, using up to 12 threads\n",
      "Optimize a model with 1483 rows, 1404 columns and 5460 nonzeros\n",
      "Model fingerprint: 0xe34b7359\n",
      "Variable types: 702 continuous, 702 integer (702 binary)\n",
      "Coefficient statistics:\n",
      "  Matrix range     [1e+00, 8e+00]\n",
      "  Objective range  [1e+02, 4e+03]\n",
      "  Bounds range     [1e+00, 8e+00]\n",
      "  RHS range        [1e+00, 3e+00]\n",
      "Presolve removed 104 rows and 26 columns\n",
      "Presolve time: 0.01s\n",
      "Presolved: 1379 rows, 1378 columns, 5330 nonzeros\n",
      "Variable types: 702 continuous, 676 integer (676 binary)\n",
      "\n",
      "Root relaxation: objective 1.528155e+04, 1073 iterations, 0.01 seconds\n",
      "\n",
      "    Nodes    |    Current Node    |     Objective Bounds      |     Work\n",
      " Expl Unexpl |  Obj  Depth IntInf | Incumbent    BestBd   Gap | It/Node Time\n",
      "\n",
      "     0     0 15281.5536    0   40          - 15281.5536      -     -    0s\n",
      "H    0     0                    23198.000000 15281.5536  34.1%     -    0s\n",
      "H    0     0                    23135.000000 15290.4821  33.9%     -    0s\n",
      "     0     0 16889.0313    0   68 23135.0000 16889.0313  27.0%     -    0s\n",
      "H    0     0                    20530.000000 16889.0313  17.7%     -    0s\n",
      "     0     0 16914.3856    0   61 20530.0000 16914.3856  17.6%     -    0s\n",
      "     0     0 16914.3856    0   61 20530.0000 16914.3856  17.6%     -    0s\n",
      "     0     0 17195.8598    0   70 20530.0000 17195.8598  16.2%     -    0s\n",
      "H    0     0                    19983.000000 17195.8598  13.9%     -    0s\n",
      "     0     0 17209.4150    0   71 19983.0000 17209.4150  13.9%     -    0s\n",
      "     0     0 17221.7136    0   70 19983.0000 17221.7136  13.8%     -    0s\n",
      "     0     0 17222.6540    0   71 19983.0000 17222.6540  13.8%     -    0s\n",
      "H    0     0                    19507.000000 17222.6540  11.7%     -    0s\n",
      "     0     0 17309.0169    0   69 19507.0000 17309.0169  11.3%     -    0s\n",
      "H    0     0                    18577.000000 17309.0169  6.83%     -    0s\n",
      "     0     0 17321.8564    0   72 18577.0000 17321.8564  6.76%     -    0s\n",
      "     0     0 17321.9402    0   72 18577.0000 17321.9402  6.76%     -    0s\n",
      "     0     0 17333.5479    0   77 18577.0000 17333.5479  6.69%     -    0s\n",
      "     0     0 17333.5479    0   42 18577.0000 17333.5479  6.69%     -    0s\n",
      "     0     0 17333.5479    0   68 18577.0000 17333.5479  6.69%     -    0s\n",
      "     0     0 17333.5479    0   71 18577.0000 17333.5479  6.69%     -    0s\n",
      "     0     0 17342.6406    0   76 18577.0000 17342.6406  6.64%     -    0s\n",
      "     0     0 17345.8603    0   77 18577.0000 17345.8603  6.63%     -    0s\n",
      "     0     0 17346.3915    0   75 18577.0000 17346.3915  6.62%     -    0s\n",
      "     0     0 17365.5139    0   78 18577.0000 17365.5139  6.52%     -    0s\n",
      "     0     0 17367.8377    0   79 18577.0000 17367.8377  6.51%     -    0s\n",
      "     0     0 17385.1171    0   86 18577.0000 17385.1171  6.42%     -    0s\n",
      "     0     0 17385.1171    0   86 18577.0000 17385.1171  6.42%     -    0s\n",
      "     0     2 17431.2726    0   84 18577.0000 17431.2726  6.17%     -    0s\n",
      "H   72    69                    18543.000000 17435.0172  5.98%  56.9    0s\n",
      "H  167   132                    18500.000000 17435.0172  5.76%  45.8    0s\n",
      "H  599   350                    18466.000000 17506.7429  5.19%  35.2    1s\n",
      "* 2387   871              37    18450.000000 17821.7567  3.41%  36.4    3s\n",
      "* 2440   829              36    18443.000000 17821.7567  3.37%  36.4    3s\n",
      "H 2988   769                    18409.000000 17900.8988  2.76%  37.6    4s\n",
      "\n",
      "Cutting planes:\n",
      "  Gomory: 23\n",
      "  Cover: 1\n",
      "  MIR: 101\n",
      "  Flow cover: 72\n",
      "  Flow path: 8\n",
      "  Inf proof: 5\n",
      "  Zero half: 1\n",
      "  Network: 5\n",
      "\n",
      "Explored 4979 nodes (186131 simplex iterations) in 4.95 seconds\n",
      "Thread count was 12 (of 12 available processors)\n",
      "\n",
      "Solution count 10: 18409 18443 18450 ... 20530\n",
      "\n",
      "Optimal solution found (tolerance 1.00e-04)\n",
      "Best objective 1.840900000000e+04, best bound 1.840900000000e+04, gap 0.0000%\n"
     ]
    }
   ],
   "source": [
    "cvrp.optimize()"
   ]
  },
  {
   "cell_type": "code",
   "execution_count": 11,
   "metadata": {
    "scrolled": true
   },
   "outputs": [
    {
     "name": "stdout",
     "output_type": "stream",
     "text": [
      "Solution:  15529.0\n"
     ]
    },
    {
     "data": {
      "image/png": "[encoded data removed]",
      "text/plain": [
       "<Figure size 720x720 with 1 Axes>"
      ]
     },
     "metadata": {},
     "output_type": "display_data"
    }
   ],
   "source": [
    "print(\"Solution: \", cvrp.objVal - goods_price)\n",
    "DrawSol(G, x)"
   ]
  },
  {
   "cell_type": "markdown",
   "metadata": {},
   "source": [
    "## Q2"
   ]
  },
  {
   "cell_type": "code",
   "execution_count": 12,
   "metadata": {},
   "outputs": [],
   "source": [
    "cvrp.addConstr(f.sum('*',18) >= f.sum('*',9)+1  , name='Route_order_18_9')\n",
    "\n",
    "cvrp.update()"
   ]
  },
  {
   "cell_type": "code",
   "execution_count": 13,
   "metadata": {
    "scrolled": true
   },
   "outputs": [
    {
     "name": "stdout",
     "output_type": "stream",
     "text": [
      "Gurobi Optimizer version 9.1.2 build v9.1.2rc0 (linux64)\n",
      "Thread count: 6 physical cores, 12 logical processors, using up to 12 threads\n",
      "Optimize a model with 1484 rows, 1404 columns and 5512 nonzeros\n",
      "Model fingerprint: 0xc5d6872f\n",
      "Variable types: 702 continuous, 702 integer (702 binary)\n",
      "Coefficient statistics:\n",
      "  Matrix range     [1e+00, 8e+00]\n",
      "  Objective range  [1e+02, 4e+03]\n",
      "  Bounds range     [1e+00, 8e+00]\n",
      "  RHS range        [1e+00, 3e+00]\n",
      "\n",
      "MIP start from previous solve did not produce a new incumbent solution\n",
      "\n",
      "Presolve removed 104 rows and 26 columns\n",
      "Presolve time: 0.01s\n",
      "Presolved: 1380 rows, 1378 columns, 5382 nonzeros\n",
      "Variable types: 702 continuous, 676 integer (676 binary)\n",
      "\n",
      "Root relaxation: objective 1.528155e+04, 1114 iterations, 0.01 seconds\n",
      "\n",
      "    Nodes    |    Current Node    |     Objective Bounds      |     Work\n",
      " Expl Unexpl |  Obj  Depth IntInf | Incumbent    BestBd   Gap | It/Node Time\n",
      "\n",
      "     0     0 15281.5536    0   41          - 15281.5536      -     -    0s\n",
      "     0     0 16849.0075    0   60          - 16849.0075      -     -    0s\n",
      "H    0     0                    22126.000000 16849.0075  23.8%     -    0s\n",
      "H    0     0                    21218.000000 16849.0075  20.6%     -    0s\n",
      "H    0     0                    20131.000000 16849.0075  16.3%     -    0s\n",
      "     0     0 16937.8774    0   49 20131.0000 16937.8774  15.9%     -    0s\n",
      "     0     0 16937.8774    0   56 20131.0000 16937.8774  15.9%     -    0s\n",
      "     0     0 17136.5854    0   69 20131.0000 17136.5854  14.9%     -    0s\n",
      "H    0     0                    19946.000000 17136.5854  14.1%     -    0s\n",
      "H    0     0                    19897.000000 17136.5854  13.9%     -    0s\n",
      "     0     0 17179.2433    0   72 19897.0000 17179.2433  13.7%     -    0s\n",
      "     0     0 17183.4869    0   75 19897.0000 17183.4869  13.6%     -    0s\n",
      "     0     0 17183.8397    0   75 19897.0000 17183.8397  13.6%     -    0s\n",
      "     0     0 17317.6496    0   74 19897.0000 17317.6496  13.0%     -    0s\n",
      "     0     0 17323.1693    0   76 19897.0000 17323.1693  12.9%     -    0s\n",
      "     0     0 17325.2504    0   76 19897.0000 17325.2504  12.9%     -    0s\n",
      "     0     0 17347.9053    0   83 19897.0000 17347.9053  12.8%     -    0s\n",
      "     0     0 17354.9654    0   83 19897.0000 17354.9654  12.8%     -    0s\n",
      "     0     0 17357.6449    0   86 19897.0000 17357.6449  12.8%     -    0s\n",
      "     0     0 17363.6396    0   82 19897.0000 17363.6396  12.7%     -    0s\n",
      "     0     0 17366.8082    0   81 19897.0000 17366.8082  12.7%     -    0s\n",
      "     0     0 17366.8445    0   82 19897.0000 17366.8445  12.7%     -    0s\n",
      "     0     0 17378.3825    0   81 19897.0000 17378.3825  12.7%     -    0s\n",
      "     0     0 17380.4980    0   82 19897.0000 17380.4980  12.6%     -    0s\n",
      "     0     0 17380.9532    0   82 19897.0000 17380.9532  12.6%     -    0s\n",
      "     0     0 17386.1760    0   83 19897.0000 17386.1760  12.6%     -    0s\n",
      "     0     0 17386.1760    0   83 19897.0000 17386.1760  12.6%     -    0s\n",
      "H    0     0                    19010.000000 17431.9975  8.30%     -    0s\n",
      "     0     0 17431.9975    0   43 19010.0000 17431.9975  8.30%     -    0s\n",
      "     0     0 17431.9975    0   70 19010.0000 17431.9975  8.30%     -    0s\n",
      "     0     0 17431.9975    0   72 19010.0000 17431.9975  8.30%     -    0s\n",
      "     0     0 17431.9975    0   78 19010.0000 17431.9975  8.30%     -    0s\n",
      "     0     0 17431.9975    0   80 19010.0000 17431.9975  8.30%     -    0s\n",
      "     0     0 17431.9975    0   80 19010.0000 17431.9975  8.30%     -    0s\n",
      "     0     0 17431.9975    0   81 19010.0000 17431.9975  8.30%     -    0s\n",
      "     0     0 17431.9975    0   80 19010.0000 17431.9975  8.30%     -    0s\n",
      "     0     0 17431.9975    0   85 19010.0000 17431.9975  8.30%     -    0s\n",
      "     0     0 17431.9975    0   84 19010.0000 17431.9975  8.30%     -    0s\n",
      "     0     0 17458.5372    0   84 19010.0000 17458.5372  8.16%     -    0s\n",
      "     0     0 17459.3648    0   84 19010.0000 17459.3648  8.16%     -    0s\n",
      "     0     0 17483.0837    0   83 19010.0000 17483.0837  8.03%     -    0s\n",
      "     0     0 17483.0837    0   83 19010.0000 17483.0837  8.03%     -    0s\n",
      "H    0     0                    18726.000000 17483.0837  6.64%     -    1s\n",
      "     0     0 17483.0837    0   40 18726.0000 17483.0837  6.64%     -    1s\n",
      "     0     0 17483.0837    0   61 18726.0000 17483.0837  6.64%     -    1s\n",
      "     0     0 17483.0837    0   73 18726.0000 17483.0837  6.64%     -    1s\n",
      "     0     0 17483.0837    0   76 18726.0000 17483.0837  6.64%     -    1s\n",
      "     0     0 17483.0837    0   51 18726.0000 17483.0837  6.64%     -    1s\n",
      "     0     0 17483.8120    0   77 18726.0000 17483.8120  6.63%     -    1s\n",
      "     0     0 17485.1632    0   81 18726.0000 17485.1632  6.63%     -    1s\n",
      "     0     0 17485.2825    0   81 18726.0000 17485.2825  6.63%     -    1s\n",
      "     0     0 17486.2433    0   87 18726.0000 17486.2433  6.62%     -    1s\n",
      "     0     0 17489.5508    0   88 18726.0000 17489.5508  6.60%     -    1s\n",
      "     0     0 17489.9489    0   92 18726.0000 17489.9489  6.60%     -    1s\n",
      "H    0     0                    18677.000000 17489.9489  6.36%     -    1s\n",
      "     0     0 17499.9052    0   80 18677.0000 17499.9052  6.30%     -    1s\n",
      "     0     0 17499.9052    0   80 18677.0000 17499.9052  6.30%     -    1s\n",
      "     0     2 17528.8283    0   80 18677.0000 17528.8283  6.15%     -    1s\n",
      "* 2696  1053              37    18578.000000 17810.8950  4.13%  36.3    4s\n",
      "  2950  1087     cutoff   42      18578.0000 17849.5656  3.92%  36.1    5s\n",
      "H 2969  1020                    18544.000000 17849.9756  3.74%  36.1    5s\n",
      "* 7401  1977              38    18541.000000 18115.6980  2.29%  37.0    6s\n",
      "* 7489  1922              41    18487.000000 18115.6980  2.01%  37.0    6s\n",
      "\n",
      "Cutting planes:\n",
      "  Gomory: 20\n",
      "  Cover: 1\n",
      "  MIR: 110\n",
      "  Flow cover: 89\n",
      "  Flow path: 2\n",
      "  Inf proof: 7\n",
      "  Zero half: 2\n",
      "  Network: 11\n",
      "  Relax-and-lift: 2\n",
      "\n",
      "Explored 13483 nodes (458962 simplex iterations) in 7.22 seconds\n",
      "Thread count was 12 (of 12 available processors)\n",
      "\n",
      "Solution count 10: 18487 18541 18544 ... 20131\n",
      "\n",
      "Optimal solution found (tolerance 1.00e-04)\n",
      "Best objective 1.848700000000e+04, best bound 1.848700000000e+04, gap 0.0000%\n"
     ]
    }
   ],
   "source": [
    "cvrp.optimize()"
   ]
  },
  {
   "cell_type": "code",
   "execution_count": 14,
   "metadata": {
    "scrolled": true
   },
   "outputs": [
    {
     "name": "stdout",
     "output_type": "stream",
     "text": [
      "Solution:  15607.0\n"
     ]
    },
    {
     "data": {
      "image/png": "[encoded data removed]",
      "text/plain": [
       "<Figure size 720x720 with 1 Axes>"
      ]
     },
     "metadata": {},
     "output_type": "display_data"
    }
   ],
   "source": [
    "print(\"Solution: \", cvrp.objVal - goods_price)\n",
    "DrawSol(G, x)"
   ]
  },
  {
   "cell_type": "markdown",
   "metadata": {},
   "source": [
    "## Q3"
   ]
  },
  {
   "cell_type": "code",
   "execution_count": 15,
   "metadata": {},
   "outputs": [],
   "source": [
    "cvrp.remove(cvrp.getConstrByName(\"Root_max_deg\"))\n",
    "cvrp.remove(cvrp.getConstrByName(\"Route_order_18_9\"))\n",
    "\n",
    "constrs_to_remove = [const for const in cvrp.getConstrs() if const.ConstrName.startswith('FS') ]\n",
    "cvrp.remove(constrs_to_remove)\n",
    "constrs_to_remove = [const for const in cvrp.getConstrs() if const.ConstrName.startswith('RS') ]\n",
    "cvrp.remove(constrs_to_remove)\n",
    "constrs_to_remove = [const for const in cvrp.getConstrs() if const.ConstrName.startswith('FLOW') ]\n",
    "cvrp.remove(constrs_to_remove)\n",
    "\n",
    "cvrp.update()"
   ]
  },
  {
   "cell_type": "code",
   "execution_count": 16,
   "metadata": {},
   "outputs": [],
   "source": [
    "# Forward/Reverse star\n",
    "cvrp.addConstrs((x.sum(i,'*') == 1 for i in G.nodes() if i not in depots), name='FS')\n",
    "cvrp.addConstrs((x.sum('*',i) == 1 for i in G.nodes() if i not in depots), name='RS')\n",
    "\n",
    "\n",
    "# Flow constraints\n",
    "cvrp.addConstrs((f.sum('*',i) - f.sum(i,'*') == dem[i] for i in G.nodes() if i not in depots), name='FLOW')\n",
    "\n",
    "cvrp.update()"
   ]
  },
  {
   "cell_type": "code",
   "execution_count": 17,
   "metadata": {},
   "outputs": [],
   "source": [
    "depot_costs = {1:120,10:150,20:200}\n",
    "    \n",
    "dg = cvrp.addVars(depots, \n",
    "                 obj=[depot_costs[depot] for depot in depots],\n",
    "                 vtype = gb.GRB.CONTINUOUS, name='dg')\n",
    "\n",
    "for depot in depots:\n",
    "    cvrp.addConstr(f.sum(depot,'*') <= dg[depot] ,name='depot_goods_constr')\n",
    "    \n",
    "    cvrp.addConstr(x.sum(depot,'*')-x.sum('*',depot) == 0 ,name='vehicle_must_return')\n",
    "    \n",
    "\n",
    "cvrp.update()"
   ]
  },
  {
   "cell_type": "code",
   "execution_count": 18,
   "metadata": {},
   "outputs": [],
   "source": [
    "root = 1\n",
    "\n",
    "u = cvrp.addVars(G.nodes(), \n",
    "                     obj=[0.0 for i in G.nodes()],\n",
    "                     lb=2.0, ub=G.number_of_nodes(), \n",
    "                     vtype=gb.GRB.CONTINUOUS,\n",
    "                     name='u')\n",
    "\n",
    "# Fixing root node\n",
    "u[root].lb = 1.0\n",
    "u[root].ub = 1.0\n",
    "\n",
    "cvrp.addConstrs((u[i] - u[j] + (G.number_of_nodes() - 1) * x[i,j] + (G.number_of_nodes() - 3) * x[j,i] <= (G.number_of_nodes() - 2)\n",
    "                 for i in G.nodes() for j in G.nodes()\n",
    "                 if (i != j) and (i != root) and (j !=root) and G.has_edge(i,j) and G.has_edge(j,i)), name='MTZ')\n",
    "\n",
    "cvrp.update()"
   ]
  },
  {
   "cell_type": "code",
   "execution_count": 19,
   "metadata": {},
   "outputs": [],
   "source": [
    "cvrp.addConstr(u[10] >= u[20]+1  , name='Route_order_10_20')\n",
    "\n",
    "cvrp.update()"
   ]
  },
  {
   "cell_type": "code",
   "execution_count": 20,
   "metadata": {},
   "outputs": [
    {
     "name": "stdout",
     "output_type": "stream",
     "text": [
      "Gurobi Optimizer version 9.1.2 build v9.1.2rc0 (linux64)\n",
      "Thread count: 6 physical cores, 12 logical processors, using up to 12 threads\n",
      "Optimize a model with 2133 rows, 1434 columns and 8065 nonzeros\n",
      "Model fingerprint: 0xd2ebf59e\n",
      "Variable types: 732 continuous, 702 integer (702 binary)\n",
      "Coefficient statistics:\n",
      "  Matrix range     [1e+00, 3e+01]\n",
      "  Objective range  [1e+02, 4e+03]\n",
      "  Bounds range     [1e+00, 3e+01]\n",
      "  RHS range        [1e+00, 2e+01]\n",
      "\n",
      "MIP start from previous solve did not produce a new incumbent solution\n",
      "\n",
      "Presolve removed 88 rows and 11 columns\n",
      "Presolve time: 0.01s\n",
      "Presolved: 2045 rows, 1423 columns, 7887 nonzeros\n",
      "Variable types: 722 continuous, 701 integer (701 binary)\n",
      "Found heuristic solution: objective 69516.000000\n",
      "\n",
      "Root relaxation: objective 1.825585e+04, 1321 iterations, 0.03 seconds\n",
      "\n",
      "    Nodes    |    Current Node    |     Objective Bounds      |     Work\n",
      " Expl Unexpl |  Obj  Depth IntInf | Incumbent    BestBd   Gap | It/Node Time\n",
      "\n",
      "     0     0 18255.8452    0   58 69516.0000 18255.8452  73.7%     -    0s\n",
      "H    0     0                    24838.000000 18255.8452  26.5%     -    0s\n",
      "H    0     0                    24655.000000 18255.8452  26.0%     -    0s\n",
      "     0     0 18563.8197    0   74 24655.0000 18563.8197  24.7%     -    0s\n",
      "H    0     0                    22066.000000 18563.8197  15.9%     -    0s\n",
      "H    0     0                    20455.000000 18563.8197  9.25%     -    0s\n",
      "     0     0 18569.9254    0   75 20455.0000 18569.9254  9.22%     -    0s\n",
      "     0     0 18675.2221    0   80 20455.0000 18675.2221  8.70%     -    0s\n",
      "H    0     0                    19463.000000 18675.2221  4.05%     -    0s\n",
      "     0     0 18678.2524    0   82 19463.0000 18678.2524  4.03%     -    0s\n",
      "     0     0 18678.2524    0   82 19463.0000 18678.2524  4.03%     -    0s\n",
      "     0     0 18808.6515    0   80 19463.0000 18808.6515  3.36%     -    0s\n",
      "     0     0 18808.6515    0   63 19463.0000 18808.6515  3.36%     -    0s\n",
      "     0     0 18808.6515    0   74 19463.0000 18808.6515  3.36%     -    0s\n",
      "H    0     0                    19430.000000 18808.6515  3.20%     -    0s\n",
      "     0     0 18843.6005    0   75 19430.0000 18843.6005  3.02%     -    0s\n",
      "     0     0 18847.8659    0   77 19430.0000 18847.8659  3.00%     -    0s\n",
      "     0     0 18848.0492    0   77 19430.0000 18848.0492  3.00%     -    0s\n",
      "     0     0 18888.7123    0   84 19430.0000 18888.7123  2.79%     -    0s\n",
      "     0     0 18892.1015    0   88 19430.0000 18892.1015  2.77%     -    0s\n",
      "     0     0 18893.1040    0   85 19430.0000 18893.1040  2.76%     -    0s\n",
      "     0     0 18893.2030    0   87 19430.0000 18893.2030  2.76%     -    0s\n",
      "     0     0 18902.5258    0   87 19430.0000 18902.5258  2.71%     -    0s\n",
      "     0     0 18905.7745    0   86 19430.0000 18905.7745  2.70%     -    0s\n",
      "     0     0 18906.1430    0   89 19430.0000 18906.1430  2.70%     -    0s\n",
      "H    0     0                    19380.000000 18906.1430  2.45%     -    0s\n",
      "H    0     0                    19324.000000 18906.1430  2.16%     -    0s\n",
      "H    0     0                    19246.000000 18906.1430  1.77%     -    0s\n",
      "     0     0 18916.1742    0   85 19246.0000 18916.1742  1.71%     -    0s\n",
      "     0     0 18916.1742    0   63 19246.0000 18916.1742  1.71%     -    0s\n",
      "     0     0 18916.1742    0   77 19246.0000 18916.1742  1.71%     -    0s\n",
      "     0     0 18916.1742    0   75 19246.0000 18916.1742  1.71%     -    0s\n",
      "     0     0 18916.1742    0   77 19246.0000 18916.1742  1.71%     -    0s\n",
      "     0     0 18922.4345    0   81 19246.0000 18922.4345  1.68%     -    0s\n",
      "     0     0 18929.0454    0   80 19246.0000 18929.0454  1.65%     -    0s\n",
      "     0     0 18929.0670    0   82 19246.0000 18929.0670  1.65%     -    0s\n",
      "     0     0 18930.5616    0   83 19246.0000 18930.5616  1.64%     -    0s\n",
      "     0     0 18931.0312    0   88 19246.0000 18931.0312  1.64%     -    0s\n",
      "     0     0 18931.1087    0   88 19246.0000 18931.1087  1.64%     -    0s\n",
      "     0     0 18936.8270    0   89 19246.0000 18936.8270  1.61%     -    0s\n",
      "     0     0 18938.2974    0   89 19246.0000 18938.2974  1.60%     -    0s\n",
      "     0     0 18938.7853    0   89 19246.0000 18938.7853  1.60%     -    0s\n",
      "     0     0 18940.2522    0   89 19246.0000 18940.2522  1.59%     -    0s\n",
      "     0     0 18947.4252    0   88 19246.0000 18947.4252  1.55%     -    0s\n",
      "     0     2 18994.3274    0   88 19246.0000 18994.3274  1.31%     -    0s\n",
      "*  191     4              11    19220.000000 19097.7711  0.64%  20.3    0s\n",
      "\n",
      "Cutting planes:\n",
      "  Gomory: 6\n",
      "  Implied bound: 3\n",
      "  MIR: 37\n",
      "  Flow cover: 30\n",
      "  GUB cover: 1\n",
      "  Zero half: 5\n",
      "  Network: 5\n",
      "  RLT: 4\n",
      "  Relax-and-lift: 4\n",
      "\n",
      "Explored 208 nodes (8006 simplex iterations) in 0.82 seconds\n",
      "Thread count was 12 (of 12 available processors)\n",
      "\n",
      "Solution count 10: 19220 19246 19324 ... 24838\n",
      "\n",
      "Optimal solution found (tolerance 1.00e-04)\n",
      "Best objective 1.922000000000e+04, best bound 1.922000000000e+04, gap 0.0000%\n"
     ]
    }
   ],
   "source": [
    "cvrp.optimize()"
   ]
  },
  {
   "cell_type": "code",
   "execution_count": 21,
   "metadata": {},
   "outputs": [
    {
     "name": "stdout",
     "output_type": "stream",
     "text": [
      "Solution:  16340.0\n"
     ]
    },
    {
     "data": {
      "image/png": "[encoded data removed]",
      "text/plain": [
       "<Figure size 720x720 with 1 Axes>"
      ]
     },
     "metadata": {},
     "output_type": "display_data"
    }
   ],
   "source": [
    "print(\"Solution: \", cvrp.objVal - goods_price)\n",
    "DrawSol(G, x)"
   ]
  },
  {
   "cell_type": "code",
   "execution_count": 22,
   "metadata": {},
   "outputs": [
    {
     "data": {
      "text/plain": [
       "{1: <gurobi.Var dg[1] (value 16.0)>,\n",
       " 10: <gurobi.Var dg[10] (value 8.0)>,\n",
       " 20: <gurobi.Var dg[20] (value 0.0)>}"
      ]
     },
     "execution_count": 22,
     "metadata": {},
     "output_type": "execute_result"
    }
   ],
   "source": [
    "dg"
   ]
  },
  {
   "cell_type": "code",
   "execution_count": null,
   "metadata": {},
   "outputs": [],
   "source": []
  }
 ],
 "metadata": {
  "anaconda-cloud": {},
  "kernelspec": {
   "display_name": "Python 3",
   "language": "python",
   "name": "python3"
  },
  "language_info": {
   "codemirror_mode": {
    "name": "ipython",
    "version": 3
   },
   "file_extension": ".py",
   "mimetype": "text/x-python",
   "name": "python",
   "nbconvert_exporter": "python",
   "pygments_lexer": "ipython3",
   "version": "3.8.5"
  }
 },
 "nbformat": 4,
 "nbformat_minor": 1
}
