{
 "cells": [
  {
   "cell_type": "markdown",
   "metadata": {},
   "source": [
    "## Totale N.\n",
    "### Esercizio 3 punto 1\n",
    "Alessandro Lodi<br>\n",
    "Matricola 274425"
   ]
  },
  {
   "cell_type": "markdown",
   "metadata": {},
   "source": [
    "### Notebook Init"
   ]
  },
  {
   "cell_type": "code",
   "execution_count": 1,
   "metadata": {},
   "outputs": [],
   "source": [
    "import networkx as nx\n",
    "import gurobipy as gb\n",
    "import matplotlib.pyplot as plt\n",
    "from itertools import combinations, chain\n",
    "import pygraphviz as pygv\n",
    "import os\n",
    "from IPython.display import SVG, display"
   ]
  },
  {
   "cell_type": "code",
   "execution_count": 2,
   "metadata": {},
   "outputs": [
    {
     "data": {
      "text/html": [
       "<style>.container { width:100% !important; }</style>"
      ],
      "text/plain": [
       "<IPython.core.display.HTML object>"
      ]
     },
     "metadata": {},
     "output_type": "display_data"
    }
   ],
   "source": [
    "from IPython.core.display import display, HTML\n",
    "display(HTML(\"<style>.container { width:100% !important; }</style>\"))"
   ]
  },
  {
   "cell_type": "code",
   "execution_count": 3,
   "metadata": {},
   "outputs": [],
   "source": [
    "class args:\n",
    "    filename = \"atsp04062019R2.gml\"\n",
    "    scale = 40\n",
    "    figsize = 10,10"
   ]
  },
  {
   "cell_type": "code",
   "execution_count": 4,
   "metadata": {},
   "outputs": [],
   "source": [
    "def powerset(iterable):\n",
    "    \"powerset([1,2,3]) --> () (1,) (2,) (3,) (1,2) (1,3) (2,3) (1,2,3)\"\n",
    "    s = list(iterable)\n",
    "    return chain.from_iterable(combinations(s, r) for r in range(len(s)+1))"
   ]
  },
  {
   "cell_type": "markdown",
   "metadata": {},
   "source": [
    "### Drawing functions"
   ]
  },
  {
   "cell_type": "code",
   "execution_count": 5,
   "metadata": {},
   "outputs": [],
   "source": [
    "def DrawInitG(G, withedges=False):\n",
    "    \n",
    "    plt.figure(figsize=args.figsize)\n",
    "    \n",
    "    pos = {i:(G.nodes[i]['x'], G.nodes[i]['y']) for i in G.nodes()}\n",
    "    \n",
    "    nx.draw_networkx_nodes(G, \n",
    "                           pos=pos, \n",
    "                           node_shape='o', \n",
    "                           node_size=600,\n",
    "                           node_color='red')\n",
    "    \n",
    "    nx.draw_networkx_labels(G, pos=pos, font_color='w', font_size=12)\n",
    "    \n",
    "    if withedges:\n",
    "        nx.draw_networkx_edges(G,pos=pos, alpha=1.0)\n",
    "        labels = {(i,j):G.get_edge_data(i,j,'cost').get('cost') for i,j in G.edges()}\n",
    "        nx.draw_networkx_edge_labels(G, pos=pos, edge_labels=labels)\n",
    "    \n",
    "    plt.axis('off')\n",
    "    plt.show()\n",
    "    \n",
    "def DrawSol(G, x):\n",
    "    \n",
    "    plt.figure(figsize=args.figsize)\n",
    "    \n",
    "    pos = {i:(G.nodes[i]['x'], G.nodes[i]['y']) for i in G.nodes()}\n",
    "\n",
    "    \n",
    "    nx.draw_networkx_nodes(G, \n",
    "                           pos=pos, \n",
    "                           node_shape='o', \n",
    "                           node_size=600,\n",
    "                           node_color='red',\n",
    "                           label=[G.nodes()])\n",
    "    \n",
    "    nx.draw_networkx_labels(G, pos=pos, font_color='w', font_size=12)\n",
    "    \n",
    "    for u,v in G.edges():\n",
    "        if x[u,v].x > 0.01 and x[u,v].x < 0.9:\n",
    "            nx.draw_networkx_edges(G, pos=pos,\n",
    "                                   edgelist=[(u,v)],\n",
    "                                   edge_color='r')\n",
    "            \n",
    "            nx.draw_networkx_edge_labels(G, pos=pos,\n",
    "                                         edge_labels={(u,v):'{:.2f}'.format(x[u,v].x)})\n",
    "        \n",
    "        if x[u,v].x > 0.9:\n",
    "            nx.draw_networkx_edges(G, pos=pos,\n",
    "                                   edgelist=[(u,v)],\n",
    "                                   edge_color='k')\n",
    "        \n",
    "    plt.axis('off')\n",
    "    plt.show()"
   ]
  },
  {
   "cell_type": "code",
   "execution_count": 6,
   "metadata": {},
   "outputs": [
    {
     "name": "stdout",
     "output_type": "stream",
     "text": [
      "G has 27 nodes and 702 edges\n"
     ]
    }
   ],
   "source": [
    "# Graph reading\n",
    "basename = os.path.splitext(args.filename)[0]\n",
    "G = nx.read_graphml (args.filename, node_type=int)\n",
    "print (\"G has\", G.number_of_nodes(), \"nodes and\", G.number_of_edges(), \"edges\")"
   ]
  },
  {
   "cell_type": "code",
   "execution_count": 7,
   "metadata": {},
   "outputs": [
    {
     "data": {
      "text/plain": [
       "NodeDataView({1: {'y': 18, 'x': 16}, 2: {'y': 26, 'x': 7}, 3: {'y': 25, 'x': 23}, 4: {'y': 4, 'x': 6}, 10: {'y': 3, 'x': 21}, 6: {'y': 5, 'x': 20}, 7: {'y': 29, 'x': 12}, 8: {'y': 7, 'x': 9}, 9: {'y': 36, 'x': 4}, 5: {'y': 6, 'x': 29}, 11: {'y': 28, 'x': 8}, 12: {'y': 23, 'x': 20}, 13: {'y': 6, 'x': 3}, 14: {'y': 37, 'x': 7}, 15: {'y': 14, 'x': 11}, 16: {'y': 14, 'x': 12}, 17: {'y': 35, 'x': 4}, 18: {'y': 29, 'x': 2}, 19: {'y': 32, 'x': 13}, 22: {'y': 23, 'x': 23}, 21: {'y': 33, 'x': 25}, 20: {'y': 20, 'x': 9}, 23: {'y': 17, 'x': 7}, 24: {'y': 7, 'x': 5}, 25: {'y': 16, 'x': 28}, 26: {'y': 26, 'x': 20}, 27: {'y': 33, 'x': 29}})"
      ]
     },
     "execution_count": 7,
     "metadata": {},
     "output_type": "execute_result"
    }
   ],
   "source": [
    "G.nodes(data=True)"
   ]
  },
  {
   "cell_type": "markdown",
   "metadata": {},
   "source": [
    "## Capacitated Vehicle Routing Problem\n",
    "\n",
    ">**Given** A fleet of identical vehicles, with limited capacity, located at a depot; $n$ customers that require service with known demand; cost of travel between any pair of customers, or between any customer and the depot.\n",
    "\n",
    ">**Find** A minimum-cost collection of vehicle routes, each starting and ending at the depot, such that each customer is visited by exactly one vehicle, and no vehicle visits a set of customers whose total demand exceeds the vehicle capacity.\n",
    "\n",
    "Let $G=(V,A)$ be a directed graph with node $1$ representing the depot and $V_C=V\\setminus{1}$ representing the customers.\n",
    "The (positive integer) demand of customer $i \\in V_C$ is denoted by $q_i$.\n",
    "For any set of customer $S \\subset V_C$ let $q(S)=\\sum_{i \\in S} q_i$.\n",
    "\n",
    "### Single commodity flow formulation\n",
    "\n",
    "\n",
    "$$\n",
    "x_{ij} = \\begin{cases}1 \\text{ if arc $(i, j)$ is some vehicle travels from $i$ to $j$} \\\\\n",
    "0 \\text{ otherwise}\n",
    "\\end{cases}\n",
    "$$\n",
    "\n",
    "\n",
    "$$\n",
    "\\begin{align}\n",
    "\\min & \\sum_{(i,j) \\in A} c_{ij} x_{ij} \\\\\n",
    "\\text{subject}& \\text{ to} \\\\\n",
    "\\sum_{j \\in \\delta^+(i)} x_{ij} & = 1\\;\\; \\forall i \\in V_C\\\\\n",
    "\\sum_{j \\in \\delta^-(i)} x_{ji} & = 1\\;\\; \\forall i \\in V_C\\\\\n",
    "\\sum_{j \\in \\delta^-(i)} f_{ji} - \\sum_{j \\in \\delta^+(i)} f_{ij} & = q_i \\;\\;\\forall i \\in V_C\\\\\n",
    " q_j x_{ij} \\le f_{ij} & \\le (Q-q_i) x_{ij}  \\;\\; \\forall (i,j) \\in A\\\\\n",
    "\\\\\n",
    "x_{ij} & \\in \\{0,1\\} \\;\\; \\forall(i,j) \\in A \\\\\n",
    "\\end{align}\n",
    "$$\n"
   ]
  },
  {
   "cell_type": "code",
   "execution_count": 8,
   "metadata": {},
   "outputs": [],
   "source": [
    "G.remove_nodes_from([10, 20])"
   ]
  },
  {
   "cell_type": "code",
   "execution_count": 9,
   "metadata": {},
   "outputs": [
    {
     "name": "stdout",
     "output_type": "stream",
     "text": [
      "Academic license - for non-commercial use only - expires 2021-08-02\n",
      "Using license file /opt/gurobi/gurobi.lic\n"
     ]
    }
   ],
   "source": [
    "cvrp = gb.Model()\n",
    "\n",
    "# Vehicle capacity \n",
    "Q = 8 \n",
    "\n",
    "depots = [1,10,20]\n",
    "\n",
    "# Node demand\n",
    "dem = {i:1 for i in G.nodes()}\n",
    "\n",
    "# Depots does not require service\n",
    "for depot in depots:\n",
    "    dem[depot] = 0\n",
    "\n",
    "\n",
    "x = cvrp.addVars(G.edges(), \n",
    "                 obj=[G[i][j]['dist'] for i,j in G.edges()],\n",
    "                 vtype = gb.GRB.BINARY, name='x')\n",
    "\n",
    "f = cvrp.addVars (G.edges(), obj=0.0, lb=0,\n",
    "                  ub=Q, vtype=gb.GRB.CONTINUOUS, name='f')\n",
    "\n",
    "\n",
    "# Forward/Reverse star\n",
    "cvrp.addConstrs((x.sum(i,'*') == 1 for i in G.nodes() if i not in depots), name='FS')\n",
    "cvrp.addConstrs((x.sum('*',i) == 1 for i in G.nodes() if i not in depots), name='RS')\n",
    "\n",
    "\n",
    "# Flow constraints\n",
    "cvrp.addConstrs((f.sum('*',i) - f.sum(i,'*') == dem[i] for i in G.nodes() if i not in depots), name='FLOW')\n",
    "\n",
    "\n",
    "cvrp.addConstrs((f[i,j] <= (Q - dem[i]) * x[i,j] for i,j in G.edges()),name='VUB')\n",
    "cvrp.addConstrs((f[i,j] >= dem[j] * x[i,j] for i,j in G.edges()),name='VLB')\n",
    "\n",
    "\n",
    "cvrp.update()\n",
    "cvrp.write('cvrp.lp')"
   ]
  },
  {
   "cell_type": "code",
   "execution_count": 10,
   "metadata": {},
   "outputs": [],
   "source": [
    "num_of_goods = len(G.nodes())-3\n",
    "goods_price = num_of_goods*120\n",
    "               \n",
    "cvrp.addConstr(x.sum(1,'*') == 3, name='Root_max_deg')\n",
    "\n",
    "cvrp.update()"
   ]
  },
  {
   "cell_type": "code",
   "execution_count": 11,
   "metadata": {
    "scrolled": true
   },
   "outputs": [
    {
     "name": "stdout",
     "output_type": "stream",
     "text": [
      "Gurobi Optimizer version 9.1.2 build v9.1.2rc0 (linux64)\n",
      "Thread count: 6 physical cores, 12 logical processors, using up to 12 threads\n",
      "Optimize a model with 1273 rows, 1200 columns and 4704 nonzeros\n",
      "Model fingerprint: 0xde8f5ee6\n",
      "Variable types: 600 continuous, 600 integer (600 binary)\n",
      "Coefficient statistics:\n",
      "  Matrix range     [1e+00, 8e+00]\n",
      "  Objective range  [1e+02, 4e+03]\n",
      "  Bounds range     [1e+00, 8e+00]\n",
      "  RHS range        [1e+00, 3e+00]\n",
      "Presolve removed 48 rows and 24 columns\n",
      "Presolve time: 0.01s\n",
      "Presolved: 1225 rows, 1176 columns, 4632 nonzeros\n",
      "Variable types: 600 continuous, 576 integer (576 binary)\n",
      "\n",
      "Root relaxation: objective 1.563913e+04, 1148 iterations, 0.01 seconds\n",
      "\n",
      "    Nodes    |    Current Node    |     Objective Bounds      |     Work\n",
      " Expl Unexpl |  Obj  Depth IntInf | Incumbent    BestBd   Gap | It/Node Time\n",
      "\n",
      "     0     0 15639.1310    0   36          - 15639.1310      -     -    0s\n",
      "     0     0 16670.5000    0   58          - 16670.5000      -     -    0s\n",
      "H    0     0                    22100.000000 16670.5000  24.6%     -    0s\n",
      "H    0     0                    20748.000000 16670.5000  19.7%     -    0s\n",
      "H    0     0                    20461.000000 16670.5000  18.5%     -    0s\n",
      "H    0     0                    19075.000000 16670.5000  12.6%     -    0s\n",
      "     0     0 16751.4612    0   58 19075.0000 16751.4612  12.2%     -    0s\n",
      "     0     0 16751.4612    0   59 19075.0000 16751.4612  12.2%     -    0s\n",
      "     0     0 16751.4612    0   59 19075.0000 16751.4612  12.2%     -    0s\n",
      "H    0     0                    18483.000000 16751.4612  9.37%     -    0s\n",
      "     0     0 16929.6088    0   64 18483.0000 16929.6088  8.40%     -    0s\n",
      "     0     0 17022.4521    0   39 18483.0000 17022.4521  7.90%     -    0s\n",
      "     0     0 17025.7661    0   55 18483.0000 17025.7661  7.88%     -    0s\n",
      "H    0     0                    18259.000000 17025.7661  6.75%     -    0s\n",
      "     0     0 17026.0574    0   56 18259.0000 17026.0574  6.75%     -    0s\n",
      "H    0     0                    18152.000000 17026.0574  6.20%     -    0s\n",
      "     0     0 17072.0352    0   53 18152.0000 17072.0352  5.95%     -    0s\n",
      "     0     0 17072.0352    0   37 18152.0000 17072.0352  5.95%     -    0s\n",
      "     0     0 17072.0352    0   62 18152.0000 17072.0352  5.95%     -    0s\n",
      "     0     0 17078.3856    0   45 18152.0000 17078.3856  5.91%     -    0s\n",
      "     0     0 17079.5389    0   46 18152.0000 17079.5389  5.91%     -    0s\n",
      "     0     0 17126.7754    0   65 18152.0000 17126.7754  5.65%     -    0s\n",
      "     0     0 17127.9361    0   64 18152.0000 17127.9361  5.64%     -    0s\n",
      "     0     0 17128.2720    0   67 18152.0000 17128.2720  5.64%     -    0s\n",
      "     0     0 17139.3762    0   54 18152.0000 17139.3762  5.58%     -    0s\n",
      "     0     0 17141.6241    0   58 18152.0000 17141.6241  5.57%     -    0s\n",
      "     0     0 17142.2652    0   67 18152.0000 17142.2652  5.56%     -    0s\n",
      "     0     0 17158.3189    0   68 18152.0000 17158.3189  5.47%     -    0s\n",
      "     0     0 17159.7141    0   71 18152.0000 17159.7141  5.47%     -    0s\n",
      "     0     0 17159.9795    0   74 18152.0000 17159.9795  5.47%     -    0s\n",
      "     0     0 17165.4356    0   75 18152.0000 17165.4356  5.44%     -    0s\n",
      "     0     0 17165.4356    0   75 18152.0000 17165.4356  5.44%     -    0s\n",
      "     0     2 17210.1539    0   75 18152.0000 17210.1539  5.19%     -    0s\n",
      "* 1449   751              34    18137.999991 17766.9293  2.05%  30.3    2s\n",
      "H 1457   715                    18122.000000 17766.9293  1.96%  30.3    2s\n",
      "H 1476   669                    18115.000000 17766.9293  1.92%  30.2    2s\n",
      "H 1498   632                    18081.000000 17774.1355  1.70%  30.3    2s\n",
      "\n",
      "Cutting planes:\n",
      "  Gomory: 4\n",
      "  MIR: 50\n",
      "  Flow cover: 35\n",
      "  Flow path: 1\n",
      "  GUB cover: 1\n",
      "  Inf proof: 5\n",
      "  Zero half: 4\n",
      "  Network: 5\n",
      "\n",
      "Explored 1664 nodes (53297 simplex iterations) in 2.33 seconds\n",
      "Thread count was 12 (of 12 available processors)\n",
      "\n",
      "Solution count 10: 18081 18115 18122 ... 20748\n",
      "\n",
      "Optimal solution found (tolerance 1.00e-04)\n",
      "Best objective 1.808100000000e+04, best bound 1.808100000000e+04, gap 0.0000%\n"
     ]
    }
   ],
   "source": [
    "cvrp.optimize()"
   ]
  },
  {
   "cell_type": "code",
   "execution_count": 12,
   "metadata": {
    "scrolled": false
   },
   "outputs": [
    {
     "name": "stdout",
     "output_type": "stream",
     "text": [
      "Solution:  15441.0\n"
     ]
    },
    {
     "data": {
      "image/png": "[encoded data removed]",
      "text/plain": [
       "<Figure size 720x720 with 1 Axes>"
      ]
     },
     "metadata": {},
     "output_type": "display_data"
    }
   ],
   "source": [
    "print(\"Solution: \", cvrp.objVal - goods_price)\n",
    "DrawSol(G, x)"
   ]
  },
  {
   "cell_type": "markdown",
   "metadata": {},
   "source": [
    "## Q2"
   ]
  },
  {
   "cell_type": "code",
   "execution_count": 13,
   "metadata": {},
   "outputs": [],
   "source": [
    "cvrp.addConstr(f.sum('*',18) >= f.sum('*',9)+1  , name='Route_order_18_9')\n",
    "\n",
    "cvrp.update()"
   ]
  },
  {
   "cell_type": "code",
   "execution_count": 14,
   "metadata": {
    "scrolled": true
   },
   "outputs": [
    {
     "name": "stdout",
     "output_type": "stream",
     "text": [
      "Gurobi Optimizer version 9.1.2 build v9.1.2rc0 (linux64)\n",
      "Thread count: 6 physical cores, 12 logical processors, using up to 12 threads\n",
      "Optimize a model with 1274 rows, 1200 columns and 4752 nonzeros\n",
      "Model fingerprint: 0x68e0d838\n",
      "Variable types: 600 continuous, 600 integer (600 binary)\n",
      "Coefficient statistics:\n",
      "  Matrix range     [1e+00, 8e+00]\n",
      "  Objective range  [1e+02, 4e+03]\n",
      "  Bounds range     [1e+00, 8e+00]\n",
      "  RHS range        [1e+00, 3e+00]\n",
      "\n",
      "MIP start from previous solve did not produce a new incumbent solution\n",
      "\n",
      "Presolve removed 48 rows and 24 columns\n",
      "Presolve time: 0.01s\n",
      "Presolved: 1226 rows, 1176 columns, 4680 nonzeros\n",
      "Variable types: 600 continuous, 576 integer (576 binary)\n",
      "\n",
      "Root relaxation: objective 1.563913e+04, 1003 iterations, 0.01 seconds\n",
      "\n",
      "    Nodes    |    Current Node    |     Objective Bounds      |     Work\n",
      " Expl Unexpl |  Obj  Depth IntInf | Incumbent    BestBd   Gap | It/Node Time\n",
      "\n",
      "     0     0 15639.1310    0   36          - 15639.1310      -     -    0s\n",
      "     0     0 16587.0484    0   49          - 16587.0484      -     -    0s\n",
      "H    0     0                    19770.000000 16587.0484  16.1%     -    0s\n",
      "     0     0 16689.0050    0   51 19770.0000 16689.0050  15.6%     -    0s\n",
      "     0     0 16692.2997    0   56 19770.0000 16692.2997  15.6%     -    0s\n",
      "     0     0 16692.3258    0   56 19770.0000 16692.3258  15.6%     -    0s\n",
      "     0     0 16960.9633    0   67 19770.0000 16960.9633  14.2%     -    0s\n",
      "     0     0 16992.7185    0   59 19770.0000 16992.7185  14.0%     -    0s\n",
      "     0     0 16997.6755    0   64 19770.0000 16997.6755  14.0%     -    0s\n",
      "     0     0 16998.7654    0   65 19770.0000 16998.7654  14.0%     -    0s\n",
      "H    0     0                    19341.000000 16998.7654  12.1%     -    0s\n",
      "     0     0 17050.9764    0   65 19341.0000 17050.9764  11.8%     -    0s\n",
      "H    0     0                    18783.000000 17050.9764  9.22%     -    0s\n",
      "     0     0 17056.6041    0   67 18783.0000 17056.6041  9.19%     -    0s\n",
      "     0     0 17057.0495    0   67 18783.0000 17057.0495  9.19%     -    0s\n",
      "     0     0 17084.8416    0   70 18783.0000 17084.8416  9.04%     -    0s\n",
      "     0     0 17090.3203    0   74 18783.0000 17090.3203  9.01%     -    0s\n",
      "     0     0 17091.1185    0   69 18783.0000 17091.1185  9.01%     -    0s\n",
      "     0     0 17098.1127    0   77 18783.0000 17098.1127  8.97%     -    0s\n",
      "H    0     0                    18667.000000 17098.1127  8.40%     -    0s\n",
      "     0     0 17099.9129    0   76 18667.0000 17099.9129  8.39%     -    0s\n",
      "     0     0 17102.3164    0   76 18667.0000 17102.3164  8.38%     -    0s\n",
      "     0     0 17103.3642    0   77 18667.0000 17103.3642  8.38%     -    0s\n",
      "     0     0 17112.3613    0   72 18667.0000 17112.3613  8.33%     -    0s\n",
      "     0     0 17112.3613    0   72 18667.0000 17112.3613  8.33%     -    0s\n",
      "     0     0 17151.7441    0   38 18667.0000 17151.7441  8.12%     -    0s\n",
      "     0     0 17151.7441    0   62 18667.0000 17151.7441  8.12%     -    0s\n",
      "     0     0 17151.7441    0   66 18667.0000 17151.7441  8.12%     -    0s\n",
      "H    0     0                    18420.000000 17151.7441  6.89%     -    0s\n",
      "     0     0 17151.7441    0   62 18420.0000 17151.7441  6.89%     -    0s\n",
      "     0     0 17151.7441    0   65 18420.0000 17151.7441  6.89%     -    0s\n",
      "     0     0 17151.7441    0   63 18420.0000 17151.7441  6.89%     -    0s\n",
      "     0     0 17151.7441    0   63 18420.0000 17151.7441  6.89%     -    0s\n",
      "     0     0 17230.3636    0   63 18420.0000 17230.3636  6.46%     -    0s\n",
      "     0     0 17241.3929    0   65 18420.0000 17241.3929  6.40%     -    0s\n",
      "     0     0 17241.3929    0   65 18420.0000 17241.3929  6.40%     -    0s\n",
      "     0     0 17262.0363    0   72 18420.0000 17262.0363  6.29%     -    0s\n",
      "     0     0 17290.8868    0   69 18420.0000 17290.8868  6.13%     -    0s\n",
      "     0     0 17290.8868    0   73 18420.0000 17290.8868  6.13%     -    0s\n",
      "     0     0 17319.6503    0   60 18420.0000 17319.6503  5.97%     -    0s\n",
      "H    0     0                    18132.000000 17319.6503  4.48%     -    0s\n",
      "     0     0 17324.9272    0   65 18132.0000 17324.9272  4.45%     -    0s\n",
      "     0     0 17325.0126    0   66 18132.0000 17325.0126  4.45%     -    0s\n",
      "     0     0 17326.6228    0   42 18132.0000 17326.6228  4.44%     -    0s\n",
      "     0     0 17326.6228    0   35 18132.0000 17326.6228  4.44%     -    0s\n",
      "     0     0 17326.6228    0   61 18132.0000 17326.6228  4.44%     -    0s\n",
      "     0     0 17326.6228    0   58 18132.0000 17326.6228  4.44%     -    0s\n",
      "     0     0 17326.6228    0   46 18132.0000 17326.6228  4.44%     -    0s\n",
      "     0     0 17326.6228    0   47 18132.0000 17326.6228  4.44%     -    0s\n",
      "     0     0 17326.7212    0   50 18132.0000 17326.7212  4.44%     -    0s\n",
      "     0     0 17326.7809    0   49 18132.0000 17326.7809  4.44%     -    0s\n",
      "     0     0 17332.7095    0   46 18132.0000 17332.7095  4.41%     -    0s\n",
      "     0     0 17332.7095    0   41 18132.0000 17332.7095  4.41%     -    0s\n",
      "     0     2 17363.6568    0   41 18132.0000 17363.6568  4.24%     -    0s\n",
      "\n",
      "Cutting planes:\n",
      "  Gomory: 22\n",
      "  Cover: 3\n",
      "  MIR: 44\n",
      "  Flow cover: 41\n",
      "  Flow path: 2\n",
      "  Inf proof: 6\n",
      "  Zero half: 3\n",
      "  Network: 6\n",
      "\n",
      "Explored 3840 nodes (88815 simplex iterations) in 1.93 seconds\n",
      "Thread count was 12 (of 12 available processors)\n",
      "\n",
      "Solution count 6: 18132 18420 18667 ... 19770\n",
      "\n",
      "Optimal solution found (tolerance 1.00e-04)\n",
      "Best objective 1.813200000000e+04, best bound 1.813200000000e+04, gap 0.0000%\n"
     ]
    }
   ],
   "source": [
    "cvrp.optimize()"
   ]
  },
  {
   "cell_type": "code",
   "execution_count": 15,
   "metadata": {
    "scrolled": false
   },
   "outputs": [
    {
     "name": "stdout",
     "output_type": "stream",
     "text": [
      "Solution:  15492.0\n"
     ]
    },
    {
     "data": {
      "image/png": "[encoded data removed]",
      "text/plain": [
       "<Figure size 720x720 with 1 Axes>"
      ]
     },
     "metadata": {},
     "output_type": "display_data"
    }
   ],
   "source": [
    "print(\"Solution: \", cvrp.objVal - goods_price)\n",
    "DrawSol(G, x)"
   ]
  },
  {
   "cell_type": "markdown",
   "metadata": {},
   "source": [
    "## Q3"
   ]
  },
  {
   "cell_type": "code",
   "execution_count": 29,
   "metadata": {},
   "outputs": [
    {
     "name": "stdout",
     "output_type": "stream",
     "text": [
      "G has 27 nodes and 702 edges\n"
     ]
    }
   ],
   "source": [
    "# Graph reading\n",
    "basename = os.path.splitext(args.filename)[0]\n",
    "G = nx.read_graphml (args.filename, node_type=int)\n",
    "print (\"G has\", G.number_of_nodes(), \"nodes and\", G.number_of_edges(), \"edges\")"
   ]
  },
  {
   "cell_type": "code",
   "execution_count": 42,
   "metadata": {},
   "outputs": [],
   "source": [
    "root = 1\n",
    "\n",
    "atsp_mtz = gb.Model()\n",
    "\n",
    "x = atsp_mtz.addVars(G.edges(),\n",
    "                     obj=[G[i][j]['dist'] for i,j in G.edges()],\n",
    "                     vtype=gb.GRB.BINARY, name='x')\n",
    "\n",
    "u = atsp_mtz.addVars(G.nodes(), \n",
    "                     obj=[0.0 for i in G.nodes()],\n",
    "                     lb=2.0, ub=G.number_of_nodes(), \n",
    "                     vtype=gb.GRB.CONTINUOUS,\n",
    "                     name='u')\n",
    "\n",
    "# Da usare se TSP\n",
    "#atsp_mtz.addConstrs((x.sum(i,'*') == 1 for i in G.nodes()), name='FS_ATSP')\n",
    "#atsp_mtz.addConstrs((x.sum('*',i) == 1 for i in G.nodes()), name='RS_ATSP')\n",
    "\n",
    "atsp_mtz.addConstrs((u[i] - u[j] + (G.number_of_nodes() - 1) * x[i,j] + (G.number_of_nodes() - 3) * x[j,i] <= (G.number_of_nodes() - 2)\n",
    "                     for i in G.nodes() for j in G.nodes() if (i != j) and (i != root) and (j !=root) and G.has_edge(i,j) and G.has_edge(j,i)), \n",
    "                    name='MTZ_ATSP')\n",
    "\n",
    "# Fixing root node\n",
    "u[root].lb = 1.0\n",
    "u[root].ub = 1.0\n",
    "\n",
    "atsp_mtz.update()\n",
    "atsp_mtz.write('atsp_mtz.lp')"
   ]
  },
  {
   "cell_type": "code",
   "execution_count": 43,
   "metadata": {},
   "outputs": [],
   "source": [
    "depot_costs = {1:120,10:150,20:200}\n",
    "    \n",
    "dg = atsp_mtz.addVars(depots, \n",
    "                 obj=[depot_costs[depot] for depot in depots],\n",
    "                 vtype = gb.GRB.CONTINUOUS, name='dg')\n",
    "\n",
    "f = atsp_mtz.addVars (G.edges(), obj=0.0, lb=0,\n",
    "                  ub=Q, vtype=gb.GRB.CONTINUOUS, name='f')\n",
    "\n",
    "# Forward/Reverse star multiple depots\n",
    "atsp_mtz.addConstrs((x.sum(i,'*') == 1 for i in G.nodes() if i not in depots), name='FS')\n",
    "atsp_mtz.addConstrs((x.sum('*',i) == 1 for i in G.nodes() if i not in depots), name='RS')\n",
    "\n",
    "# Flow constraints multiple depots\n",
    "atsp_mtz.addConstrs((f.sum('*',i) - f.sum(i,'*') == dem[i] for i in G.nodes() if i not in depots), name='FLOW')\n",
    "\n",
    "# Vehicle capacity costraints\n",
    "atsp_mtz.addConstrs((f[i,j] <= (Q - dem[i]) * x[i,j] for i,j in G.edges()),name='VUB')\n",
    "atsp_mtz.addConstrs((f[i,j] >= dem[j] * x[i,j] for i,j in G.edges()),name='VLB')\n",
    "\n",
    "# dg[1].lb=8\n",
    "# dg[10].lb=8\n",
    "# dg[20].lb=8\n",
    "\n",
    "for depot in depots:\n",
    "    atsp_mtz.addConstr(f.sum(depot,'*') <= dg[depot] ,name='depot_goods_constr')   \n",
    "    # Perchè abbiamo solo un veicolo\n",
    "    atsp_mtz.addConstr(x.sum(depot,'*')-x.sum('*',depot) == 0 ,name='vehicle_must_return')\n",
    "     \n",
    "\n",
    "atsp_mtz.update()\n"
   ]
  },
  {
   "cell_type": "code",
   "execution_count": 44,
   "metadata": {},
   "outputs": [],
   "source": [
    "atsp_mtz.addConstr(u[20] >= u[10]+1  , name='Route_order_10_20')\n",
    "\n",
    "atsp_mtz.update()"
   ]
  },
  {
   "cell_type": "code",
   "execution_count": 45,
   "metadata": {
    "scrolled": true
   },
   "outputs": [
    {
     "name": "stdout",
     "output_type": "stream",
     "text": [
      "Gurobi Optimizer version 9.1.2 build v9.1.2rc0 (linux64)\n",
      "Thread count: 6 physical cores, 12 logical processors, using up to 12 threads\n",
      "Optimize a model with 2133 rows, 1434 columns and 8065 nonzeros\n",
      "Model fingerprint: 0xb1f0320f\n",
      "Variable types: 732 continuous, 702 integer (702 binary)\n",
      "Coefficient statistics:\n",
      "  Matrix range     [1e+00, 3e+01]\n",
      "  Objective range  [1e+02, 4e+03]\n",
      "  Bounds range     [1e+00, 3e+01]\n",
      "  RHS range        [1e+00, 2e+01]\n",
      "Found heuristic solution: objective 68181.000000\n",
      "Presolve removed 88 rows and 11 columns\n",
      "Presolve time: 0.01s\n",
      "Presolved: 2045 rows, 1423 columns, 7887 nonzeros\n",
      "Variable types: 722 continuous, 701 integer (701 binary)\n",
      "\n",
      "Root relaxation: objective 1.825585e+04, 1168 iterations, 0.02 seconds\n",
      "\n",
      "    Nodes    |    Current Node    |     Objective Bounds      |     Work\n",
      " Expl Unexpl |  Obj  Depth IntInf | Incumbent    BestBd   Gap | It/Node Time\n",
      "\n",
      "     0     0 18255.8452    0   63 68181.0000 18255.8452  73.2%     -    0s\n",
      "H    0     0                    27511.000000 18255.8452  33.6%     -    0s\n",
      "H    0     0                    27378.000000 18255.8452  33.3%     -    0s\n",
      "H    0     0                    26529.000000 18255.8452  31.2%     -    0s\n",
      "     0     0 18730.1126    0   68 26529.0000 18730.1126  29.4%     -    0s\n",
      "H    0     0                    26125.000000 18730.1126  28.3%     -    0s\n",
      "     0     0 18749.3766    0   67 26125.0000 18749.3766  28.2%     -    0s\n",
      "H    0     0                    19220.000000 18749.3766  2.45%     -    0s\n",
      "     0     0 18760.9526    0   69 19220.0000 18760.9526  2.39%     -    0s\n",
      "     0     0 18761.4935    0   70 19220.0000 18761.4935  2.39%     -    0s\n",
      "     0     0 19022.0638    0   29 19220.0000 19022.0638  1.03%     -    0s\n",
      "     0     0 19022.0638    0   52 19220.0000 19022.0638  1.03%     -    0s\n",
      "     0     0 19022.0638    0   62 19220.0000 19022.0638  1.03%     -    0s\n",
      "H    0     0                    19053.000000 19022.0638  0.16%     -    0s\n",
      "     0     0 19039.0172    0   27 19053.0000 19039.0172  0.07%     -    0s\n",
      "     0     0 19039.4709    0   27 19053.0000 19039.4709  0.07%     -    0s\n",
      "     0     0     cutoff    0      19053.0000 19053.0000  0.00%     -    0s\n",
      "\n",
      "Cutting planes:\n",
      "  Gomory: 11\n",
      "  Implied bound: 2\n",
      "  MIR: 15\n",
      "  Flow cover: 15\n",
      "  Flow path: 1\n",
      "  Zero half: 3\n",
      "  Network: 5\n",
      "  RLT: 9\n",
      "  Relax-and-lift: 3\n",
      "\n",
      "Explored 1 nodes (2082 simplex iterations) in 0.21 seconds\n",
      "Thread count was 12 (of 12 available processors)\n",
      "\n",
      "Solution count 7: 19053 19220 26125 ... 68181\n",
      "\n",
      "Optimal solution found (tolerance 1.00e-04)\n",
      "Best objective 1.905300000000e+04, best bound 1.905300000000e+04, gap 0.0000%\n"
     ]
    }
   ],
   "source": [
    "atsp_mtz.optimize()"
   ]
  },
  {
   "cell_type": "code",
   "execution_count": 46,
   "metadata": {},
   "outputs": [
    {
     "name": "stdout",
     "output_type": "stream",
     "text": [
      "Solution:  19053.0\n"
     ]
    },
    {
     "data": {
      "image/png": "[encoded data removed]",
      "text/plain": [
       "<Figure size 720x720 with 1 Axes>"
      ]
     },
     "metadata": {},
     "output_type": "display_data"
    }
   ],
   "source": [
    "print(\"Solution: \", atsp_mtz.objVal)\n",
    "DrawSol(G, x)"
   ]
  },
  {
   "cell_type": "code",
   "execution_count": 47,
   "metadata": {},
   "outputs": [
    {
     "data": {
      "text/plain": [
       "{1: <gurobi.Var dg[1] (value 8.0)>,\n",
       " 10: <gurobi.Var dg[10] (value 8.0)>,\n",
       " 20: <gurobi.Var dg[20] (value 8.0)>}"
      ]
     },
     "execution_count": 47,
     "metadata": {},
     "output_type": "execute_result"
    }
   ],
   "source": [
    "dg"
   ]
  },
  {
   "cell_type": "code",
   "execution_count": null,
   "metadata": {},
   "outputs": [],
   "source": []
  }
 ],
 "metadata": {
  "anaconda-cloud": {},
  "kernelspec": {
   "display_name": "Python 3",
   "language": "python",
   "name": "python3"
  },
  "language_info": {
   "codemirror_mode": {
    "name": "ipython",
    "version": 3
   },
   "file_extension": ".py",
   "mimetype": "text/x-python",
   "name": "python",
   "nbconvert_exporter": "python",
   "pygments_lexer": "ipython3",
   "version": "3.8.5"
  }
 },
 "nbformat": 4,
 "nbformat_minor": 1
}
