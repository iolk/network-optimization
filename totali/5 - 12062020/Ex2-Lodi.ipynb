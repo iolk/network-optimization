{
 "cells": [
  {
   "cell_type": "markdown",
   "metadata": {},
   "source": [
    "## Totale N.\n",
    "### Esercizio 3 punto 1\n",
    "Alessandro Lodi<br>\n",
    "Matricola 274425"
   ]
  },
  {
   "cell_type": "markdown",
   "metadata": {},
   "source": [
    "### Notebook Init"
   ]
  },
  {
   "cell_type": "code",
   "execution_count": 1,
   "metadata": {},
   "outputs": [],
   "source": [
    "import networkx as nx\n",
    "import gurobipy as gb\n",
    "import matplotlib.pyplot as plt\n",
    "from itertools import combinations, chain\n",
    "import pygraphviz as pygv\n",
    "import os\n",
    "from IPython.display import SVG, display"
   ]
  },
  {
   "cell_type": "code",
   "execution_count": 2,
   "metadata": {},
   "outputs": [
    {
     "data": {
      "text/html": [
       "<style>.container { width:100% !important; }</style>"
      ],
      "text/plain": [
       "<IPython.core.display.HTML object>"
      ]
     },
     "metadata": {},
     "output_type": "display_data"
    }
   ],
   "source": [
    "from IPython.core.display import display, HTML\n",
    "display(HTML(\"<style>.container { width:100% !important; }</style>\"))"
   ]
  },
  {
   "cell_type": "code",
   "execution_count": 3,
   "metadata": {},
   "outputs": [],
   "source": [
    "class args:\n",
    "    filename = \"atsp12062020.gml\"\n",
    "    scale = 40\n",
    "    figsize = 10,10"
   ]
  },
  {
   "cell_type": "code",
   "execution_count": 4,
   "metadata": {},
   "outputs": [],
   "source": [
    "def powerset(iterable):\n",
    "    \"powerset([1,2,3]) --> () (1,) (2,) (3,) (1,2) (1,3) (2,3) (1,2,3)\"\n",
    "    s = list(iterable)\n",
    "    return chain.from_iterable(combinations(s, r) for r in range(len(s)+1))"
   ]
  },
  {
   "cell_type": "markdown",
   "metadata": {},
   "source": [
    "### Drawing functions"
   ]
  },
  {
   "cell_type": "code",
   "execution_count": 5,
   "metadata": {},
   "outputs": [],
   "source": [
    "def DrawInitG(G, withedges=False):\n",
    "    \n",
    "    plt.figure(figsize=args.figsize)\n",
    "    \n",
    "    pos = {i:(G.nodes[i]['x'], G.nodes[i]['y']) for i in G.nodes()}\n",
    "    \n",
    "    nx.draw_networkx_nodes(G, \n",
    "                           pos=pos, \n",
    "                           node_shape='o', \n",
    "                           node_size=600,\n",
    "                           node_color='red')\n",
    "    \n",
    "    nx.draw_networkx_labels(G, pos=pos, font_color='w', font_size=12)\n",
    "    \n",
    "    if withedges:\n",
    "        nx.draw_networkx_edges(G,pos=pos, alpha=1.0)\n",
    "        labels = {(i,j):G.get_edge_data(i,j,'cost').get('cost') for i,j in G.edges()}\n",
    "        nx.draw_networkx_edge_labels(G, pos=pos, edge_labels=labels)\n",
    "    \n",
    "    plt.axis('off')\n",
    "    plt.show()\n",
    "    \n",
    "def DrawSol(G, x):\n",
    "    \n",
    "    plt.figure(figsize=args.figsize)\n",
    "    \n",
    "    pos = {i:(G.nodes[i]['x'], G.nodes[i]['y']) for i in G.nodes()}\n",
    "\n",
    "    \n",
    "    nx.draw_networkx_nodes(G, \n",
    "                           pos=pos, \n",
    "                           node_shape='o', \n",
    "                           node_size=600,\n",
    "                           node_color='red',\n",
    "                           label=[G.nodes()])\n",
    "    \n",
    "    nx.draw_networkx_labels(G, pos=pos, font_color='w', font_size=12)\n",
    "    \n",
    "    for u,v in G.edges():\n",
    "        if x[u,v].x > 0.01 and x[u,v].x < 0.9:\n",
    "            nx.draw_networkx_edges(G, pos=pos,\n",
    "                                   edgelist=[(u,v)],\n",
    "                                   edge_color='r')\n",
    "            \n",
    "            nx.draw_networkx_edge_labels(G, pos=pos,\n",
    "                                         edge_labels={(u,v):'{:.2f}'.format(x[u,v].x)})\n",
    "        \n",
    "        if x[u,v].x > 0.9:\n",
    "            nx.draw_networkx_edges(G, pos=pos,\n",
    "                                   edgelist=[(u,v)],\n",
    "                                   edge_color='k')\n",
    "        \n",
    "    plt.axis('off')\n",
    "    plt.show()"
   ]
  },
  {
   "cell_type": "code",
   "execution_count": 6,
   "metadata": {},
   "outputs": [
    {
     "name": "stdout",
     "output_type": "stream",
     "text": [
      "G has 28 nodes and 756 edges\n"
     ]
    }
   ],
   "source": [
    "# Graph reading\n",
    "basename = os.path.splitext(args.filename)[0]\n",
    "G = nx.read_graphml (args.filename, node_type=int)\n",
    "print (\"G has\", G.number_of_nodes(), \"nodes and\", G.number_of_edges(), \"edges\")"
   ]
  },
  {
   "cell_type": "code",
   "execution_count": 7,
   "metadata": {},
   "outputs": [
    {
     "data": {
      "text/plain": [
       "NodeDataView({1: {'y': 32, 'x': 17}, 2: {'y': 18, 'x': 17}, 3: {'y': 13, 'x': 2}, 4: {'y': 31, 'x': 6}, 5: {'y': 22, 'x': 13}, 6: {'y': 31, 'x': 18}, 7: {'y': 39, 'x': 7}, 8: {'y': 16, 'x': 8}, 9: {'y': 14, 'x': 11}, 10: {'y': 32, 'x': 14}, 11: {'y': 34, 'x': 9}, 12: {'y': 31, 'x': 7}, 13: {'y': 21, 'x': 6}, 14: {'y': 37, 'x': 25}, 15: {'y': 17, 'x': 25}, 16: {'y': 22, 'x': 9}, 17: {'y': 2, 'x': 14}, 18: {'y': 17, 'x': 12}, 19: {'y': 1, 'x': 6}, 20: {'y': 33, 'x': 22}, 21: {'y': 32, 'x': 30}, 22: {'y': 33, 'x': 6}, 23: {'y': 11, 'x': 21}, 24: {'y': 33, 'x': 1}, 25: {'y': 19, 'x': 29}, 26: {'y': 21, 'x': 11}, 27: {'y': 22, 'x': 1}, 28: {'y': 35, 'x': 6}})"
      ]
     },
     "execution_count": 7,
     "metadata": {},
     "output_type": "execute_result"
    }
   ],
   "source": [
    "G.nodes(data=True)"
   ]
  },
  {
   "cell_type": "markdown",
   "metadata": {},
   "source": [
    "## Capacitated Vehicle Routing Problem\n",
    "\n",
    ">**Given** A fleet of identical vehicles, with limited capacity, located at a depot; $n$ customers that require service with known demand; cost of travel between any pair of customers, or between any customer and the depot.\n",
    "\n",
    ">**Find** A minimum-cost collection of vehicle routes, each starting and ending at the depot, such that each customer is visited by exactly one vehicle, and no vehicle visits a set of customers whose total demand exceeds the vehicle capacity.\n",
    "\n",
    "Let $G=(V,A)$ be a directed graph with node $1$ representing the depot and $V_C=V\\setminus{1}$ representing the customers.\n",
    "The (positive integer) demand of customer $i \\in V_C$ is denoted by $q_i$.\n",
    "For any set of customer $S \\subset V_C$ let $q(S)=\\sum_{i \\in S} q_i$.\n",
    "\n",
    "### Single commodity flow formulation\n",
    "\n",
    "\n",
    "$$\n",
    "x_{ij} = \\begin{cases}1 \\text{ if arc $(i, j)$ is some vehicle travels from $i$ to $j$} \\\\\n",
    "0 \\text{ otherwise}\n",
    "\\end{cases}\n",
    "$$\n",
    "\n",
    "\n",
    "$$\n",
    "\\begin{align}\n",
    "\\min & \\sum_{(i,j) \\in A} c_{ij} x_{ij} \\\\\n",
    "\\text{subject}& \\text{ to} \\\\\n",
    "\\sum_{j \\in \\delta^+(i)} x_{ij} & = 1\\;\\; \\forall i \\in V_C\\\\\n",
    "\\sum_{j \\in \\delta^-(i)} x_{ji} & = 1\\;\\; \\forall i \\in V_C\\\\\n",
    "\\sum_{j \\in \\delta^-(i)} f_{ji} - \\sum_{j \\in \\delta^+(i)} f_{ij} & = q_i \\;\\;\\forall i \\in V_C\\\\\n",
    " q_j x_{ij} \\le f_{ij} & \\le (Q-q_i) x_{ij}  \\;\\; \\forall (i,j) \\in A\\\\\n",
    "\\\\\n",
    "x_{ij} & \\in \\{0,1\\} \\;\\; \\forall(i,j) \\in A \\\\\n",
    "\\end{align}\n",
    "$$\n"
   ]
  },
  {
   "cell_type": "code",
   "execution_count": 74,
   "metadata": {},
   "outputs": [],
   "source": [
    "G.remove_nodes_from([3])"
   ]
  },
  {
   "cell_type": "code",
   "execution_count": 75,
   "metadata": {},
   "outputs": [],
   "source": [
    "cvrp = gb.Model()\n",
    "\n",
    "# Vehicle capacity \n",
    "Q = 20 \n",
    "\n",
    "# Node demand\n",
    "dem = {i:1 for i in G.nodes()}\n",
    "\n",
    "depots = [1,3]\n",
    "\n",
    "# Depots does not require service\n",
    "for depot in depots:\n",
    "    dem[depot] = 0\n",
    "\n",
    "x = cvrp.addVars(G.edges(), \n",
    "                 obj=[G[i][j]['dist'] for i,j in G.edges()],\n",
    "                 vtype = gb.GRB.BINARY, name='x')\n",
    "\n",
    "f = cvrp.addVars (G.edges(), obj=0.0, lb=0,\n",
    "                  ub=Q, vtype=gb.GRB.CONTINUOUS, name='f')\n",
    "\n",
    "\n",
    "# Forward/Reverse star\n",
    "cvrp.addConstrs((x.sum(i,'*') == 1 for i in G.nodes() if i not in depots), name='FS')\n",
    "cvrp.addConstrs((x.sum('*',i) == 1 for i in G.nodes() if i not in depots), name='RS')\n",
    "\n",
    "\n",
    "# Flow constraints\n",
    "cvrp.addConstrs((f.sum('*',i) - f.sum(i,'*') == dem[i] for i in G.nodes() if i not in depots), name='FLOW')\n",
    "\n",
    "\n",
    "cvrp.addConstrs((f[i,j] <= (Q - dem[i]) * x[i,j] for i,j in G.edges()),name='VUB')\n",
    "cvrp.addConstrs((f[i,j] >= dem[j] * x[i,j] for i,j in G.edges()),name='VLB')\n",
    "\n",
    "\n",
    "cvrp.update()\n",
    "cvrp.write('cvrp.lp')"
   ]
  },
  {
   "cell_type": "code",
   "execution_count": 76,
   "metadata": {
    "scrolled": true
   },
   "outputs": [
    {
     "name": "stdout",
     "output_type": "stream",
     "text": [
      "Gurobi Optimizer version 9.1.2 build v9.1.2rc0 (linux64)\n",
      "Thread count: 6 physical cores, 12 logical processors, using up to 12 threads\n",
      "Optimize a model with 1482 rows, 1404 columns and 5486 nonzeros\n",
      "Model fingerprint: 0x2a18b7e1\n",
      "Variable types: 702 continuous, 702 integer (702 binary)\n",
      "Coefficient statistics:\n",
      "  Matrix range     [1e+00, 2e+01]\n",
      "  Objective range  [1e+02, 4e+03]\n",
      "  Bounds range     [1e+00, 2e+01]\n",
      "  RHS range        [1e+00, 1e+00]\n",
      "Presolve removed 52 rows and 26 columns\n",
      "Presolve time: 0.01s\n",
      "Presolved: 1430 rows, 1378 columns, 5408 nonzeros\n",
      "Variable types: 702 continuous, 676 integer (676 binary)\n",
      "Found heuristic solution: objective 76293.000000\n",
      "\n",
      "Root relaxation: objective 1.460370e+04, 1201 iterations, 0.02 seconds\n",
      "\n",
      "    Nodes    |    Current Node    |     Objective Bounds      |     Work\n",
      " Expl Unexpl |  Obj  Depth IntInf | Incumbent    BestBd   Gap | It/Node Time\n",
      "\n",
      "     0     0 14603.7049    0   44 76293.0000 14603.7049  80.9%     -    0s\n",
      "H    0     0                    18681.000000 14603.7049  21.8%     -    0s\n",
      "     0     0 16102.5140    0   55 18681.0000 16102.5140  13.8%     -    0s\n",
      "H    0     0                    18158.000000 16102.5140  11.3%     -    0s\n",
      "     0     0 16106.0692    0   56 18158.0000 16106.0692  11.3%     -    0s\n",
      "     0     0 16107.3322    0   57 18158.0000 16107.3322  11.3%     -    0s\n",
      "     0     0 16118.1608    0   67 18158.0000 16118.1608  11.2%     -    0s\n",
      "     0     0 16124.6704    0   63 18158.0000 16124.6704  11.2%     -    0s\n",
      "     0     0 16124.8510    0   63 18158.0000 16124.8510  11.2%     -    0s\n",
      "H    0     0                    17640.000000 16124.8510  8.59%     -    0s\n",
      "     0     0 16141.3800    0   67 17640.0000 16141.3800  8.50%     -    0s\n",
      "     0     0 16141.3800    0   44 17640.0000 16141.3800  8.50%     -    0s\n",
      "H    0     0                    17629.000000 16141.3800  8.44%     -    0s\n",
      "     0     0 16141.3800    0   62 17629.0000 16141.3800  8.44%     -    0s\n",
      "H    0     0                    17280.000000 16141.3800  6.59%     -    0s\n",
      "     0     0 16141.3800    0   61 17280.0000 16141.3800  6.59%     -    0s\n",
      "     0     0 16143.7143    0   64 17280.0000 16143.7143  6.58%     -    0s\n",
      "     0     0 16144.3823    0   67 17280.0000 16144.3823  6.57%     -    0s\n",
      "     0     0 16159.5121    0   65 17280.0000 16159.5121  6.48%     -    0s\n",
      "     0     0 16162.0416    0   66 17280.0000 16162.0416  6.47%     -    0s\n",
      "     0     0 16162.0416    0   66 17280.0000 16162.0416  6.47%     -    0s\n",
      "     0     0 16172.7827    0   64 17280.0000 16172.7827  6.41%     -    0s\n",
      "     0     0 16172.7827    0   64 17280.0000 16172.7827  6.41%     -    0s\n",
      "     0     0 16172.7827    0   44 17280.0000 16172.7827  6.41%     -    0s\n",
      "     0     0 16172.7827    0   61 17280.0000 16172.7827  6.41%     -    0s\n",
      "     0     0 16172.7827    0   66 17280.0000 16172.7827  6.41%     -    0s\n",
      "     0     0 16172.7827    0   62 17280.0000 16172.7827  6.41%     -    0s\n",
      "     0     0 16173.2219    0   65 17280.0000 16173.2219  6.40%     -    0s\n",
      "     0     0 16174.5456    0   65 17280.0000 16174.5456  6.40%     -    0s\n",
      "     0     0 16175.0402    0   71 17280.0000 16175.0402  6.39%     -    0s\n",
      "     0     0 16182.1271    0   71 17280.0000 16182.1271  6.35%     -    0s\n",
      "     0     0 16182.1271    0   71 17280.0000 16182.1271  6.35%     -    0s\n",
      "     0     2 16182.1271    0   71 17280.0000 16182.1271  6.35%     -    0s\n",
      "\n",
      "Cutting planes:\n",
      "  Gomory: 19\n",
      "  Cover: 4\n",
      "  MIR: 39\n",
      "  Flow cover: 36\n",
      "  Flow path: 5\n",
      "  Inf proof: 5\n",
      "  Mod-K: 5\n",
      "  Network: 8\n",
      "  RLT: 2\n",
      "\n",
      "Explored 2909 nodes (47314 simplex iterations) in 1.35 seconds\n",
      "Thread count was 12 (of 12 available processors)\n",
      "\n",
      "Solution count 6: 17280 17629 17640 ... 76293\n",
      "\n",
      "Optimal solution found (tolerance 1.00e-04)\n",
      "Best objective 1.728000000000e+04, best bound 1.728000000000e+04, gap 0.0000%\n"
     ]
    }
   ],
   "source": [
    "cvrp.optimize()"
   ]
  },
  {
   "cell_type": "code",
   "execution_count": 77,
   "metadata": {
    "scrolled": true
   },
   "outputs": [
    {
     "name": "stdout",
     "output_type": "stream",
     "text": [
      "Solution:  17280.0\n"
     ]
    },
    {
     "data": {
      "image/png": "[encoded data removed]",
      "text/plain": [
       "<Figure size 720x720 with 1 Axes>"
      ]
     },
     "metadata": {},
     "output_type": "display_data"
    }
   ],
   "source": [
    "print(\"Solution: \", cvrp.objVal)\n",
    "DrawSol(G, x)"
   ]
  },
  {
   "cell_type": "markdown",
   "metadata": {},
   "source": [
    "# Q2"
   ]
  },
  {
   "cell_type": "code",
   "execution_count": 78,
   "metadata": {},
   "outputs": [
    {
     "name": "stdout",
     "output_type": "stream",
     "text": [
      "G has 28 nodes and 756 edges\n"
     ]
    }
   ],
   "source": [
    "# Graph reading\n",
    "basename = os.path.splitext(args.filename)[0]\n",
    "G = nx.read_graphml (args.filename, node_type=int)\n",
    "print (\"G has\", G.number_of_nodes(), \"nodes and\", G.number_of_edges(), \"edges\")"
   ]
  },
  {
   "cell_type": "code",
   "execution_count": 79,
   "metadata": {},
   "outputs": [],
   "source": [
    "cvrp = gb.Model()\n",
    "\n",
    "# Vehicle capacity \n",
    "Q = 20 \n",
    "\n",
    "# Node demand\n",
    "dem = {i:1 for i in G.nodes()}\n",
    "\n",
    "depots = [1,3]\n",
    "\n",
    "# Depots does not require service\n",
    "for depot in depots:\n",
    "    dem[depot] = 0\n",
    "\n",
    "x = cvrp.addVars(G.edges(), \n",
    "                 obj=[G[i][j]['dist'] for i,j in G.edges()],\n",
    "                 vtype = gb.GRB.BINARY, name='x')\n",
    "\n",
    "f = cvrp.addVars (G.edges(), obj=0.0, lb=0,\n",
    "                  ub=Q, vtype=gb.GRB.CONTINUOUS, name='f')\n",
    "\n",
    "\n",
    "# Forward/Reverse star\n",
    "cvrp.addConstrs((x.sum(i,'*') == 1 for i in G.nodes() if i not in depots), name='FS')\n",
    "cvrp.addConstrs((x.sum('*',i) == 1 for i in G.nodes() if i not in depots), name='RS')\n",
    "\n",
    "\n",
    "# Flow constraints\n",
    "cvrp.addConstrs((f.sum('*',i) - f.sum(i,'*') == dem[i] for i in G.nodes() if i not in depots), name='FLOW')\n",
    "\n",
    "\n",
    "cvrp.addConstrs((f[i,j] <= (Q - dem[i]) * x[i,j] for i,j in G.edges()),name='VUB')\n",
    "cvrp.addConstrs((f[i,j] >= dem[j] * x[i,j] for i,j in G.edges()),name='VLB')\n",
    "\n",
    "\n",
    "cvrp.update()\n",
    "cvrp.write('cvrp.lp')"
   ]
  },
  {
   "cell_type": "code",
   "execution_count": 80,
   "metadata": {},
   "outputs": [
    {
     "name": "stdout",
     "output_type": "stream",
     "text": [
      "Gurobi Optimizer version 9.1.2 build v9.1.2rc0 (linux64)\n",
      "Thread count: 6 physical cores, 12 logical processors, using up to 12 threads\n",
      "Optimize a model with 1590 rows, 1512 columns and 5778 nonzeros\n",
      "Model fingerprint: 0x2f1ec87c\n",
      "Variable types: 756 continuous, 756 integer (756 binary)\n",
      "Coefficient statistics:\n",
      "  Matrix range     [1e+00, 2e+01]\n",
      "  Objective range  [1e+02, 4e+03]\n",
      "  Bounds range     [1e+00, 2e+01]\n",
      "  RHS range        [1e+00, 1e+00]\n",
      "Presolve removed 82 rows and 30 columns\n",
      "Presolve time: 0.01s\n",
      "Presolved: 1508 rows, 1482 columns, 5668 nonzeros\n",
      "Variable types: 754 continuous, 728 integer (728 binary)\n",
      "Found heuristic solution: objective 59818.000000\n",
      "\n",
      "Root relaxation: objective 1.425391e+04, 1548 iterations, 0.02 seconds\n",
      "\n",
      "    Nodes    |    Current Node    |     Objective Bounds      |     Work\n",
      " Expl Unexpl |  Obj  Depth IntInf | Incumbent    BestBd   Gap | It/Node Time\n",
      "\n",
      "     0     0 14253.9051    0   42 59818.0000 14253.9051  76.2%     -    0s\n",
      "H    0     0                    19002.000000 14253.9051  25.0%     -    0s\n",
      "     0     0 15699.5561    0   38 19002.0000 15699.5561  17.4%     -    0s\n",
      "H    0     0                    17513.000000 15699.5561  10.4%     -    0s\n",
      "H    0     0                    16910.000000 15699.5561  7.16%     -    0s\n",
      "     0     0 15703.0467    0   57 16910.0000 15703.0467  7.14%     -    0s\n",
      "     0     0 15706.6927    0   61 16910.0000 15706.6927  7.12%     -    0s\n",
      "     0     0 15716.2444    0   59 16910.0000 15716.2444  7.06%     -    0s\n",
      "     0     0 15835.9443    0   57 16910.0000 15835.9443  6.35%     -    0s\n",
      "     0     0 15835.9443    0   42 16910.0000 15835.9443  6.35%     -    0s\n",
      "H    0     0                    16834.000000 15835.9443  5.93%     -    0s\n",
      "     0     0 15835.9443    0   67 16834.0000 15835.9443  5.93%     -    0s\n",
      "     0     0 15835.9443    0   57 16834.0000 15835.9443  5.93%     -    0s\n",
      "     0     0 15835.9443    0   57 16834.0000 15835.9443  5.93%     -    0s\n",
      "     0     0 15835.9510    0   57 16834.0000 15835.9510  5.93%     -    0s\n",
      "H    0     0                    16217.000000 15835.9510  2.35%     -    0s\n",
      "     0     0 15835.9510    0   57 16217.0000 15835.9510  2.35%     -    0s\n",
      "     0     0 15842.4048    0   44 16217.0000 15842.4048  2.31%     -    0s\n",
      "     0     0 15842.4048    0   40 16217.0000 15842.4048  2.31%     -    0s\n",
      "     0     0 15842.4048    0   38 16217.0000 15842.4048  2.31%     -    0s\n",
      "     0     0 15842.4048    0   41 16217.0000 15842.4048  2.31%     -    0s\n",
      "     0     0 15842.4048    0   41 16217.0000 15842.4048  2.31%     -    0s\n",
      "     0     0 15846.0295    0   35 16217.0000 15846.0295  2.29%     -    0s\n",
      "     0     0 15846.0295    0   35 16217.0000 15846.0295  2.29%     -    0s\n",
      "     0     0 15846.6680    0   42 16217.0000 15846.6680  2.28%     -    0s\n",
      "     0     0 15846.6680    0   42 16217.0000 15846.6680  2.28%     -    0s\n",
      "     0     2 15846.6680    0   42 16217.0000 15846.6680  2.28%     -    0s\n",
      "\n",
      "Cutting planes:\n",
      "  Gomory: 6\n",
      "  Implied bound: 1\n",
      "  MIR: 18\n",
      "  Flow cover: 33\n",
      "  Flow path: 7\n",
      "  Zero half: 1\n",
      "  Network: 4\n",
      "  RLT: 2\n",
      "  Relax-and-lift: 1\n",
      "\n",
      "Explored 86 nodes (5484 simplex iterations) in 0.43 seconds\n",
      "Thread count was 12 (of 12 available processors)\n",
      "\n",
      "Solution count 6: 16217 16834 16910 ... 59818\n",
      "\n",
      "Optimal solution found (tolerance 1.00e-04)\n",
      "Best objective 1.621700000000e+04, best bound 1.621700000000e+04, gap 0.0000%\n"
     ]
    }
   ],
   "source": [
    "cvrp.optimize()"
   ]
  },
  {
   "cell_type": "code",
   "execution_count": 81,
   "metadata": {},
   "outputs": [
    {
     "name": "stdout",
     "output_type": "stream",
     "text": [
      "Solution:  16217.0\n"
     ]
    },
    {
     "data": {
      "image/png": "[encoded data removed]",
      "text/plain": [
       "<Figure size 720x720 with 1 Axes>"
      ]
     },
     "metadata": {},
     "output_type": "display_data"
    }
   ],
   "source": [
    "print(\"Solution: \", cvrp.objVal)\n",
    "DrawSol(G, x)"
   ]
  },
  {
   "cell_type": "markdown",
   "metadata": {},
   "source": [
    "# Q3"
   ]
  },
  {
   "cell_type": "code",
   "execution_count": 66,
   "metadata": {},
   "outputs": [],
   "source": [
    "root = 1\n",
    "\n",
    "my_model = gb.Model()\n",
    "\n",
    "x = my_model.addVars(G.edges(),\n",
    "                     obj=[G[i][j]['dist'] for i,j in G.edges()],\n",
    "                     vtype=gb.GRB.BINARY, name='x')\n",
    "\n",
    "u = my_model.addVars(G.nodes(), \n",
    "                     obj=[0.0 for i in G.nodes()],\n",
    "                     lb=2.0, ub=G.number_of_nodes(), \n",
    "                     vtype=gb.GRB.CONTINUOUS,\n",
    "                     name='u')\n",
    "\n",
    "# Da usare se non è possibile escludere nessun depot\n",
    "my_model.addConstrs((x.sum(i,'*') == 1 for i in G.nodes()), name='FS_ATSP')\n",
    "my_model.addConstrs((x.sum('*',i) == 1 for i in G.nodes()), name='RS_ATSP')\n",
    "\n",
    "my_model.addConstrs((u[i] - u[j] + (G.number_of_nodes() - 1) * x[i,j] + (G.number_of_nodes() - 3) * x[j,i] <= (G.number_of_nodes() - 2)\n",
    "                     for i in G.nodes() for j in G.nodes() if (i != j) and (i != root) and (j !=root) and G.has_edge(i,j) and G.has_edge(j,i)), \n",
    "                    name='MTZ_ATSP')\n",
    "\n",
    "# Fixing root node\n",
    "u[root].lb = 1.0\n",
    "u[root].ub = 1.0\n",
    "\n",
    "my_model.update()\n",
    "my_model.write('my_model.lp')"
   ]
  },
  {
   "cell_type": "code",
   "execution_count": 67,
   "metadata": {},
   "outputs": [],
   "source": [
    "depot_costs = {1:100,3:180}\n",
    "    \n",
    "dg = my_model.addVars(depots, \n",
    "                 obj=[depot_costs[depot] for depot in depots],\n",
    "                 vtype = gb.GRB.CONTINUOUS, name='dg')\n",
    "\n",
    "f = my_model.addVars (G.edges(), obj=0.0, lb=0,\n",
    "                  ub=Q, vtype=gb.GRB.CONTINUOUS, name='f')\n",
    "\n",
    "# Forward/Reverse star multiple depots\n",
    "my_model.addConstrs((x.sum(i,'*') == 1 for i in G.nodes() if i not in depots), name='FS')\n",
    "my_model.addConstrs((x.sum('*',i) == 1 for i in G.nodes() if i not in depots), name='RS')\n",
    "\n",
    "# Flow constraints multiple depots\n",
    "my_model.addConstrs((f.sum('*',i) - f.sum(i,'*') == dem[i] for i in G.nodes() if i not in depots), name='FLOW')\n",
    "\n",
    "# Vehicle capacity costraints\n",
    "my_model.addConstrs((f[i,j] <= (Q - dem[i]) * x[i,j] for i,j in G.edges()),name='VUB')\n",
    "my_model.addConstrs((f[i,j] >= dem[j] * x[i,j] for i,j in G.edges()),name='VLB')\n",
    "\n",
    "#dg[1].lb=1\n",
    "#dg[3].lb=1\n",
    "\n",
    "# Depot quantities costraints\n",
    "my_model.addConstrs((f.sum(depot,'*') <= dg[depot] for depot in depots), name='depot_goods_constr')  \n",
    "\n",
    "# Only one vehicle costraint\n",
    "espr = sum([x.sum(depot,'*') -x.sum('*',depot) for depot in depots])\n",
    "my_model.addConstr(espr == 0 ,name='vehicle_must_return')  \n",
    "\n",
    "my_model.update()"
   ]
  },
  {
   "cell_type": "code",
   "execution_count": 68,
   "metadata": {
    "scrolled": true
   },
   "outputs": [
    {
     "name": "stdout",
     "output_type": "stream",
     "text": [
      "Gurobi Optimizer version 9.1.2 build v9.1.2rc0 (linux64)\n",
      "Thread count: 6 physical cores, 12 logical processors, using up to 12 threads\n",
      "Optimize a model with 2351 rows, 1542 columns and 10258 nonzeros\n",
      "Model fingerprint: 0xaec080fe\n",
      "Variable types: 786 continuous, 756 integer (756 binary)\n",
      "Coefficient statistics:\n",
      "  Matrix range     [1e+00, 3e+01]\n",
      "  Objective range  [1e+02, 4e+03]\n",
      "  Bounds range     [1e+00, 3e+01]\n",
      "  RHS range        [1e+00, 3e+01]\n",
      "Presolve removed 111 rows and 5 columns\n",
      "Presolve time: 0.02s\n",
      "Presolved: 2240 rows, 1537 columns, 8636 nonzeros\n",
      "Variable types: 781 continuous, 756 integer (756 binary)\n",
      "Found heuristic solution: objective 56543.000000\n",
      "\n",
      "Root relaxation: objective 1.931186e+04, 1200 iterations, 0.02 seconds\n",
      "\n",
      "    Nodes    |    Current Node    |     Objective Bounds      |     Work\n",
      " Expl Unexpl |  Obj  Depth IntInf | Incumbent    BestBd   Gap | It/Node Time\n",
      "\n",
      "     0     0 19311.8649    0   48 56543.0000 19311.8649  65.8%     -    0s\n",
      "H    0     0                    21294.000000 19311.8649  9.31%     -    0s\n",
      "H    0     0                    20177.000000 19311.8649  4.29%     -    0s\n",
      "     0     0 19427.5000    0   18 20177.0000 19427.5000  3.71%     -    0s\n",
      "     0     0 19427.5000    0   48 20177.0000 19427.5000  3.71%     -    0s\n",
      "     0     0 19427.5000    0   18 20177.0000 19427.5000  3.71%     -    0s\n",
      "     0     0 19433.6754    0   18 20177.0000 19433.6754  3.68%     -    0s\n",
      "     0     0 19505.7584    0   20 20177.0000 19505.7584  3.33%     -    0s\n",
      "     0     0 19532.8889    0   20 20177.0000 19532.8889  3.19%     -    0s\n",
      "     0     2 19539.0107    0   20 20177.0000 19539.0107  3.16%     -    0s\n",
      "*  126    31              21    19954.000000 19670.4706  1.42%  21.7    0s\n",
      "\n",
      "Cutting planes:\n",
      "  Gomory: 11\n",
      "  Implied bound: 10\n",
      "  MIR: 12\n",
      "  Flow cover: 18\n",
      "  Flow path: 1\n",
      "  Inf proof: 1\n",
      "  Zero half: 5\n",
      "  Network: 3\n",
      "  RLT: 1\n",
      "  Relax-and-lift: 2\n",
      "\n",
      "Explored 242 nodes (6119 simplex iterations) in 0.38 seconds\n",
      "Thread count was 12 (of 12 available processors)\n",
      "\n",
      "Solution count 4: 19954 20177 21294 56543 \n",
      "\n",
      "Optimal solution found (tolerance 1.00e-04)\n",
      "Best objective 1.995400000000e+04, best bound 1.995400000000e+04, gap 0.0000%\n"
     ]
    }
   ],
   "source": [
    "my_model.optimize()"
   ]
  },
  {
   "cell_type": "code",
   "execution_count": 69,
   "metadata": {},
   "outputs": [
    {
     "name": "stdout",
     "output_type": "stream",
     "text": [
      "Solution:  19954.0\n"
     ]
    },
    {
     "data": {
      "image/png": "[encoded data removed]",
      "text/plain": [
       "<Figure size 720x720 with 1 Axes>"
      ]
     },
     "metadata": {},
     "output_type": "display_data"
    }
   ],
   "source": [
    "print(\"Solution: \", my_model.objVal)\n",
    "DrawSol(G, x)"
   ]
  },
  {
   "cell_type": "code",
   "execution_count": 65,
   "metadata": {},
   "outputs": [
    {
     "data": {
      "text/plain": [
       "{1: <gurobi.Var dg[1] (value 17.0)>, 3: <gurobi.Var dg[3] (value 9.0)>}"
      ]
     },
     "execution_count": 65,
     "metadata": {},
     "output_type": "execute_result"
    }
   ],
   "source": [
    "dg"
   ]
  },
  {
   "cell_type": "code",
   "execution_count": null,
   "metadata": {},
   "outputs": [],
   "source": []
  }
 ],
 "metadata": {
  "anaconda-cloud": {},
  "kernelspec": {
   "display_name": "Python 3",
   "language": "python",
   "name": "python3"
  },
  "language_info": {
   "codemirror_mode": {
    "name": "ipython",
    "version": 3
   },
   "file_extension": ".py",
   "mimetype": "text/x-python",
   "name": "python",
   "nbconvert_exporter": "python",
   "pygments_lexer": "ipython3",
   "version": "3.8.5"
  }
 },
 "nbformat": 4,
 "nbformat_minor": 1
}
