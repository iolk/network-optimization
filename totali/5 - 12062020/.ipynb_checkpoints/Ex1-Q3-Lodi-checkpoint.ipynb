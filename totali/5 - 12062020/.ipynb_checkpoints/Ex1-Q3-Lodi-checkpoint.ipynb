{
 "cells": [
  {
   "cell_type": "markdown",
   "metadata": {},
   "source": [
    "## Totale 4/06/2019\n",
    "### Esercizio 1 Punto 3\n",
    "Alessandro Lodi<br>\n",
    "Matricola 274425"
   ]
  },
  {
   "cell_type": "markdown",
   "metadata": {},
   "source": [
    "### Notebook Init"
   ]
  },
  {
   "cell_type": "code",
   "execution_count": 41,
   "metadata": {},
   "outputs": [],
   "source": [
    "import networkx as nx\n",
    "import gurobipy as gb\n",
    "import matplotlib.pyplot as plt\n",
    "from itertools import combinations, chain\n",
    "import pygraphviz as pygv\n",
    "import os\n",
    "from IPython.display import SVG, display"
   ]
  },
  {
   "cell_type": "code",
   "execution_count": 42,
   "metadata": {},
   "outputs": [
    {
     "data": {
      "text/html": [
       "<style>.container { width:100% !important; }</style>"
      ],
      "text/plain": [
       "<IPython.core.display.HTML object>"
      ]
     },
     "metadata": {},
     "output_type": "display_data"
    }
   ],
   "source": [
    "from IPython.core.display import display, HTML\n",
    "display(HTML(\"<style>.container { width:100% !important; }</style>\"))"
   ]
  },
  {
   "cell_type": "code",
   "execution_count": 43,
   "metadata": {},
   "outputs": [],
   "source": [
    "class args:\n",
    "    filename = \"graph04062019R1.gml\"\n",
    "    scale = 40\n",
    "    figsize = 20,20"
   ]
  },
  {
   "cell_type": "code",
   "execution_count": 44,
   "metadata": {},
   "outputs": [],
   "source": [
    "def powerset(iterable):\n",
    "    \"powerset([1,2,3]) --> () (1,) (2,) (3,) (1,2) (1,3) (2,3) (1,2,3)\"\n",
    "    s = list(iterable)\n",
    "    return chain.from_iterable(combinations(s, r) for r in range(len(s)+1))"
   ]
  },
  {
   "cell_type": "markdown",
   "metadata": {},
   "source": [
    "### Drawing functions"
   ]
  },
  {
   "cell_type": "code",
   "execution_count": 45,
   "metadata": {},
   "outputs": [],
   "source": [
    "def DrawInitG(G, withedges=False):\n",
    "    \n",
    "    plt.figure(figsize=args.figsize)\n",
    "    \n",
    "    pos = {i:(G.nodes[i]['x'], G.nodes[i]['y']) for i in G.nodes()}\n",
    "    \n",
    "    nx.draw_networkx_nodes(G, \n",
    "                           pos=pos, \n",
    "                           node_shape='o', \n",
    "                           node_size=600,\n",
    "                           node_color='red')\n",
    "    \n",
    "    nx.draw_networkx_labels(G, pos=pos, font_color='w', font_size=12)\n",
    "    \n",
    "    if withedges:\n",
    "        nx.draw_networkx_edges(G,pos=pos, alpha=1.0)\n",
    "        labels = {(i,j):G.get_edge_data(i,j,'cost').get('cost') for i,j in G.edges()}\n",
    "        nx.draw_networkx_edge_labels(G, pos=pos, edge_labels=labels)\n",
    "    \n",
    "    plt.axis('off')\n",
    "    plt.show()\n",
    "    \n",
    "def DrawSol(G, x):\n",
    "    \n",
    "    plt.figure(figsize=args.figsize)\n",
    "    \n",
    "    pos = {i:(G.nodes[i]['x'], G.nodes[i]['y']) for i in G.nodes()}\n",
    "\n",
    "    \n",
    "    nx.draw_networkx_nodes(G, \n",
    "                           pos=pos, \n",
    "                           node_shape='o', \n",
    "                           node_size=600,\n",
    "                           node_color='red',\n",
    "                           label=[G.nodes()])\n",
    "    \n",
    "    nx.draw_networkx_labels(G, pos=pos, font_color='w', font_size=12)\n",
    "    \n",
    "    for u,v in G.edges():\n",
    "        if x[u,v].x > 0.01 and x[u,v].x < 0.9:\n",
    "            nx.draw_networkx_edges(G, pos=pos,\n",
    "                                   edgelist=[(u,v)],\n",
    "                                   edge_color='r')\n",
    "            \n",
    "            nx.draw_networkx_edge_labels(G, pos=pos,\n",
    "                                         edge_labels={(u,v):'{:.2f}'.format(x[u,v].x)})\n",
    "        \n",
    "        if x[u,v].x > 0.9:\n",
    "            nx.draw_networkx_edges(G, pos=pos,\n",
    "                                   edgelist=[(u,v)],\n",
    "                                   edge_color='k')\n",
    "        \n",
    "    plt.axis('off')\n",
    "    plt.show()\n",
    "    \n",
    "def DrawSolQ3(G, x, rx):\n",
    "    \n",
    "    plt.figure(figsize=args.figsize)\n",
    "    \n",
    "    pos = {i:(G.nodes[i]['x'], G.nodes[i]['y']) for i in G.nodes()}\n",
    "\n",
    "    \n",
    "    nx.draw_networkx_nodes(G, \n",
    "                           pos=pos, \n",
    "                           node_shape='o', \n",
    "                           node_size=600,\n",
    "                           node_color='red',\n",
    "                           label=[G.nodes()])\n",
    "    \n",
    "    nx.draw_networkx_labels(G, pos=pos, font_color='w', font_size=12)\n",
    "    \n",
    "    for u,v in G.edges():\n",
    "        if x[u,v].x > 0.01 and x[u,v].x < 0.9:\n",
    "            nx.draw_networkx_edges(G, pos=pos,\n",
    "                                   edgelist=[(u,v)],\n",
    "                                   edge_color='r')\n",
    "            \n",
    "            nx.draw_networkx_edge_labels(G, pos=pos,\n",
    "                                         edge_labels={(u,v):'{:.2f}'.format(x[u,v].x)})\n",
    "        \n",
    "        if x[u,v].x > 0.9:\n",
    "            nx.draw_networkx_edges(G, pos=pos,\n",
    "                                   edgelist=[(u,v)],\n",
    "                                   edge_color='k')\n",
    "        if rx[u,v].x > 0.9:\n",
    "            nx.draw_networkx_edges(G, pos=pos,\n",
    "                                   edgelist=[(u,v)],\n",
    "                                   edge_color='b')\n",
    "        \n",
    "    plt.axis('off')\n",
    "    plt.show()"
   ]
  },
  {
   "cell_type": "code",
   "execution_count": 46,
   "metadata": {},
   "outputs": [
    {
     "name": "stdout",
     "output_type": "stream",
     "text": [
      "G has 30 nodes and 435 edges\n"
     ]
    }
   ],
   "source": [
    "# Graph reading\n",
    "basename = os.path.splitext(args.filename)[0]\n",
    "G = nx.read_graphml (args.filename, node_type=int)\n",
    "print (\"G has\", G.number_of_nodes(), \"nodes and\", G.number_of_edges(), \"edges\")"
   ]
  },
  {
   "cell_type": "markdown",
   "metadata": {},
   "source": [
    "## Prize Collecting Steiner Tree (PCST) with limited number of hops  \n",
    "\n",
    "### Problem definition\n",
    "\n",
    ">**Given**\n",
    ">A symmetric graph $G=(V,E)$ and a cost $c_e > 0$ for each edge in $E$.\n",
    ">A root node $\\{0\\}$.\n",
    ">A revenue $p_j > 0$ for each node $j \\in V \\setminus \\{0\\}$.\n",
    ">\n",
    ">**Find**\n",
    ">A subtree 𝑇 rooted in {0} that maximizes the sum of the revenues of the nodes in 𝑇 minus the sum of the cost of the edges in 𝑇 such that the distance between {0} and any node in 𝑇 does not exceed H.\n",
    "\n",
    "### Directed formulation\n",
    "\n",
    "Consider the bidirected graph $B=(V,A)$ that is obtained from $G$ by replacing each edge $e = \\{i, j\\}$ in $E$ with two directed arcs $(i, j)$ and\n",
    "$(j, i)$ (with corresponding weights $c_{ij} = c_{ji} = c_e )$ and a cost $c_e > 0$ for each edge in $E$\n",
    "\n",
    "\n",
    "\n",
    "> **PCST-H** is equivalent to find an optimal arborescence in B rooted in $\\{0\\}$\n",
    "\n",
    "\n",
    "#### Variables\n",
    "$$\n",
    "x_{ij} = \\begin{cases}1 \\text{ if arc $(i, j)$ is in the arborescence} \\\\\n",
    "0 \\text{ otherwise}\n",
    "\\end{cases}\n",
    "$$\n",
    "\n",
    "$$\n",
    "y_j = \\begin{cases} 1 \\text{ if node j is in the arborescence}\\\\\n",
    "0 \\text{ otherwise}\n",
    "\\end{cases}\n",
    "$$\n",
    "\n",
    "$$ \n",
    "u_j = \\{\\text{number of arcs in the dipath (if any) induced by $x$ from \\{0\\} to $j$}\\}\n",
    "$$\n",
    "\n",
    "#### MTZ formulation\n",
    "\n",
    "$$\n",
    "\\begin{align}\n",
    "\\min & \\sum_{(i,j) \\in A} c_{ij} x_{ij} - \\sum_{j \\in V \\{0\\}} p_j y_j \\\\\n",
    "\\text{subject}& \\text{ to} \\\\\n",
    "y_0 & = 1 \\\\\n",
    "\\sum_{i \\in \\delta^-(j)} x_{ij} & = y_j \\;\\; \\forall j \\in V \\setminus \\{0\\}\\\\\n",
    "(h+1)x_{ij} + u_i - u_j &\\le h \\;\\; \\forall (i,j) \\in A \\\\\n",
    "y_i \\le u_i &\\le h y_i \\;\\; \\forall i \\in V\\setminus \\{0\\}\\\\ \n",
    "x_{jk} &\\le y_j \\;\\; \\forall k \\in \\delta^+(j), \\;\\; \\forall j \\in V \\setminus\\{0\\}\\\\\n",
    "0 \\le u_j & \\le n \\;\\; \\forall j \\in V \\\\ \n",
    "x_{ij} & \\in \\{0,1\\} \\;\\; \\forall(i,j) \\in A \\\\\n",
    "y_j & \\in \\{0,1\\} \\;\\; \\forall j \\in V\n",
    "\\end{align}\n",
    "$$\n"
   ]
  },
  {
   "cell_type": "code",
   "execution_count": 47,
   "metadata": {},
   "outputs": [
    {
     "data": {
      "text/plain": [
       "NodeDataView({1: {'y': 65, 'x': 10, 'revenue': 310}, 2: {'y': 19, 'x': 9, 'revenue': 843}, 3: {'y': 8, 'x': 35, 'revenue': 1578}, 4: {'y': 17, 'x': 1, 'revenue': 813}, 5: {'y': 35, 'x': 21, 'revenue': 1452}, 6: {'y': 57, 'x': 15, 'revenue': 1031}, 7: {'y': 5, 'x': 26, 'revenue': 487}, 8: {'y': 20, 'x': 30, 'revenue': 491}, 9: {'y': 50, 'x': 29, 'revenue': 559}, 10: {'y': 19, 'x': 34, 'revenue': 622}, 11: {'y': 34, 'x': 5, 'revenue': 917}, 12: {'y': 1, 'x': 34, 'revenue': 1175}, 13: {'y': 12, 'x': 23, 'revenue': 1064}, 14: {'y': 22, 'x': 11, 'revenue': 930}, 15: {'y': 37, 'x': 11, 'revenue': 1354}, 16: {'y': 12, 'x': 19, 'revenue': 1259}, 17: {'y': 12, 'x': 3, 'revenue': 511}, 18: {'y': 32, 'x': 28, 'revenue': 1169}, 19: {'y': 45, 'x': 1, 'revenue': 679}, 20: {'y': 37, 'x': 14, 'revenue': 432}, 21: {'y': 55, 'x': 1, 'revenue': 1089}, 22: {'y': 36, 'x': 27, 'revenue': 386}, 23: {'y': 34, 'x': 23, 'revenue': 1099}, 24: {'y': 42, 'x': 13, 'revenue': 1326}, 25: {'y': 24, 'x': 11, 'revenue': 568}, 26: {'y': 19, 'x': 15, 'revenue': 507}, 27: {'y': 8, 'x': 29, 'revenue': 552}, 28: {'y': 16, 'x': 8, 'revenue': 673}, 29: {'y': 63, 'x': 9, 'revenue': 1229}, 30: {'y': 56, 'x': 28, 'revenue': 1598}})"
      ]
     },
     "execution_count": 47,
     "metadata": {},
     "output_type": "execute_result"
    }
   ],
   "source": [
    "D = G.to_directed()\n",
    "G.nodes(data=True)"
   ]
  },
  {
   "cell_type": "code",
   "execution_count": 48,
   "metadata": {},
   "outputs": [],
   "source": [
    "root = 1\n",
    "pcst = gb.Model()\n",
    "\n",
    "# H represents the maximum number of hops\n",
    "H = 4\n",
    "\n",
    "# Objective function\n",
    "pcst.ModelSense = gb.GRB.MAXIMIZE\n",
    "\n",
    "\n",
    "# Decision Variables\n",
    "x = pcst.addVars(D.edges(), vtype=gb.GRB.BINARY, \n",
    "                 obj = [- D[i][j]['cost'] for i,j in D.edges()], \n",
    "                 name = 'x')\n",
    "\n",
    "y = pcst.addVars (G.nodes(), vtype = gb.GRB.BINARY, \n",
    "                  obj = [G.nodes[i]['revenue'] for i in G.nodes()],\n",
    "                 name = 'y')\n",
    "\n",
    "u = pcst.addVars (G.nodes(), vtype = gb.GRB.CONTINUOUS, \n",
    "                  lb = 0.0, ub = G.number_of_nodes(),\n",
    "                 name = 'u')\n",
    "\n",
    "\n",
    "# Root is in the solution\n",
    "pcst.addConstr(y[root] == 1, name = 'Fix_root')\n",
    "\n",
    "\n",
    "# Hop Constraints\n",
    "pcst.addConstrs ((u[i] >= y[i] for i in G.nodes()\n",
    "                  if i != root), name='VLB')\n",
    "\n",
    "pcst.addConstrs ((u[i] <= H * y[i] for i in G.nodes()\n",
    "                  if i != root), name='VUB')\n",
    "\n",
    "pcst.update()"
   ]
  },
  {
   "cell_type": "code",
   "execution_count": 49,
   "metadata": {},
   "outputs": [],
   "source": [
    "\n",
    "rx = pcst.addVars(D.edges(), vtype=gb.GRB.BINARY, \n",
    "                 obj = [- D[i][j]['cost']/2 for i,j in D.edges()], \n",
    "                 name = 'rx')\n",
    "\n",
    "r = pcst.addVars (G.nodes(), vtype = gb.GRB.BINARY, \n",
    "                  obj = [-150 for i in G.nodes()],\n",
    "                 name = 'r')\n",
    "\n",
    "\n",
    "# Each node has exactly one incoming arc\n",
    "pcst.addConstrs((x.sum('*',j)+rx.sum('*',j) == y[j] for j in G.nodes() if j != root), name='Node_in_deg')\n",
    "\n",
    "\n",
    "# Precedence constraints (MTZ constraints)\n",
    "pcst.addConstrs(((G.number_of_nodes() +  1) * (x[i,j]+rx[i,j]) + u[i] - u[j] <= G.number_of_nodes() for i,j in D.edges()),\n",
    "                name = 'MTZ')\n",
    "\n",
    "# Connectivity constraints\n",
    "pcst.addConstrs((x[j,k]+rx[j,k] <= y[j] for j in G.nodes()\n",
    "                 if j != root for k in D.neighbors(j)), name = 'Connect')\n",
    "\n",
    "# Router deg costraint\n",
    "pcst.addConstrs((rx.sum(j,'*') <= 3*r[j] for j in G.nodes()), name = 'Router_deg')\n",
    "\n",
    "pcst.update()\n",
    "pcst.write('pcst_q3.lp')"
   ]
  },
  {
   "cell_type": "code",
   "execution_count": 50,
   "metadata": {},
   "outputs": [
    {
     "name": "stdout",
     "output_type": "stream",
     "text": [
      "Gurobi Optimizer version 9.1.2 build v9.1.2rc0 (linux64)\n",
      "Thread count: 2 physical cores, 4 logical processors, using up to 4 threads\n",
      "Optimize a model with 1829 rows, 1830 columns and 8731 nonzeros\n",
      "Model fingerprint: 0x75b47e3b\n",
      "Variable types: 30 continuous, 1800 integer (1800 binary)\n",
      "Coefficient statistics:\n",
      "  Matrix range     [1e+00, 3e+01]\n",
      "  Objective range  [5e+01, 7e+03]\n",
      "  Bounds range     [1e+00, 3e+01]\n",
      "  RHS range        [1e+00, 3e+01]\n",
      "Found heuristic solution: objective 310.0000000\n",
      "Presolve removed 59 rows and 60 columns\n",
      "Presolve time: 0.03s\n",
      "Presolved: 1770 rows, 1770 columns, 8469 nonzeros\n",
      "Variable types: 29 continuous, 1741 integer (1741 binary)\n",
      "\n",
      "Root relaxation: objective 1.845300e+04, 134 iterations, 0.00 seconds\n",
      "\n",
      "    Nodes    |    Current Node    |     Objective Bounds      |     Work\n",
      " Expl Unexpl |  Obj  Depth IntInf | Incumbent    BestBd   Gap | It/Node Time\n",
      "\n",
      "     0     0 18453.0000    0   49  310.00000 18453.0000  5853%     -    0s\n",
      "H    0     0                    5151.5000000 18453.0000   258%     -    0s\n",
      "     0     0 16910.6030    0   56 5151.50000 16910.6030   228%     -    0s\n",
      "H    0     0                    12571.000000 16910.6030  34.5%     -    0s\n",
      "     0     0 16880.5833    0   39 12571.0000 16880.5833  34.3%     -    0s\n",
      "     0     0 16880.5833    0   39 12571.0000 16880.5833  34.3%     -    0s\n",
      "     0     0 16710.0500    0   32 12571.0000 16710.0500  32.9%     -    0s\n",
      "     0     0 16679.6389    0   29 12571.0000 16679.6389  32.7%     -    0s\n",
      "     0     0 16679.6389    0   29 12571.0000 16679.6389  32.7%     -    0s\n",
      "     0     0 16629.0980    0   53 12571.0000 16629.0980  32.3%     -    0s\n",
      "     0     0 16616.2222    0   49 12571.0000 16616.2222  32.2%     -    0s\n",
      "     0     0 16587.2483    0   66 12571.0000 16587.2483  31.9%     -    0s\n",
      "     0     0 16586.7435    0   65 12571.0000 16586.7435  31.9%     -    0s\n",
      "     0     0 16570.6939    0   49 12571.0000 16570.6939  31.8%     -    0s\n",
      "     0     0 16567.9000    0   39 12571.0000 16567.9000  31.8%     -    0s\n",
      "     0     0 16564.1167    0   42 12571.0000 16564.1167  31.8%     -    0s\n",
      "     0     0 16563.8333    0   39 12571.0000 16563.8333  31.8%     -    0s\n",
      "     0     0 16555.4583    0   66 12571.0000 16555.4583  31.7%     -    0s\n",
      "     0     0 16555.4583    0   66 12571.0000 16555.4583  31.7%     -    0s\n",
      "     0     0 16543.4821    0   56 12571.0000 16543.4821  31.6%     -    0s\n",
      "     0     0 16537.5521    0   71 12571.0000 16537.5521  31.6%     -    0s\n",
      "     0     0 16527.7750    0   64 12571.0000 16527.7750  31.5%     -    0s\n",
      "     0     0 16522.7386    0   65 12571.0000 16522.7386  31.4%     -    0s\n",
      "     0     0 16522.1750    0   68 12571.0000 16522.1750  31.4%     -    0s\n",
      "     0     0 16522.1528    0   68 12571.0000 16522.1528  31.4%     -    0s\n",
      "     0     0 16521.8750    0   68 12571.0000 16521.8750  31.4%     -    0s\n",
      "     0     0 16516.8750    0   64 12571.0000 16516.8750  31.4%     -    0s\n",
      "     0     0 16516.8750    0   63 12571.0000 16516.8750  31.4%     -    0s\n",
      "     0     2 16430.8750    0   60 12571.0000 16430.8750  30.7%     -    0s\n",
      "H  342   280                    13359.500000 16430.8750  23.0%   5.9    1s\n",
      "H  347   275                    13441.500000 16430.8750  22.2%   5.9    1s\n",
      "H  793   604                    14519.500000 16404.4715  13.0%   5.5    3s\n",
      "   827   627 14543.1077   75  102 14519.5000 16322.7336  12.4%   5.3    5s\n",
      "H 1068   745                    14595.500000 16218.1314  11.1%   9.0    8s\n",
      "H 1393   814                    14872.000000 16218.1314  9.05%   9.9    8s\n",
      "H 1431   698                    15043.000000 16218.1314  7.81%   9.9    8s\n",
      "H 1438   640                    15125.000000 16213.8999  7.20%   9.9    8s\n",
      "H 3435  1298                    15335.500000 16093.6250  4.94%  11.3    9s\n",
      "  3603  1420 15747.1072   52   45 15335.5000 16084.2441  4.88%  11.3   10s\n",
      " 10633  3669 15451.3626   41   96 15335.5000 15682.4237  2.26%  12.7   15s\n",
      "\n",
      "Cutting planes:\n",
      "  Learned: 1\n",
      "  Gomory: 7\n",
      "  Cover: 5\n",
      "  Clique: 1\n",
      "  MIR: 4\n",
      "  Flow cover: 8\n",
      "  GUB cover: 2\n",
      "  Zero half: 3\n",
      "  Relax-and-lift: 1\n",
      "\n",
      "Explored 10660 nodes (136802 simplex iterations) in 15.47 seconds\n",
      "Thread count was 4 (of 4 available processors)\n",
      "\n",
      "Solution count 10: 15335.5 15125 15043 ... 5151.5\n",
      "\n",
      "Optimal solution found (tolerance 1.00e-04)\n",
      "Best objective 1.533550000000e+04, best bound 1.533550000000e+04, gap 0.0000%\n"
     ]
    }
   ],
   "source": [
    "pcst.optimize()"
   ]
  },
  {
   "cell_type": "code",
   "execution_count": 51,
   "metadata": {},
   "outputs": [
    {
     "name": "stdout",
     "output_type": "stream",
     "text": [
      "Optimal value:  15335.5\n"
     ]
    },
    {
     "data": {
      "image/png": "[encoded data removed]",
      "text/plain": [
       "<Figure size 1440x1440 with 1 Axes>"
      ]
     },
     "metadata": {},
     "output_type": "display_data"
    }
   ],
   "source": [
    "print(\"Optimal value: \", pcst.objVal)\n",
    "DrawSolQ3(D,x,rx)"
   ]
  },
  {
   "cell_type": "code",
   "execution_count": null,
   "metadata": {},
   "outputs": [],
   "source": []
  }
 ],
 "metadata": {
  "anaconda-cloud": {},
  "kernelspec": {
   "display_name": "Python 3",
   "language": "python",
   "name": "python3"
  },
  "language_info": {
   "codemirror_mode": {
    "name": "ipython",
    "version": 3
   },
   "file_extension": ".py",
   "mimetype": "text/x-python",
   "name": "python",
   "nbconvert_exporter": "python",
   "pygments_lexer": "ipython3",
   "version": "3.8.5"
  }
 },
 "nbformat": 4,
 "nbformat_minor": 1
}
