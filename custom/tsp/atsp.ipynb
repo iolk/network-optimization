{
 "cells": [
  {
   "cell_type": "markdown",
   "metadata": {},
   "source": [
    "## Totale N.\n",
    "### Esercizio 3 punto 1\n",
    "Alessandro Lodi<br>\n",
    "Matricola 274425"
   ]
  },
  {
   "cell_type": "markdown",
   "metadata": {},
   "source": [
    "### Notebook Init"
   ]
  },
  {
   "cell_type": "code",
   "execution_count": 1,
   "metadata": {},
   "outputs": [],
   "source": [
    "import networkx as nx\n",
    "import gurobipy as gb\n",
    "import matplotlib.pyplot as plt\n",
    "from itertools import combinations, chain\n",
    "import pygraphviz as pygv\n",
    "import os\n",
    "from IPython.display import SVG, display"
   ]
  },
  {
   "cell_type": "code",
   "execution_count": 2,
   "metadata": {},
   "outputs": [
    {
     "data": {
      "text/html": [
       "<style>.container { width:100% !important; }</style>"
      ],
      "text/plain": [
       "<IPython.core.display.HTML object>"
      ]
     },
     "metadata": {},
     "output_type": "display_data"
    }
   ],
   "source": [
    "from IPython.core.display import display, HTML\n",
    "display(HTML(\"<style>.container { width:100% !important; }</style>\"))"
   ]
  },
  {
   "cell_type": "code",
   "execution_count": 3,
   "metadata": {},
   "outputs": [],
   "source": [
    "class args:\n",
    "    filename = \"atspexample.gml\"\n",
    "    scale = 40\n",
    "    figsize = 5,5"
   ]
  },
  {
   "cell_type": "code",
   "execution_count": 4,
   "metadata": {},
   "outputs": [],
   "source": [
    "def powerset(iterable):\n",
    "    \"powerset([1,2,3]) --> () (1,) (2,) (3,) (1,2) (1,3) (2,3) (1,2,3)\"\n",
    "    s = list(iterable)\n",
    "    return chain.from_iterable(combinations(s, r) for r in range(len(s)+1))"
   ]
  },
  {
   "cell_type": "markdown",
   "metadata": {},
   "source": [
    "### Drawing functions"
   ]
  },
  {
   "cell_type": "code",
   "execution_count": 5,
   "metadata": {},
   "outputs": [],
   "source": [
    "def DrawInitG(G, withedges=False):\n",
    "    \n",
    "    plt.figure(figsize=args.figsize)\n",
    "    \n",
    "    pos = {i:(G.nodes[i]['x'], G.nodes[i]['y']) for i in G.nodes()}\n",
    "    \n",
    "    nx.draw_networkx_nodes(G, \n",
    "                           pos=pos, \n",
    "                           node_shape='o', \n",
    "                           node_size=600,\n",
    "                           node_color='red')\n",
    "    \n",
    "    nx.draw_networkx_labels(G, pos=pos, font_color='w', font_size=12)\n",
    "    \n",
    "    if withedges:\n",
    "        nx.draw_networkx_edges(G,pos=pos, alpha=1.0)\n",
    "        labels = {(i,j):G.get_edge_data(i,j,'cost').get('cost') for i,j in G.edges()}\n",
    "        nx.draw_networkx_edge_labels(G, pos=pos, edge_labels=labels)\n",
    "    \n",
    "    plt.axis('off')\n",
    "    plt.show()\n",
    "    \n",
    "def DrawSol(G, x):\n",
    "    \n",
    "    plt.figure(figsize=args.figsize)\n",
    "    \n",
    "    pos = {i:(G.nodes[i]['x'], G.nodes[i]['y']) for i in G.nodes()}\n",
    "\n",
    "    \n",
    "    nx.draw_networkx_nodes(G, \n",
    "                           pos=pos, \n",
    "                           node_shape='o', \n",
    "                           node_size=600,\n",
    "                           node_color='red',\n",
    "                           label=[G.nodes()])\n",
    "    \n",
    "    nx.draw_networkx_labels(G, pos=pos, font_color='w', font_size=12)\n",
    "    \n",
    "    for u,v in G.edges():\n",
    "        if x[u,v].x > 0.01 and x[u,v].x < 0.9:\n",
    "            nx.draw_networkx_edges(G, pos=pos,\n",
    "                                   edgelist=[(u,v)],\n",
    "                                   edge_color='r')\n",
    "            \n",
    "            nx.draw_networkx_edge_labels(G, pos=pos,\n",
    "                                         edge_labels={(u,v):'{:.2f}'.format(x[u,v].x)})\n",
    "        \n",
    "        if x[u,v].x > 0.9:\n",
    "            nx.draw_networkx_edges(G, pos=pos,\n",
    "                                   edgelist=[(u,v)],\n",
    "                                   edge_color='k')\n",
    "        \n",
    "    plt.axis('off')\n",
    "    plt.show()\n",
    "    \n",
    "    \n",
    "def DrawSubtour (G, x, subtour):\n",
    "\n",
    "    plt.figure(figsize=args.figsize)\n",
    "    \n",
    "    pos = {i:(G.nodes[i]['x'], G.nodes[i]['y']) for i in G.nodes()}\n",
    "\n",
    "\n",
    "    nx.draw_networkx_nodes(G, \n",
    "                           pos=pos, \n",
    "                           node_shape='o', \n",
    "                           node_size=600,\n",
    "                           node_color='white',\n",
    "                           edgecolors='black',\n",
    "                           label=[G.nodes()])\n",
    "    \n",
    "    \n",
    "    nx.draw_networkx_labels(G, pos=pos, font_color='k', font_size=8)\n",
    "    \n",
    "    \n",
    "    nx.draw_networkx_nodes(G, \n",
    "                           pos=pos, \n",
    "                           node_shape='o',\n",
    "                           nodelist=subtour,\n",
    "                           node_size=600,\n",
    "                           node_color='white',\n",
    "                           edgecolors='black',\n",
    "                           label=[G.nodes()])\n",
    "        \n",
    "    \n",
    "\n",
    "    nx.draw_networkx_labels(G, pos=pos, font_color='k', font_size=8)\n",
    "    \n",
    "    \n",
    "    subtouredges = [(u,v) for u in subtour for v in subtour if u != v and G.has_edge(u,v)]\n",
    "    \n",
    "    for u,v in subtouredges:\n",
    "        if x[u,v].x > 0.01 and x[u,v].x < 0.99:\n",
    "\n",
    "            nx.draw_networkx_edges(G, pos=pos,\n",
    "                                   edgelist=[(u,v)],\n",
    "                                   edge_color='r')\n",
    "\n",
    "            nx.draw_networkx_edge_labels(G, pos=pos, \n",
    "                                         edge_labels={(u,v):f'[{x[u,v].x:.2f}, {x[v,u].x:.2f}]'})\n",
    "\n",
    "            \n",
    "        if x[u,v].x > 0.9:\n",
    "            nx.draw_networkx_edges(G, pos=pos,\n",
    "                                   edgelist=[(u,v)],\n",
    "                                   edge_color='k')\n",
    "            \n",
    "    plt.axis('off')\n",
    "    plt.show()"
   ]
  },
  {
   "cell_type": "code",
   "execution_count": 6,
   "metadata": {},
   "outputs": [
    {
     "name": "stdout",
     "output_type": "stream",
     "text": [
      "G has 12 nodes and 132 edges\n"
     ]
    }
   ],
   "source": [
    "# Graph reading\n",
    "basename = os.path.splitext(args.filename)[0]\n",
    "G = nx.read_graphml (args.filename, node_type=int)\n",
    "print (\"G has\", G.number_of_nodes(), \"nodes and\", G.number_of_edges(), \"edges\")"
   ]
  },
  {
   "cell_type": "code",
   "execution_count": 7,
   "metadata": {},
   "outputs": [
    {
     "data": {
      "image/png": "[encoded data removed]",
      "text/plain": [
       "<Figure size 360x360 with 1 Axes>"
      ]
     },
     "metadata": {},
     "output_type": "display_data"
    }
   ],
   "source": [
    "DrawInitG(G, withedges=True)"
   ]
  },
  {
   "cell_type": "markdown",
   "metadata": {},
   "source": [
    "## ATSP\n",
    "\n",
    ">**Given**\n",
    ">A directed graph $G=(N,A)\\;$ and a cost (length, distance) $c_{ij} > 0$ for each arc in $A$\n",
    ">\n",
    ">**Find**\n",
    "> The tour (a directed cycle that touch exactly once all $n$ nodes) of minimum cost (length, distance)  \n",
    "\n",
    "\n",
    "### Formulation\n",
    "\n",
    "Decision variables:\n",
    "$$\n",
    "x_{ij} = \\begin{cases}1 \\text{ if arc $(i, j)$ is in the tour} \\\\\n",
    "0 \\text{ otherwise}\n",
    "\\end{cases}\n",
    "$$\n",
    "\n",
    "Formulation:\n",
    "$$\n",
    "\\begin{alignat}{3}\n",
    "& \\min \\sum_{(i,j) \\in A} c_{ij} x_{ij} &\\\\\n",
    "\\text{s.t.} \\;\\;\\;\\;\\;&\\\\\n",
    "\\sum_{j \\in \\delta^+(i)} x_{ij} &= 1 \\;\\; \\forall i \\in N \\;\\; \\text{(FS)}\\\\\n",
    "\\sum_{j \\in \\delta^-(i)} x_{ji} &= 1 \\;\\; \\forall i \\in N \\;\\; \\text{(RS)}\\\\\n",
    "\\sum_{(i,j) \\in A(S)} x_{ij} &\\le |S| - 1 \\;\\; \\forall S \\subset N, |S| \\ge 2 \\;\\; \\text{(SEC)}\\\\\n",
    "x & \\in \\{0,1\\}^{|A|}\n",
    "\\end{alignat}\n",
    "$$\n",
    "\n",
    "#### SEC with |S|=2\n",
    "\n",
    "$$ x_{ij} + x_{ji} \\le 1 \\;\\; \\forall (i,j) \\in A, i <j $$"
   ]
  },
  {
   "cell_type": "code",
   "execution_count": 8,
   "metadata": {},
   "outputs": [
    {
     "name": "stdout",
     "output_type": "stream",
     "text": [
      "Academic license - for non-commercial use only - expires 2021-07-30\n",
      "Using license file /opt/gurobi/gurobi.lic\n"
     ]
    }
   ],
   "source": [
    "root = 1\n",
    "atsp = gb.Model()\n",
    "\n",
    "x = atsp.addVars(G.edges(), \n",
    "                 obj=[G[i][j]['dist'] for i,j in G.edges()],\n",
    "                 ub=1.0, vtype=gb.GRB.CONTINUOUS, name='x')\n",
    "\n",
    "atsp.addConstrs((x.sum(i,'*') == 1 for i in G.nodes()), name='FS')\n",
    "atsp.addConstrs((x.sum('*',i) == 1 for i in G.nodes()), name='RS')\n",
    "\n",
    "atsp.addConstrs((x[i,j] + x[j,i] <= 1 for i,j in G.edges() if j > i), name='SEC2')\n",
    "\n",
    "atsp.update()\n",
    "atsp.write('atsp.lp')"
   ]
  },
  {
   "cell_type": "code",
   "execution_count": 12,
   "metadata": {},
   "outputs": [
    {
     "data": {
      "text/plain": [
       "<gurobi.Var x[1,12]>"
      ]
     },
     "execution_count": 12,
     "metadata": {},
     "output_type": "execute_result"
    }
   ],
   "source": [
    "x[1,12]"
   ]
  },
  {
   "cell_type": "markdown",
   "metadata": {},
   "source": [
    "## Subtour Elimination Constraints: separation\n",
    "\n",
    "The presence of the (FS) and (RS) constraints allows to rewrite the SECs in the following form (connectivity constraints)\n",
    "\n",
    "$$ \\sum_{i \\in S, j \\in \\bar S} x_{ij} \\ge 1 \\;\\; \\forall S, 2 \\le |S| \\le |N|-1 $$"
   ]
  },
  {
   "cell_type": "code",
   "execution_count": 9,
   "metadata": {},
   "outputs": [],
   "source": [
    "def subtourseparation (G, x):\n",
    "   \n",
    "    for i,j in G.edges():\n",
    "        G[i][j]['capacity'] = x[i,j].x\n",
    "        \n",
    "    for i in list(G.nodes())[1:]:\n",
    "        cut_val, cut = nx.minimum_cut(G,1,i)\n",
    "        \n",
    "        if cut_val < 0.99999:\n",
    "            print ('Found violated subtour inequality')\n",
    "            \n",
    "            if len(cut[0]) < len(cut[1]):\n",
    "                subtour = (list(cut[0]))\n",
    "            else:\n",
    "                subtour = (list(cut[1]))\n",
    "            print (subtour)\n",
    "            return subtour\n",
    "        \n",
    "    return None"
   ]
  },
  {
   "cell_type": "markdown",
   "metadata": {},
   "source": [
    "## Cutting plane algorithm"
   ]
  },
  {
   "cell_type": "code",
   "execution_count": 10,
   "metadata": {},
   "outputs": [
    {
     "ename": "AttributeError",
     "evalue": "Unable to retrieve attribute 'x'",
     "output_type": "error",
     "traceback": [
      "\u001b[0;31m---------------------------------------------------------------------------\u001b[0m",
      "\u001b[0;31mAttributeError\u001b[0m                            Traceback (most recent call last)",
      "\u001b[0;32m<ipython-input-10-80c31b21f361>\u001b[0m in \u001b[0;36m<module>\u001b[0;34m\u001b[0m\n\u001b[1;32m      6\u001b[0m \u001b[0;32mwhile\u001b[0m \u001b[0mcuttingplane\u001b[0m \u001b[0;34m==\u001b[0m \u001b[0;32mTrue\u001b[0m\u001b[0;34m:\u001b[0m\u001b[0;34m\u001b[0m\u001b[0;34m\u001b[0m\u001b[0m\n\u001b[1;32m      7\u001b[0m \u001b[0;34m\u001b[0m\u001b[0m\n\u001b[0;32m----> 8\u001b[0;31m     \u001b[0msubtour\u001b[0m \u001b[0;34m=\u001b[0m \u001b[0msubtourseparation\u001b[0m\u001b[0;34m(\u001b[0m\u001b[0mG\u001b[0m\u001b[0;34m,\u001b[0m\u001b[0mx\u001b[0m\u001b[0;34m)\u001b[0m\u001b[0;34m\u001b[0m\u001b[0;34m\u001b[0m\u001b[0m\n\u001b[0m\u001b[1;32m      9\u001b[0m \u001b[0;34m\u001b[0m\u001b[0m\n\u001b[1;32m     10\u001b[0m     \u001b[0;32mif\u001b[0m \u001b[0msubtour\u001b[0m \u001b[0;34m:\u001b[0m\u001b[0;34m\u001b[0m\u001b[0;34m\u001b[0m\u001b[0m\n",
      "\u001b[0;32m<ipython-input-9-97c4aa6b8cd5>\u001b[0m in \u001b[0;36msubtourseparation\u001b[0;34m(G, x)\u001b[0m\n\u001b[1;32m      2\u001b[0m \u001b[0;34m\u001b[0m\u001b[0m\n\u001b[1;32m      3\u001b[0m     \u001b[0;32mfor\u001b[0m \u001b[0mi\u001b[0m\u001b[0;34m,\u001b[0m\u001b[0mj\u001b[0m \u001b[0;32min\u001b[0m \u001b[0mG\u001b[0m\u001b[0;34m.\u001b[0m\u001b[0medges\u001b[0m\u001b[0;34m(\u001b[0m\u001b[0;34m)\u001b[0m\u001b[0;34m:\u001b[0m\u001b[0;34m\u001b[0m\u001b[0;34m\u001b[0m\u001b[0m\n\u001b[0;32m----> 4\u001b[0;31m         \u001b[0mG\u001b[0m\u001b[0;34m[\u001b[0m\u001b[0mi\u001b[0m\u001b[0;34m]\u001b[0m\u001b[0;34m[\u001b[0m\u001b[0mj\u001b[0m\u001b[0;34m]\u001b[0m\u001b[0;34m[\u001b[0m\u001b[0;34m'capacity'\u001b[0m\u001b[0;34m]\u001b[0m \u001b[0;34m=\u001b[0m \u001b[0mx\u001b[0m\u001b[0;34m[\u001b[0m\u001b[0mi\u001b[0m\u001b[0;34m,\u001b[0m\u001b[0mj\u001b[0m\u001b[0;34m]\u001b[0m\u001b[0;34m.\u001b[0m\u001b[0mx\u001b[0m\u001b[0;34m\u001b[0m\u001b[0;34m\u001b[0m\u001b[0m\n\u001b[0m\u001b[1;32m      5\u001b[0m \u001b[0;34m\u001b[0m\u001b[0m\n\u001b[1;32m      6\u001b[0m     \u001b[0;32mfor\u001b[0m \u001b[0mi\u001b[0m \u001b[0;32min\u001b[0m \u001b[0mlist\u001b[0m\u001b[0;34m(\u001b[0m\u001b[0mG\u001b[0m\u001b[0;34m.\u001b[0m\u001b[0mnodes\u001b[0m\u001b[0;34m(\u001b[0m\u001b[0;34m)\u001b[0m\u001b[0;34m)\u001b[0m\u001b[0;34m[\u001b[0m\u001b[0;36m1\u001b[0m\u001b[0;34m:\u001b[0m\u001b[0;34m]\u001b[0m\u001b[0;34m:\u001b[0m\u001b[0;34m\u001b[0m\u001b[0;34m\u001b[0m\u001b[0m\n",
      "\u001b[0;32msrc/gurobipy/var.pxi\u001b[0m in \u001b[0;36mgurobipy.Var.__getattr__\u001b[0;34m()\u001b[0m\n",
      "\u001b[0;32msrc/gurobipy/var.pxi\u001b[0m in \u001b[0;36mgurobipy.Var.getAttr\u001b[0;34m()\u001b[0m\n",
      "\u001b[0;32msrc/gurobipy/attrutil.pxi\u001b[0m in \u001b[0;36mgurobipy.__getattr\u001b[0;34m()\u001b[0m\n",
      "\u001b[0;31mAttributeError\u001b[0m: Unable to retrieve attribute 'x'"
     ]
    }
   ],
   "source": [
    "cuttingplane = True\n",
    "\n",
    "count = 1\n",
    "found = False\n",
    "\n",
    "while cuttingplane == True:\n",
    "    \n",
    "    subtour = subtourseparation(G,x)\n",
    "    \n",
    "    if subtour :\n",
    "        name = \"Subtour_\" + str(count)\n",
    "        \n",
    "        subtouredges = [(u,v) for u in subtour for v in subtour if u != v and G.has_edge(u,v)]\n",
    "        \n",
    "        DrawSubtour(G, x, subtour)\n",
    "        \n",
    "        atsp.addConstr (gb.quicksum(x[i,j] for i,j in subtouredges) <= len(subtour) - 1, name)\n",
    "        atsp.write('atsp.lp')\n",
    "        atsp.optimize()\n",
    "        \n",
    "        DrawSol(G, x) \n",
    "        \n",
    "        count += 1\n",
    "        cuttingplane = True\n",
    "    else:\n",
    "        cuttingplane = False"
   ]
  },
  {
   "cell_type": "markdown",
   "metadata": {},
   "source": [
    "## Branch-and-cut"
   ]
  },
  {
   "cell_type": "code",
   "execution_count": null,
   "metadata": {},
   "outputs": [],
   "source": [
    "atsp_sec = gb.Model()\n",
    "\n",
    "x = atsp_sec.addVars(G.edges(), \n",
    "                     obj=[G[i][j]['dist'] for i,j in G.edges()],\n",
    "                     ub=1.0, vtype=gb.GRB.CONTINUOUS, name='x')\n",
    "\n",
    "atsp_sec.addConstrs((x.sum(i,'*') == 1 for i in G.nodes()), name='FS')\n",
    "atsp_sec.addConstrs((x.sum('*',i) == 1 for i in G.nodes()), name='RS')\n",
    "\n",
    "atsp_sec.addConstrs((x[i,j] + x[j,i] <= 1 for i,j in G.edges() if j > i), name='SEC2')\n",
    "\n",
    "atsp_sec.update()\n",
    "atsp_sec.write('atsp.lp')"
   ]
  },
  {
   "cell_type": "code",
   "execution_count": null,
   "metadata": {},
   "outputs": [],
   "source": [
    "atsp_sec._graph = G\n",
    "atsp_sec._vars = x"
   ]
  },
  {
   "cell_type": "code",
   "execution_count": null,
   "metadata": {},
   "outputs": [],
   "source": [
    "def SEC_lazy_callback (model, where):\n",
    "    if where == gb.GRB.Callback.MIPSOL:\n",
    "        \n",
    "        x = model._vars\n",
    "        xrel = model.cbGetSolution(x)\n",
    "        G = model._graph\n",
    "                \n",
    "        for i,j in G.edges():\n",
    "            G[i][j]['capacity'] = xrel[i,j]\n",
    "        \n",
    "        for i in list(G.nodes())[1:]:\n",
    "            cut_val, cut = nx.minimum_cut(G,1,i)\n",
    "        \n",
    "            if cut_val < 0.99999:\n",
    "                if len(cut[0]) < len(cut[1]):\n",
    "                    subtour = (list(cut[0]))\n",
    "                else:\n",
    "                    subtour = (list(cut[1]))\n",
    "        \n",
    "                subtouredges = [(u,v) for u in subtour for v in subtour if u != v and G.has_edge(u,v)]\n",
    "                \n",
    "                model.cbLazy(gb.quicksum(x[i,j] for i,j in subtouredges) <= len(subtour) - 1)\n",
    "                break"
   ]
  },
  {
   "cell_type": "code",
   "execution_count": null,
   "metadata": {},
   "outputs": [],
   "source": [
    "atsp_sec.reset()\n",
    "atsp_sec.Params.lazyConstraints = 1\n",
    "atsp_sec.optimize(SEC_lazy_callback)"
   ]
  },
  {
   "cell_type": "code",
   "execution_count": null,
   "metadata": {},
   "outputs": [],
   "source": [
    "DrawSol(G,x)"
   ]
  },
  {
   "cell_type": "markdown",
   "metadata": {},
   "source": [
    "## ATSP compact formulation\n",
    "### Miller-Tucker-Zemlin formulation\n",
    "$$\n",
    "\\begin{alignat}{3}\n",
    "& \\min \\sum_{(i,j) \\in A} x_{ij} &\\\\\n",
    "\\text{s.t.} \\;\\;\\;\\;\\;&\\\\\n",
    "\\sum_{j \\in \\delta^+(i)} x_{ij} &= 1 \\;\\; \\forall i \\in N \\;\\; \\text{(FS)}\\\\\n",
    "\\sum_{j \\in \\delta^-(i)} x_{ji} &= 1 \\;\\; \\forall i \\in N \\;\\; \\text{(RS)}\\\\\n",
    "u_i - u_j + 1 & \\le (n-1)(1-x_{ij}) \\;\\; \\forall (i,j) \\in A, i\\not=1,j\\not=1 \\;\\; \\text{(MTZ)}\\\\\n",
    "x & \\in \\{0,1\\}^{|A|}\\\\\n",
    "u_1 &= 1\\\\\n",
    "2 &\\le u_i \\le n \\;\\; \\forall i \\in N, i \\not = \\{1\\}\n",
    "\\end{alignat}\n",
    "$$\n",
    "\n",
    "### Miller-Tucker-Zemlin lifted formulation (Desrochers-Laporte)\n",
    "$$\n",
    "\\begin{alignat}{3}\n",
    "& \\min \\sum_{(i,j) \\in A} x_{ij} &\\\\\n",
    "\\text{s.t.} \\;\\;\\;\\;\\;&\\\\\n",
    "\\sum_{j \\in \\delta^+(i)} x_{ij} &= 1 \\;\\; \\forall i \\in N \\;\\; \\text{(FS)}\\\\\n",
    "\\sum_{j \\in \\delta^-(i)} x_{ji} &= 1 \\;\\; \\forall i \\in N \\;\\; \\text{(RS)}\\\\\n",
    "u_i - u_j + (n-1)x_{ij} + (n-3)x_{ji} &\\le n-2 \\;\\; \\forall (i,j) \\in A, i\\not=1,j\\not=1 \\;\\; \\text{(MTZ)}\\\\\n",
    "x & \\in \\{0,1\\}^{|A|}\\\\\n",
    "u_1 &= 1\\\\\n",
    "2 &\\le u_i \\le n \\;\\; \\forall i \\in N, i \\not = \\{1\\}\n",
    "\\end{alignat}\n",
    "$$\n"
   ]
  },
  {
   "cell_type": "code",
   "execution_count": null,
   "metadata": {},
   "outputs": [],
   "source": [
    "atsp_mtz = gb.Model()\n",
    "\n",
    "x = atsp_mtz.addVars(G.edges(),\n",
    "                     obj=[G[i][j]['dist'] for i,j in G.edges()],\n",
    "                     vtype=gb.GRB.BINARY, name='x')\n",
    "\n",
    "u = atsp_mtz.addVars(G.nodes(), \n",
    "                     obj=[0.0 for i in G.nodes()],\n",
    "                     lb=2.0, ub=G.number_of_nodes(), \n",
    "                     vtype=gb.GRB.CONTINUOUS,\n",
    "                     name='u')\n",
    "\n",
    "atsp_mtz.addConstrs((x.sum(i,'*') == 1 for i in G.nodes()), name='FS')\n",
    "atsp_mtz.addConstrs((x.sum('*',i) == 1 for i in G.nodes()), name='RS')\n",
    "\n",
    "# Fixing root node\n",
    "u[root].lb = 1.0\n",
    "u[root].ub = 1.0\n",
    "\n",
    "\n",
    "atsp_mtz.addConstrs((u[i] - u[j] + (G.number_of_nodes() - 1) * x[i,j] + (G.number_of_nodes() - 3) * x[j,i] <= (G.number_of_nodes() - 2)\n",
    "                   for i in G.nodes() for j in G.nodes()\n",
    "                   if (i != j) and (i != root) and (j !=root) and G.has_edge(i,j) and G.has_edge(j,i)), name='MTZ')\n",
    "\n",
    "atsp_mtz.update()\n",
    "atsp_mtz.write('atsp_mtz.lp')"
   ]
  },
  {
   "cell_type": "markdown",
   "metadata": {},
   "source": [
    "## Mixed Formulation"
   ]
  },
  {
   "cell_type": "code",
   "execution_count": null,
   "metadata": {},
   "outputs": [],
   "source": [
    "atsp_mtz = gb.Model()\n",
    "\n",
    "x = atsp_mtz.addVars(G.edges(),\n",
    "                     obj=[G[i][j]['dist'] for i,j in G.edges()],\n",
    "                     vtype=gb.GRB.BINARY, name='x')\n",
    "\n",
    "u = atsp_mtz.addVars(G.nodes(), \n",
    "                     obj=[0.0 for i in G.nodes()],\n",
    "                     lb=2.0, ub=G.number_of_nodes(), \n",
    "                     vtype=gb.GRB.CONTINUOUS, name='u')\n",
    "\n",
    "atsp_mtz.addConstrs((x.sum(i,'*') == 1 for i in G.nodes()), name='FS')\n",
    "atsp_mtz.addConstrs((x.sum('*',i) == 1 for i in G.nodes()), name='RS')\n",
    "atsp_mtz.addConstrs((x[i,j] + x[j,i] <= 1 for i,j in G.edges() if j > i), name='SEC2')\n",
    "\n",
    "u[root].lb = 1.0\n",
    "u[root].ub = 1.0\n",
    "\n",
    "atsp_mtz.addConstrs((u[i] - u[j] + (G.number_of_nodes() - 1) * x[i,j] + (G.number_of_nodes() - 3) * x[j,i] <= (G.number_of_nodes() - 2)\n",
    "                   for i in G.nodes() for j in G.nodes()\n",
    "                   if (i != j) and (i != 1) and (j !=1 ) and G.has_edge(i,j) and G.has_edge(j,i)), name='MTZ')\n",
    "atsp_mtz.update()\n",
    "atsp_mtz.write('atsp_mtz.lp')\n",
    "\n",
    "atsp_mtz._vars = x\n",
    "atsp_mtz._graph = G"
   ]
  },
  {
   "cell_type": "code",
   "execution_count": null,
   "metadata": {},
   "outputs": [],
   "source": [
    "The lazy cut callback will be transformed into a cut callback"
   ]
  },
  {
   "cell_type": "code",
   "execution_count": null,
   "metadata": {},
   "outputs": [],
   "source": [
    "def SEC_cut_callback (model, where):\n",
    "    if where == gb.GRB.Callback.MIPNODE:\n",
    "        \n",
    "        status = model.cbGet(gb.GRB.Callback.MIPNODE_STATUS)\n",
    "        count = model.cbGet(gb.GRB.Callback.MIPNODE_NODCNT)\n",
    "        \n",
    "        if status == gb.GRB.OPTIMAL and count < 10:\n",
    "            x = model._vars\n",
    "            xrel = model.cbGetNodeRel(x) \n",
    "            G = model._graph\n",
    "\n",
    "            for i,j in G.edges():\n",
    "                G[i][j]['capacity'] = xrel[i,j]\n",
    "\n",
    "            for i in list(G.nodes())[1:]:\n",
    "                cut_val, cut = nx.minimum_cut(G,1,i)\n",
    "\n",
    "                if cut_val < 0.99999:\n",
    "                    if len(cut[0]) < len(cut[1]):\n",
    "                        subtour = (list(cut[0]))\n",
    "                    else:\n",
    "                        subtour = (list(cut[1]))\n",
    "\n",
    "                    subtouredges = [(u,v) for u in subtour for v in subtour if u != v and G.has_edge(u,v)]\n",
    "\n",
    "                    model.cbCut(gb.quicksum(x[i,j] for i,j in subtouredges) <= len(subtour) - 1)\n",
    "\n",
    "                    break"
   ]
  },
  {
   "cell_type": "code",
   "execution_count": null,
   "metadata": {},
   "outputs": [],
   "source": [
    "atsp_mtz.reset()\n",
    "atsp_mtz.Params.PreCrush = 1\n",
    "atsp_sec.Params.lazyConstraints = 0\n",
    "atsp_mtz.optimize(SEC_cut_callback)"
   ]
  },
  {
   "cell_type": "code",
   "execution_count": null,
   "metadata": {},
   "outputs": [],
   "source": [
    "DrawSol(G,x)"
   ]
  }
 ],
 "metadata": {
  "anaconda-cloud": {},
  "kernelspec": {
   "display_name": "Python 3",
   "language": "python",
   "name": "python3"
  },
  "language_info": {
   "codemirror_mode": {
    "name": "ipython",
    "version": 3
   },
   "file_extension": ".py",
   "mimetype": "text/x-python",
   "name": "python",
   "nbconvert_exporter": "python",
   "pygments_lexer": "ipython3",
   "version": "3.9.5"
  }
 },
 "nbformat": 4,
 "nbformat_minor": 1
}
