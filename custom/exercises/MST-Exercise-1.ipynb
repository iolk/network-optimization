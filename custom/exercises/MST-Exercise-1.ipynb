{
 "cells": [
  {
   "cell_type": "markdown",
   "metadata": {},
   "source": [
    "#  Minimum Spanning Tree Problem \n",
    "## Multicommodity flow formulation\n"
   ]
  },
  {
   "cell_type": "code",
   "execution_count": 1,
   "metadata": {},
   "outputs": [],
   "source": [
    "import networkx as nx\n",
    "import gurobipy as gb\n",
    "from itertools import combinations, chain\n",
    "import pygraphviz as pygv\n",
    "import os\n",
    "from IPython.display import SVG, display\n",
    "import matplotlib.pyplot as plt\n"
   ]
  },
  {
   "cell_type": "code",
   "execution_count": 15,
   "metadata": {},
   "outputs": [],
   "source": [
    "class args:\n",
    "    filename = None\n",
    "    scale = 50\n",
    "    figsize = (10,10)\n",
    "    \n",
    "def DrawInitG(G, withedges=False):\n",
    "    \n",
    "    plt.figure(figsize=args.figsize)\n",
    "    \n",
    "    pos = {i:(G.nodes[i]['x'], G.nodes[i]['y']) for i in G.nodes()}\n",
    "    \n",
    "    nx.draw_networkx_nodes(G, \n",
    "                           pos=pos, \n",
    "                           node_shape='o', \n",
    "                           node_size=600,\n",
    "                           node_color='red')\n",
    "    \n",
    "    nx.draw_networkx_labels(G, pos=pos, font_color='w', font_size=12)\n",
    "    \n",
    "    if withedges:\n",
    "        nx.draw_networkx_edges(G,pos=pos, alpha=1.0)\n",
    "        labels = {(i,j):G.get_edge_data(i,j,'cost').get('cost') for i,j in G.edges()}\n",
    "        nx.draw_networkx_edge_labels(G, pos=pos, edge_labels=labels)\n",
    "    \n",
    "    plt.axis('off')\n",
    "    plt.show()\n",
    "    \n",
    "def DrawSol(G, x):\n",
    "    \n",
    "    plt.figure(figsize=args.figsize)\n",
    "    \n",
    "    pos = {i:(G.nodes[i]['x'], G.nodes[i]['y']) for i in G.nodes()}\n",
    "\n",
    "    \n",
    "    nx.draw_networkx_nodes(G, \n",
    "                           pos=pos, \n",
    "                           node_shape='o', \n",
    "                           node_size=600,\n",
    "                           node_color='red',\n",
    "                           label=[G.nodes()])\n",
    "    \n",
    "    nx.draw_networkx_labels(G, pos=pos, font_color='w', font_size=12)\n",
    "    \n",
    "    for u,v in G.edges():\n",
    "        if x[u,v].x > 0.01 and x[u,v].x < 0.9:\n",
    "            nx.draw_networkx_edges(G, pos=pos,\n",
    "                                   edgelist=[(u,v)],\n",
    "                                   edge_color='r')\n",
    "            \n",
    "            nx.draw_networkx_edge_labels(G, pos=pos,\n",
    "                                         edge_labels={(u,v):'{:.2f}'.format(x[u,v].x)})\n",
    "        \n",
    "        if x[u,v].x > 0.9:\n",
    "            nx.draw_networkx_edges(G, pos=pos,\n",
    "                                   edgelist=[(u,v)],\n",
    "                                   edge_color='k')\n",
    "        \n",
    "\n",
    "    \n",
    "    #edges_in_sol = [(u,v)  for u,v in G.edges() if x[u,v].x > 0.1]\n",
    "\n",
    "    \n",
    "    plt.axis('off')\n",
    "    plt.show()"
   ]
  },
  {
   "cell_type": "code",
   "execution_count": 16,
   "metadata": {},
   "outputs": [
    {
     "name": "stdout",
     "output_type": "stream",
     "text": [
      "G has 15 nodes and 105 edges\n"
     ]
    }
   ],
   "source": [
    "args.filename = \"network1.gml\"\n",
    "args.figsize = 10,12\n",
    "\n",
    "basename = os.path.splitext(args.filename)[0]\n",
    "G = nx.read_graphml (args.filename, node_type=int)\n",
    "\n",
    "print (\"G has\", G.number_of_nodes(), \"nodes and\", G.number_of_edges(), \"edges\")"
   ]
  },
  {
   "cell_type": "code",
   "execution_count": 17,
   "metadata": {},
   "outputs": [
    {
     "data": {
      "text/plain": [
       "NodeView((1, 2, 3, 4, 5, 6, 7, 8, 9, 10, 11, 12, 13, 14, 15))"
      ]
     },
     "execution_count": 17,
     "metadata": {},
     "output_type": "execute_result"
    }
   ],
   "source": [
    "G.nodes()"
   ]
  },
  {
   "cell_type": "code",
   "execution_count": 18,
   "metadata": {},
   "outputs": [],
   "source": [
    "G = nx.convert_node_labels_to_integers(G, first_label=0,label_attribute='old' )"
   ]
  },
  {
   "cell_type": "code",
   "execution_count": 19,
   "metadata": {},
   "outputs": [
    {
     "data": {
      "text/plain": [
       "NodeDataView({0: {'y': 22, 'x': 18, 'old': 1}, 1: {'y': 24, 'x': 5, 'old': 2}, 2: {'y': 33, 'x': 15, 'old': 3}, 3: {'y': 34, 'x': 16, 'old': 4}, 4: {'y': 37, 'x': 14, 'old': 5}, 5: {'y': 8, 'x': 17, 'old': 6}, 6: {'y': 21, 'x': 1, 'old': 7}, 7: {'y': 38, 'x': 25, 'old': 8}, 8: {'y': 24, 'x': 1, 'old': 9}, 9: {'y': 5, 'x': 1, 'old': 10}, 10: {'y': 45, 'x': 1, 'old': 11}, 11: {'y': 16, 'x': 18, 'old': 12}, 12: {'y': 47, 'x': 19, 'old': 13}, 13: {'y': 11, 'x': 12, 'old': 14}, 14: {'y': 23, 'x': 4, 'old': 15}})"
      ]
     },
     "execution_count": 19,
     "metadata": {},
     "output_type": "execute_result"
    }
   ],
   "source": [
    "G.nodes(data=True)"
   ]
  },
  {
   "cell_type": "code",
   "execution_count": 20,
   "metadata": {},
   "outputs": [],
   "source": [
    "pos = {i:(G.nodes[i]['x'] * args.scale,G.nodes[i]['y'] * args.scale) for i in G.nodes()}"
   ]
  },
  {
   "cell_type": "code",
   "execution_count": 21,
   "metadata": {},
   "outputs": [
    {
     "data": {
      "image/png": "[encoded data removed]",
      "text/plain": [
       "<Figure size 720x864 with 1 Axes>"
      ]
     },
     "metadata": {},
     "output_type": "display_data"
    }
   ],
   "source": [
    "DrawInitG(G)"
   ]
  },
  {
   "cell_type": "markdown",
   "metadata": {},
   "source": [
    "## Decision variables\n",
    "\n",
    "$$\n",
    "x_e = \\begin{cases}\n",
    "1 \\text{ if edge $e$ is in the tree} \\\\\n",
    "0 \\text { otherwise}\n",
    "\\end{cases}\n",
    "$$\n",
    "\n",
    "Associate to each edge $e$ two directed arcs $(i,j)$ and $(j,i)$ and let \n",
    "\n",
    "\n",
    "$$\n",
    "y_{ij}= \\{\\text{capacity for the flow of each commodity $k$ in arc } (i,j)\\}\n",
    "$$\n",
    "\n",
    "$$\n",
    "f^k_{ij} = \\{\\text{flow of commodity $k$ carried by the arc } (i,j)\\}\n",
    "$$\n"
   ]
  },
  {
   "cell_type": "code",
   "execution_count": 22,
   "metadata": {},
   "outputs": [],
   "source": [
    "G.nodes()\n",
    "root = 0"
   ]
  },
  {
   "cell_type": "code",
   "execution_count": 23,
   "metadata": {},
   "outputs": [],
   "source": [
    "D = G.to_directed()"
   ]
  },
  {
   "cell_type": "code",
   "execution_count": 24,
   "metadata": {},
   "outputs": [
    {
     "name": "stdout",
     "output_type": "stream",
     "text": [
      "\n",
      "--------------------------------------------\n",
      "Warning: your license will expire in 10 days\n",
      "--------------------------------------------\n",
      "\n",
      "Academic license - for non-commercial use only - expires 2021-05-15\n",
      "Using license file /Users/fabrizio/Solvers/licenses/gurobi.lic\n"
     ]
    }
   ],
   "source": [
    "mstmulti = gb.Model()"
   ]
  },
  {
   "cell_type": "code",
   "execution_count": 25,
   "metadata": {},
   "outputs": [],
   "source": [
    "x = mstmulti.addVars(G.edges(), obj=[G[u][v]['cost'] for u,v in G.edges()],\\\n",
    "                    ub = 1.0,\\\n",
    "                    vtype=gb.GRB.BINARY,\\\n",
    "                    name='x')\n"
   ]
  },
  {
   "cell_type": "code",
   "execution_count": 26,
   "metadata": {},
   "outputs": [],
   "source": [
    "y = mstmulti.addVars(D.edges(), \\\n",
    "                         ub=1.0, vtype=gb.GRB.BINARY,\\\n",
    "                         name='y')"
   ]
  },
  {
   "cell_type": "code",
   "execution_count": 27,
   "metadata": {},
   "outputs": [
    {
     "data": {
      "text/plain": [
       "[1, 2, 3, 4, 5, 6, 7, 8, 9, 10, 11, 12, 13, 14]"
      ]
     },
     "execution_count": 27,
     "metadata": {},
     "output_type": "execute_result"
    }
   ],
   "source": [
    "commodities = list(G.nodes())[1:]\n",
    "commodities"
   ]
  },
  {
   "cell_type": "code",
   "execution_count": 28,
   "metadata": {},
   "outputs": [],
   "source": [
    "f = mstmulti.addVars(D.edges(), \\\n",
    "                         commodities, \\\n",
    "                         ub=G.number_of_nodes(), \\\n",
    "                         vtype=gb.GRB.CONTINUOUS, \\\n",
    "                         name='f')"
   ]
  },
  {
   "cell_type": "code",
   "execution_count": 29,
   "metadata": {},
   "outputs": [],
   "source": [
    "mstmulti.write('multi.lp')"
   ]
  },
  {
   "cell_type": "markdown",
   "metadata": {},
   "source": [
    "\\begin{alignat}{3}\n",
    "\\min cx &&\\\\\n",
    "\\sum_{j \\in \\delta^+(0)} f^k_{0j} - \\sum_{j \\in \\delta^-(0)} f^k_{j0} = 1 &&\\;\\; \\forall k \\not = \\{0\\}\\\\\n",
    "\\sum_{j \\in \\delta^-(v)} f^k_{jv} - \\sum_{j \\in \\delta^+(v)} f^k_{vj} = 0 &&\\;\\; \\forall k \\not = \\{0\\}, \\forall v \\in V, v \\not = \\{0\\}, v \\not = k \\\\\n",
    "\\sum_{j \\in \\delta^-(k)} f^k_{jk} - \\sum_{j \\in \\delta^+(k)} f^k_{kj} = 1 && \\;\\; \\forall k \\not = \\{0\\} \\\\\n",
    "f^k_{ij} \\le y_{ij} && \\;\\; \\forall (i,j) \\text{ and } \\forall k \\not = \\{0\\}\\\\\n",
    "\\sum_{\\{i,j\\} \\in E} (y_{ij} + y_{ji}) = n-1\\\\\n",
    "y_{ij} + y_{ji} = x_e && \\\\\n",
    "f \\ge 0, \\; x_e \\in \\{0,1\\}\\; \n",
    "\\forall e \\in E, \\; \\\\y_{ij} \\in \\{0,1\\} \\; \\forall (i,j) \\in A\n",
    "\\end{alignat}"
   ]
  },
  {
   "cell_type": "code",
   "execution_count": 30,
   "metadata": {},
   "outputs": [],
   "source": [
    "# ROOT CONSTRAINTS: there is one constraint for each commodity\n",
    "\n",
    "for k in commodities:\n",
    "    name = \"Root_Com_\"+str(k)\n",
    "    mstmulti.addConstr(f.sum(root, '*', k) - \\\n",
    "                           f.sum('*',root,k) \\\n",
    "                           == 1, name)\n",
    "\n",
    "mstmulti.update()"
   ]
  },
  {
   "cell_type": "code",
   "execution_count": 31,
   "metadata": {},
   "outputs": [],
   "source": [
    "mstmulti.write('multi.lp')"
   ]
  },
  {
   "cell_type": "code",
   "execution_count": 32,
   "metadata": {},
   "outputs": [],
   "source": [
    "# BALANCE CONSTRAINTS: written for all nodes different from root and for nodes different\n",
    "# from the terminal of each commodity\n",
    "\n",
    "for v in commodities:\n",
    "    for k in commodities:\n",
    "        if (v != k):\n",
    "            name = \"Balance_\"+str(v)+\"_Com_\"+str(k)\n",
    "            mstmulti.addConstr(f.sum('*',v,k) - f.sum(v,'*',k) == 0, name)\n",
    "            \n",
    "\n",
    "mstmulti.update()\n"
   ]
  },
  {
   "cell_type": "code",
   "execution_count": 33,
   "metadata": {},
   "outputs": [],
   "source": [
    "mstmulti.write('multi.lp')"
   ]
  },
  {
   "cell_type": "code",
   "execution_count": 34,
   "metadata": {},
   "outputs": [],
   "source": [
    "# TERMINAL CONSTRAINTS: there is one constraint for each commodity\n",
    "\n",
    "for k in commodities:\n",
    "    name = \"Term_Com_\"+str(k)\n",
    "    mstmulti.addConstr(f.sum('*',k,k) - f.sum(k,'*',k) == 1, name)\n",
    "\n",
    "mstmulti.update()\n"
   ]
  },
  {
   "cell_type": "code",
   "execution_count": 35,
   "metadata": {},
   "outputs": [],
   "source": [
    "mstmulti.write('multi.lp')"
   ]
  },
  {
   "cell_type": "code",
   "execution_count": 36,
   "metadata": {},
   "outputs": [],
   "source": [
    "# VARIABLE CAPACITY constraints\n",
    "\n",
    "for k in commodities:\n",
    "    for i,j in D.edges():\n",
    "        name = \"Cap_(%d,%d)\" % (i,j) + \"_Com_\" + str(k)\n",
    "        mstmulti.addConstr (f [i,j,k] - y[i,j] <= 0, name)\n",
    "\n",
    "mstmulti.update()\n"
   ]
  },
  {
   "cell_type": "code",
   "execution_count": 37,
   "metadata": {},
   "outputs": [],
   "source": [
    "mstmulti.write('multi.lp')"
   ]
  },
  {
   "cell_type": "code",
   "execution_count": 38,
   "metadata": {},
   "outputs": [],
   "source": [
    "# CARDINALITY constraint\n",
    "\n",
    "mstmulti.addConstr(y.sum() == G.number_of_nodes() - 1, \"Cardinality\")\n",
    "\n",
    "mstmulti.update()"
   ]
  },
  {
   "cell_type": "code",
   "execution_count": 39,
   "metadata": {},
   "outputs": [],
   "source": [
    "# EQUALITY constraints\n",
    "\n",
    "for i,j in G.edges():\n",
    " \n",
    "    name = \"Equality_x_(%d,%d)\"%(i,j)\n",
    "    mstmulti.addConstr(y[i,j] + y[j,i] -  x[i,j] == 0, name)\n",
    "    \n",
    "mstmulti.update()"
   ]
  },
  {
   "cell_type": "code",
   "execution_count": 40,
   "metadata": {},
   "outputs": [],
   "source": [
    "mstmulti.write('multi.lp')"
   ]
  },
  {
   "cell_type": "code",
   "execution_count": 41,
   "metadata": {},
   "outputs": [
    {
     "name": "stdout",
     "output_type": "stream",
     "text": [
      "Gurobi Optimizer version 9.1.1 build v9.1.1rc0 (mac64)\n",
      "Thread count: 4 physical cores, 8 logical processors, using up to 8 threads\n",
      "Optimize a model with 3256 rows, 3255 columns and 12285 nonzeros\n",
      "Model fingerprint: 0x230c275c\n",
      "Variable types: 2940 continuous, 315 integer (315 binary)\n",
      "Coefficient statistics:\n",
      "  Matrix range     [1e+00, 1e+00]\n",
      "  Objective range  [1e+02, 5e+03]\n",
      "  Bounds range     [1e+00, 2e+01]\n",
      "  RHS range        [1e+00, 1e+01]\n",
      "Found heuristic solution: objective 22805.000000\n",
      "Presolve removed 0 rows and 105 columns\n",
      "Presolve time: 0.02s\n",
      "Presolved: 3256 rows, 3150 columns, 12180 nonzeros\n",
      "Variable types: 2940 continuous, 210 integer (210 binary)\n",
      "\n",
      "Root relaxation: objective 1.052000e+04, 1043 iterations, 0.02 seconds\n",
      "\n",
      "    Nodes    |    Current Node    |     Objective Bounds      |     Work\n",
      " Expl Unexpl |  Obj  Depth IntInf | Incumbent    BestBd   Gap | It/Node Time\n",
      "\n",
      "*    0     0               0    10520.000000 10520.0000  0.00%     -    0s\n",
      "\n",
      "Explored 0 nodes (1043 simplex iterations) in 0.07 seconds\n",
      "Thread count was 8 (of 8 available processors)\n",
      "\n",
      "Solution count 2: 10520 22805 \n",
      "\n",
      "Optimal solution found (tolerance 1.00e-04)\n",
      "Best objective 1.052000000000e+04, best bound 1.052000000000e+04, gap 0.0000%\n"
     ]
    }
   ],
   "source": [
    "mstmulti.optimize()"
   ]
  },
  {
   "cell_type": "code",
   "execution_count": 42,
   "metadata": {},
   "outputs": [
    {
     "name": "stdout",
     "output_type": "stream",
     "text": [
      "Optimal solution: 10520.0\n"
     ]
    },
    {
     "data": {
      "image/png": "[encoded data removed]",
      "text/plain": [
       "<Figure size 720x864 with 1 Axes>"
      ]
     },
     "metadata": {},
     "output_type": "display_data"
    }
   ],
   "source": [
    "print (\"Optimal solution:\", mstmulti.objVal)\n",
    "DrawSol(G,x)\n"
   ]
  },
  {
   "cell_type": "markdown",
   "metadata": {},
   "source": [
    "The optimal solution to Ex1. Q1 has value 10520 and the tree is depicted above"
   ]
  },
  {
   "cell_type": "code",
   "execution_count": 44,
   "metadata": {},
   "outputs": [
    {
     "data": {
      "text/plain": [
       "EdgeDataView([(3, 0), (3, 1), (3, 2), (3, 4), (3, 5), (3, 6), (3, 7), (3, 8), (3, 9), (3, 10), (3, 11), (3, 12), (3, 13), (3, 14)])"
      ]
     },
     "execution_count": 44,
     "metadata": {},
     "output_type": "execute_result"
    }
   ],
   "source": [
    "G.edges(3)"
   ]
  },
  {
   "cell_type": "code",
   "execution_count": 46,
   "metadata": {},
   "outputs": [
    {
     "data": {
      "text/plain": [
       "NodeDataView({0: {'y': 22, 'x': 18, 'old': 1}, 1: {'y': 24, 'x': 5, 'old': 2}, 2: {'y': 33, 'x': 15, 'old': 3}, 3: {'y': 34, 'x': 16, 'old': 4}, 4: {'y': 37, 'x': 14, 'old': 5}, 5: {'y': 8, 'x': 17, 'old': 6}, 6: {'y': 21, 'x': 1, 'old': 7}, 7: {'y': 38, 'x': 25, 'old': 8}, 8: {'y': 24, 'x': 1, 'old': 9}, 9: {'y': 5, 'x': 1, 'old': 10}, 10: {'y': 45, 'x': 1, 'old': 11}, 11: {'y': 16, 'x': 18, 'old': 12}, 12: {'y': 47, 'x': 19, 'old': 13}, 13: {'y': 11, 'x': 12, 'old': 14}, 14: {'y': 23, 'x': 4, 'old': 15}})"
      ]
     },
     "execution_count": 46,
     "metadata": {},
     "output_type": "execute_result"
    }
   ],
   "source": [
    "G.nodes(data=True)"
   ]
  },
  {
   "cell_type": "code",
   "execution_count": 47,
   "metadata": {},
   "outputs": [
    {
     "name": "stdout",
     "output_type": "stream",
     "text": [
      "1140\n",
      "1345\n",
      "141\n",
      "412\n",
      "2507\n",
      "1843\n",
      "1118\n",
      "1664\n",
      "3130\n",
      "1843\n",
      "1726\n",
      "1456\n",
      "2220\n",
      "1486\n"
     ]
    }
   ],
   "source": [
    "for i,j in G.edges(2):\n",
    "    print(G[i][j]['cost'])"
   ]
  },
  {
   "cell_type": "code",
   "execution_count": 48,
   "metadata": {},
   "outputs": [],
   "source": [
    "NewG = G.copy()"
   ]
  },
  {
   "cell_type": "code",
   "execution_count": 49,
   "metadata": {},
   "outputs": [
    {
     "data": {
      "text/plain": [
       "EdgeDataView([(0, 1, {'cost': 1315}), (0, 2, {'cost': 1140}), (0, 3, {'cost': 1216}), (0, 4, {'cost': 1552}), (0, 5, {'cost': 1403}), (0, 6, {'cost': 1702}), (0, 7, {'cost': 1746}), (0, 8, {'cost': 1711}), (0, 9, {'cost': 2404}), (0, 10, {'cost': 2860}), (0, 11, {'cost': 600}), (0, 12, {'cost': 2501}), (0, 13, {'cost': 1252}), (0, 14, {'cost': 1403}), (1, 2, {'cost': 1345}), (1, 3, {'cost': 1486}), (1, 4, {'cost': 1581}), (1, 5, {'cost': 2000}), (1, 6, {'cost': 500}), (1, 7, {'cost': 2441}), (1, 8, {'cost': 400}), (1, 9, {'cost': 1941}), (1, 10, {'cost': 2137}), (1, 11, {'cost': 1526}), (1, 12, {'cost': 2692}), (1, 13, {'cost': 1476}), (1, 14, {'cost': 141}), (2, 3, {'cost': 141}), (2, 4, {'cost': 412}), (2, 5, {'cost': 2507}), (2, 6, {'cost': 1843}), (2, 7, {'cost': 1118}), (2, 8, {'cost': 1664}), (2, 9, {'cost': 3130}), (2, 10, {'cost': 1843}), (2, 11, {'cost': 1726}), (2, 12, {'cost': 1456}), (2, 13, {'cost': 2220}), (2, 14, {'cost': 1486}), (3, 4, {'cost': 360}), (3, 5, {'cost': 2601}), (3, 6, {'cost': 1984}), (3, 7, {'cost': 984}), (3, 8, {'cost': 1802}), (3, 9, {'cost': 3264}), (3, 10, {'cost': 1860}), (3, 11, {'cost': 1811}), (3, 12, {'cost': 1334}), (3, 13, {'cost': 2334}), (3, 14, {'cost': 1627}), (4, 5, {'cost': 2915}), (4, 6, {'cost': 2061}), (4, 7, {'cost': 1104}), (4, 8, {'cost': 1838}), (4, 9, {'cost': 3453}), (4, 10, {'cost': 1526}), (4, 11, {'cost': 2137}), (4, 12, {'cost': 1118}), (4, 13, {'cost': 2607}), (4, 14, {'cost': 1720}), (5, 6, {'cost': 2061}), (5, 7, {'cost': 3104}), (5, 8, {'cost': 2262}), (5, 9, {'cost': 1627}), (5, 10, {'cost': 4031}), (5, 11, {'cost': 806}), (5, 12, {'cost': 3905}), (5, 13, {'cost': 583}), (5, 14, {'cost': 1984}), (6, 7, {'cost': 2941}), (6, 8, {'cost': 300}), (6, 9, {'cost': 1600}), (6, 10, {'cost': 2400}), (6, 11, {'cost': 1772}), (6, 12, {'cost': 3162}), (6, 13, {'cost': 1486}), (6, 14, {'cost': 360}), (7, 8, {'cost': 2778}), (7, 9, {'cost': 4080}), (7, 10, {'cost': 2500}), (7, 11, {'cost': 2308}), (7, 12, {'cost': 1081}), (7, 13, {'cost': 2996}), (7, 14, {'cost': 2580}), (8, 9, {'cost': 1900}), (8, 10, {'cost': 2100}), (8, 11, {'cost': 1878}), (8, 12, {'cost': 2920}), (8, 13, {'cost': 1702}), (8, 14, {'cost': 316}), (9, 10, {'cost': 4000}), (9, 11, {'cost': 2024}), (9, 12, {'cost': 4569}), (9, 13, {'cost': 1252}), (9, 14, {'cost': 1824}), (10, 11, {'cost': 3361}), (10, 12, {'cost': 1811}), (10, 13, {'cost': 3573}), (10, 14, {'cost': 2220}), (11, 12, {'cost': 3101}), (11, 13, {'cost': 781}), (11, 14, {'cost': 1565}), (12, 13, {'cost': 3667}), (12, 14, {'cost': 2830}), (13, 14, {'cost': 1442})])"
      ]
     },
     "execution_count": 49,
     "metadata": {},
     "output_type": "execute_result"
    }
   ],
   "source": [
    "NewG.edges(data=True)"
   ]
  },
  {
   "cell_type": "code",
   "execution_count": 50,
   "metadata": {},
   "outputs": [],
   "source": [
    "for i,j in NewG.edges(2):\n",
    "    NewG[i][j]['cost'] = NewG[i][j]['cost'] // 10 + 10"
   ]
  },
  {
   "cell_type": "code",
   "execution_count": 51,
   "metadata": {},
   "outputs": [
    {
     "data": {
      "text/plain": [
       "EdgeDataView([(0, 1, {'cost': 1315}), (0, 2, {'cost': 124}), (0, 3, {'cost': 1216}), (0, 4, {'cost': 1552}), (0, 5, {'cost': 1403}), (0, 6, {'cost': 1702}), (0, 7, {'cost': 1746}), (0, 8, {'cost': 1711}), (0, 9, {'cost': 2404}), (0, 10, {'cost': 2860}), (0, 11, {'cost': 600}), (0, 12, {'cost': 2501}), (0, 13, {'cost': 1252}), (0, 14, {'cost': 1403}), (1, 2, {'cost': 144}), (1, 3, {'cost': 1486}), (1, 4, {'cost': 1581}), (1, 5, {'cost': 2000}), (1, 6, {'cost': 500}), (1, 7, {'cost': 2441}), (1, 8, {'cost': 400}), (1, 9, {'cost': 1941}), (1, 10, {'cost': 2137}), (1, 11, {'cost': 1526}), (1, 12, {'cost': 2692}), (1, 13, {'cost': 1476}), (1, 14, {'cost': 141}), (2, 3, {'cost': 24}), (2, 4, {'cost': 51}), (2, 5, {'cost': 260}), (2, 6, {'cost': 194}), (2, 7, {'cost': 121}), (2, 8, {'cost': 176}), (2, 9, {'cost': 323}), (2, 10, {'cost': 194}), (2, 11, {'cost': 182}), (2, 12, {'cost': 155}), (2, 13, {'cost': 232}), (2, 14, {'cost': 158}), (3, 4, {'cost': 360}), (3, 5, {'cost': 2601}), (3, 6, {'cost': 1984}), (3, 7, {'cost': 984}), (3, 8, {'cost': 1802}), (3, 9, {'cost': 3264}), (3, 10, {'cost': 1860}), (3, 11, {'cost': 1811}), (3, 12, {'cost': 1334}), (3, 13, {'cost': 2334}), (3, 14, {'cost': 1627}), (4, 5, {'cost': 2915}), (4, 6, {'cost': 2061}), (4, 7, {'cost': 1104}), (4, 8, {'cost': 1838}), (4, 9, {'cost': 3453}), (4, 10, {'cost': 1526}), (4, 11, {'cost': 2137}), (4, 12, {'cost': 1118}), (4, 13, {'cost': 2607}), (4, 14, {'cost': 1720}), (5, 6, {'cost': 2061}), (5, 7, {'cost': 3104}), (5, 8, {'cost': 2262}), (5, 9, {'cost': 1627}), (5, 10, {'cost': 4031}), (5, 11, {'cost': 806}), (5, 12, {'cost': 3905}), (5, 13, {'cost': 583}), (5, 14, {'cost': 1984}), (6, 7, {'cost': 2941}), (6, 8, {'cost': 300}), (6, 9, {'cost': 1600}), (6, 10, {'cost': 2400}), (6, 11, {'cost': 1772}), (6, 12, {'cost': 3162}), (6, 13, {'cost': 1486}), (6, 14, {'cost': 360}), (7, 8, {'cost': 2778}), (7, 9, {'cost': 4080}), (7, 10, {'cost': 2500}), (7, 11, {'cost': 2308}), (7, 12, {'cost': 1081}), (7, 13, {'cost': 2996}), (7, 14, {'cost': 2580}), (8, 9, {'cost': 1900}), (8, 10, {'cost': 2100}), (8, 11, {'cost': 1878}), (8, 12, {'cost': 2920}), (8, 13, {'cost': 1702}), (8, 14, {'cost': 316}), (9, 10, {'cost': 4000}), (9, 11, {'cost': 2024}), (9, 12, {'cost': 4569}), (9, 13, {'cost': 1252}), (9, 14, {'cost': 1824}), (10, 11, {'cost': 3361}), (10, 12, {'cost': 1811}), (10, 13, {'cost': 3573}), (10, 14, {'cost': 2220}), (11, 12, {'cost': 3101}), (11, 13, {'cost': 781}), (11, 14, {'cost': 1565}), (12, 13, {'cost': 3667}), (12, 14, {'cost': 2830}), (13, 14, {'cost': 1442})])"
      ]
     },
     "execution_count": 51,
     "metadata": {},
     "output_type": "execute_result"
    }
   ],
   "source": [
    "NewG.edges(data=True)"
   ]
  },
  {
   "cell_type": "code",
   "execution_count": null,
   "metadata": {},
   "outputs": [],
   "source": []
  },
  {
   "cell_type": "code",
   "execution_count": 76,
   "metadata": {},
   "outputs": [],
   "source": [
    "NewG.nodes()\n",
    "root = 0"
   ]
  },
  {
   "cell_type": "code",
   "execution_count": 77,
   "metadata": {},
   "outputs": [],
   "source": [
    "D = NewG.to_directed()"
   ]
  },
  {
   "cell_type": "code",
   "execution_count": 78,
   "metadata": {},
   "outputs": [],
   "source": [
    "mstmulti = gb.Model()"
   ]
  },
  {
   "cell_type": "code",
   "execution_count": 79,
   "metadata": {},
   "outputs": [],
   "source": [
    "x = mstmulti.addVars(NewG.edges(), obj=[NewG[u][v]['cost'] for u,v in NewG.edges()],\\\n",
    "                    ub = 1.0,\\\n",
    "                    vtype=gb.GRB.BINARY,\\\n",
    "                    name='x')\n"
   ]
  },
  {
   "cell_type": "code",
   "execution_count": 80,
   "metadata": {},
   "outputs": [],
   "source": [
    "y = mstmulti.addVars(D.edges(), \\\n",
    "                         ub=1.0, vtype=gb.GRB.BINARY,\\\n",
    "                         name='y')"
   ]
  },
  {
   "cell_type": "code",
   "execution_count": 81,
   "metadata": {},
   "outputs": [
    {
     "data": {
      "text/plain": [
       "[1, 2, 3, 4, 5, 6, 7, 8, 9, 10, 11, 12, 13, 14]"
      ]
     },
     "execution_count": 81,
     "metadata": {},
     "output_type": "execute_result"
    }
   ],
   "source": [
    "commodities = list(NewG.nodes())[1:]\n",
    "commodities"
   ]
  },
  {
   "cell_type": "code",
   "execution_count": 82,
   "metadata": {},
   "outputs": [],
   "source": [
    "f = mstmulti.addVars(D.edges(), \\\n",
    "                         commodities, \\\n",
    "                         ub=NewG.number_of_nodes(), \\\n",
    "                         vtype=gb.GRB.CONTINUOUS, \\\n",
    "                         name='f')"
   ]
  },
  {
   "cell_type": "code",
   "execution_count": 83,
   "metadata": {},
   "outputs": [],
   "source": [
    "mstmulti.write('multi.lp')"
   ]
  },
  {
   "cell_type": "markdown",
   "metadata": {},
   "source": [
    "\\begin{alignat}{3}\n",
    "\\min cx &&\\\\\n",
    "\\sum_{j \\in \\delta^+(0)} f^k_{0j} - \\sum_{j \\in \\delta^-(0)} f^k_{j0} = 1 &&\\;\\; \\forall k \\not = \\{0\\}\\\\\n",
    "\\sum_{j \\in \\delta^-(v)} f^k_{jv} - \\sum_{j \\in \\delta^+(v)} f^k_{vj} = 0 &&\\;\\; \\forall k \\not = \\{0\\}, \\forall v \\in V, v \\not = \\{0\\}, v \\not = k \\\\\n",
    "\\sum_{j \\in \\delta^-(k)} f^k_{jk} - \\sum_{j \\in \\delta^+(k)} f^k_{kj} = 1 && \\;\\; \\forall k \\not = \\{0\\} \\\\\n",
    "f^k_{ij} \\le y_{ij} && \\;\\; \\forall (i,j) \\text{ and } \\forall k \\not = \\{0\\}\\\\\n",
    "\\sum_{\\{i,j\\} \\in E} (y_{ij} + y_{ji}) = n-1\\\\\n",
    "y_{ij} + y_{ji} = x_e && \\\\\n",
    "f \\ge 0, \\; x_e \\in \\{0,1\\}\\; \n",
    "\\forall e \\in E, \\; \\\\y_{ij} \\in \\{0,1\\} \\; \\forall (i,j) \\in A\n",
    "\\end{alignat}"
   ]
  },
  {
   "cell_type": "code",
   "execution_count": 84,
   "metadata": {},
   "outputs": [],
   "source": [
    "# ROOT CONSTRAINTS: there is one constraint for each commodity\n",
    "\n",
    "for k in commodities:\n",
    "    name = \"Root_Com_\"+str(k)\n",
    "    mstmulti.addConstr(f.sum(root, '*', k) - \\\n",
    "                           f.sum('*',root,k) \\\n",
    "                           == 1, name)\n",
    "\n",
    "mstmulti.update()"
   ]
  },
  {
   "cell_type": "code",
   "execution_count": 85,
   "metadata": {},
   "outputs": [],
   "source": [
    "mstmulti.write('multi.lp')"
   ]
  },
  {
   "cell_type": "code",
   "execution_count": 86,
   "metadata": {},
   "outputs": [],
   "source": [
    "# BALANCE CONSTRAINTS: written for all nodes different from root and for nodes different\n",
    "# from the terminal of each commodity\n",
    "\n",
    "for v in commodities:\n",
    "    for k in commodities:\n",
    "        if (v != k):\n",
    "            name = \"Balance_\"+str(v)+\"_Com_\"+str(k)\n",
    "            mstmulti.addConstr(f.sum('*',v,k) - f.sum(v,'*',k) == 0, name)\n",
    "            \n",
    "\n",
    "mstmulti.update()\n"
   ]
  },
  {
   "cell_type": "code",
   "execution_count": 87,
   "metadata": {},
   "outputs": [],
   "source": [
    "mstmulti.write('multi.lp')"
   ]
  },
  {
   "cell_type": "code",
   "execution_count": 88,
   "metadata": {},
   "outputs": [],
   "source": [
    "# TERMINAL CONSTRAINTS: there is one constraint for each commodity\n",
    "\n",
    "for k in commodities:\n",
    "    name = \"Term_Com_\"+str(k)\n",
    "    mstmulti.addConstr(f.sum('*',k,k) - f.sum(k,'*',k) == 1, name)\n",
    "\n",
    "mstmulti.update()\n"
   ]
  },
  {
   "cell_type": "code",
   "execution_count": 89,
   "metadata": {},
   "outputs": [],
   "source": [
    "mstmulti.write('multi.lp')"
   ]
  },
  {
   "cell_type": "code",
   "execution_count": 90,
   "metadata": {},
   "outputs": [],
   "source": [
    "# VARIABLE CAPACITY constraints\n",
    "\n",
    "for k in commodities:\n",
    "    for i,j in D.edges():\n",
    "        name = \"Cap_(%d,%d)\" % (i,j) + \"_Com_\" + str(k)\n",
    "        mstmulti.addConstr (f [i,j,k] - y[i,j] <= 0, name)\n",
    "\n",
    "mstmulti.update()\n"
   ]
  },
  {
   "cell_type": "code",
   "execution_count": 91,
   "metadata": {},
   "outputs": [],
   "source": [
    "mstmulti.write('multi.lp')"
   ]
  },
  {
   "cell_type": "code",
   "execution_count": 92,
   "metadata": {},
   "outputs": [],
   "source": [
    "# CARDINALITY constraint\n",
    "\n",
    "mstmulti.addConstr(y.sum() == NewG.number_of_nodes() - 1, \"Cardinality\")\n",
    "\n",
    "mstmulti.update()"
   ]
  },
  {
   "cell_type": "code",
   "execution_count": 93,
   "metadata": {},
   "outputs": [],
   "source": [
    "# EQUALITY constraints\n",
    "\n",
    "for i,j in NewG.edges():\n",
    " \n",
    "    name = \"Equality_x_(%d,%d)\"%(i,j)\n",
    "    mstmulti.addConstr(y[i,j] + y[j,i] -  x[i,j] == 0, name)\n",
    "    \n",
    "mstmulti.update()"
   ]
  },
  {
   "cell_type": "code",
   "execution_count": 94,
   "metadata": {},
   "outputs": [],
   "source": [
    "mstmulti.write('multi.lp')"
   ]
  },
  {
   "cell_type": "code",
   "execution_count": 95,
   "metadata": {},
   "outputs": [
    {
     "name": "stdout",
     "output_type": "stream",
     "text": [
      "Gurobi Optimizer version 9.1.1 build v9.1.1rc0 (mac64)\n",
      "Thread count: 4 physical cores, 8 logical processors, using up to 8 threads\n",
      "Optimize a model with 3256 rows, 3255 columns and 12285 nonzeros\n",
      "Model fingerprint: 0x806a0f2a\n",
      "Variable types: 2940 continuous, 315 integer (315 binary)\n",
      "Coefficient statistics:\n",
      "  Matrix range     [1e+00, 1e+00]\n",
      "  Objective range  [2e+01, 5e+03]\n",
      "  Bounds range     [1e+00, 2e+01]\n",
      "  RHS range        [1e+00, 1e+01]\n",
      "Found heuristic solution: objective 21789.000000\n",
      "Presolve removed 0 rows and 105 columns\n",
      "Presolve time: 0.01s\n",
      "Presolved: 3256 rows, 3150 columns, 12180 nonzeros\n",
      "Variable types: 2940 continuous, 210 integer (210 binary)\n",
      "\n",
      "Root relaxation: objective 2.321000e+03, 270 iterations, 0.01 seconds\n",
      "\n",
      "    Nodes    |    Current Node    |     Objective Bounds      |     Work\n",
      " Expl Unexpl |  Obj  Depth IntInf | Incumbent    BestBd   Gap | It/Node Time\n",
      "\n",
      "*    0     0               0    2321.0000000 2321.00000  0.00%     -    0s\n",
      "\n",
      "Explored 0 nodes (270 simplex iterations) in 0.05 seconds\n",
      "Thread count was 8 (of 8 available processors)\n",
      "\n",
      "Solution count 2: 2321 21789 \n",
      "\n",
      "Optimal solution found (tolerance 1.00e-04)\n",
      "Best objective 2.321000000000e+03, best bound 2.321000000000e+03, gap 0.0000%\n"
     ]
    }
   ],
   "source": [
    "mstmulti.optimize()"
   ]
  },
  {
   "cell_type": "code",
   "execution_count": 96,
   "metadata": {},
   "outputs": [
    {
     "name": "stdout",
     "output_type": "stream",
     "text": [
      "Optimal solution: 2321.0\n"
     ]
    },
    {
     "data": {
      "image/png": "[encoded data removed]",
      "text/plain": [
       "<Figure size 720x864 with 1 Axes>"
      ]
     },
     "metadata": {},
     "output_type": "display_data"
    }
   ],
   "source": [
    "print (\"Optimal solution:\", mstmulti.objVal)\n",
    "DrawSol(G,x)\n"
   ]
  },
  {
   "cell_type": "code",
   "execution_count": 97,
   "metadata": {},
   "outputs": [
    {
     "data": {
      "text/plain": [
       "<gurobi.Constr *Awaiting Model Update*>"
      ]
     },
     "execution_count": 97,
     "metadata": {},
     "output_type": "execute_result"
    }
   ],
   "source": [
    "root = 2\n",
    "rootdeg = 4\n",
    "\n",
    "mstmulti.addConstr(gb.quicksum([x[u,v] if (u,v) in x else x[v,u] for u,v in NewG.edges(root)]), \\\n",
    "                  sense='<=', rhs=rootdeg, name='RootDegree')\n",
    "\n",
    "\n"
   ]
  },
  {
   "cell_type": "code",
   "execution_count": 98,
   "metadata": {},
   "outputs": [],
   "source": [
    "mstmulti.update()"
   ]
  },
  {
   "cell_type": "code",
   "execution_count": 99,
   "metadata": {},
   "outputs": [
    {
     "name": "stdout",
     "output_type": "stream",
     "text": [
      "Gurobi Optimizer version 9.1.1 build v9.1.1rc0 (mac64)\n",
      "Thread count: 4 physical cores, 8 logical processors, using up to 8 threads\n",
      "Optimize a model with 3257 rows, 3255 columns and 12299 nonzeros\n",
      "Model fingerprint: 0x8c00ffbc\n",
      "Variable types: 2940 continuous, 315 integer (315 binary)\n",
      "Coefficient statistics:\n",
      "  Matrix range     [1e+00, 1e+00]\n",
      "  Objective range  [2e+01, 5e+03]\n",
      "  Bounds range     [1e+00, 2e+01]\n",
      "  RHS range        [1e+00, 1e+01]\n",
      "\n",
      "MIP start from previous solve did not produce a new incumbent solution\n",
      "MIP start from previous solve violates constraint RootDegree by 9.000000000\n",
      "\n",
      "Found heuristic solution: objective 21789.000000\n",
      "Presolve removed 0 rows and 91 columns\n",
      "Presolve time: 0.02s\n",
      "Presolved: 3257 rows, 3164 columns, 12208 nonzeros\n",
      "Variable types: 2940 continuous, 224 integer (224 binary)\n",
      "\n",
      "Root relaxation: objective 6.884000e+03, 1017 iterations, 0.02 seconds\n",
      "\n",
      "    Nodes    |    Current Node    |     Objective Bounds      |     Work\n",
      " Expl Unexpl |  Obj  Depth IntInf | Incumbent    BestBd   Gap | It/Node Time\n",
      "\n",
      "*    0     0               0    6884.0000000 6884.00000  0.00%     -    0s\n",
      "\n",
      "Explored 0 nodes (1017 simplex iterations) in 0.07 seconds\n",
      "Thread count was 8 (of 8 available processors)\n",
      "\n",
      "Solution count 2: 6884 21789 \n",
      "\n",
      "Optimal solution found (tolerance 1.00e-04)\n",
      "Best objective 6.884000000000e+03, best bound 6.884000000000e+03, gap 0.0000%\n"
     ]
    }
   ],
   "source": [
    "mstmulti.optimize()"
   ]
  },
  {
   "cell_type": "code",
   "execution_count": 100,
   "metadata": {},
   "outputs": [
    {
     "name": "stdout",
     "output_type": "stream",
     "text": [
      "Optimal solution: 6884.0\n"
     ]
    },
    {
     "data": {
      "image/png": "[encoded data removed]",
      "text/plain": [
       "<Figure size 720x864 with 1 Axes>"
      ]
     },
     "metadata": {},
     "output_type": "display_data"
    }
   ],
   "source": [
    "print (\"Optimal solution:\", mstmulti.objVal)\n",
    "DrawSol(G,x)\n",
    "\n"
   ]
  },
  {
   "cell_type": "markdown",
   "metadata": {},
   "source": [
    "Total cost is 6884 + 100 < 10520. It is convenient to install the hub in node 3 "
   ]
  },
  {
   "cell_type": "code",
   "execution_count": null,
   "metadata": {},
   "outputs": [],
   "source": []
  }
 ],
 "metadata": {
  "anaconda-cloud": {},
  "kernelspec": {
   "display_name": "Python 3",
   "language": "python",
   "name": "python3"
  },
  "language_info": {
   "codemirror_mode": {
    "name": "ipython",
    "version": 3
   },
   "file_extension": ".py",
   "mimetype": "text/x-python",
   "name": "python",
   "nbconvert_exporter": "python",
   "pygments_lexer": "ipython3",
   "version": "3.7.10"
  }
 },
 "nbformat": 4,
 "nbformat_minor": 1
}
