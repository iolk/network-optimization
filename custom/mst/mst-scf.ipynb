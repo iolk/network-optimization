{
 "cells": [
  {
   "cell_type": "markdown",
   "metadata": {},
   "source": [
    "## Totale N.\n",
    "### Esercizio 3 punto 1\n",
    "Alessandro Lodi<br>\n",
    "Matricola 274425"
   ]
  },
  {
   "cell_type": "markdown",
   "metadata": {},
   "source": [
    "### Notebook Init"
   ]
  },
  {
   "cell_type": "code",
   "execution_count": 1,
   "metadata": {
    "collapsed": true
   },
   "outputs": [],
   "source": [
    "import networkx as nx\n",
    "import gurobipy as gb\n",
    "import matplotlib.pyplot as plt\n",
    "import pygraphviz as pygv\n",
    "import os\n",
    "from IPython.display import SVG, display\n",
    "import math\n",
    "import itertools"
   ]
  },
  {
   "cell_type": "code",
   "execution_count": 2,
   "metadata": {
    "collapsed": true
   },
   "outputs": [
    {
     "data": {
      "text/html": [
       "<style>.container { width:100% !important; }</style>"
      ],
      "text/plain": [
       "<IPython.core.display.HTML object>"
      ]
     },
     "metadata": {},
     "output_type": "display_data"
    }
   ],
   "source": [
    "from IPython.core.display import display, HTML\n",
    "display(HTML(\"<style>.container { width:100% !important; }</style>\"))"
   ]
  },
  {
   "cell_type": "code",
   "execution_count": 3,
   "metadata": {
    "collapsed": true
   },
   "outputs": [],
   "source": [
    "class args:\n",
    "    filename = \"graph.gml\"\n",
    "    scale = 40\n",
    "    figsize = 5,5"
   ]
  },
  {
   "cell_type": "code",
   "execution_count": 4,
   "metadata": {
    "collapsed": true
   },
   "outputs": [],
   "source": [
    "def powerset(iterable):\n",
    "    \"powerset([1,2,3]) --> () (1,) (2,) (3,) (1,2) (1,3) (2,3) (1,2,3)\"\n",
    "    s = list(iterable)\n",
    "    return chain.from_iterable(combinations(s, r) for r in range(len(s)+1))"
   ]
  },
  {
   "cell_type": "markdown",
   "metadata": {},
   "source": [
    "### Drawing functions"
   ]
  },
  {
   "cell_type": "code",
   "execution_count": 5,
   "metadata": {
    "collapsed": true
   },
   "outputs": [],
   "source": [
    "def DrawInitG(G, withedges=False):\n",
    "    \n",
    "    plt.figure(figsize=args.figsize)\n",
    "    \n",
    "    pos = {i:(G.nodes[i]['x'], G.nodes[i]['y']) for i in G.nodes()}\n",
    "    \n",
    "    nx.draw_networkx_nodes(G, \n",
    "                           pos=pos, \n",
    "                           node_shape='o', \n",
    "                           node_size=600,\n",
    "                           node_color='red')\n",
    "    \n",
    "    nx.draw_networkx_labels(G, pos=pos, font_color='w', font_size=12)\n",
    "    \n",
    "    if withedges:\n",
    "        nx.draw_networkx_edges(G,pos=pos, alpha=1.0)\n",
    "        labels = {(i,j):G.get_edge_data(i,j,'cost').get('cost') for i,j in G.edges()}\n",
    "        nx.draw_networkx_edge_labels(G, pos=pos, edge_labels=labels)\n",
    "    \n",
    "    plt.axis('off')\n",
    "    plt.show()\n",
    "    \n",
    "def DrawSol(G, x):\n",
    "    \n",
    "    plt.figure(figsize=args.figsize)\n",
    "    \n",
    "    pos = {i:(G.nodes[i]['x'], G.nodes[i]['y']) for i in G.nodes()}\n",
    "\n",
    "    \n",
    "    nx.draw_networkx_nodes(G, \n",
    "                           pos=pos, \n",
    "                           node_shape='o', \n",
    "                           node_size=600,\n",
    "                           node_color='red',\n",
    "                           label=[G.nodes()])\n",
    "    \n",
    "    nx.draw_networkx_labels(G, pos=pos, font_color='w', font_size=12)\n",
    "    \n",
    "    for u,v in G.edges():\n",
    "        if x[u,v].x > 0.01 and x[u,v].x < 0.9:\n",
    "            nx.draw_networkx_edges(G, pos=pos,\n",
    "                                   edgelist=[(u,v)],\n",
    "                                   edge_color='r')\n",
    "            \n",
    "            nx.draw_networkx_edge_labels(G, pos=pos,\n",
    "                                         edge_labels={(u,v):'{:.2f}'.format(x[u,v].x)})\n",
    "        \n",
    "        if x[u,v].x > 0.9:\n",
    "            nx.draw_networkx_edges(G, pos=pos,\n",
    "                                   edgelist=[(u,v)],\n",
    "                                   edge_color='k')\n",
    "        \n",
    "    plt.axis('off')\n",
    "    plt.show()\n",
    "    \n",
    "def DrawSolFlow (G,x,f):\n",
    "    \n",
    "    plt.figure(figsize=args.figsize)\n",
    "    \n",
    "    pos = {i:(G.nodes[i]['x'], G.nodes[i]['y']) for i in G.nodes()}\n",
    "    \n",
    "    nx.draw_networkx_nodes(G, \n",
    "                           pos=pos,  \n",
    "                           node_shape='o', \n",
    "                           node_size=600,\n",
    "                           node_color='r', \n",
    "                           label=[G.nodes()])\n",
    "    \n",
    "    nx.draw_networkx_nodes(G, \n",
    "                           pos=pos, \n",
    "                           nodelist = [root], \n",
    "                           node_shape='o',\n",
    "                           node_size=600,\n",
    "                           node_color='k', \n",
    "                           label=[G.nodes()])\n",
    "    \n",
    "    nx.draw_networkx_labels(G, pos=pos, font_color='w')\n",
    "    \n",
    "    for h,k in G.edges():\n",
    "        \n",
    "        flow = abs(f[h,k].x - f[k,h].x)\n",
    "        \n",
    "        \n",
    "\n",
    "        G[h][k]['capacity'] = x[h,k].x\n",
    "        if x[h,k].x > 0.00001:\n",
    "            if x[h,k].x > 0.999999:\n",
    "                nx.draw_networkx_edges(G, \n",
    "                                       pos=pos, \n",
    "                                       edgelist=[(h,k)],\n",
    "                                       edge_color='k')\n",
    "                \n",
    "                nx.draw_networkx_edge_labels(G, \n",
    "                                             pos=pos,\n",
    "                                             edge_labels={(h,k):'{:.2f}'.format(flow)})\n",
    "            else:\n",
    "                nx.draw_networkx_edges(G, \n",
    "                                       pos=pos, \n",
    "                                       edgelist=[(h,k)],\n",
    "                                       edge_color='r')\n",
    "\n",
    "    plt.axis('off')\n",
    "    plt.show()"
   ]
  },
  {
   "cell_type": "code",
   "execution_count": 6,
   "metadata": {
    "collapsed": true
   },
   "outputs": [
    {
     "name": "stdout",
     "output_type": "stream",
     "text": [
      "G has 10 nodes and 45 edges\n"
     ]
    }
   ],
   "source": [
    "# Graph reading\n",
    "basename = os.path.splitext(args.filename)[0]\n",
    "G = nx.read_graphml (args.filename, node_type=int)\n",
    "print (\"G has\", G.number_of_nodes(), \"nodes and\", G.number_of_edges(), \"edges\")"
   ]
  },
  {
   "cell_type": "code",
   "execution_count": 7,
   "metadata": {
    "collapsed": true
   },
   "outputs": [
    {
     "data": {
      "image/png": "[encoded data removed]",
      "text/plain": [
       "<Figure size 360x360 with 1 Axes>"
      ]
     },
     "metadata": {},
     "output_type": "display_data"
    }
   ],
   "source": [
    "DrawInitG(G, withedges=True)"
   ]
  },
  {
   "cell_type": "markdown",
   "metadata": {},
   "source": [
    "## Single commodity flow formulation\n",
    "\n",
    "$$\n",
    "x_e = \\begin{cases}\n",
    "1 \\text{ if edge $e$ is in the tree} \\\\\n",
    "0 \\text { otherwise}\n",
    "\\end{cases}\n",
    "$$\n",
    "\n",
    "Associate to each edge $e$ two directed arcs $(i,j)$ and $(j,i)$ and let \n",
    "\n",
    "$$\n",
    "f_{ij} = \\{\\text{flow carried by the arc} (i,j)\\}\n",
    "$$\n",
    "\n",
    "\\begin{alignat}{3}\n",
    "\\min cx &&\\\\\n",
    "\\sum_{e \\in E} x_e = n - 1 && \\\\\n",
    "\\sum_{j \\in \\delta^+(0)} f_{0j} - \\sum_{j \\in \\delta^-(0)} f_{j0} = n - 1 &&\\\\\n",
    "\\sum_{j \\in \\delta^-(v)} f_{jv} - \\sum_{j \\in \\delta^+(v)} f_{vj} = 1 &&\\;\\; \\forall v \\in V, v \\not = \\{0\\} \\\\\n",
    "f_{ij} \\le (n-1)x_e &&\\;\\; \\forall e \\in E, e=\\{i,j\\}\\\\\n",
    "f_{ji} \\le (n-1)x_e &&\\;\\; \\forall e \\in E, e=\\{i,j\\}\\\\\n",
    "f \\ge 0, \\; x_e \\in \\{0,1\\}\n",
    "\\end{alignat}"
   ]
  },
  {
   "cell_type": "code",
   "execution_count": 8,
   "metadata": {
    "collapsed": true
   },
   "outputs": [],
   "source": [
    "G = nx.convert_node_labels_to_integers(G, first_label=0,label_attribute='old' )"
   ]
  },
  {
   "cell_type": "code",
   "execution_count": 9,
   "metadata": {
    "collapsed": true
   },
   "outputs": [
    {
     "data": {
      "text/plain": [
       "NodeDataView({0: {'y': 33, 'x': 1, 'old': 1}, 1: {'y': 16, 'x': 26, 'old': 2}, 2: {'y': 25, 'x': 19, 'old': 3}, 3: {'y': 30, 'x': 27, 'old': 4}, 4: {'y': 17, 'x': 28, 'old': 5}, 5: {'y': 5, 'x': 23, 'old': 6}, 6: {'y': 28, 'x': 23, 'old': 7}, 7: {'y': 25, 'x': 24, 'old': 8}, 8: {'y': 39, 'x': 3, 'old': 9}, 9: {'y': 20, 'x': 11, 'old': 10}})"
      ]
     },
     "execution_count": 9,
     "metadata": {},
     "output_type": "execute_result"
    }
   ],
   "source": [
    "G.nodes(data=True)"
   ]
  },
  {
   "cell_type": "markdown",
   "metadata": {},
   "source": [
    "### Solution computed by standard algorithm"
   ]
  },
  {
   "cell_type": "code",
   "execution_count": 10,
   "metadata": {
    "collapsed": true
   },
   "outputs": [
    {
     "data": {
      "image/png": "[encoded data removed]",
      "text/plain": [
       "<Figure size 360x360 with 1 Axes>"
      ]
     },
     "metadata": {},
     "output_type": "display_data"
    }
   ],
   "source": [
    "T = nx.minimum_spanning_tree(G, weight='cost')\n",
    "\n",
    "plt.figure(figsize=args.figsize)\n",
    "\n",
    "\n",
    "pos = {i:(G.nodes[i]['x'], G.nodes[i]['y']) for i in G.nodes()}\n",
    "\n",
    "nx.draw_networkx(T, \n",
    "                 pos=pos, \n",
    "                 width=0.5, \n",
    "                 node_shape='o', \n",
    "                 node_size=600,\n",
    "                 node_color='blue')\n",
    "\n",
    "nx.draw_networkx_labels(T, pos=pos, font_color='w', font_size=12);\n",
    "\n",
    "  \n",
    "plt.axis('off')\n",
    "plt.show()"
   ]
  },
  {
   "cell_type": "markdown",
   "metadata": {},
   "source": [
    "## Solution by combinatorial algorithm"
   ]
  },
  {
   "cell_type": "code",
   "execution_count": 17,
   "metadata": {
    "collapsed": true
   },
   "outputs": [],
   "source": [
    "# Define the root node\n",
    "root = 0\n",
    "\n",
    "# Define a Directed Graph by doubling the edges of G\n",
    "D = G.to_directed()\n",
    "\n",
    "mstflow = gb.Model()\n",
    "\n",
    "x = mstflow.addVars(G.edges(), obj=[G[u][v]['cost'] for u,v in G.edges()],\n",
    "                    ub = 1.0,\n",
    "                    vtype=gb.GRB.BINARY,\n",
    "                    name='x')\n",
    "\n",
    "f = mstflow.addVars(D.edges(), ub=G.number_of_nodes(), vtype=gb.GRB.CONTINUOUS, name='f')\n",
    "\n",
    "\n",
    "# Cardinality constraint\n",
    "mstflow.addConstr(x.sum() == G.number_of_nodes() - 1, 'Cardinality')\n",
    "\n",
    "\n",
    "# Flow at root costraint\n",
    "mstflow.addConstr(f.sum(root, '*') - f.sum('*', root) == G.number_of_nodes() - 1, \\\n",
    "                  'Flow_at_root')\n",
    "\n",
    "\n",
    "# Balance constraint for each node\n",
    "for v in G.nodes():\n",
    "    if v != root:\n",
    "        name = 'Balance_' + str(v)\n",
    "        mstflow.addConstr(f.sum('*',v) - f.sum(v,'*') == 1, name=name)\n",
    "        \n",
    "        \n",
    "# Constraints on flow\n",
    "for e in G.edges():    \n",
    "    h = e[0]\n",
    "    k = e[1]\n",
    "        \n",
    "    name = \"Force_f(%d,%d)_x(%d,%d)\" % (h, k, e[0], e[1])\n",
    "    mstflow.addConstr(f[h,k] <= (G.number_of_nodes() - 1) * x[e], name=name)\n",
    "\n",
    "    name = \"Force_f(%d,%d)_x(%d,%d)\" % (k, h, e[0], e[1])\n",
    "    mstflow.addConstr(f[k,h] <= (G.number_of_nodes() - 1) * x[e], name=name)\n",
    "\n",
    "mstflow.update()\n",
    "mstflow.write('mstflow.lp')"
   ]
  },
  {
   "cell_type": "code",
   "execution_count": 12,
   "metadata": {
    "collapsed": true
   },
   "outputs": [
    {
     "name": "stdout",
     "output_type": "stream",
     "text": [
      "Gurobi Optimizer version 9.1.2 build v9.1.2rc0 (linux64)\n",
      "Thread count: 2 physical cores, 4 logical processors, using up to 4 threads\n",
      "Optimize a model with 101 rows, 135 columns and 405 nonzeros\n",
      "Model fingerprint: 0x6d097c73\n",
      "Variable types: 90 continuous, 45 integer (45 binary)\n",
      "Coefficient statistics:\n",
      "  Matrix range     [1e+00, 9e+00]\n",
      "  Objective range  [2e+02, 4e+03]\n",
      "  Bounds range     [1e+00, 1e+01]\n",
      "  RHS range        [1e+00, 9e+00]\n",
      "Found heuristic solution: objective 14550.000000\n",
      "Presolve time: 0.00s\n",
      "Presolved: 101 rows, 135 columns, 405 nonzeros\n",
      "Variable types: 90 continuous, 45 integer (45 binary)\n",
      "\n",
      "Root relaxation: objective 5.746667e+03, 57 iterations, 0.00 seconds\n",
      "\n",
      "    Nodes    |    Current Node    |     Objective Bounds      |     Work\n",
      " Expl Unexpl |  Obj  Depth IntInf | Incumbent    BestBd   Gap | It/Node Time\n",
      "\n",
      "     0     0 5746.66667    0    5 14550.0000 5746.66667  60.5%     -    0s\n",
      "H    0     0                    7002.0000000 5746.66667  17.9%     -    0s\n",
      "     0     0 6507.00000    0    2 7002.00000 6507.00000  7.07%     -    0s\n",
      "     0     0 6629.55000    0    6 7002.00000 6629.55000  5.32%     -    0s\n",
      "     0     0 6630.47368    0    7 7002.00000 6630.47368  5.31%     -    0s\n",
      "     0     0 6677.08333    0    7 7002.00000 6677.08333  4.64%     -    0s\n",
      "     0     0 6677.08333    0    5 7002.00000 6677.08333  4.64%     -    0s\n",
      "     0     0 6677.08333    0    6 7002.00000 6677.08333  4.64%     -    0s\n",
      "     0     0 6677.08333    0    7 7002.00000 6677.08333  4.64%     -    0s\n",
      "*    0     0               0    6735.0000000 6735.00000  0.00%     -    0s\n",
      "\n",
      "Cutting planes:\n",
      "  Gomory: 3\n",
      "  Cover: 2\n",
      "  MIR: 3\n",
      "  Flow cover: 9\n",
      "  Flow path: 1\n",
      "  Network: 3\n",
      "  RLT: 1\n",
      "  Relax-and-lift: 3\n",
      "\n",
      "Explored 1 nodes (169 simplex iterations) in 0.07 seconds\n",
      "Thread count was 4 (of 4 available processors)\n",
      "\n",
      "Solution count 3: 6735 7002 14550 \n",
      "\n",
      "Optimal solution found (tolerance 1.00e-04)\n",
      "Best objective 6.735000000000e+03, best bound 6.735000000000e+03, gap 0.0000%\n"
     ]
    }
   ],
   "source": [
    "mstflow.optimize()"
   ]
  },
  {
   "cell_type": "code",
   "execution_count": 13,
   "metadata": {
    "collapsed": true
   },
   "outputs": [
    {
     "data": {
      "image/png": "[encoded data removed]",
      "text/plain": [
       "<Figure size 360x360 with 1 Axes>"
      ]
     },
     "metadata": {},
     "output_type": "display_data"
    }
   ],
   "source": [
    "DrawSolFlow(G, x, f)"
   ]
  },
  {
   "cell_type": "markdown",
   "metadata": {},
   "source": [
    "## Degree constrained spanning tree"
   ]
  },
  {
   "cell_type": "markdown",
   "metadata": {},
   "source": [
    "$$ \\sum_{e \\in \\delta(0)} x_e \\le \\Delta$$ "
   ]
  },
  {
   "cell_type": "code",
   "execution_count": 14,
   "metadata": {
    "collapsed": true
   },
   "outputs": [],
   "source": [
    "# Root degree constraint\n",
    "rootdeg = 1\n",
    "mstflow.addConstr(gb.quicksum([x[e] for e in G.edges(root)]), \\\n",
    "                  sense='<=', rhs=rootdeg, name='RootDegree')\n",
    "\n",
    "mstflow.update()\n",
    "mstflow.write('mst_deg.lp')"
   ]
  },
  {
   "cell_type": "code",
   "execution_count": 15,
   "metadata": {
    "collapsed": true
   },
   "outputs": [
    {
     "name": "stdout",
     "output_type": "stream",
     "text": [
      "Gurobi Optimizer version 9.1.2 build v9.1.2rc0 (linux64)\n",
      "Thread count: 2 physical cores, 4 logical processors, using up to 4 threads\n",
      "Optimize a model with 102 rows, 135 columns and 414 nonzeros\n",
      "Model fingerprint: 0x65b0fd66\n",
      "Variable types: 90 continuous, 45 integer (45 binary)\n",
      "Coefficient statistics:\n",
      "  Matrix range     [1e+00, 9e+00]\n",
      "  Objective range  [2e+02, 4e+03]\n",
      "  Bounds range     [1e+00, 1e+01]\n",
      "  RHS range        [1e+00, 9e+00]\n",
      "\n",
      "MIP start from previous solve did not produce a new incumbent solution\n",
      "MIP start from previous solve violates constraint RootDegree by 1.000000000\n",
      "\n",
      "Found heuristic solution: objective 14550.000000\n",
      "Presolve removed 19 rows and 18 columns\n",
      "Presolve time: 0.00s\n",
      "Presolved: 83 rows, 117 columns, 342 nonzeros\n",
      "Variable types: 72 continuous, 45 integer (45 binary)\n",
      "\n",
      "Root relaxation: objective 5.953444e+03, 52 iterations, 0.00 seconds\n",
      "\n",
      "    Nodes    |    Current Node    |     Objective Bounds      |     Work\n",
      " Expl Unexpl |  Obj  Depth IntInf | Incumbent    BestBd   Gap | It/Node Time\n",
      "\n",
      "     0     0 5953.44444    0    5 14550.0000 5953.44444  59.1%     -    0s\n",
      "H    0     0                    9426.0000000 5953.44444  36.8%     -    0s\n",
      "     0     0 6383.49020    0    7 9426.00000 6383.49020  32.3%     -    0s\n",
      "H    0     0                    7636.0000000 6383.49020  16.4%     -    0s\n",
      "     0     0 6446.37500    0    7 7636.00000 6446.37500  15.6%     -    0s\n",
      "     0     0 6448.20833    0    7 7636.00000 6448.20833  15.6%     -    0s\n",
      "     0     0 6448.20833    0    7 7636.00000 6448.20833  15.6%     -    0s\n",
      "     0     0 6812.95000    0    6 7636.00000 6812.95000  10.8%     -    0s\n",
      "     0     0 6952.75000    0    6 7636.00000 6952.75000  8.95%     -    0s\n",
      "     0     0 6952.75000    0    6 7636.00000 6952.75000  8.95%     -    0s\n",
      "     0     0 7127.50000    0    4 7636.00000 7127.50000  6.66%     -    0s\n",
      "H    0     0                    7340.0000000 7127.50000  2.90%     -    0s\n",
      "*    0     0               0    7156.0000000 7156.00000  0.00%     -    0s\n",
      "\n",
      "Cutting planes:\n",
      "  MIR: 7\n",
      "  Flow cover: 10\n",
      "  Flow path: 1\n",
      "  Zero half: 1\n",
      "  Network: 1\n",
      "  Relax-and-lift: 1\n",
      "\n",
      "Explored 1 nodes (114 simplex iterations) in 0.06 seconds\n",
      "Thread count was 4 (of 4 available processors)\n",
      "\n",
      "Solution count 5: 7156 7340 7636 ... 14550\n",
      "\n",
      "Optimal solution found (tolerance 1.00e-04)\n",
      "Best objective 7.156000000000e+03, best bound 7.156000000000e+03, gap 0.0000%\n"
     ]
    }
   ],
   "source": [
    "mstflow.optimize()"
   ]
  },
  {
   "cell_type": "code",
   "execution_count": 16,
   "metadata": {
    "collapsed": true
   },
   "outputs": [
    {
     "data": {
      "image/png": "[encoded data removed]",
      "text/plain": [
       "<Figure size 360x360 with 1 Axes>"
      ]
     },
     "metadata": {},
     "output_type": "display_data"
    }
   ],
   "source": [
    "DrawSolFlow(G, x, f)"
   ]
  },
  {
   "cell_type": "markdown",
   "metadata": {},
   "source": [
    "## Capacitated spanning tree"
   ]
  },
  {
   "cell_type": "code",
   "execution_count": 18,
   "metadata": {
    "collapsed": true
   },
   "outputs": [],
   "source": [
    "# Set an upperbound at each flow\n",
    "subtreecap = 3\n",
    "for i in f:\n",
    "    f[i].ub = subtreecap\n",
    "\n",
    "mstflow.update()\n",
    "mstflow.write('mst_deg.lp')"
   ]
  },
  {
   "cell_type": "code",
   "execution_count": 19,
   "metadata": {
    "collapsed": true
   },
   "outputs": [
    {
     "name": "stdout",
     "output_type": "stream",
     "text": [
      "Gurobi Optimizer version 9.1.2 build v9.1.2rc0 (linux64)\n",
      "Thread count: 2 physical cores, 4 logical processors, using up to 4 threads\n",
      "Optimize a model with 101 rows, 135 columns and 405 nonzeros\n",
      "Model fingerprint: 0xed7927a1\n",
      "Variable types: 90 continuous, 45 integer (45 binary)\n",
      "Coefficient statistics:\n",
      "  Matrix range     [1e+00, 9e+00]\n",
      "  Objective range  [2e+02, 4e+03]\n",
      "  Bounds range     [1e+00, 3e+00]\n",
      "  RHS range        [1e+00, 9e+00]\n",
      "Presolve time: 0.00s\n",
      "Presolved: 101 rows, 135 columns, 405 nonzeros\n",
      "Variable types: 90 continuous, 45 integer (45 binary)\n",
      "Found heuristic solution: objective 21270.000000\n",
      "\n",
      "Root relaxation: objective 8.693333e+03, 69 iterations, 0.00 seconds\n",
      "\n",
      "    Nodes    |    Current Node    |     Objective Bounds      |     Work\n",
      " Expl Unexpl |  Obj  Depth IntInf | Incumbent    BestBd   Gap | It/Node Time\n",
      "\n",
      "     0     0 8693.33333    0    6 21270.0000 8693.33333  59.1%     -    0s\n",
      "H    0     0                    13510.000000 8693.33333  35.7%     -    0s\n",
      "     0     0 9249.66667    0    8 13510.0000 9249.66667  31.5%     -    0s\n",
      "H    0     0                    12655.000000 9249.66667  26.9%     -    0s\n",
      "     0     0 9609.30000    0    9 12655.0000 9609.30000  24.1%     -    0s\n",
      "     0     0 9634.87500    0   10 12655.0000 9634.87500  23.9%     -    0s\n",
      "     0     0 9658.00000    0   11 12655.0000 9658.00000  23.7%     -    0s\n",
      "     0     0 9871.41667    0   11 12655.0000 9871.41667  22.0%     -    0s\n",
      "     0     0 9875.50000    0    9 12655.0000 9875.50000  22.0%     -    0s\n",
      "     0     0 9875.50000    0    9 12655.0000 9875.50000  22.0%     -    0s\n",
      "     0     0 9935.07273    0   10 12655.0000 9935.07273  21.5%     -    0s\n",
      "     0     0 9973.62500    0   10 12655.0000 9973.62500  21.2%     -    0s\n",
      "     0     0 9973.62500    0   10 12655.0000 9973.62500  21.2%     -    0s\n",
      "     0     0 10040.2292    0   13 12655.0000 10040.2292  20.7%     -    0s\n",
      "     0     0 10048.0833    0   14 12655.0000 10048.0833  20.6%     -    0s\n",
      "     0     0 10048.0833    0   14 12655.0000 10048.0833  20.6%     -    0s\n",
      "     0     0 10172.3750    0   11 12655.0000 10172.3750  19.6%     -    0s\n",
      "     0     0 10181.5000    0    6 12655.0000 10181.5000  19.5%     -    0s\n",
      "     0     0 10181.5000    0    6 12655.0000 10181.5000  19.5%     -    0s\n",
      "     0     0 10188.2500    0    7 12655.0000 10188.2500  19.5%     -    0s\n",
      "H    0     0                    11486.000000 10188.2500  11.3%     -    0s\n",
      "     0     0 10189.8333    0   10 11486.0000 10189.8333  11.3%     -    0s\n",
      "     0     0 10192.0000    0    8 11486.0000 10192.0000  11.3%     -    0s\n",
      "     0     0 10192.9167    0   12 11486.0000 10192.9167  11.3%     -    0s\n",
      "     0     0 10192.9167    0   11 11486.0000 10192.9167  11.3%     -    0s\n",
      "     0     2 10221.3750    0   11 11486.0000 10221.3750  11.0%     -    0s\n",
      "*   17    17               7    11157.000000 10278.6389  7.87%  10.6    0s\n",
      "H   68    45                    10660.000000 10409.9833  2.35%   8.0    0s\n",
      "*  131    30               9    10620.000000 10537.8333  0.77%   8.8    0s\n",
      "*  133    30               6    10543.000000 10537.8333  0.05%   8.9    0s\n",
      "\n",
      "Cutting planes:\n",
      "  MIR: 29\n",
      "  Flow cover: 19\n",
      "  Network: 3\n",
      "\n",
      "Explored 167 nodes (1431 simplex iterations) in 0.22 seconds\n",
      "Thread count was 4 (of 4 available processors)\n",
      "\n",
      "Solution count 8: 10543 10620 10660 ... 21270\n",
      "\n",
      "Optimal solution found (tolerance 1.00e-04)\n",
      "Best objective 1.054300000000e+04, best bound 1.054300000000e+04, gap 0.0000%\n"
     ]
    }
   ],
   "source": [
    "mstflow.optimize()"
   ]
  },
  {
   "cell_type": "code",
   "execution_count": 20,
   "metadata": {
    "collapsed": true
   },
   "outputs": [
    {
     "data": {
      "image/png": "[encoded data removed]",
      "text/plain": [
       "<Figure size 360x360 with 1 Axes>"
      ]
     },
     "metadata": {},
     "output_type": "display_data"
    }
   ],
   "source": [
    "DrawSolFlow(G, x, f)"
   ]
  },
  {
   "cell_type": "code",
   "execution_count": null,
   "metadata": {
    "collapsed": true
   },
   "outputs": [],
   "source": []
  }
 ],
 "metadata": {
  "anaconda-cloud": {},
  "kernelspec": {
   "display_name": "Python 3",
   "language": "python",
   "name": "python3"
  },
  "language_info": {
   "codemirror_mode": {
    "name": "ipython",
    "version": 3
   },
   "file_extension": ".py",
   "mimetype": "text/x-python",
   "name": "python",
   "nbconvert_exporter": "python",
   "pygments_lexer": "ipython3",
   "version": "3.8.5"
  }
 },
 "nbformat": 4,
 "nbformat_minor": 1
}
